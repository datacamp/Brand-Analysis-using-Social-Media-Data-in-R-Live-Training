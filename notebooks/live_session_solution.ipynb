{
  "nbformat": 4,
  "nbformat_minor": 0,
  "metadata": {
    "colab": {
      "name": "student_notebook.ipynb",
      "provenance": [],
      "include_colab_link": true
    },
    "kernelspec": {
      "name": "ir",
      "display_name": "R"
    }
  },
  "cells": [
    {
      "cell_type": "markdown",
      "metadata": {
        "id": "view-in-github",
        "colab_type": "text"
      },
      "source": [
        "<a href=\"https://colab.research.google.com/github/datacamp/Brand-Analysis-using-Social-Media-Data-in-R-Live-Training/blob/master/notebooks/live_session_solution.ipynb\" target=\"_parent\"><img src=\"https://colab.research.google.com/assets/colab-badge.svg\" alt=\"Open In Colab\"/></a>"
      ]
    },
    {
      "cell_type": "markdown",
      "metadata": {
        "id": "OJYbvo8eV-Rd",
        "colab_type": "text"
      },
      "source": [
        "<p align=\"center\">\n",
        "<img src=\"https://github.com/datacamp/r-live-training-template/blob/master/assets/datacamp.svg?raw=True\" alt = \"DataCamp icon\" width=\"50%\">\n",
        "</p>\n",
        "<br><br>\n",
        "\n",
        "# **Brand Analysis Using Social Media Data in R**\n",
        "\n",
        "Welcome to this hands-on training where you will learn how to perform brand analysis from social media data using R. We will be using different R libraries to analyze twitter data and derive insights.\n",
        "\n",
        "In this session, you will learn\n",
        "\n",
        "* How to compare brand popularity by extracting and comparing follower counts\n",
        "* How to promote a brand by identifying popular tweets\n",
        "* How to evaluate brand salience and compare the same for two brands using tweet frequencies\n",
        "* Understand brand perception through text mining and by visualizing key terms\n",
        "* Perform sentiment analysis to understand customer's feelings and sentiments about a brand\n"
      ]
    },
    {
      "cell_type": "markdown",
      "metadata": {
        "id": "k7FkSxuXPwVv",
        "colab_type": "text"
      },
      "source": [
        "## **The Dataset**\n",
        "\n",
        "The datasets to be used in this training session are in CSV format. These datasets comprise extracted live tweets using `rtweet` library. The datasets are:\n",
        "* **users_twts.csv**: User data of four twitter accounts pre-extracted from Twitter\n",
        "* **tesladf.csv**: Tweets searched on keyword 'tesla' pre-extracted from Twitter\n",
        "* **toyotadf.csv**: Tweets searched on keyword 'toyota' pre-extracted from Twitter\n",
        "* **tesla_small.csv**: Tweets searched on keyword 'tesla' pre-extracted from Twitter. This is a smaller dataset with fewer tweets.\n",
        "\n",
        "\n",
        "Note that we will not be extracting live tweets from Twitter during this session as it invovles a setup process. We will be using pre-extracted tweets saved in RDS format.\n",
        "\n",
        "- **users_twts.csv**: has 4 records and 90 columns of user data and associated metadata\n",
        "- **tesladf.csv**: has 17979 records (tweets) and 90 columns of tweet text and associated metadata\n",
        "- **toyotadf.csv**: has 17798 records (tweets) and 90 columns of tweet text and associated metadata\n",
        "- **tesla_small.csv**: has 500 records (tweets) and 90 columns of tweet text and associated metadata\n",
        "\n",
        "All the datasets have the same set of columns and some of the important columns that we will work with are listed below:\n",
        "\n",
        "- `user_id`: Twitter allocated unique ID for each twitter user.\n",
        "- `created_at`: UTC time when this Tweet was created\n",
        "- `screen_name`: The screen name or twitter handle that an user identifies themselves with\n",
        "`text`: The actual tweet text posted by an user\n",
        "- `retweet_count`: Number of times a given tweet has been retweeted.\n",
        "- `followers_count`: The number of followers a twitter account currently has."
      ]
    },
    {
      "cell_type": "markdown",
      "metadata": {
        "id": "qpzJ3VfAP8hO",
        "colab_type": "text"
      },
      "source": [
        "## **Getting started and installing packages**"
      ]
    },
    {
      "cell_type": "code",
      "metadata": {
        "id": "KUKG6fNMV_zf",
        "colab_type": "code",
        "cellView": "both",
        "colab": {}
      },
      "source": [
        "# Install R Packages\n",
        "install.packages('rtweet')\n",
        "install.packages('reshape')\n",
        "install.packages('qdapRegex')\n",
        "install.packages('tm')\n",
        "install.packages('qdap')\n",
        "install.packages('syuzhet')"
      ],
      "execution_count": null,
      "outputs": []
    },
    {
      "cell_type": "markdown",
      "metadata": {
        "id": "7bDm1UJHQGGO",
        "colab_type": "text"
      },
      "source": [
        "## **1. Compare brand popularity by extracting and comparing follower counts**"
      ]
    },
    {
      "cell_type": "markdown",
      "metadata": {
        "id": "P-NGEGn1QMMe",
        "colab_type": "text"
      },
      "source": [
        "We can compare followers count for competing products by using their screen names and follower counts.\n",
        "\n",
        "Note:\n",
        "- `screen_name`: The screen name or twitter handle that an user identifies themselves with.\n",
        "- `followers_count`: The number of followers a twitter account currently has.\n",
        "\n",
        "The followers count for a twitter account indicates the popularity of that account and is a measure of social media influence.\n",
        "\n",
        "To extract user data directly from twitter, we usually load the `rtweet` package, obtain and create Twitter API access tokens according to the instructions in this [article](https://rtweet.info/articles/auth.html) and extract user data with the `lookup_users()` function which takes screen names as input and extracts user data from twitter accounts.\n",
        "\n",
        "```R\n",
        "# Store name of users to extract data on twitter accounts of 4 auto magazines\n",
        "users <- c(\"caranddriver\", \"motortrend\", \"autoweekUSA\", \"roadandtrack\")\n",
        "\n",
        "# Extract user data for the twitter accounts stored in users\n",
        "users_twts <- lookup_users(users)\n",
        "\n",
        "# Save extracted data as a CSV file using `fwrite()` from`data.table` library\n",
        "fwrite(users_twts, file = \"users_twts.csv\")\n",
        "```\n",
        "\n",
        "To avoid setting up individual API access tokens, we will be directly using a CSV file."
      ]
    },
    {
      "cell_type": "code",
      "metadata": {
        "id": "brr08aZX9Wss",
        "colab_type": "code",
        "colab": {}
      },
      "source": [
        "# Load rtweet library\n",
        "library(rtweet)"
      ],
      "execution_count": null,
      "outputs": []
    },
    {
      "cell_type": "markdown",
      "metadata": {
        "id": "pl-MPrmAQW_x",
        "colab_type": "text"
      },
      "source": [
        "Import the pre-saved CSV file with extracted user data for the four twitter accounts\n",
        "\n",
        "\n",
        "---"
      ]
    },
    {
      "cell_type": "code",
      "metadata": {
        "id": "9VJyZeEo9M4O",
        "colab_type": "code",
        "colab": {}
      },
      "source": [
        "# Import extracted user data from the csv file into a dataframe\n",
        "users_twts = read.csv(\"https://github.com/datacamp/Brand-Analysis-using-Social-Media-Data-in-R-Live-Training/blob/master/data/users_twts.csv?raw=true\")"
      ],
      "execution_count": null,
      "outputs": []
    },
    {
      "cell_type": "code",
      "metadata": {
        "id": "ApykRattQbKU",
        "colab_type": "code",
        "colab": {}
      },
      "source": [
        "# View dimensions of the dataframe\n",
        "dim(users_twts)\n",
        "\n",
        "# View few rows of the dataframe\n",
        "head(users_twts)"
      ],
      "execution_count": null,
      "outputs": []
    },
    {
      "cell_type": "markdown",
      "metadata": {
        "id": "eLV7RTa0Qgn7",
        "colab_type": "text"
      },
      "source": [
        "From the user data, extract details of screen names and follower counts for the 4 twitter accounts into a dataframe."
      ]
    },
    {
      "cell_type": "code",
      "metadata": {
        "id": "4PSYuZrRQdDQ",
        "colab_type": "code",
        "colab": {}
      },
      "source": [
        "# Create a data frame of screen names and followers count\n",
        "user_df <- users_twts[,c(\"screen_name\",\"followers_count\")]"
      ],
      "execution_count": null,
      "outputs": []
    },
    {
      "cell_type": "code",
      "metadata": {
        "id": "shUF9Rb0Qj1t",
        "colab_type": "code",
        "colab": {}
      },
      "source": [
        "# Display and compare the follower counts for the 4 twitter accounts\n",
        "user_df"
      ],
      "execution_count": null,
      "outputs": []
    },
    {
      "cell_type": "markdown",
      "metadata": {
        "id": "XkZ6_UufQmDo",
        "colab_type": "text"
      },
      "source": [
        "We can see that \"Car and Driver\" is the most popular automobile magazine with number of followers exceeding a million and it is followed by \"Motor Trends\" with 739,800 followers.\n",
        "\n",
        "An automobile brand advertising for a new model can place its adverts on the homepage of these twitter acocunts or tag these twitter accounts while promoting its brand.\n",
        "\n",
        "Thus, Digital marketers can position ads on popular twitter accounts for increased visibility."
      ]
    },
    {
      "cell_type": "markdown",
      "metadata": {
        "id": "p5SCnmlhQvXK",
        "colab_type": "text"
      },
      "source": [
        "---\n",
        "<center><h1> Q&A 1</h1> </center>\n",
        "\n",
        "---"
      ]
    },
    {
      "cell_type": "markdown",
      "metadata": {
        "id": "G77V4hunQ6mn",
        "colab_type": "text"
      },
      "source": [
        "## **2. Promote a brand by identifying popular tweets using retweet counts**"
      ]
    },
    {
      "cell_type": "markdown",
      "metadata": {
        "id": "9P2iRV9bRCFF",
        "colab_type": "text"
      },
      "source": [
        "To extract tweet data for a particular term, we can use the `search_tweets()` function from `rtweet` library which has the following arguments:\n",
        "\n",
        "*\t`q`: The query being used, for example `\"tesla\"`\n",
        "\n",
        "*\t`n`: The number of tweets\n",
        "\n",
        "*\t`lang`: The language of the tweet - here set to `\"en\"`\n",
        "\n",
        "*\t`include_rts`: A boolean value that either accepts the inclusion of retweets or not on resulting data\n",
        "\n",
        "In this notebook, we will be using a CSV file to import the tweets but using `search_tweets()` to extract tweets on `\"tesla\"` can be done as such.\n",
        "\n",
        "```R\n",
        "# Extract 18000 tweets on Tesla\n",
        "tweets_tesla = search_tweets(\"tesla\", n = 18000, lang = \"en\", include_rts = FALSE)\n",
        "\n",
        "fwrite(tweets_tesla, \"tesladf.csv\")\n",
        "```"
      ]
    },
    {
      "cell_type": "code",
      "metadata": {
        "id": "DVr2K61LRLxX",
        "colab_type": "code",
        "colab": {}
      },
      "source": [
        "# Import extracted tweets on \"tesla\" in CSV format into a dataframe\n",
        "tesladf = read.csv(\"https://github.com/datacamp/Brand-Analysis-using-Social-Media-Data-in-R-Live-Training/blob/master/data/tesladf.csv?raw=true\")"
      ],
      "execution_count": null,
      "outputs": []
    },
    {
      "cell_type": "code",
      "metadata": {
        "id": "occyqLL8ROTZ",
        "colab_type": "code",
        "colab": {}
      },
      "source": [
        "# Explore the tweet dataframe\n",
        "dim(tesladf)\n",
        "head(tesladf)"
      ],
      "execution_count": null,
      "outputs": []
    },
    {
      "cell_type": "markdown",
      "metadata": {
        "id": "CYqi0uR_RUpL",
        "colab_type": "text"
      },
      "source": [
        "Extract the columns `retweet_count` and `text` and save to a new dataframe"
      ]
    },
    {
      "cell_type": "code",
      "metadata": {
        "id": "jGiPgxHCRXBW",
        "colab_type": "code",
        "colab": {}
      },
      "source": [
        "# Create a data frame of tweet text and retweet count\n",
        "rtwt <- tesladf[,c(\"text\", \"retweet_count\")]\n",
        "\n",
        "# View few rows of the new dataframe\n",
        "head(rtwt)"
      ],
      "execution_count": null,
      "outputs": []
    },
    {
      "cell_type": "markdown",
      "metadata": {
        "id": "x1Fe8R4MRZq5",
        "colab_type": "text"
      },
      "source": [
        "Sort in descending order of the retweet counts using `arrange()` from `dplyr` library"
      ]
    },
    {
      "cell_type": "code",
      "metadata": {
        "id": "ENDjlFu2Rfdi",
        "colab_type": "code",
        "colab": {}
      },
      "source": [
        "# Import library\n",
        "library(dplyr)"
      ],
      "execution_count": null,
      "outputs": []
    },
    {
      "cell_type": "code",
      "metadata": {
        "id": "pMeJnJE-Rhhw",
        "colab_type": "code",
        "colab": {}
      },
      "source": [
        "# Sort data frame based on descending order of retweet counts\n",
        "rtwt_sort <- arrange(rtwt, desc(retweet_count))\n",
        "\n",
        "# View sorted output\n",
        "head(rtwt_sort)"
      ],
      "execution_count": null,
      "outputs": []
    },
    {
      "cell_type": "markdown",
      "metadata": {
        "id": "ztU_tU0tRkC9",
        "colab_type": "text"
      },
      "source": [
        "The `text` column usually contains duplicate tweets. To get unique tweets, we can use the `unique()` function which has 2 arguments:\n",
        "\n",
        "* the data frame being used\n",
        "* `by`: which columns to search for unique values in"
      ]
    },
    {
      "cell_type": "code",
      "metadata": {
        "id": "fkgUS677RoHa",
        "colab_type": "code",
        "colab": {}
      },
      "source": [
        "# Exclude rows with duplicate text from sorted data frame\n",
        "rtwt_unique <- unique(rtwt_sort, by = \"text\")"
      ],
      "execution_count": null,
      "outputs": []
    },
    {
      "cell_type": "code",
      "metadata": {
        "id": "hHqPsFYcRqbm",
        "colab_type": "code",
        "colab": {}
      },
      "source": [
        "# Print top 6 unique posts retweeted most number of times\n",
        "head(rtwt_unique)"
      ],
      "execution_count": null,
      "outputs": []
    },
    {
      "cell_type": "markdown",
      "metadata": {
        "id": "9HjCcW3YRtT2",
        "colab_type": "text"
      },
      "source": [
        "#### The most retweeted texts have popular quotes such as \"I think I want a Tesla\", indicating the loyalty of Tesla fans.\n",
        "\n",
        "#### These tweets can be used for promoting Tesla's models and brand loyalty."
      ]
    },
    {
      "cell_type": "markdown",
      "metadata": {
        "id": "wHzr8Hn4R_C6",
        "colab_type": "text"
      },
      "source": [
        "---\n",
        "<center><h1> Q&A 2</h1> </center>\n",
        "\n",
        "---"
      ]
    },
    {
      "cell_type": "markdown",
      "metadata": {
        "id": "kXApXp8zSEjO",
        "colab_type": "text"
      },
      "source": [
        "## **3.\tEvaluate brand salience and compare the same for two brands using tweet frequencies**"
      ]
    },
    {
      "cell_type": "markdown",
      "metadata": {
        "id": "TNDACnEuSIEr",
        "colab_type": "text"
      },
      "source": [
        "Brand salience is the extent to which a brand is continuously talked about.\n",
        "\n",
        "Monitoring tweets on a certain brand over time is an excellent proxy to brand salience. Here, we will compare how tweets mentioning Tesla vs Toyota are present over time."
      ]
    },
    {
      "cell_type": "markdown",
      "metadata": {
        "id": "Wy4a7fzRSOJM",
        "colab_type": "text"
      },
      "source": [
        "#### **3a) Visualizing frequency of tweets using time series plots**\n",
        "\n",
        "Let's first visualize tweet frequency on the automobile brand \"Tesla\". We will be using the tweet dataframe created for Tesla in the previous exercise."
      ]
    },
    {
      "cell_type": "code",
      "metadata": {
        "id": "tKbHd9FZSVHb",
        "colab_type": "code",
        "colab": {}
      },
      "source": [
        "# View the tweet dataframe\n",
        "head(tesladf)"
      ],
      "execution_count": null,
      "outputs": []
    },
    {
      "cell_type": "code",
      "metadata": {
        "id": "tGxwYMw0SX_0",
        "colab_type": "code",
        "colab": {}
      },
      "source": [
        "# View the `created_at` column in the tweet dataframe\n",
        "head(tesladf$created_at,10)"
      ],
      "execution_count": null,
      "outputs": []
    },
    {
      "cell_type": "markdown",
      "metadata": {
        "id": "sC4D25iKSeDH",
        "colab_type": "text"
      },
      "source": [
        "We see the `created_at` column has the timestamp that we'd need to convert to the correct date format using `as.POSIXct()` which takes in:\n",
        "\n",
        "* The column being converted\n",
        "* `format`: The date format - here to be `\"%Y-%m-%dT%H:%M:%SZ\"`\n",
        "* `tz`: The time-zone of the conversion\n",
        "\n",
        "Inputs for `format` argument to convert date-time format:\n",
        "\n",
        "<p align=\"left\">\n",
        "\n",
        "<img src=\"https://github.com/datacamp/Brand-Analysis-using-Social-Media-Data-in-R-Live-Training/blob/master/data/striptime.png?raw=true\" alt = \"\" width=\"40%\">\n",
        "\n",
        "</p>"
      ]
    },
    {
      "cell_type": "code",
      "metadata": {
        "id": "8nBlu8flSjMW",
        "colab_type": "code",
        "colab": {}
      },
      "source": [
        "# Update dates in `created_at` column with the new date format\n",
        "tesladf$created_at <- as.POSIXct(tesladf$created_at, format = \"%Y-%m-%dT%H:%M:%SZ\", tz = \"GMT\")\n",
        "\n",
        "# View the `created_at` column again\n",
        "head(tesladf$created_at, 10)"
      ],
      "execution_count": null,
      "outputs": []
    },
    {
      "cell_type": "markdown",
      "metadata": {
        "id": "lE5XKTTVSmdF",
        "colab_type": "text"
      },
      "source": [
        "To visualize tweets over time, we will use the `rtweet` library's `ts_plot()` function which takes in:\n",
        "* The data frame being plotted\n",
        "* `by`: The time interval - here `'hours'`\n",
        "* `color`: The color of the line"
      ]
    },
    {
      "cell_type": "code",
      "metadata": {
        "id": "oEdV3m6bSpcg",
        "colab_type": "code",
        "colab": {}
      },
      "source": [
        "# Create a time series plot\n",
        "ts_plot(tesladf, by = \"hours\", color = \"blue\")"
      ],
      "execution_count": null,
      "outputs": []
    },
    {
      "cell_type": "markdown",
      "metadata": {
        "id": "JxEelOtlSr3p",
        "colab_type": "text"
      },
      "source": [
        "We see tweets for Tesla fluctuating from high to low and then reaching a high again between 17 and 18 May after a big dip on 17 May. The high number of tweets could be related to an event or topic about Tesla's products."
      ]
    },
    {
      "cell_type": "markdown",
      "metadata": {
        "id": "0xb92cH6Sv6d",
        "colab_type": "text"
      },
      "source": [
        "#### **3b) Compare brand salience for two brands using time series plots and tweet frequencies**\n",
        "\n",
        "Let's compare how tweets mentioning `\"Toyota\"` compare against `\"Tesla\"` - here is the `search_tweets()` code used to get tweets on `\"Toyota\"`\n",
        "\n",
        "```R\n",
        "# Extract tweets for Toyota using `search_tweets()`\n",
        "\n",
        "tweets_toyo = search_tweets(\"toyota\", n = 18000, lang = \"en\",  include_rts = FALSE)\n",
        "\n",
        "fwrite(tweets_toyo, file = \"toyotadf.csv\")\n",
        "```"
      ]
    },
    {
      "cell_type": "code",
      "metadata": {
        "id": "qQl0RsYAS1Tw",
        "colab_type": "code",
        "colab": {}
      },
      "source": [
        "# Import extracted tweets on `\"toyota\"` in CSV format\n",
        "toyotadf = read.csv(\"https://github.com/datacamp/Brand-Analysis-using-Social-Media-Data-in-R-Live-Training/blob/master/data/toyotadf.csv?raw=true\")\n"
      ],
      "execution_count": null,
      "outputs": []
    },
    {
      "cell_type": "code",
      "metadata": {
        "id": "Ii0j6PNuS5jA",
        "colab_type": "code",
        "colab": {}
      },
      "source": [
        "# Explore the tweet dataframe for toyota\n",
        "dim(toyotadf)\n",
        "head(toyotadf)"
      ],
      "execution_count": null,
      "outputs": []
    },
    {
      "cell_type": "markdown",
      "metadata": {
        "id": "Yi5_Osd_S7SI",
        "colab_type": "text"
      },
      "source": [
        "We can see the extracted tweets on `toyota` and the `created_at` column has the timestamp."
      ]
    },
    {
      "cell_type": "code",
      "metadata": {
        "id": "OMSprIbMS9bp",
        "colab_type": "code",
        "colab": {}
      },
      "source": [
        "# Update dates in `created_at` column with the new date format\n",
        "toyotadf$created_at <- as.POSIXct(toyotadf$created_at, format = \"%Y-%m-%dT%H:%M:%SZ\", tz = \"GMT\")\n",
        "\n",
        "# View the `created_at` column again\n",
        "head(toyotadf$created_at, 10)"
      ],
      "execution_count": null,
      "outputs": []
    },
    {
      "cell_type": "markdown",
      "metadata": {
        "id": "FTaiviEmTAcn",
        "colab_type": "text"
      },
      "source": [
        "To visualize the number of tweets over time, we aggregate both `toyotadf` and `tesladf` into time series objects using `ts_data()` which takes in 2 arguments:\n",
        "* The data frame being converted\n",
        "* `by`: The time interval of frequency counting (here `'hours'`)\n"
      ]
    },
    {
      "cell_type": "code",
      "metadata": {
        "id": "nrimCCi7TFS_",
        "colab_type": "code",
        "colab": {}
      },
      "source": [
        "# Create a time series object for Tesla at hourly intervals\n",
        "tesla_ts <- ts_data(tesladf, by ='hours')\n",
        "\n",
        "# View the time series object\n",
        "head(tesla_ts)"
      ],
      "execution_count": null,
      "outputs": []
    },
    {
      "cell_type": "code",
      "metadata": {
        "id": "NmweHZYBTH_0",
        "colab_type": "code",
        "colab": {}
      },
      "source": [
        "# Rename the two columns in the time series object\n",
        "names(tesla_ts) <- c(\"time\", \"tesla_n\")\n",
        "\n",
        "# View the output\n",
        "head(tesla_ts)"
      ],
      "execution_count": null,
      "outputs": []
    },
    {
      "cell_type": "code",
      "metadata": {
        "id": "76A7WumhTKfG",
        "colab_type": "code",
        "colab": {}
      },
      "source": [
        "# Create a time series object for Toyota at hourly intervals\n",
        "toyo_ts <- ts_data(toyotadf, by ='hours')\n",
        "\n",
        "# Rename the two columns in the time series object\n",
        "names(toyo_ts) <- c(\"time\", \"toyo_n\")\n",
        "\n",
        "# View the output\n",
        "head(toyo_ts)"
      ],
      "execution_count": null,
      "outputs": []
    },
    {
      "cell_type": "markdown",
      "metadata": {
        "id": "g6RUzz0qTN2B",
        "colab_type": "text"
      },
      "source": [
        "We now have two time series objects with columns for time and tweet frequencies."
      ]
    },
    {
      "cell_type": "markdown",
      "metadata": {
        "id": "3Q4mBBzATR2u",
        "colab_type": "text"
      },
      "source": [
        "Merge the objects into a single data frame using the `merge()` function which is from the `reshape` library."
      ]
    },
    {
      "cell_type": "code",
      "metadata": {
        "id": "Q8M0CeJYTVGs",
        "colab_type": "code",
        "colab": {}
      },
      "source": [
        "# Load the required libraries\n",
        "library(reshape)\n",
        "library(ggplot2)"
      ],
      "execution_count": null,
      "outputs": []
    },
    {
      "cell_type": "markdown",
      "metadata": {
        "id": "G89nd427TYde",
        "colab_type": "text"
      },
      "source": [
        "The `merge()` function takes 3 arguments:\n",
        "\n",
        "* the time series objects to be merged \n",
        "\n",
        "* `by` argument which specifies the common column for merging\n",
        "\n",
        "* `all` argument to instruct whether all the rows should be included"
      ]
    },
    {
      "cell_type": "code",
      "metadata": {
        "id": "LMBydhT-TcRq",
        "colab_type": "code",
        "colab": {}
      },
      "source": [
        "# Merge the time series objects with \"time\" as the common column\n",
        "merged_df <- merge(tesla_ts, toyo_ts, by = \"time\", all = TRUE)\n",
        "\n",
        "# View few rows of the merged dataframe\n",
        "head(merged_df)"
      ],
      "execution_count": null,
      "outputs": []
    },
    {
      "cell_type": "markdown",
      "metadata": {
        "id": "pn4Sv3i5Tey8",
        "colab_type": "text"
      },
      "source": [
        "We can see the tweet frqeuencies for tesla and toyota in separate columns.\n",
        "\n",
        "Stack the tweet frequency counts into a single column and brands into another column using `melt()` from `reshape` library.\n",
        "\n",
        "The `melt()` function takes 3 arguments:\n",
        "\n",
        "* the dataframe to melt \n",
        "\n",
        "* `na.rm` to specify whether to include or exclude rows with missing values\n",
        "* `id.vars` to specify the source columns to be retained (`time` in this case)"
      ]
    },
    {
      "cell_type": "code",
      "metadata": {
        "id": "CQuPdnVSTjhp",
        "colab_type": "code",
        "colab": {}
      },
      "source": [
        "# Stack the tweet frequency columns\n",
        "melt_df <- melt(merged_df, na.rm = TRUE, id.vars = \"time\")\n",
        "\n",
        "# View the output\n",
        "head(melt_df)"
      ],
      "execution_count": null,
      "outputs": []
    },
    {
      "cell_type": "markdown",
      "metadata": {
        "id": "FV8B_xyHTl8d",
        "colab_type": "text"
      },
      "source": [
        "We can see that all columns other than `time` have been stacked and we have three columns now: `time`, `variable`, `value`. "
      ]
    },
    {
      "cell_type": "markdown",
      "metadata": {
        "id": "v-kZEbeATpE5",
        "colab_type": "text"
      },
      "source": [
        "Plot the frequency of tweets on Tesla and Toyota using `ggplot()`.\n",
        "\n",
        "Set the relevant column names i.e.  as values for the x-axis, y-axis, and color of the plot.  "
      ]
    },
    {
      "cell_type": "code",
      "metadata": {
        "id": "dNvRqE1oTrsk",
        "colab_type": "code",
        "colab": {}
      },
      "source": [
        "## Compare brand salience by plotting the frequency of tweets\n",
        "\n",
        "# Plot frequency of tweets on Tesla and Toyota\n",
        "ggplot(data = melt_df, aes(x = time, y = value, col = variable))+\n",
        "  geom_line(lwd = 0.8)"
      ],
      "execution_count": null,
      "outputs": []
    },
    {
      "cell_type": "markdown",
      "metadata": {
        "id": "LPdxRmjXTvJZ",
        "colab_type": "text"
      },
      "source": [
        "#### It's interesting to see that there are relatively more tweets on Tesla than on Toyota. \n",
        "\n",
        "#### The higher level of tweet activity for Tesla indicates a stronger brand salience for Tesla than Toyota. \n",
        "\n",
        "#### Visualizing tweets through time series analysis provides good insights on interest level on a product and can be used to compare brand salience."
      ]
    },
    {
      "cell_type": "markdown",
      "metadata": {
        "id": "PuXL2tVYTyMU",
        "colab_type": "text"
      },
      "source": [
        "---\n",
        "<center><h1> Q&A 3</h1> </center>\n",
        "\n",
        "---"
      ]
    },
    {
      "cell_type": "markdown",
      "metadata": {
        "id": "1pouUUHJT0kg",
        "colab_type": "text"
      },
      "source": [
        "## **4. Understand brand perception through text mining and by visualizing key terms**"
      ]
    },
    {
      "cell_type": "markdown",
      "metadata": {
        "id": "Xib3Ie4fT49f",
        "colab_type": "text"
      },
      "source": [
        "One of the most important and common tasks in social media data analysis is being able to understand what users are tweeting about the most and how they perceive a particular brand. \n",
        "\n",
        "In this section, we will visualize the most common words mentioning `\"Tesla\"` to build a word cloud that showcases the most common words."
      ]
    }
  ]
}