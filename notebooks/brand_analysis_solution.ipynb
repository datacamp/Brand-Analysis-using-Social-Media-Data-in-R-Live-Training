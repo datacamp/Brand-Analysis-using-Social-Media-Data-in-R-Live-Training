{
  "nbformat": 4,
  "nbformat_minor": 0,
  "metadata": {
    "colab": {
      "name": "student_notebook.ipynb",
      "provenance": [],
      "include_colab_link": true
    },
    "kernelspec": {
      "name": "ir",
      "display_name": "R"
    }
  },
  "cells": [
    {
      "cell_type": "markdown",
      "metadata": {
        "id": "view-in-github",
        "colab_type": "text"
      },
      "source": [
        "<a href=\"https://colab.research.google.com/github/datacamp/Brand-Analysis-using-Social-Media-Data-in-R-Live-Training/blob/master/notebooks/brand_analysis_solution.ipynb\" target=\"_parent\"><img src=\"https://colab.research.google.com/assets/colab-badge.svg\" alt=\"Open In Colab\"/></a>"
      ]
    },
    {
      "cell_type": "markdown",
      "metadata": {
        "id": "OJYbvo8eV-Rd",
        "colab_type": "text"
      },
      "source": [
        "<p align=\"center\">\n",
        "<img src=\"https://github.com/datacamp/r-live-training-template/blob/master/assets/datacamp.svg?raw=True\" alt = \"DataCamp icon\" width=\"50%\">\n",
        "</p>\n",
        "<br><br>\n",
        "\n",
        "## **Brand Analysis Using Social Media Data in R**\n",
        "\n",
        "Welcome to this hands-on training where you will learn how to perform brand analysis from social media data using R. We will be using different R libraries to analyze twitter data and derive insights.\n",
        "\n",
        "In this session, you will learn\n",
        "\n",
        "* How to compare brand popularity by extracting and comparing follower counts\n",
        "* How to promote a brand by identifying popular tweets\n",
        "* How to evaluate brand salience and compare the same for two brands using tweet frequencies\n",
        "* Understand brand perception through text mining and by visualizing key terms\n",
        "* Perform sentiment analysis to understand customer's feelings and sentiments about a brand\n",
        "* Visualize brand presence by plotting tweets on the map\n",
        "\n",
        "## **The Dataset**\n",
        "\n",
        "The datasets to be used in this training session are in RDS format which is a handy format to save and later import single R objects. These datasets comprise extracted live tweets using `rtweet` library. The datasets are:\n",
        "* **tesla.rds**: Tweets searched on keyword 'tesla' pre-extracted from Twitter\n",
        "* **toyota.rds**: Tweets searched on keyword 'toyota' pre-extracted from Twitter\n",
        "* **tesla_small.rds**: Tweets searched on keyword 'tesla' pre-extracted from Twitter. This is a smaller dataset with fewer tweets.\n",
        "\n",
        "* **car.rds**: Tweets searched on keyword 'electric car' pre-extracted from Twitter\n",
        "\n",
        "Note that we will not be extracting live tweets from Twitter during this session as it invovles a setup process. We will be using pre-extracted tweets saved in RDS format.\n",
        "\n",
        "**tesla.rds**: has 17979 records (tweets) and 90 columns of tweet text and associated metadata\n",
        "**toyoto.rds**: has 17798 records (tweets) and 90 columns of tweet text and associated metadata\n",
        "**tesla_small.rds**: has 500 records (tweets) and 90 columns of tweet text and associated metadata\n",
        "**car.rds**: has 12925 records (tweets) and 90 columns of tweet text and associated metadata\n",
        "\n",
        "All the datasets have the same set of columns and some of the important columns that we will work with are listed below:\n",
        "\n",
        "- `user_id`: Twitter allocated unique ID for each twitter user.\n",
        "- `created_at`: UTC time when this Tweet was created\n",
        "- `screen_name`: The screen name or twitter handle that an user identifies themselves with\n",
        "`text`: The actual tweet text posted by an user\n",
        "- `retweet_count`: Number of times a given tweet has been retweeted.\n",
        "- `followers_count`: The number of followers a twitter account currently has.\n",
        "- `geo_coords`, `coords_coords`, `bbox_coords`: Represents geographic location of a tweet as reported by the user or client application\n"
      ]
    },
    {
      "cell_type": "markdown",
      "metadata": {
        "id": "M-GBcitS6sbD",
        "colab_type": "text"
      },
      "source": [
        "## **Getting started and exploring the dataset**"
      ]
    },
    {
      "cell_type": "code",
      "metadata": {
        "id": "KUKG6fNMV_zf",
        "colab_type": "code",
        "cellView": "both",
        "colab": {
          "base_uri": "https://localhost:8080/",
          "height": 122
        },
        "outputId": "3e7a0dca-868d-4d80-fabd-554eb627190a"
      },
      "source": [
        "# Install R Packages\n",
        "install.packages('rtweet')\n",
        "#install.packages('dplyr')\n",
        "#install.packages('reshape')\n",
        "#install.packages('ggplot2')\n",
        "#install.packages('qdapRegex')\n",
        "#install.packages('ggplot2')\n",
        "#install.packages('tm')\n",
        "#install.packages('qdap')\n",
        "#install.packages('wordcloud')\n",
        "#install.packages('RColorBrewer')\n",
        "#install.packages('syuzhet')\n",
        "#install.packages('maps')"
      ],
      "execution_count": 2,
      "outputs": [
        {
          "output_type": "stream",
          "text": [
            "Installing package into ‘/usr/local/lib/R/site-library’\n",
            "(as ‘lib’ is unspecified)\n",
            "\n",
            "also installing the dependency ‘httpuv’\n",
            "\n",
            "\n"
          ],
          "name": "stderr"
        }
      ]
    },
    {
      "cell_type": "code",
      "metadata": {
        "id": "brr08aZX9Wss",
        "colab_type": "code",
        "colab": {}
      },
      "source": [
        "# Load main rtweet library\n",
        "library(rtweet)"
      ],
      "execution_count": 0,
      "outputs": []
    },
    {
      "cell_type": "markdown",
      "metadata": {
        "id": "DkyT5rzKDaXn",
        "colab_type": "text"
      },
      "source": [
        "### 1. Compare brand popularity by extracting and comparing follower counts"
      ]
    },
    {
      "cell_type": "code",
      "metadata": {
        "id": "9VJyZeEo9M4O",
        "colab_type": "code",
        "colab": {}
      },
      "source": [
        "# Create a variable to store twitter account names of 4 auto magazines\n",
        "users <- c(\"BreakingAuto\", \"Motorpic\", \"Mpgomatic\", \"Cjponyparts\")\n",
        "\n",
        "# Extract user data for the twitter accounts stored in users\n",
        "# users_twt <- lookup_users(users)\n",
        "\n",
        "# Save extracted data a CSV file using fwrite from data.table library\n",
        "#fwrite(users1, file = \"users_twt\")\n",
        "\n"
      ],
      "execution_count": 0,
      "outputs": []
    },
    {
      "cell_type": "code",
      "metadata": {
        "id": "BEznwPZ1BInH",
        "colab_type": "code",
        "colab": {
          "base_uri": "https://localhost:8080/",
          "height": 195
        },
        "outputId": "c193d4d3-fdb1-403e-850c-3f71eec284d1"
      },
      "source": [
        "# Import extracted user data from the csv file into a dataframe\n",
        "users1 = read.csv(\"https://github.com/datacamp/Brand-Analysis-using-Social-Media-Data-in-R-Live-Training/blob/master/data/users1.csv\")\n",
        "\n",
        "# View few rows of the dataframe\n",
        "head(users1)"
      ],
      "execution_count": 7,
      "outputs": [
        {
          "output_type": "display_data",
          "data": {
            "text/plain": [
              "  X..DOCTYPE.html.                                                     \n",
              "1 <html lang=en>                                                       \n",
              "2   <head>                                                             \n",
              "3     <meta charset=utf-8>                                             \n",
              "4   <link rel=dns-prefetch href=https://github.githubassets.com>       \n",
              "5   <link rel=dns-prefetch href=https://avatars0.githubusercontent.com>\n",
              "6   <link rel=dns-prefetch href=https://avatars1.githubusercontent.com>"
            ],
            "text/latex": "A data.frame: 6 × 1\n\\begin{tabular}{r|l}\n  & X..DOCTYPE.html.\\\\\n  & <fct>\\\\\n\\hline\n\t1 & <html lang=en>                                                       \\\\\n\t2 &   <head>                                                             \\\\\n\t3 &     <meta charset=utf-8>                                             \\\\\n\t4 &   <link rel=dns-prefetch href=https://github.githubassets.com>       \\\\\n\t5 &   <link rel=dns-prefetch href=https://avatars0.githubusercontent.com>\\\\\n\t6 &   <link rel=dns-prefetch href=https://avatars1.githubusercontent.com>\\\\\n\\end{tabular}\n",
            "text/markdown": "\nA data.frame: 6 × 1\n\n| <!--/--> | X..DOCTYPE.html. &lt;fct&gt; |\n|---|---|\n| 1 | &lt;html lang=en&gt;                                                        |\n| 2 |   &lt;head&gt;                                                              |\n| 3 |     &lt;meta charset=utf-8&gt;                                              |\n| 4 |   &lt;link rel=dns-prefetch href=https://github.githubassets.com&gt;        |\n| 5 |   &lt;link rel=dns-prefetch href=https://avatars0.githubusercontent.com&gt; |\n| 6 |   &lt;link rel=dns-prefetch href=https://avatars1.githubusercontent.com&gt; |\n\n",
            "text/html": [
              "<table>\n",
              "<caption>A data.frame: 6 × 1</caption>\n",
              "<thead>\n",
              "\t<tr><th></th><th scope=col>X..DOCTYPE.html.</th></tr>\n",
              "\t<tr><th></th><th scope=col>&lt;fct&gt;</th></tr>\n",
              "</thead>\n",
              "<tbody>\n",
              "\t<tr><th scope=row>1</th><td><span style=white-space:pre-wrap>&lt;html lang=en&gt;                                                       </span></td></tr>\n",
              "\t<tr><th scope=row>2</th><td><span style=white-space:pre-wrap>  &lt;head&gt;                                                             </span></td></tr>\n",
              "\t<tr><th scope=row>3</th><td><span style=white-space:pre-wrap>    &lt;meta charset=utf-8&gt;                                             </span></td></tr>\n",
              "\t<tr><th scope=row>4</th><td><span style=white-space:pre-wrap>  &lt;link rel=dns-prefetch href=https://github.githubassets.com&gt;       </span></td></tr>\n",
              "\t<tr><th scope=row>5</th><td><span style=white-space:pre-wrap>  &lt;link rel=dns-prefetch href=https://avatars0.githubusercontent.com&gt;</span></td></tr>\n",
              "\t<tr><th scope=row>6</th><td><span style=white-space:pre-wrap>  &lt;link rel=dns-prefetch href=https://avatars1.githubusercontent.com&gt;</span></td></tr>\n",
              "</tbody>\n",
              "</table>\n"
            ]
          },
          "metadata": {
            "tags": []
          }
        }
      ]
    },
    {
      "cell_type": "code",
      "metadata": {
        "id": "e4F8sho_TvSe",
        "colab_type": "code",
        "colab": {
          "base_uri": "https://localhost:8080/",
          "height": 167
        },
        "outputId": "ca281b36-7063-4b16-9cdd-4edc90f6ab60"
      },
      "source": [
        "# Create a data frame of screen names and follower counts\n",
        "user_df <- users1[,c(\"screen_name\",\"followers_count\")]"
      ],
      "execution_count": 8,
      "outputs": [
        {
          "output_type": "error",
          "ename": "ERROR",
          "evalue": "ignored",
          "traceback": [
            "Error in `[.data.frame`(users1, , c(\"screen_name\", \"followers_count\")): undefined columns selected\nTraceback:\n",
            "1. users1[, c(\"screen_name\", \"followers_count\")]",
            "2. `[.data.frame`(users1, , c(\"screen_name\", \"followers_count\"))",
            "3. stop(\"undefined columns selected\")"
          ]
        }
      ]
    },
    {
      "cell_type": "code",
      "metadata": {
        "id": "xJ2RRpRMT1Av",
        "colab_type": "code",
        "colab": {}
      },
      "source": [
        "# Display and compare the follower counts for the 4 news sites\n",
        "user_df"
      ],
      "execution_count": 0,
      "outputs": []
    },
    {
      "cell_type": "markdown",
      "metadata": {
        "id": "_CGJYoNDT7NR",
        "colab_type": "text"
      },
      "source": [
        "Inference"
      ]
    },
    {
      "cell_type": "markdown",
      "metadata": {
        "id": "G55f-24dT-a3",
        "colab_type": "text"
      },
      "source": [
        "### 2. Promote a brand by identifying popular tweets using retweet counts"
      ]
    },
    {
      "cell_type": "code",
      "metadata": {
        "id": "qmDti-5KUi0-",
        "colab_type": "code",
        "colab": {}
      },
      "source": [
        "# Extract 18000 tweets on Tesla\n",
        "#tweets = search_tweets(\"tesla\", n = 18000, lang = \"en\", include_rts = FALSE)\n",
        "#saveRDS(tweets, \"tesla.rds\")"
      ],
      "execution_count": 0,
      "outputs": []
    },
    {
      "cell_type": "code",
      "metadata": {
        "id": "9oP813w3UpF6",
        "colab_type": "code",
        "outputId": "1730e8d5-8f65-43a9-b57a-f7d851e37296",
        "colab": {
          "base_uri": "https://localhost:8080/",
          "height": 203
        }
      },
      "source": [
        "# Import extracted tweets in RDS format into a dataframe\n",
        "tesladf = readRDS(\"https://github.com/datacamp/Brand-Analysis-using-Social-Media-Data-in-R-Live-Training/blob/master/data/tesla.rds\")"
      ],
      "execution_count": 0,
      "outputs": [
        {
          "output_type": "stream",
          "text": [
            "Warning message in gzfile(file, \"rb\"):\n",
            "“cannot open compressed file 'https://github.com/datacamp/Brand-Analysis-using-Social-Media-Data-in-R-Live-Training/blob/master/data/tesla.rds', probable reason 'No such file or directory'”\n"
          ],
          "name": "stderr"
        },
        {
          "output_type": "error",
          "ename": "ERROR",
          "evalue": "ignored",
          "traceback": [
            "Error in gzfile(file, \"rb\"): cannot open the connection\nTraceback:\n",
            "1. readRDS(\"https://github.com/datacamp/Brand-Analysis-using-Social-Media-Data-in-R-Live-Training/blob/master/data/tesla.rds\")",
            "2. gzfile(file, \"rb\")"
          ]
        }
      ]
    },
    {
      "cell_type": "code",
      "metadata": {
        "id": "Wuj2pHU1UyWY",
        "colab_type": "code",
        "colab": {}
      },
      "source": [
        "# Explore the tweet dataframe\n",
        "dim(tesladf)\n",
        "View(tesladf)"
      ],
      "execution_count": 0,
      "outputs": []
    },
    {
      "cell_type": "code",
      "metadata": {
        "id": "kk0dLhe2WKS8",
        "colab_type": "code",
        "colab": {}
      },
      "source": [
        "# Create a data frame of tweet text and retweet count\n",
        "rtwt <- tesladf[,c(\"text\", \"retweet_count\")]\n",
        "head(rtwt)"
      ],
      "execution_count": 0,
      "outputs": []
    },
    {
      "cell_type": "code",
      "metadata": {
        "id": "Brg7djU2W1Os",
        "colab_type": "code",
        "colab": {}
      },
      "source": [
        "# Import library\n",
        "library(dplyr)\n",
        "\n",
        "# Sort data frame based on descending order of retweet counts\n",
        "rtwt_sort <- arrange(rtwt, desc(retweet_count))"
      ],
      "execution_count": 0,
      "outputs": []
    },
    {
      "cell_type": "code",
      "metadata": {
        "id": "Y8dxm-uDXBjF",
        "colab_type": "code",
        "colab": {}
      },
      "source": [
        "# Exclude rows with duplicate text from sorted data frame\n",
        "rtwt_unique <- unique(rtwt_sort, by = \"text\")"
      ],
      "execution_count": 0,
      "outputs": []
    },
    {
      "cell_type": "code",
      "metadata": {
        "id": "p7KgvhR6XS_V",
        "colab_type": "code",
        "colab": {}
      },
      "source": [
        "# Print top 6 unique posts retweeted most number of times\n",
        "rownames(rtwt_unique) <- NULL\n",
        "head(rtwt_unique)"
      ],
      "execution_count": 0,
      "outputs": []
    },
    {
      "cell_type": "markdown",
      "metadata": {
        "id": "fHr6jHghXVAv",
        "colab_type": "text"
      },
      "source": [
        "Inference"
      ]
    },
    {
      "cell_type": "markdown",
      "metadata": {
        "id": "VEXDVRWrXZFP",
        "colab_type": "text"
      },
      "source": [
        "### 3.\tEvaluate brand salience\n",
        "\n",
        "#### a) Visualizing frequency of tweets using time series plots"
      ]
    },
    {
      "cell_type": "code",
      "metadata": {
        "id": "o5mhQQefXYYt",
        "colab_type": "code",
        "colab": {}
      },
      "source": [
        "# View the tweet dataframe\n",
        "head(tesladf)"
      ],
      "execution_count": 0,
      "outputs": []
    },
    {
      "cell_type": "code",
      "metadata": {
        "id": "pb4y2ADPYB6w",
        "colab_type": "code",
        "colab": {}
      },
      "source": [
        ""
      ],
      "execution_count": 0,
      "outputs": []
    }
  ]
}