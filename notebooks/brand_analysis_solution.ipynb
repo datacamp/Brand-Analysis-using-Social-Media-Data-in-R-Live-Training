{
  "nbformat": 4,
  "nbformat_minor": 0,
  "metadata": {
    "colab": {
      "name": "student_notebook.ipynb",
      "provenance": [],
      "include_colab_link": true
    },
    "kernelspec": {
      "name": "ir",
      "display_name": "R"
    }
  },
  "cells": [
    {
      "cell_type": "markdown",
      "metadata": {
        "id": "view-in-github",
        "colab_type": "text"
      },
      "source": [
        "<a href=\"https://colab.research.google.com/github/datacamp/Brand-Analysis-using-Social-Media-Data-in-R-Live-Training/blob/master/notebooks/brand_analysis_solution.ipynb\" target=\"_parent\"><img src=\"https://colab.research.google.com/assets/colab-badge.svg\" alt=\"Open In Colab\"/></a>"
      ]
    },
    {
      "cell_type": "markdown",
      "metadata": {
        "id": "OJYbvo8eV-Rd",
        "colab_type": "text"
      },
      "source": [
        "<p align=\"center\">\n",
        "<img src=\"https://github.com/datacamp/r-live-training-template/blob/master/assets/datacamp.svg?raw=True\" alt = \"DataCamp icon\" width=\"50%\">\n",
        "</p>\n",
        "<br><br>\n",
        "\n",
        "# **Brand Analysis Using Social Media Data in R**\n",
        "\n",
        "Welcome to this hands-on training where you will learn how to perform brand analysis from social media data using R. We will be using different R libraries to analyze twitter data and derive insights.\n",
        "\n",
        "In this session, you will learn\n",
        "\n",
        "* How to compare brand popularity by extracting and comparing follower counts\n",
        "* How to promote a brand by identifying popular tweets\n",
        "* How to evaluate brand salience and compare the same for two brands using tweet frequencies\n",
        "* Understand brand perception through text mining and by visualizing key terms\n",
        "* Perform sentiment analysis to understand customer's feelings and sentiments about a brand\n",
        "* Visualize brand presence by plotting tweets on the map\n",
        "\n",
        "## **The Dataset**\n",
        "\n",
        "The datasets to be used in this training session are in CSV format. These datasets comprise extracted live tweets using `rtweet` library. The datasets are:\n",
        "* **users_twts.csv**: User data of four twitter accounts pre-extracted from Twitter\n",
        "* **tesladf.csv**: Tweets searched on keyword 'tesla' pre-extracted from Twitter\n",
        "* **toyotadf.csv**: Tweets searched on keyword 'toyota' pre-extracted from Twitter\n",
        "* **tesla_small.csv**: Tweets searched on keyword 'tesla' pre-extracted from Twitter. This is a smaller dataset with fewer tweets.\n",
        "\n",
        "* **tweets_car.csv**: Tweets searched on keyword 'electric car' pre-extracted from Twitter\n",
        "\n",
        "Note that we will not be extracting live tweets from Twitter during this session as it invovles a setup process. We will be using pre-extracted tweets saved in RDS format.\n",
        "\n",
        "- **users_twts.csv**: has 4 records and 90 columns of user data and associated metadata\n",
        "- **tesladf.csv**: has 17979 records (tweets) and 90 columns of tweet text and associated metadata\n",
        "- **toyotadf.csv**: has 17798 records (tweets) and 90 columns of tweet text and associated metadata\n",
        "- **tesla_small.csv**: has 500 records (tweets) and 90 columns of tweet text and associated metadata\n",
        "- **tweets_car.csv**: has 12925 records (tweets) and 90 columns of tweet text and associated metadata\n",
        "\n",
        "All the datasets have the same set of columns and some of the important columns that we will work with are listed below:\n",
        "\n",
        "- `user_id`: Twitter allocated unique ID for each twitter user.\n",
        "- `created_at`: UTC time when this Tweet was created\n",
        "- `screen_name`: The screen name or twitter handle that an user identifies themselves with\n",
        "`text`: The actual tweet text posted by an user\n",
        "- `retweet_count`: Number of times a given tweet has been retweeted.\n",
        "- `followers_count`: The number of followers a twitter account currently has.\n",
        "- `geo_coords`, `coords_coords`, `bbox_coords`: Represents geographic location of a tweet as reported by the user or client application\n"
      ]
    },
    {
      "cell_type": "markdown",
      "metadata": {
        "id": "M-GBcitS6sbD",
        "colab_type": "text"
      },
      "source": [
        "## **Getting started and exploring the dataset**"
      ]
    },
    {
      "cell_type": "code",
      "metadata": {
        "id": "TF0WSCrFivM8",
        "colab_type": "code",
        "colab": {}
      },
      "source": [
        "# Install R packages\n",
        "install.packages('rtweet')\n",
        "install.packages('reshape')\n",
        "install.packages('qdapRegex')\n",
        "install.packages('tm')\n",
        "install.packages('qdap')\n",
        "install.packages('syuzhet')"
      ],
      "execution_count": null,
      "outputs": []
    },
    {
      "cell_type": "markdown",
      "metadata": {
        "id": "DkyT5rzKDaXn",
        "colab_type": "text"
      },
      "source": [
        "## **1. Compare brand popularity by extracting and comparing follower counts**"
      ]
    },
    {
      "cell_type": "markdown",
      "metadata": {
        "id": "5-0s6O9NKtBQ",
        "colab_type": "text"
      },
      "source": [
        "We can compare followers count for competing products by using their screen names and follower counts.\n",
        "\n",
        "Note:\n",
        "- `screen_name`: The screen name or twitter handle that an user identifies themselves with\n",
        "- `followers_count`: The number of followers a twitter account currently has.\n",
        "\n",
        "The followers count for a twitter account indicates the popularity of that account and is a measure of social media influence.\n",
        "\n",
        "To extract user data directly from twitter, we usually load the `rtweet` package, obtain and create Twitter API access tokens according to the instructions in this article (https://rtweet.info/articles/auth.html) and extract user data with the following code:\n",
        "\n",
        "\n",
        "##### # Store name of users to extract data on twitter accounts of 4 auto magazines\n",
        "users <- c(\"caranddriver\", \"motortrend\", \"autoweekUSA\", \"roadandtrack\")\n",
        "\n",
        "The `lookup_users()` function takes screen names as input and extracts user data for twitter accounts. \n",
        "\n",
        "##### # Extract user data for the twitter accounts stored in users\n",
        "users_twts <- lookup_users(users)\n",
        "\n",
        "##### # Save extracted data as a CSV file using `fwrite()` from`data.table` library\n",
        "fwrite(users_twts, file = \"users_twts.csv\")\n",
        "\n",
        "To avoid setting up individual API access tokens, we will be directly using a CSV file."
      ]
    },
    {
      "cell_type": "code",
      "metadata": {
        "id": "brr08aZX9Wss",
        "colab_type": "code",
        "colab": {}
      },
      "source": [
        "# Load rtweet library\n",
        "library(rtweet)"
      ],
      "execution_count": 82,
      "outputs": []
    },
    {
      "cell_type": "markdown",
      "metadata": {
        "id": "Z-MwqUOZCLzA",
        "colab_type": "text"
      },
      "source": [
        "Import the pre-saved CSV file with extracted user data for the four twitter accounts\n",
        "\n",
        "\n",
        "---\n",
        "\n"
      ]
    },
    {
      "cell_type": "code",
      "metadata": {
        "id": "BEznwPZ1BInH",
        "colab_type": "code",
        "colab": {}
      },
      "source": [
        "# Import extracted user data from the csv file into a dataframe\n",
        "users_twts = read.csv(\"https://github.com/datacamp/Brand-Analysis-using-Social-Media-Data-in-R-Live-Training/blob/master/data/users_twts.csv?raw=true\")"
      ],
      "execution_count": 83,
      "outputs": []
    },
    {
      "cell_type": "code",
      "metadata": {
        "id": "GFUqLkeCFlbo",
        "colab_type": "code",
        "colab": {
          "base_uri": "https://localhost:8080/",
          "height": 511
        },
        "outputId": "01730e15-abea-447b-8dfd-3ade7e893854"
      },
      "source": [
        "# View dimensions of the dataframe\n",
        "dim(users_twts)\n",
        "\n",
        "# View few rows of the dataframe\n",
        "head(users_twts)"
      ],
      "execution_count": 84,
      "outputs": [
        {
          "output_type": "display_data",
          "data": {
            "text/plain": [
              "[1]  4 90"
            ],
            "text/latex": "\\begin{enumerate*}\n\\item 4\n\\item 90\n\\end{enumerate*}\n",
            "text/markdown": "1. 4\n2. 90\n\n\n",
            "text/html": [
              "<style>\n",
              ".list-inline {list-style: none; margin:0; padding: 0}\n",
              ".list-inline>li {display: inline-block}\n",
              ".list-inline>li:not(:last-child)::after {content: \"\\00b7\"; padding: 0 .5ex}\n",
              "</style>\n",
              "<ol class=list-inline><li>4</li><li>90</li></ol>\n"
            ]
          },
          "metadata": {
            "tags": []
          }
        },
        {
          "output_type": "display_data",
          "data": {
            "text/plain": [
              "  user_id  status_id    created_at           screen_name \n",
              "1 14342661 1.272359e+18 2020-06-15T02:45:02Z CARandDRIVER\n",
              "2 25383000 1.271872e+18 2020-06-13T18:27:21Z MotorTrend  \n",
              "3 72861485 1.272401e+18 2020-06-15T05:32:05Z AutoweekUSA \n",
              "4 21200953 1.272220e+18 2020-06-14T17:31:06Z RoadandTrack\n",
              "  text                                                                                                                                        \n",
              "1 1000-hp Hellephant-powered @Dodge Demon rolls onto dyno in video: https://t.co/fj18FvEVBl https://t.co/XyIngamybg                           \n",
              "2 Today is the day! Lights are green for the @24hoursoflemans Virtual! 🏁 🏎 Get all the LIVE coverage right here! https://t.co/GE6bAEbN3R      \n",
              "3 Ford switched from Tremec to Getrag for its Mustang manual transmissions back in 2011; a new class action lawsuit c… https://t.co/8U1LTxJA8X\n",
              "4 Watch a bunch of Safari 911s frolic through the snow on a frozen lake. https://t.co/6WacyUrnzW https://t.co/tfUAvfe0J7                      \n",
              "  source             display_text_width reply_to_status_id reply_to_user_id\n",
              "1 SocialFlow         NA                 NA                 NA              \n",
              "2 Twitter for iPhone NA                 NA                 NA              \n",
              "3 SocialFlow         NA                 NA                 NA              \n",
              "4 SocialFlow         NA                 NA                 NA              \n",
              "  reply_to_screen_name ⋯ statuses_count favourites_count account_created_at  \n",
              "1 NA                   ⋯ 33485          3666             2008-04-09T15:39:55Z\n",
              "2 NA                   ⋯ 41567          2914             2009-03-19T20:53:09Z\n",
              "3 NA                   ⋯ 42962           907             2009-09-09T14:14:49Z\n",
              "4 NA                   ⋯ 45268           468             2009-02-18T14:38:00Z\n",
              "  verified profile_url             profile_expanded_url        account_lang\n",
              "1 TRUE     http://t.co/uMTUR3UJQh  http://www.caranddriver.com NA          \n",
              "2 TRUE                                                         NA          \n",
              "3 TRUE     https://t.co/vmRBIAd2qP http://www.autoweek.com     NA          \n",
              "4 TRUE     http://t.co/MOF3c631Tk  http://www.roadandtrack.com NA          \n",
              "  profile_banner_url                                       \n",
              "1 https://pbs.twimg.com/profile_banners/14342661/1589386475\n",
              "2 https://pbs.twimg.com/profile_banners/25383000/1591290185\n",
              "3 https://pbs.twimg.com/profile_banners/72861485/1576699667\n",
              "4 https://pbs.twimg.com/profile_banners/21200953/1544480352\n",
              "  profile_background_url                           \n",
              "1 http://abs.twimg.com/images/themes/theme1/bg.png \n",
              "2 http://abs.twimg.com/images/themes/theme1/bg.png \n",
              "3 http://abs.twimg.com/images/themes/theme14/bg.gif\n",
              "4 http://abs.twimg.com/images/themes/theme14/bg.gif\n",
              "  profile_image_url                                                          \n",
              "1 http://pbs.twimg.com/profile_images/905461745178816514/goEtq5xZ_normal.jpg \n",
              "2 http://pbs.twimg.com/profile_images/1268290610642841606/tmgqtz8r_normal.jpg\n",
              "3 http://pbs.twimg.com/profile_images/1207392025269719041/hLqoPr0A_normal.jpg\n",
              "4 http://pbs.twimg.com/profile_images/845016711292071936/ZqE0j-8u_normal.jpg "
            ],
            "text/latex": "A data.frame: 4 × 90\n\\begin{tabular}{r|lllllllllllllllllllll}\n  & user\\_id & status\\_id & created\\_at & screen\\_name & text & source & display\\_text\\_width & reply\\_to\\_status\\_id & reply\\_to\\_user\\_id & reply\\_to\\_screen\\_name & ⋯ & statuses\\_count & favourites\\_count & account\\_created\\_at & verified & profile\\_url & profile\\_expanded\\_url & account\\_lang & profile\\_banner\\_url & profile\\_background\\_url & profile\\_image\\_url\\\\\n  & <int> & <dbl> & <fct> & <fct> & <fct> & <fct> & <lgl> & <lgl> & <lgl> & <lgl> & ⋯ & <int> & <int> & <fct> & <lgl> & <fct> & <fct> & <lgl> & <fct> & <fct> & <fct>\\\\\n\\hline\n\t1 & 14342661 & 1.272359e+18 & 2020-06-15T02:45:02Z & CARandDRIVER & 1000-hp Hellephant-powered @Dodge Demon rolls onto dyno in video: https://t.co/fj18FvEVBl https://t.co/XyIngamybg                            & SocialFlow         & NA & NA & NA & NA & ⋯ & 33485 & 3666 & 2008-04-09T15:39:55Z & TRUE & http://t.co/uMTUR3UJQh  & http://www.caranddriver.com & NA & https://pbs.twimg.com/profile\\_banners/14342661/1589386475 & http://abs.twimg.com/images/themes/theme1/bg.png  & http://pbs.twimg.com/profile\\_images/905461745178816514/goEtq5xZ\\_normal.jpg \\\\\n\t2 & 25383000 & 1.271872e+18 & 2020-06-13T18:27:21Z & MotorTrend   & Today is the day! Lights are green for the @24hoursoflemans Virtual! 🏁 🏎 Get all the LIVE coverage right here! https://t.co/GE6bAEbN3R       & Twitter for iPhone & NA & NA & NA & NA & ⋯ & 41567 & 2914 & 2009-03-19T20:53:09Z & TRUE &                         &                             & NA & https://pbs.twimg.com/profile\\_banners/25383000/1591290185 & http://abs.twimg.com/images/themes/theme1/bg.png  & http://pbs.twimg.com/profile\\_images/1268290610642841606/tmgqtz8r\\_normal.jpg\\\\\n\t3 & 72861485 & 1.272401e+18 & 2020-06-15T05:32:05Z & AutoweekUSA  & Ford switched from Tremec to Getrag for its Mustang manual transmissions back in 2011; a new class action lawsuit c… https://t.co/8U1LTxJA8X & SocialFlow         & NA & NA & NA & NA & ⋯ & 42962 &  907 & 2009-09-09T14:14:49Z & TRUE & https://t.co/vmRBIAd2qP & http://www.autoweek.com     & NA & https://pbs.twimg.com/profile\\_banners/72861485/1576699667 & http://abs.twimg.com/images/themes/theme14/bg.gif & http://pbs.twimg.com/profile\\_images/1207392025269719041/hLqoPr0A\\_normal.jpg\\\\\n\t4 & 21200953 & 1.272220e+18 & 2020-06-14T17:31:06Z & RoadandTrack & Watch a bunch of Safari 911s frolic through the snow on a frozen lake. https://t.co/6WacyUrnzW https://t.co/tfUAvfe0J7                       & SocialFlow         & NA & NA & NA & NA & ⋯ & 45268 &  468 & 2009-02-18T14:38:00Z & TRUE & http://t.co/MOF3c631Tk  & http://www.roadandtrack.com & NA & https://pbs.twimg.com/profile\\_banners/21200953/1544480352 & http://abs.twimg.com/images/themes/theme14/bg.gif & http://pbs.twimg.com/profile\\_images/845016711292071936/ZqE0j-8u\\_normal.jpg \\\\\n\\end{tabular}\n",
            "text/markdown": "\nA data.frame: 4 × 90\n\n| <!--/--> | user_id &lt;int&gt; | status_id &lt;dbl&gt; | created_at &lt;fct&gt; | screen_name &lt;fct&gt; | text &lt;fct&gt; | source &lt;fct&gt; | display_text_width &lt;lgl&gt; | reply_to_status_id &lt;lgl&gt; | reply_to_user_id &lt;lgl&gt; | reply_to_screen_name &lt;lgl&gt; | ⋯ ⋯ | statuses_count &lt;int&gt; | favourites_count &lt;int&gt; | account_created_at &lt;fct&gt; | verified &lt;lgl&gt; | profile_url &lt;fct&gt; | profile_expanded_url &lt;fct&gt; | account_lang &lt;lgl&gt; | profile_banner_url &lt;fct&gt; | profile_background_url &lt;fct&gt; | profile_image_url &lt;fct&gt; |\n|---|---|---|---|---|---|---|---|---|---|---|---|---|---|---|---|---|---|---|---|---|---|\n| 1 | 14342661 | 1.272359e+18 | 2020-06-15T02:45:02Z | CARandDRIVER | 1000-hp Hellephant-powered @Dodge Demon rolls onto dyno in video: https://t.co/fj18FvEVBl https://t.co/XyIngamybg                            | SocialFlow         | NA | NA | NA | NA | ⋯ | 33485 | 3666 | 2008-04-09T15:39:55Z | TRUE | http://t.co/uMTUR3UJQh  | http://www.caranddriver.com | NA | https://pbs.twimg.com/profile_banners/14342661/1589386475 | http://abs.twimg.com/images/themes/theme1/bg.png  | http://pbs.twimg.com/profile_images/905461745178816514/goEtq5xZ_normal.jpg  |\n| 2 | 25383000 | 1.271872e+18 | 2020-06-13T18:27:21Z | MotorTrend   | Today is the day! Lights are green for the @24hoursoflemans Virtual! 🏁 🏎 Get all the LIVE coverage right here! https://t.co/GE6bAEbN3R       | Twitter for iPhone | NA | NA | NA | NA | ⋯ | 41567 | 2914 | 2009-03-19T20:53:09Z | TRUE | <!----> | <!----> | NA | https://pbs.twimg.com/profile_banners/25383000/1591290185 | http://abs.twimg.com/images/themes/theme1/bg.png  | http://pbs.twimg.com/profile_images/1268290610642841606/tmgqtz8r_normal.jpg |\n| 3 | 72861485 | 1.272401e+18 | 2020-06-15T05:32:05Z | AutoweekUSA  | Ford switched from Tremec to Getrag for its Mustang manual transmissions back in 2011; a new class action lawsuit c… https://t.co/8U1LTxJA8X | SocialFlow         | NA | NA | NA | NA | ⋯ | 42962 |  907 | 2009-09-09T14:14:49Z | TRUE | https://t.co/vmRBIAd2qP | http://www.autoweek.com     | NA | https://pbs.twimg.com/profile_banners/72861485/1576699667 | http://abs.twimg.com/images/themes/theme14/bg.gif | http://pbs.twimg.com/profile_images/1207392025269719041/hLqoPr0A_normal.jpg |\n| 4 | 21200953 | 1.272220e+18 | 2020-06-14T17:31:06Z | RoadandTrack | Watch a bunch of Safari 911s frolic through the snow on a frozen lake. https://t.co/6WacyUrnzW https://t.co/tfUAvfe0J7                       | SocialFlow         | NA | NA | NA | NA | ⋯ | 45268 |  468 | 2009-02-18T14:38:00Z | TRUE | http://t.co/MOF3c631Tk  | http://www.roadandtrack.com | NA | https://pbs.twimg.com/profile_banners/21200953/1544480352 | http://abs.twimg.com/images/themes/theme14/bg.gif | http://pbs.twimg.com/profile_images/845016711292071936/ZqE0j-8u_normal.jpg  |\n\n",
            "text/html": [
              "<table>\n",
              "<caption>A data.frame: 4 × 90</caption>\n",
              "<thead>\n",
              "\t<tr><th></th><th scope=col>user_id</th><th scope=col>status_id</th><th scope=col>created_at</th><th scope=col>screen_name</th><th scope=col>text</th><th scope=col>source</th><th scope=col>display_text_width</th><th scope=col>reply_to_status_id</th><th scope=col>reply_to_user_id</th><th scope=col>reply_to_screen_name</th><th scope=col>⋯</th><th scope=col>statuses_count</th><th scope=col>favourites_count</th><th scope=col>account_created_at</th><th scope=col>verified</th><th scope=col>profile_url</th><th scope=col>profile_expanded_url</th><th scope=col>account_lang</th><th scope=col>profile_banner_url</th><th scope=col>profile_background_url</th><th scope=col>profile_image_url</th></tr>\n",
              "\t<tr><th></th><th scope=col>&lt;int&gt;</th><th scope=col>&lt;dbl&gt;</th><th scope=col>&lt;fct&gt;</th><th scope=col>&lt;fct&gt;</th><th scope=col>&lt;fct&gt;</th><th scope=col>&lt;fct&gt;</th><th scope=col>&lt;lgl&gt;</th><th scope=col>&lt;lgl&gt;</th><th scope=col>&lt;lgl&gt;</th><th scope=col>&lt;lgl&gt;</th><th scope=col>⋯</th><th scope=col>&lt;int&gt;</th><th scope=col>&lt;int&gt;</th><th scope=col>&lt;fct&gt;</th><th scope=col>&lt;lgl&gt;</th><th scope=col>&lt;fct&gt;</th><th scope=col>&lt;fct&gt;</th><th scope=col>&lt;lgl&gt;</th><th scope=col>&lt;fct&gt;</th><th scope=col>&lt;fct&gt;</th><th scope=col>&lt;fct&gt;</th></tr>\n",
              "</thead>\n",
              "<tbody>\n",
              "\t<tr><th scope=row>1</th><td>14342661</td><td>1.272359e+18</td><td>2020-06-15T02:45:02Z</td><td>CARandDRIVER</td><td>1000-hp Hellephant-powered @Dodge Demon rolls onto dyno in video: https://t.co/fj18FvEVBl https://t.co/XyIngamybg                           </td><td>SocialFlow        </td><td>NA</td><td>NA</td><td>NA</td><td>NA</td><td>⋯</td><td>33485</td><td>3666</td><td>2008-04-09T15:39:55Z</td><td>TRUE</td><td>http://t.co/uMTUR3UJQh </td><td>http://www.caranddriver.com</td><td>NA</td><td>https://pbs.twimg.com/profile_banners/14342661/1589386475</td><td>http://abs.twimg.com/images/themes/theme1/bg.png </td><td>http://pbs.twimg.com/profile_images/905461745178816514/goEtq5xZ_normal.jpg </td></tr>\n",
              "\t<tr><th scope=row>2</th><td>25383000</td><td>1.271872e+18</td><td>2020-06-13T18:27:21Z</td><td>MotorTrend  </td><td>Today is the day! Lights are green for the @24hoursoflemans Virtual! 🏁 🏎 Get all the LIVE coverage right here! https://t.co/GE6bAEbN3R      </td><td>Twitter for iPhone</td><td>NA</td><td>NA</td><td>NA</td><td>NA</td><td>⋯</td><td>41567</td><td>2914</td><td>2009-03-19T20:53:09Z</td><td>TRUE</td><td>                       </td><td>                           </td><td>NA</td><td>https://pbs.twimg.com/profile_banners/25383000/1591290185</td><td>http://abs.twimg.com/images/themes/theme1/bg.png </td><td>http://pbs.twimg.com/profile_images/1268290610642841606/tmgqtz8r_normal.jpg</td></tr>\n",
              "\t<tr><th scope=row>3</th><td>72861485</td><td>1.272401e+18</td><td>2020-06-15T05:32:05Z</td><td>AutoweekUSA </td><td>Ford switched from Tremec to Getrag for its Mustang manual transmissions back in 2011; a new class action lawsuit c… https://t.co/8U1LTxJA8X</td><td>SocialFlow        </td><td>NA</td><td>NA</td><td>NA</td><td>NA</td><td>⋯</td><td>42962</td><td> 907</td><td>2009-09-09T14:14:49Z</td><td>TRUE</td><td>https://t.co/vmRBIAd2qP</td><td>http://www.autoweek.com    </td><td>NA</td><td>https://pbs.twimg.com/profile_banners/72861485/1576699667</td><td>http://abs.twimg.com/images/themes/theme14/bg.gif</td><td>http://pbs.twimg.com/profile_images/1207392025269719041/hLqoPr0A_normal.jpg</td></tr>\n",
              "\t<tr><th scope=row>4</th><td>21200953</td><td>1.272220e+18</td><td>2020-06-14T17:31:06Z</td><td>RoadandTrack</td><td>Watch a bunch of Safari 911s frolic through the snow on a frozen lake. https://t.co/6WacyUrnzW https://t.co/tfUAvfe0J7                      </td><td>SocialFlow        </td><td>NA</td><td>NA</td><td>NA</td><td>NA</td><td>⋯</td><td>45268</td><td> 468</td><td>2009-02-18T14:38:00Z</td><td>TRUE</td><td>http://t.co/MOF3c631Tk </td><td>http://www.roadandtrack.com</td><td>NA</td><td>https://pbs.twimg.com/profile_banners/21200953/1544480352</td><td>http://abs.twimg.com/images/themes/theme14/bg.gif</td><td>http://pbs.twimg.com/profile_images/845016711292071936/ZqE0j-8u_normal.jpg </td></tr>\n",
              "</tbody>\n",
              "</table>\n"
            ]
          },
          "metadata": {
            "tags": []
          }
        }
      ]
    },
    {
      "cell_type": "markdown",
      "metadata": {
        "id": "ecGJIovyCmBJ",
        "colab_type": "text"
      },
      "source": [
        "From the user data, extract details of screen names and follower counts for the 4 twitter accounts into a dataframe."
      ]
    },
    {
      "cell_type": "code",
      "metadata": {
        "id": "e4F8sho_TvSe",
        "colab_type": "code",
        "colab": {}
      },
      "source": [
        "# Create a data frame of screen names and followers count\n",
        "user_df <- users_twts[,c(\"screen_name\",\"followers_count\")]"
      ],
      "execution_count": 85,
      "outputs": []
    },
    {
      "cell_type": "code",
      "metadata": {
        "id": "xJ2RRpRMT1Av",
        "colab_type": "code",
        "colab": {
          "base_uri": "https://localhost:8080/",
          "height": 155
        },
        "outputId": "157de74b-c013-4da6-98e2-4eeae4ae625f"
      },
      "source": [
        "# Display and compare the follower counts for the 4 twitter accounts\n",
        "user_df"
      ],
      "execution_count": 86,
      "outputs": [
        {
          "output_type": "display_data",
          "data": {
            "text/plain": [
              "  screen_name  followers_count\n",
              "1 CARandDRIVER 1089921        \n",
              "2 MotorTrend    739800        \n",
              "3 AutoweekUSA   164567        \n",
              "4 RoadandTrack  659062        "
            ],
            "text/latex": "A data.frame: 4 × 2\n\\begin{tabular}{ll}\n screen\\_name & followers\\_count\\\\\n <fct> & <int>\\\\\n\\hline\n\t CARandDRIVER & 1089921\\\\\n\t MotorTrend   &  739800\\\\\n\t AutoweekUSA  &  164567\\\\\n\t RoadandTrack &  659062\\\\\n\\end{tabular}\n",
            "text/markdown": "\nA data.frame: 4 × 2\n\n| screen_name &lt;fct&gt; | followers_count &lt;int&gt; |\n|---|---|\n| CARandDRIVER | 1089921 |\n| MotorTrend   |  739800 |\n| AutoweekUSA  |  164567 |\n| RoadandTrack |  659062 |\n\n",
            "text/html": [
              "<table>\n",
              "<caption>A data.frame: 4 × 2</caption>\n",
              "<thead>\n",
              "\t<tr><th scope=col>screen_name</th><th scope=col>followers_count</th></tr>\n",
              "\t<tr><th scope=col>&lt;fct&gt;</th><th scope=col>&lt;int&gt;</th></tr>\n",
              "</thead>\n",
              "<tbody>\n",
              "\t<tr><td>CARandDRIVER</td><td>1089921</td></tr>\n",
              "\t<tr><td>MotorTrend  </td><td> 739800</td></tr>\n",
              "\t<tr><td>AutoweekUSA </td><td> 164567</td></tr>\n",
              "\t<tr><td>RoadandTrack</td><td> 659062</td></tr>\n",
              "</tbody>\n",
              "</table>\n"
            ]
          },
          "metadata": {
            "tags": []
          }
        }
      ]
    },
    {
      "cell_type": "markdown",
      "metadata": {
        "id": "_CGJYoNDT7NR",
        "colab_type": "text"
      },
      "source": [
        "#### We can see that \"Car and Driver\" is the most popular automobile magazine with number of followers exceeding a million and it is followed by \"Motor Trends\" with 739,800 followers. \n",
        "\n",
        "#### An automobile brand advertising for a new model can place its adverts on the homepage of these twitter acocunts or tag these twitter accounts while promoting its brand. \n",
        "\n",
        "#### Thus, Digital marketers can position ads on popular twitter accounts for increased visibility."
      ]
    },
    {
      "cell_type": "markdown",
      "metadata": {
        "id": "G55f-24dT-a3",
        "colab_type": "text"
      },
      "source": [
        "## **2. Promote a brand by identifying popular tweets using retweet counts**"
      ]
    },
    {
      "cell_type": "markdown",
      "metadata": {
        "id": "pH1WRvjodk9Y",
        "colab_type": "text"
      },
      "source": [
        "To extract tweet data for a particular term, we can use the `search_tweets()` function from `rtweet` library which has the following arguments:\n",
        "\n",
        "*\tq: The query being used, for example \"tesla\"\n",
        "\n",
        "*\tn: The number of tweets\n",
        "\n",
        "*\tlang: The language of the tweet - here set to \"en\"\n",
        "\n",
        "*\tinclude_rts: A boolean value that either accepts the inclusion of retweets or not on resulting data\n",
        "\n",
        "In this notebook, we will be using a CSV file to import the tweets but using `search_tweets()` to extract tweets on \"tesla\" can be done as such.\n",
        "\n",
        "##### # Extract 18000 tweets on Tesla\n",
        "tweets_tesla = search_tweets(\"tesla\", n = 18000, lang = \"en\", include_rts = FALSE)\n",
        "\n",
        "fwrite(tweets_tesla, \"tesladf.csv\")\n"
      ]
    },
    {
      "cell_type": "code",
      "metadata": {
        "id": "9oP813w3UpF6",
        "colab_type": "code",
        "colab": {}
      },
      "source": [
        "# Import extracted tweets on \"tesla\" in CSV format into a dataframe\n",
        "tesladf = read.csv(\"https://github.com/datacamp/Brand-Analysis-using-Social-Media-Data-in-R-Live-Training/blob/master/data/tesladf.csv?raw=true\")"
      ],
      "execution_count": 87,
      "outputs": []
    },
    {
      "cell_type": "code",
      "metadata": {
        "id": "Wuj2pHU1UyWY",
        "colab_type": "code",
        "colab": {}
      },
      "source": [
        "# Explore the tweet dataframe\n",
        "dim(tesladf)\n",
        "head(tesladf)"
      ],
      "execution_count": null,
      "outputs": []
    },
    {
      "cell_type": "markdown",
      "metadata": {
        "id": "DLjF6jaThbL-",
        "colab_type": "text"
      },
      "source": [
        "Extract the columns `retweet_count` and `text` and save to a new dataframe"
      ]
    },
    {
      "cell_type": "code",
      "metadata": {
        "id": "kk0dLhe2WKS8",
        "colab_type": "code",
        "colab": {}
      },
      "source": [
        "# Create a data frame of tweet text and retweet count\n",
        "rtwt <- tesladf[,c(\"text\", \"retweet_count\")]\n",
        "\n",
        "# View few rows of the new dataframe\n",
        "head(rtwt)"
      ],
      "execution_count": null,
      "outputs": []
    },
    {
      "cell_type": "markdown",
      "metadata": {
        "id": "JO8lSn1IDCJg",
        "colab_type": "text"
      },
      "source": [
        "Sort in descending order of the retweet counts using `arrange()` from `dplyr` library"
      ]
    },
    {
      "cell_type": "code",
      "metadata": {
        "id": "Brg7djU2W1Os",
        "colab_type": "code",
        "colab": {}
      },
      "source": [
        "# Import library\n",
        "library(dplyr)"
      ],
      "execution_count": 90,
      "outputs": []
    },
    {
      "cell_type": "code",
      "metadata": {
        "id": "Ya803xjM2e8r",
        "colab_type": "code",
        "colab": {}
      },
      "source": [
        "# Sort data frame based on descending order of retweet counts\n",
        "rtwt_sort <- arrange(rtwt, desc(retweet_count))\n",
        "\n",
        "# View sorted output\n",
        "head(rtwt_sort)"
      ],
      "execution_count": null,
      "outputs": []
    },
    {
      "cell_type": "markdown",
      "metadata": {
        "id": "dSVCAjCsDMZ8",
        "colab_type": "text"
      },
      "source": [
        "The `text` column usually contains duplicate tweets. We can retain just one version of such tweets by applying the `unique()` function on the `text` column.\n",
        "\n",
        "This function takes two arguments:the data frame and the column `text` for removing duplicate tweets."
      ]
    },
    {
      "cell_type": "code",
      "metadata": {
        "id": "Y8dxm-uDXBjF",
        "colab_type": "code",
        "colab": {}
      },
      "source": [
        "# Exclude rows with duplicate text from sorted data frame\n",
        "rtwt_unique <- unique(rtwt_sort, by = \"text\")"
      ],
      "execution_count": 92,
      "outputs": []
    },
    {
      "cell_type": "markdown",
      "metadata": {
        "id": "Ntiiz3eUH9un",
        "colab_type": "text"
      },
      "source": [
        "View the top 6 unique tweets that got the most number of retweets according to the retweets count"
      ]
    },
    {
      "cell_type": "code",
      "metadata": {
        "id": "p7KgvhR6XS_V",
        "colab_type": "code",
        "colab": {}
      },
      "source": [
        "# Print top 6 unique posts retweeted most number of times\n",
        "head(rtwt_unique)"
      ],
      "execution_count": null,
      "outputs": []
    },
    {
      "cell_type": "markdown",
      "metadata": {
        "id": "fHr6jHghXVAv",
        "colab_type": "text"
      },
      "source": [
        "#### The most retweeted texts have popular quotes such as \"I think I want a Tesla\", indicating the loyalty of Tesla fans. \n",
        "\n",
        "#### These tweets can be used for promoting Tesla's models and brand loyalty."
      ]
    },
    {
      "cell_type": "markdown",
      "metadata": {
        "id": "VEXDVRWrXZFP",
        "colab_type": "text"
      },
      "source": [
        "## 3.\t**Evaluate brand salience and compare the same for two brands using tweet frequencies**"
      ]
    },
    {
      "cell_type": "markdown",
      "metadata": {
        "id": "xCqsEC1kmwxe",
        "colab_type": "text"
      },
      "source": [
        "Brand salience is the extent to which a brand is spoken about for which volume of tweets posted is a strong indicator.\n",
        "\n",
        "In this exercise, we will evalute the brand salience for Tesla by analyzing twitter data over time, popularly known as time series data analysis. \n",
        "\n",
        "We will also compare brand salience of Tesla against one of its competing brands, Toyota."
      ]
    },
    {
      "cell_type": "markdown",
      "metadata": {
        "id": "Bk69UzcZtDSS",
        "colab_type": "text"
      },
      "source": [
        "#### **3a) Visualizing frequency of tweets using time series plots**\n",
        "\n",
        "Time series represents a series of data points sequentially indexed over time. \n",
        "Analyzing time series data helps visualize the frequency of tweets over time.\n",
        "\n",
        "Twitter data can help monitor engagement for a product, indicating levels of interest. Visualizing tweet frequency provides insights into this interest level.\n",
        "\n",
        "Let's visualize tweet frequency on the automobile brand \"Tesla\". We will be using the tweet dataframe created for Tesla in the previous exercise.\n"
      ]
    },
    {
      "cell_type": "code",
      "metadata": {
        "id": "o5mhQQefXYYt",
        "colab_type": "code",
        "colab": {}
      },
      "source": [
        "# View the tweet dataframe\n",
        "head(tesladf)"
      ],
      "execution_count": null,
      "outputs": []
    },
    {
      "cell_type": "code",
      "metadata": {
        "id": "dIjgkLxIpQBH",
        "colab_type": "code",
        "colab": {
          "base_uri": "https://localhost:8080/",
          "height": 69
        },
        "outputId": "36c4626a-b105-4b01-83b0-7f33b8cab347"
      },
      "source": [
        "# View the `created_at` column in the tweet dataframe\n",
        "head(tesladf$created_at,10)"
      ],
      "execution_count": null,
      "outputs": [
        {
          "output_type": "display_data",
          "data": {
            "text/plain": [
              " [1] 2020-05-18T04:36:31Z 2020-05-18T04:36:17Z 2020-05-18T04:32:08Z\n",
              " [4] 2020-05-18T03:04:49Z 2020-05-17T23:28:26Z 2020-05-18T01:47:00Z\n",
              " [7] 2020-05-18T03:14:57Z 2020-05-17T21:34:09Z 2020-05-18T04:36:16Z\n",
              "[10] 2020-05-17T16:15:56Z\n",
              "16725 Levels: 2020-05-16T11:04:42Z 2020-05-16T11:04:52Z ... 2020-05-18T04:36:31Z"
            ],
            "text/latex": "\\begin{enumerate*}\n\\item 2020-05-18T04:36:31Z\n\\item 2020-05-18T04:36:17Z\n\\item 2020-05-18T04:32:08Z\n\\item 2020-05-18T03:04:49Z\n\\item 2020-05-17T23:28:26Z\n\\item 2020-05-18T01:47:00Z\n\\item 2020-05-18T03:14:57Z\n\\item 2020-05-17T21:34:09Z\n\\item 2020-05-18T04:36:16Z\n\\item 2020-05-17T16:15:56Z\n\\end{enumerate*}\n\n\\emph{Levels}: \\begin{enumerate*}\n\\item '2020-05-16T11:04:42Z'\n\\item '2020-05-16T11:04:52Z'\n\\item '2020-05-16T11:04:54Z'\n\\item '2020-05-16T11:04:58Z'\n\\item '2020-05-16T11:04:59Z'\n\\item '2020-05-16T11:05:48Z'\n\\item '2020-05-16T11:05:51Z'\n\\item '2020-05-16T11:06:00Z'\n\\item '2020-05-16T11:06:12Z'\n\\item '2020-05-16T11:06:14Z'\n\\item '2020-05-16T11:06:17Z'\n\\item '2020-05-16T11:06:19Z'\n\\item '2020-05-16T11:06:21Z'\n\\item '2020-05-16T11:06:34Z'\n\\item '2020-05-16T11:06:38Z'\n\\item '2020-05-16T11:06:50Z'\n\\item '2020-05-16T11:07:30Z'\n\\item '2020-05-16T11:08:03Z'\n\\item '2020-05-16T11:08:07Z'\n\\item '2020-05-16T11:08:21Z'\n\\item '2020-05-16T11:09:11Z'\n\\item '2020-05-16T11:09:14Z'\n\\item '2020-05-16T11:09:16Z'\n\\item '2020-05-16T11:10:01Z'\n\\item '2020-05-16T11:10:07Z'\n\\item '2020-05-16T11:10:21Z'\n\\item '2020-05-16T11:10:24Z'\n\\item '2020-05-16T11:10:45Z'\n\\item '2020-05-16T11:10:48Z'\n\\item '2020-05-16T11:10:50Z'\n\\item '2020-05-16T11:11:09Z'\n\\item '2020-05-16T11:11:49Z'\n\\item '2020-05-16T11:11:56Z'\n\\item '2020-05-16T11:12:39Z'\n\\item '2020-05-16T11:12:52Z'\n\\item '2020-05-16T11:12:54Z'\n\\item '2020-05-16T11:13:03Z'\n\\item '2020-05-16T11:13:16Z'\n\\item '2020-05-16T11:13:30Z'\n\\item '2020-05-16T11:14:06Z'\n\\item '2020-05-16T11:14:35Z'\n\\item '2020-05-16T11:14:38Z'\n\\item '2020-05-16T11:14:39Z'\n\\item '2020-05-16T11:14:47Z'\n\\item '2020-05-16T11:14:52Z'\n\\item '2020-05-16T11:15:29Z'\n\\item '2020-05-16T11:15:39Z'\n\\item '2020-05-16T11:15:56Z'\n\\item '2020-05-16T11:15:58Z'\n\\item '2020-05-16T11:16:18Z'\n\\item '2020-05-16T11:16:21Z'\n\\item '2020-05-16T11:16:36Z'\n\\item '2020-05-16T11:16:47Z'\n\\item '2020-05-16T11:17:10Z'\n\\item '2020-05-16T11:17:35Z'\n\\item '2020-05-16T11:17:38Z'\n\\item '2020-05-16T11:17:41Z'\n\\item '2020-05-16T11:17:44Z'\n\\item '2020-05-16T11:17:48Z'\n\\item '2020-05-16T11:18:50Z'\n\\item '2020-05-16T11:18:54Z'\n\\item '2020-05-16T11:18:55Z'\n\\item '2020-05-16T11:19:23Z'\n\\item '2020-05-16T11:19:42Z'\n\\item '2020-05-16T11:19:45Z'\n\\item '2020-05-16T11:19:59Z'\n\\item '2020-05-16T11:20:07Z'\n\\item '2020-05-16T11:20:18Z'\n\\item '2020-05-16T11:20:31Z'\n\\item '2020-05-16T11:20:52Z'\n\\item '2020-05-16T11:21:13Z'\n\\item '2020-05-16T11:21:23Z'\n\\item '2020-05-16T11:21:59Z'\n\\item '2020-05-16T11:22:10Z'\n\\item '2020-05-16T11:22:51Z'\n\\item '2020-05-16T11:23:43Z'\n\\item '2020-05-16T11:23:49Z'\n\\item '2020-05-16T11:23:50Z'\n\\item '2020-05-16T11:23:55Z'\n\\item '2020-05-16T11:24:17Z'\n\\item '2020-05-16T11:24:26Z'\n\\item '2020-05-16T11:24:59Z'\n\\item '2020-05-16T11:25:04Z'\n\\item '2020-05-16T11:25:11Z'\n\\item '2020-05-16T11:25:28Z'\n\\item '2020-05-16T11:26:27Z'\n\\item '2020-05-16T11:26:40Z'\n\\item '2020-05-16T11:26:48Z'\n\\item '2020-05-16T11:27:03Z'\n\\item '2020-05-16T11:27:40Z'\n\\item '2020-05-16T11:27:49Z'\n\\item '2020-05-16T11:28:30Z'\n\\item '2020-05-16T11:28:52Z'\n\\item '2020-05-16T11:29:22Z'\n\\item '2020-05-16T11:29:34Z'\n\\item '2020-05-16T11:29:40Z'\n\\item '2020-05-16T11:29:48Z'\n\\item '2020-05-16T11:29:56Z'\n\\item '2020-05-16T11:30:00Z'\n\\item '2020-05-16T11:30:08Z'\n\\item '2020-05-16T11:30:21Z'\n\\item '2020-05-16T11:30:29Z'\n\\item '2020-05-16T11:30:36Z'\n\\item '2020-05-16T11:30:40Z'\n\\item '2020-05-16T11:30:41Z'\n\\item '2020-05-16T11:31:04Z'\n\\item '2020-05-16T11:31:14Z'\n\\item '2020-05-16T11:31:16Z'\n\\item '2020-05-16T11:31:41Z'\n\\item '2020-05-16T11:31:51Z'\n\\item '2020-05-16T11:31:59Z'\n\\item '2020-05-16T11:32:33Z'\n\\item '2020-05-16T11:32:41Z'\n\\item '2020-05-16T11:32:50Z'\n\\item '2020-05-16T11:33:20Z'\n\\item '2020-05-16T11:33:23Z'\n\\item '2020-05-16T11:33:47Z'\n\\item '2020-05-16T11:34:13Z'\n\\item '2020-05-16T11:35:03Z'\n\\item '2020-05-16T11:35:15Z'\n\\item '2020-05-16T11:35:38Z'\n\\item '2020-05-16T11:35:55Z'\n\\item '2020-05-16T11:36:04Z'\n\\item '2020-05-16T11:36:05Z'\n\\item '2020-05-16T11:36:10Z'\n\\item '2020-05-16T11:36:11Z'\n\\item '2020-05-16T11:36:47Z'\n\\item '2020-05-16T11:36:57Z'\n\\item '2020-05-16T11:37:09Z'\n\\item '2020-05-16T11:37:17Z'\n\\item '2020-05-16T11:37:18Z'\n\\item '2020-05-16T11:37:32Z'\n\\item '2020-05-16T11:38:00Z'\n\\item '2020-05-16T11:38:02Z'\n\\item '2020-05-16T11:38:07Z'\n\\item '2020-05-16T11:38:15Z'\n\\item '2020-05-16T11:38:20Z'\n\\item '2020-05-16T11:38:54Z'\n\\item '2020-05-16T11:39:02Z'\n\\item '2020-05-16T11:39:14Z'\n\\item '2020-05-16T11:39:37Z'\n\\item '2020-05-16T11:39:40Z'\n\\item '2020-05-16T11:40:01Z'\n\\item '2020-05-16T11:40:04Z'\n\\item '2020-05-16T11:40:27Z'\n\\item '2020-05-16T11:40:46Z'\n\\item '2020-05-16T11:41:03Z'\n\\item '2020-05-16T11:41:16Z'\n\\item '2020-05-16T11:41:28Z'\n\\item '2020-05-16T11:41:31Z'\n\\item '2020-05-16T11:41:34Z'\n\\item '2020-05-16T11:41:57Z'\n\\item '2020-05-16T11:42:05Z'\n\\item '2020-05-16T11:42:25Z'\n\\item '2020-05-16T11:43:18Z'\n\\item '2020-05-16T11:43:26Z'\n\\item '2020-05-16T11:43:34Z'\n\\item '2020-05-16T11:43:57Z'\n\\item '2020-05-16T11:44:00Z'\n\\item '2020-05-16T11:44:04Z'\n\\item '2020-05-16T11:44:14Z'\n\\item '2020-05-16T11:44:16Z'\n\\item '2020-05-16T11:44:19Z'\n\\item '2020-05-16T11:44:30Z'\n\\item '2020-05-16T11:44:43Z'\n\\item '2020-05-16T11:44:44Z'\n\\item '2020-05-16T11:44:53Z'\n\\item '2020-05-16T11:45:07Z'\n\\item '2020-05-16T11:45:12Z'\n\\item '2020-05-16T11:45:19Z'\n\\item '2020-05-16T11:45:46Z'\n\\item '2020-05-16T11:46:08Z'\n\\item '2020-05-16T11:46:18Z'\n\\item '2020-05-16T11:46:21Z'\n\\item '2020-05-16T11:46:46Z'\n\\item '2020-05-16T11:47:05Z'\n\\item '2020-05-16T11:47:09Z'\n\\item '2020-05-16T11:47:18Z'\n\\item '2020-05-16T11:47:28Z'\n\\item '2020-05-16T11:47:37Z'\n\\item '2020-05-16T11:47:47Z'\n\\item '2020-05-16T11:47:59Z'\n\\item '2020-05-16T11:48:04Z'\n\\item '2020-05-16T11:48:11Z'\n\\item '2020-05-16T11:48:30Z'\n\\item '2020-05-16T11:48:51Z'\n\\item '2020-05-16T11:48:59Z'\n\\item '2020-05-16T11:49:17Z'\n\\item '2020-05-16T11:49:25Z'\n\\item '2020-05-16T11:49:43Z'\n\\item '2020-05-16T11:50:17Z'\n\\item '2020-05-16T11:50:21Z'\n\\item '2020-05-16T11:50:28Z'\n\\item '2020-05-16T11:50:45Z'\n\\item '2020-05-16T11:50:51Z'\n\\item '2020-05-16T11:50:58Z'\n\\item '2020-05-16T11:51:11Z'\n\\item '2020-05-16T11:51:13Z'\n\\item '2020-05-16T11:51:21Z'\n\\item '2020-05-16T11:51:23Z'\n\\item ⋯\n\\item '2020-05-18T04:06:06Z'\n\\item '2020-05-18T04:06:10Z'\n\\item '2020-05-18T04:06:11Z'\n\\item '2020-05-18T04:06:28Z'\n\\item '2020-05-18T04:06:40Z'\n\\item '2020-05-18T04:06:44Z'\n\\item '2020-05-18T04:06:50Z'\n\\item '2020-05-18T04:06:55Z'\n\\item '2020-05-18T04:07:07Z'\n\\item '2020-05-18T04:07:08Z'\n\\item '2020-05-18T04:07:12Z'\n\\item '2020-05-18T04:07:19Z'\n\\item '2020-05-18T04:07:38Z'\n\\item '2020-05-18T04:07:40Z'\n\\item '2020-05-18T04:08:03Z'\n\\item '2020-05-18T04:08:14Z'\n\\item '2020-05-18T04:08:18Z'\n\\item '2020-05-18T04:08:28Z'\n\\item '2020-05-18T04:08:34Z'\n\\item '2020-05-18T04:08:40Z'\n\\item '2020-05-18T04:09:05Z'\n\\item '2020-05-18T04:09:06Z'\n\\item '2020-05-18T04:09:13Z'\n\\item '2020-05-18T04:09:16Z'\n\\item '2020-05-18T04:09:19Z'\n\\item '2020-05-18T04:09:25Z'\n\\item '2020-05-18T04:09:26Z'\n\\item '2020-05-18T04:09:30Z'\n\\item '2020-05-18T04:09:36Z'\n\\item '2020-05-18T04:09:56Z'\n\\item '2020-05-18T04:10:01Z'\n\\item '2020-05-18T04:10:10Z'\n\\item '2020-05-18T04:10:22Z'\n\\item '2020-05-18T04:10:27Z'\n\\item '2020-05-18T04:10:32Z'\n\\item '2020-05-18T04:10:35Z'\n\\item '2020-05-18T04:10:49Z'\n\\item '2020-05-18T04:10:50Z'\n\\item '2020-05-18T04:11:01Z'\n\\item '2020-05-18T04:11:03Z'\n\\item '2020-05-18T04:11:06Z'\n\\item '2020-05-18T04:11:23Z'\n\\item '2020-05-18T04:11:49Z'\n\\item '2020-05-18T04:11:59Z'\n\\item '2020-05-18T04:12:16Z'\n\\item '2020-05-18T04:12:24Z'\n\\item '2020-05-18T04:12:53Z'\n\\item '2020-05-18T04:13:11Z'\n\\item '2020-05-18T04:13:22Z'\n\\item '2020-05-18T04:13:31Z'\n\\item '2020-05-18T04:13:34Z'\n\\item '2020-05-18T04:13:39Z'\n\\item '2020-05-18T04:13:57Z'\n\\item '2020-05-18T04:14:02Z'\n\\item '2020-05-18T04:14:15Z'\n\\item '2020-05-18T04:14:19Z'\n\\item '2020-05-18T04:14:30Z'\n\\item '2020-05-18T04:14:31Z'\n\\item '2020-05-18T04:14:33Z'\n\\item '2020-05-18T04:14:36Z'\n\\item '2020-05-18T04:14:43Z'\n\\item '2020-05-18T04:14:47Z'\n\\item '2020-05-18T04:15:00Z'\n\\item '2020-05-18T04:15:41Z'\n\\item '2020-05-18T04:15:57Z'\n\\item '2020-05-18T04:16:01Z'\n\\item '2020-05-18T04:16:06Z'\n\\item '2020-05-18T04:16:29Z'\n\\item '2020-05-18T04:16:32Z'\n\\item '2020-05-18T04:16:38Z'\n\\item '2020-05-18T04:16:41Z'\n\\item '2020-05-18T04:16:56Z'\n\\item '2020-05-18T04:17:19Z'\n\\item '2020-05-18T04:17:25Z'\n\\item '2020-05-18T04:17:27Z'\n\\item '2020-05-18T04:17:37Z'\n\\item '2020-05-18T04:17:40Z'\n\\item '2020-05-18T04:17:57Z'\n\\item '2020-05-18T04:18:01Z'\n\\item '2020-05-18T04:18:03Z'\n\\item '2020-05-18T04:18:10Z'\n\\item '2020-05-18T04:18:32Z'\n\\item '2020-05-18T04:18:33Z'\n\\item '2020-05-18T04:18:34Z'\n\\item '2020-05-18T04:18:37Z'\n\\item '2020-05-18T04:18:52Z'\n\\item '2020-05-18T04:18:58Z'\n\\item '2020-05-18T04:19:03Z'\n\\item '2020-05-18T04:19:07Z'\n\\item '2020-05-18T04:19:16Z'\n\\item '2020-05-18T04:19:19Z'\n\\item '2020-05-18T04:19:22Z'\n\\item '2020-05-18T04:19:27Z'\n\\item '2020-05-18T04:19:35Z'\n\\item '2020-05-18T04:19:39Z'\n\\item '2020-05-18T04:19:47Z'\n\\item '2020-05-18T04:19:48Z'\n\\item '2020-05-18T04:19:49Z'\n\\item '2020-05-18T04:20:00Z'\n\\item '2020-05-18T04:20:10Z'\n\\item '2020-05-18T04:20:17Z'\n\\item '2020-05-18T04:20:22Z'\n\\item '2020-05-18T04:20:40Z'\n\\item '2020-05-18T04:20:43Z'\n\\item '2020-05-18T04:21:07Z'\n\\item '2020-05-18T04:21:11Z'\n\\item '2020-05-18T04:21:16Z'\n\\item '2020-05-18T04:21:23Z'\n\\item '2020-05-18T04:21:28Z'\n\\item '2020-05-18T04:21:33Z'\n\\item '2020-05-18T04:21:40Z'\n\\item '2020-05-18T04:21:43Z'\n\\item '2020-05-18T04:22:05Z'\n\\item '2020-05-18T04:22:09Z'\n\\item '2020-05-18T04:22:19Z'\n\\item '2020-05-18T04:22:33Z'\n\\item '2020-05-18T04:22:40Z'\n\\item '2020-05-18T04:22:58Z'\n\\item '2020-05-18T04:23:00Z'\n\\item '2020-05-18T04:23:02Z'\n\\item '2020-05-18T04:23:27Z'\n\\item '2020-05-18T04:23:45Z'\n\\item '2020-05-18T04:23:47Z'\n\\item '2020-05-18T04:23:50Z'\n\\item '2020-05-18T04:24:00Z'\n\\item '2020-05-18T04:24:01Z'\n\\item '2020-05-18T04:24:06Z'\n\\item '2020-05-18T04:24:08Z'\n\\item '2020-05-18T04:24:12Z'\n\\item '2020-05-18T04:24:27Z'\n\\item '2020-05-18T04:24:35Z'\n\\item '2020-05-18T04:24:48Z'\n\\item '2020-05-18T04:25:31Z'\n\\item '2020-05-18T04:25:37Z'\n\\item '2020-05-18T04:25:40Z'\n\\item '2020-05-18T04:25:48Z'\n\\item '2020-05-18T04:25:56Z'\n\\item '2020-05-18T04:25:58Z'\n\\item '2020-05-18T04:25:59Z'\n\\item '2020-05-18T04:26:35Z'\n\\item '2020-05-18T04:26:50Z'\n\\item '2020-05-18T04:27:15Z'\n\\item '2020-05-18T04:27:18Z'\n\\item '2020-05-18T04:27:40Z'\n\\item '2020-05-18T04:28:09Z'\n\\item '2020-05-18T04:28:18Z'\n\\item '2020-05-18T04:28:43Z'\n\\item '2020-05-18T04:28:51Z'\n\\item '2020-05-18T04:29:11Z'\n\\item '2020-05-18T04:29:17Z'\n\\item '2020-05-18T04:29:24Z'\n\\item '2020-05-18T04:29:27Z'\n\\item '2020-05-18T04:29:32Z'\n\\item '2020-05-18T04:30:00Z'\n\\item '2020-05-18T04:30:02Z'\n\\item '2020-05-18T04:30:03Z'\n\\item '2020-05-18T04:30:14Z'\n\\item '2020-05-18T04:30:18Z'\n\\item '2020-05-18T04:30:25Z'\n\\item '2020-05-18T04:30:27Z'\n\\item '2020-05-18T04:30:28Z'\n\\item '2020-05-18T04:30:41Z'\n\\item '2020-05-18T04:30:46Z'\n\\item '2020-05-18T04:30:57Z'\n\\item '2020-05-18T04:31:05Z'\n\\item '2020-05-18T04:31:25Z'\n\\item '2020-05-18T04:31:34Z'\n\\item '2020-05-18T04:31:57Z'\n\\item '2020-05-18T04:32:06Z'\n\\item '2020-05-18T04:32:08Z'\n\\item '2020-05-18T04:32:16Z'\n\\item '2020-05-18T04:32:32Z'\n\\item '2020-05-18T04:32:35Z'\n\\item '2020-05-18T04:32:45Z'\n\\item '2020-05-18T04:33:05Z'\n\\item '2020-05-18T04:33:22Z'\n\\item '2020-05-18T04:33:37Z'\n\\item '2020-05-18T04:33:40Z'\n\\item '2020-05-18T04:33:50Z'\n\\item '2020-05-18T04:33:57Z'\n\\item '2020-05-18T04:34:14Z'\n\\item '2020-05-18T04:34:16Z'\n\\item '2020-05-18T04:34:17Z'\n\\item '2020-05-18T04:34:18Z'\n\\item '2020-05-18T04:34:48Z'\n\\item '2020-05-18T04:34:55Z'\n\\item '2020-05-18T04:34:58Z'\n\\item '2020-05-18T04:35:13Z'\n\\item '2020-05-18T04:35:20Z'\n\\item '2020-05-18T04:35:28Z'\n\\item '2020-05-18T04:35:41Z'\n\\item '2020-05-18T04:35:45Z'\n\\item '2020-05-18T04:35:49Z'\n\\item '2020-05-18T04:35:54Z'\n\\item '2020-05-18T04:36:00Z'\n\\item '2020-05-18T04:36:02Z'\n\\item '2020-05-18T04:36:10Z'\n\\item '2020-05-18T04:36:16Z'\n\\item '2020-05-18T04:36:17Z'\n\\item '2020-05-18T04:36:31Z'\n\\end{enumerate*}\n",
            "text/markdown": "1. 2020-05-18T04:36:31Z\n2. 2020-05-18T04:36:17Z\n3. 2020-05-18T04:32:08Z\n4. 2020-05-18T03:04:49Z\n5. 2020-05-17T23:28:26Z\n6. 2020-05-18T01:47:00Z\n7. 2020-05-18T03:14:57Z\n8. 2020-05-17T21:34:09Z\n9. 2020-05-18T04:36:16Z\n10. 2020-05-17T16:15:56Z\n\n\n\n**Levels**: 1. '2020-05-16T11:04:42Z'\n2. '2020-05-16T11:04:52Z'\n3. '2020-05-16T11:04:54Z'\n4. '2020-05-16T11:04:58Z'\n5. '2020-05-16T11:04:59Z'\n6. '2020-05-16T11:05:48Z'\n7. '2020-05-16T11:05:51Z'\n8. '2020-05-16T11:06:00Z'\n9. '2020-05-16T11:06:12Z'\n10. '2020-05-16T11:06:14Z'\n11. '2020-05-16T11:06:17Z'\n12. '2020-05-16T11:06:19Z'\n13. '2020-05-16T11:06:21Z'\n14. '2020-05-16T11:06:34Z'\n15. '2020-05-16T11:06:38Z'\n16. '2020-05-16T11:06:50Z'\n17. '2020-05-16T11:07:30Z'\n18. '2020-05-16T11:08:03Z'\n19. '2020-05-16T11:08:07Z'\n20. '2020-05-16T11:08:21Z'\n21. '2020-05-16T11:09:11Z'\n22. '2020-05-16T11:09:14Z'\n23. '2020-05-16T11:09:16Z'\n24. '2020-05-16T11:10:01Z'\n25. '2020-05-16T11:10:07Z'\n26. '2020-05-16T11:10:21Z'\n27. '2020-05-16T11:10:24Z'\n28. '2020-05-16T11:10:45Z'\n29. '2020-05-16T11:10:48Z'\n30. '2020-05-16T11:10:50Z'\n31. '2020-05-16T11:11:09Z'\n32. '2020-05-16T11:11:49Z'\n33. '2020-05-16T11:11:56Z'\n34. '2020-05-16T11:12:39Z'\n35. '2020-05-16T11:12:52Z'\n36. '2020-05-16T11:12:54Z'\n37. '2020-05-16T11:13:03Z'\n38. '2020-05-16T11:13:16Z'\n39. '2020-05-16T11:13:30Z'\n40. '2020-05-16T11:14:06Z'\n41. '2020-05-16T11:14:35Z'\n42. '2020-05-16T11:14:38Z'\n43. '2020-05-16T11:14:39Z'\n44. '2020-05-16T11:14:47Z'\n45. '2020-05-16T11:14:52Z'\n46. '2020-05-16T11:15:29Z'\n47. '2020-05-16T11:15:39Z'\n48. '2020-05-16T11:15:56Z'\n49. '2020-05-16T11:15:58Z'\n50. '2020-05-16T11:16:18Z'\n51. '2020-05-16T11:16:21Z'\n52. '2020-05-16T11:16:36Z'\n53. '2020-05-16T11:16:47Z'\n54. '2020-05-16T11:17:10Z'\n55. '2020-05-16T11:17:35Z'\n56. '2020-05-16T11:17:38Z'\n57. '2020-05-16T11:17:41Z'\n58. '2020-05-16T11:17:44Z'\n59. '2020-05-16T11:17:48Z'\n60. '2020-05-16T11:18:50Z'\n61. '2020-05-16T11:18:54Z'\n62. '2020-05-16T11:18:55Z'\n63. '2020-05-16T11:19:23Z'\n64. '2020-05-16T11:19:42Z'\n65. '2020-05-16T11:19:45Z'\n66. '2020-05-16T11:19:59Z'\n67. '2020-05-16T11:20:07Z'\n68. '2020-05-16T11:20:18Z'\n69. '2020-05-16T11:20:31Z'\n70. '2020-05-16T11:20:52Z'\n71. '2020-05-16T11:21:13Z'\n72. '2020-05-16T11:21:23Z'\n73. '2020-05-16T11:21:59Z'\n74. '2020-05-16T11:22:10Z'\n75. '2020-05-16T11:22:51Z'\n76. '2020-05-16T11:23:43Z'\n77. '2020-05-16T11:23:49Z'\n78. '2020-05-16T11:23:50Z'\n79. '2020-05-16T11:23:55Z'\n80. '2020-05-16T11:24:17Z'\n81. '2020-05-16T11:24:26Z'\n82. '2020-05-16T11:24:59Z'\n83. '2020-05-16T11:25:04Z'\n84. '2020-05-16T11:25:11Z'\n85. '2020-05-16T11:25:28Z'\n86. '2020-05-16T11:26:27Z'\n87. '2020-05-16T11:26:40Z'\n88. '2020-05-16T11:26:48Z'\n89. '2020-05-16T11:27:03Z'\n90. '2020-05-16T11:27:40Z'\n91. '2020-05-16T11:27:49Z'\n92. '2020-05-16T11:28:30Z'\n93. '2020-05-16T11:28:52Z'\n94. '2020-05-16T11:29:22Z'\n95. '2020-05-16T11:29:34Z'\n96. '2020-05-16T11:29:40Z'\n97. '2020-05-16T11:29:48Z'\n98. '2020-05-16T11:29:56Z'\n99. '2020-05-16T11:30:00Z'\n100. '2020-05-16T11:30:08Z'\n101. '2020-05-16T11:30:21Z'\n102. '2020-05-16T11:30:29Z'\n103. '2020-05-16T11:30:36Z'\n104. '2020-05-16T11:30:40Z'\n105. '2020-05-16T11:30:41Z'\n106. '2020-05-16T11:31:04Z'\n107. '2020-05-16T11:31:14Z'\n108. '2020-05-16T11:31:16Z'\n109. '2020-05-16T11:31:41Z'\n110. '2020-05-16T11:31:51Z'\n111. '2020-05-16T11:31:59Z'\n112. '2020-05-16T11:32:33Z'\n113. '2020-05-16T11:32:41Z'\n114. '2020-05-16T11:32:50Z'\n115. '2020-05-16T11:33:20Z'\n116. '2020-05-16T11:33:23Z'\n117. '2020-05-16T11:33:47Z'\n118. '2020-05-16T11:34:13Z'\n119. '2020-05-16T11:35:03Z'\n120. '2020-05-16T11:35:15Z'\n121. '2020-05-16T11:35:38Z'\n122. '2020-05-16T11:35:55Z'\n123. '2020-05-16T11:36:04Z'\n124. '2020-05-16T11:36:05Z'\n125. '2020-05-16T11:36:10Z'\n126. '2020-05-16T11:36:11Z'\n127. '2020-05-16T11:36:47Z'\n128. '2020-05-16T11:36:57Z'\n129. '2020-05-16T11:37:09Z'\n130. '2020-05-16T11:37:17Z'\n131. '2020-05-16T11:37:18Z'\n132. '2020-05-16T11:37:32Z'\n133. '2020-05-16T11:38:00Z'\n134. '2020-05-16T11:38:02Z'\n135. '2020-05-16T11:38:07Z'\n136. '2020-05-16T11:38:15Z'\n137. '2020-05-16T11:38:20Z'\n138. '2020-05-16T11:38:54Z'\n139. '2020-05-16T11:39:02Z'\n140. '2020-05-16T11:39:14Z'\n141. '2020-05-16T11:39:37Z'\n142. '2020-05-16T11:39:40Z'\n143. '2020-05-16T11:40:01Z'\n144. '2020-05-16T11:40:04Z'\n145. '2020-05-16T11:40:27Z'\n146. '2020-05-16T11:40:46Z'\n147. '2020-05-16T11:41:03Z'\n148. '2020-05-16T11:41:16Z'\n149. '2020-05-16T11:41:28Z'\n150. '2020-05-16T11:41:31Z'\n151. '2020-05-16T11:41:34Z'\n152. '2020-05-16T11:41:57Z'\n153. '2020-05-16T11:42:05Z'\n154. '2020-05-16T11:42:25Z'\n155. '2020-05-16T11:43:18Z'\n156. '2020-05-16T11:43:26Z'\n157. '2020-05-16T11:43:34Z'\n158. '2020-05-16T11:43:57Z'\n159. '2020-05-16T11:44:00Z'\n160. '2020-05-16T11:44:04Z'\n161. '2020-05-16T11:44:14Z'\n162. '2020-05-16T11:44:16Z'\n163. '2020-05-16T11:44:19Z'\n164. '2020-05-16T11:44:30Z'\n165. '2020-05-16T11:44:43Z'\n166. '2020-05-16T11:44:44Z'\n167. '2020-05-16T11:44:53Z'\n168. '2020-05-16T11:45:07Z'\n169. '2020-05-16T11:45:12Z'\n170. '2020-05-16T11:45:19Z'\n171. '2020-05-16T11:45:46Z'\n172. '2020-05-16T11:46:08Z'\n173. '2020-05-16T11:46:18Z'\n174. '2020-05-16T11:46:21Z'\n175. '2020-05-16T11:46:46Z'\n176. '2020-05-16T11:47:05Z'\n177. '2020-05-16T11:47:09Z'\n178. '2020-05-16T11:47:18Z'\n179. '2020-05-16T11:47:28Z'\n180. '2020-05-16T11:47:37Z'\n181. '2020-05-16T11:47:47Z'\n182. '2020-05-16T11:47:59Z'\n183. '2020-05-16T11:48:04Z'\n184. '2020-05-16T11:48:11Z'\n185. '2020-05-16T11:48:30Z'\n186. '2020-05-16T11:48:51Z'\n187. '2020-05-16T11:48:59Z'\n188. '2020-05-16T11:49:17Z'\n189. '2020-05-16T11:49:25Z'\n190. '2020-05-16T11:49:43Z'\n191. '2020-05-16T11:50:17Z'\n192. '2020-05-16T11:50:21Z'\n193. '2020-05-16T11:50:28Z'\n194. '2020-05-16T11:50:45Z'\n195. '2020-05-16T11:50:51Z'\n196. '2020-05-16T11:50:58Z'\n197. '2020-05-16T11:51:11Z'\n198. '2020-05-16T11:51:13Z'\n199. '2020-05-16T11:51:21Z'\n200. '2020-05-16T11:51:23Z'\n201. ⋯\n202. '2020-05-18T04:06:06Z'\n203. '2020-05-18T04:06:10Z'\n204. '2020-05-18T04:06:11Z'\n205. '2020-05-18T04:06:28Z'\n206. '2020-05-18T04:06:40Z'\n207. '2020-05-18T04:06:44Z'\n208. '2020-05-18T04:06:50Z'\n209. '2020-05-18T04:06:55Z'\n210. '2020-05-18T04:07:07Z'\n211. '2020-05-18T04:07:08Z'\n212. '2020-05-18T04:07:12Z'\n213. '2020-05-18T04:07:19Z'\n214. '2020-05-18T04:07:38Z'\n215. '2020-05-18T04:07:40Z'\n216. '2020-05-18T04:08:03Z'\n217. '2020-05-18T04:08:14Z'\n218. '2020-05-18T04:08:18Z'\n219. '2020-05-18T04:08:28Z'\n220. '2020-05-18T04:08:34Z'\n221. '2020-05-18T04:08:40Z'\n222. '2020-05-18T04:09:05Z'\n223. '2020-05-18T04:09:06Z'\n224. '2020-05-18T04:09:13Z'\n225. '2020-05-18T04:09:16Z'\n226. '2020-05-18T04:09:19Z'\n227. '2020-05-18T04:09:25Z'\n228. '2020-05-18T04:09:26Z'\n229. '2020-05-18T04:09:30Z'\n230. '2020-05-18T04:09:36Z'\n231. '2020-05-18T04:09:56Z'\n232. '2020-05-18T04:10:01Z'\n233. '2020-05-18T04:10:10Z'\n234. '2020-05-18T04:10:22Z'\n235. '2020-05-18T04:10:27Z'\n236. '2020-05-18T04:10:32Z'\n237. '2020-05-18T04:10:35Z'\n238. '2020-05-18T04:10:49Z'\n239. '2020-05-18T04:10:50Z'\n240. '2020-05-18T04:11:01Z'\n241. '2020-05-18T04:11:03Z'\n242. '2020-05-18T04:11:06Z'\n243. '2020-05-18T04:11:23Z'\n244. '2020-05-18T04:11:49Z'\n245. '2020-05-18T04:11:59Z'\n246. '2020-05-18T04:12:16Z'\n247. '2020-05-18T04:12:24Z'\n248. '2020-05-18T04:12:53Z'\n249. '2020-05-18T04:13:11Z'\n250. '2020-05-18T04:13:22Z'\n251. '2020-05-18T04:13:31Z'\n252. '2020-05-18T04:13:34Z'\n253. '2020-05-18T04:13:39Z'\n254. '2020-05-18T04:13:57Z'\n255. '2020-05-18T04:14:02Z'\n256. '2020-05-18T04:14:15Z'\n257. '2020-05-18T04:14:19Z'\n258. '2020-05-18T04:14:30Z'\n259. '2020-05-18T04:14:31Z'\n260. '2020-05-18T04:14:33Z'\n261. '2020-05-18T04:14:36Z'\n262. '2020-05-18T04:14:43Z'\n263. '2020-05-18T04:14:47Z'\n264. '2020-05-18T04:15:00Z'\n265. '2020-05-18T04:15:41Z'\n266. '2020-05-18T04:15:57Z'\n267. '2020-05-18T04:16:01Z'\n268. '2020-05-18T04:16:06Z'\n269. '2020-05-18T04:16:29Z'\n270. '2020-05-18T04:16:32Z'\n271. '2020-05-18T04:16:38Z'\n272. '2020-05-18T04:16:41Z'\n273. '2020-05-18T04:16:56Z'\n274. '2020-05-18T04:17:19Z'\n275. '2020-05-18T04:17:25Z'\n276. '2020-05-18T04:17:27Z'\n277. '2020-05-18T04:17:37Z'\n278. '2020-05-18T04:17:40Z'\n279. '2020-05-18T04:17:57Z'\n280. '2020-05-18T04:18:01Z'\n281. '2020-05-18T04:18:03Z'\n282. '2020-05-18T04:18:10Z'\n283. '2020-05-18T04:18:32Z'\n284. '2020-05-18T04:18:33Z'\n285. '2020-05-18T04:18:34Z'\n286. '2020-05-18T04:18:37Z'\n287. '2020-05-18T04:18:52Z'\n288. '2020-05-18T04:18:58Z'\n289. '2020-05-18T04:19:03Z'\n290. '2020-05-18T04:19:07Z'\n291. '2020-05-18T04:19:16Z'\n292. '2020-05-18T04:19:19Z'\n293. '2020-05-18T04:19:22Z'\n294. '2020-05-18T04:19:27Z'\n295. '2020-05-18T04:19:35Z'\n296. '2020-05-18T04:19:39Z'\n297. '2020-05-18T04:19:47Z'\n298. '2020-05-18T04:19:48Z'\n299. '2020-05-18T04:19:49Z'\n300. '2020-05-18T04:20:00Z'\n301. '2020-05-18T04:20:10Z'\n302. '2020-05-18T04:20:17Z'\n303. '2020-05-18T04:20:22Z'\n304. '2020-05-18T04:20:40Z'\n305. '2020-05-18T04:20:43Z'\n306. '2020-05-18T04:21:07Z'\n307. '2020-05-18T04:21:11Z'\n308. '2020-05-18T04:21:16Z'\n309. '2020-05-18T04:21:23Z'\n310. '2020-05-18T04:21:28Z'\n311. '2020-05-18T04:21:33Z'\n312. '2020-05-18T04:21:40Z'\n313. '2020-05-18T04:21:43Z'\n314. '2020-05-18T04:22:05Z'\n315. '2020-05-18T04:22:09Z'\n316. '2020-05-18T04:22:19Z'\n317. '2020-05-18T04:22:33Z'\n318. '2020-05-18T04:22:40Z'\n319. '2020-05-18T04:22:58Z'\n320. '2020-05-18T04:23:00Z'\n321. '2020-05-18T04:23:02Z'\n322. '2020-05-18T04:23:27Z'\n323. '2020-05-18T04:23:45Z'\n324. '2020-05-18T04:23:47Z'\n325. '2020-05-18T04:23:50Z'\n326. '2020-05-18T04:24:00Z'\n327. '2020-05-18T04:24:01Z'\n328. '2020-05-18T04:24:06Z'\n329. '2020-05-18T04:24:08Z'\n330. '2020-05-18T04:24:12Z'\n331. '2020-05-18T04:24:27Z'\n332. '2020-05-18T04:24:35Z'\n333. '2020-05-18T04:24:48Z'\n334. '2020-05-18T04:25:31Z'\n335. '2020-05-18T04:25:37Z'\n336. '2020-05-18T04:25:40Z'\n337. '2020-05-18T04:25:48Z'\n338. '2020-05-18T04:25:56Z'\n339. '2020-05-18T04:25:58Z'\n340. '2020-05-18T04:25:59Z'\n341. '2020-05-18T04:26:35Z'\n342. '2020-05-18T04:26:50Z'\n343. '2020-05-18T04:27:15Z'\n344. '2020-05-18T04:27:18Z'\n345. '2020-05-18T04:27:40Z'\n346. '2020-05-18T04:28:09Z'\n347. '2020-05-18T04:28:18Z'\n348. '2020-05-18T04:28:43Z'\n349. '2020-05-18T04:28:51Z'\n350. '2020-05-18T04:29:11Z'\n351. '2020-05-18T04:29:17Z'\n352. '2020-05-18T04:29:24Z'\n353. '2020-05-18T04:29:27Z'\n354. '2020-05-18T04:29:32Z'\n355. '2020-05-18T04:30:00Z'\n356. '2020-05-18T04:30:02Z'\n357. '2020-05-18T04:30:03Z'\n358. '2020-05-18T04:30:14Z'\n359. '2020-05-18T04:30:18Z'\n360. '2020-05-18T04:30:25Z'\n361. '2020-05-18T04:30:27Z'\n362. '2020-05-18T04:30:28Z'\n363. '2020-05-18T04:30:41Z'\n364. '2020-05-18T04:30:46Z'\n365. '2020-05-18T04:30:57Z'\n366. '2020-05-18T04:31:05Z'\n367. '2020-05-18T04:31:25Z'\n368. '2020-05-18T04:31:34Z'\n369. '2020-05-18T04:31:57Z'\n370. '2020-05-18T04:32:06Z'\n371. '2020-05-18T04:32:08Z'\n372. '2020-05-18T04:32:16Z'\n373. '2020-05-18T04:32:32Z'\n374. '2020-05-18T04:32:35Z'\n375. '2020-05-18T04:32:45Z'\n376. '2020-05-18T04:33:05Z'\n377. '2020-05-18T04:33:22Z'\n378. '2020-05-18T04:33:37Z'\n379. '2020-05-18T04:33:40Z'\n380. '2020-05-18T04:33:50Z'\n381. '2020-05-18T04:33:57Z'\n382. '2020-05-18T04:34:14Z'\n383. '2020-05-18T04:34:16Z'\n384. '2020-05-18T04:34:17Z'\n385. '2020-05-18T04:34:18Z'\n386. '2020-05-18T04:34:48Z'\n387. '2020-05-18T04:34:55Z'\n388. '2020-05-18T04:34:58Z'\n389. '2020-05-18T04:35:13Z'\n390. '2020-05-18T04:35:20Z'\n391. '2020-05-18T04:35:28Z'\n392. '2020-05-18T04:35:41Z'\n393. '2020-05-18T04:35:45Z'\n394. '2020-05-18T04:35:49Z'\n395. '2020-05-18T04:35:54Z'\n396. '2020-05-18T04:36:00Z'\n397. '2020-05-18T04:36:02Z'\n398. '2020-05-18T04:36:10Z'\n399. '2020-05-18T04:36:16Z'\n400. '2020-05-18T04:36:17Z'\n401. '2020-05-18T04:36:31Z'\n\n\n",
            "text/html": [
              "<style>\n",
              ".list-inline {list-style: none; margin:0; padding: 0}\n",
              ".list-inline>li {display: inline-block}\n",
              ".list-inline>li:not(:last-child)::after {content: \"\\00b7\"; padding: 0 .5ex}\n",
              "</style>\n",
              "<ol class=list-inline><li>2020-05-18T04:36:31Z</li><li>2020-05-18T04:36:17Z</li><li>2020-05-18T04:32:08Z</li><li>2020-05-18T03:04:49Z</li><li>2020-05-17T23:28:26Z</li><li>2020-05-18T01:47:00Z</li><li>2020-05-18T03:14:57Z</li><li>2020-05-17T21:34:09Z</li><li>2020-05-18T04:36:16Z</li><li>2020-05-17T16:15:56Z</li></ol>\n",
              "\n",
              "<details>\n",
              "\t<summary style=display:list-item;cursor:pointer>\n",
              "\t\t<strong>Levels</strong>:\n",
              "\t</summary>\n",
              "\t<style>\n",
              "\t.list-inline {list-style: none; margin:0; padding: 0}\n",
              "\t.list-inline>li {display: inline-block}\n",
              "\t.list-inline>li:not(:last-child)::after {content: \"\\00b7\"; padding: 0 .5ex}\n",
              "\t</style>\n",
              "\t<ol class=list-inline><li>'2020-05-16T11:04:42Z'</li><li>'2020-05-16T11:04:52Z'</li><li>'2020-05-16T11:04:54Z'</li><li>'2020-05-16T11:04:58Z'</li><li>'2020-05-16T11:04:59Z'</li><li>'2020-05-16T11:05:48Z'</li><li>'2020-05-16T11:05:51Z'</li><li>'2020-05-16T11:06:00Z'</li><li>'2020-05-16T11:06:12Z'</li><li>'2020-05-16T11:06:14Z'</li><li>'2020-05-16T11:06:17Z'</li><li>'2020-05-16T11:06:19Z'</li><li>'2020-05-16T11:06:21Z'</li><li>'2020-05-16T11:06:34Z'</li><li>'2020-05-16T11:06:38Z'</li><li>'2020-05-16T11:06:50Z'</li><li>'2020-05-16T11:07:30Z'</li><li>'2020-05-16T11:08:03Z'</li><li>'2020-05-16T11:08:07Z'</li><li>'2020-05-16T11:08:21Z'</li><li>'2020-05-16T11:09:11Z'</li><li>'2020-05-16T11:09:14Z'</li><li>'2020-05-16T11:09:16Z'</li><li>'2020-05-16T11:10:01Z'</li><li>'2020-05-16T11:10:07Z'</li><li>'2020-05-16T11:10:21Z'</li><li>'2020-05-16T11:10:24Z'</li><li>'2020-05-16T11:10:45Z'</li><li>'2020-05-16T11:10:48Z'</li><li>'2020-05-16T11:10:50Z'</li><li>'2020-05-16T11:11:09Z'</li><li>'2020-05-16T11:11:49Z'</li><li>'2020-05-16T11:11:56Z'</li><li>'2020-05-16T11:12:39Z'</li><li>'2020-05-16T11:12:52Z'</li><li>'2020-05-16T11:12:54Z'</li><li>'2020-05-16T11:13:03Z'</li><li>'2020-05-16T11:13:16Z'</li><li>'2020-05-16T11:13:30Z'</li><li>'2020-05-16T11:14:06Z'</li><li>'2020-05-16T11:14:35Z'</li><li>'2020-05-16T11:14:38Z'</li><li>'2020-05-16T11:14:39Z'</li><li>'2020-05-16T11:14:47Z'</li><li>'2020-05-16T11:14:52Z'</li><li>'2020-05-16T11:15:29Z'</li><li>'2020-05-16T11:15:39Z'</li><li>'2020-05-16T11:15:56Z'</li><li>'2020-05-16T11:15:58Z'</li><li>'2020-05-16T11:16:18Z'</li><li>'2020-05-16T11:16:21Z'</li><li>'2020-05-16T11:16:36Z'</li><li>'2020-05-16T11:16:47Z'</li><li>'2020-05-16T11:17:10Z'</li><li>'2020-05-16T11:17:35Z'</li><li>'2020-05-16T11:17:38Z'</li><li>'2020-05-16T11:17:41Z'</li><li>'2020-05-16T11:17:44Z'</li><li>'2020-05-16T11:17:48Z'</li><li>'2020-05-16T11:18:50Z'</li><li>'2020-05-16T11:18:54Z'</li><li>'2020-05-16T11:18:55Z'</li><li>'2020-05-16T11:19:23Z'</li><li>'2020-05-16T11:19:42Z'</li><li>'2020-05-16T11:19:45Z'</li><li>'2020-05-16T11:19:59Z'</li><li>'2020-05-16T11:20:07Z'</li><li>'2020-05-16T11:20:18Z'</li><li>'2020-05-16T11:20:31Z'</li><li>'2020-05-16T11:20:52Z'</li><li>'2020-05-16T11:21:13Z'</li><li>'2020-05-16T11:21:23Z'</li><li>'2020-05-16T11:21:59Z'</li><li>'2020-05-16T11:22:10Z'</li><li>'2020-05-16T11:22:51Z'</li><li>'2020-05-16T11:23:43Z'</li><li>'2020-05-16T11:23:49Z'</li><li>'2020-05-16T11:23:50Z'</li><li>'2020-05-16T11:23:55Z'</li><li>'2020-05-16T11:24:17Z'</li><li>'2020-05-16T11:24:26Z'</li><li>'2020-05-16T11:24:59Z'</li><li>'2020-05-16T11:25:04Z'</li><li>'2020-05-16T11:25:11Z'</li><li>'2020-05-16T11:25:28Z'</li><li>'2020-05-16T11:26:27Z'</li><li>'2020-05-16T11:26:40Z'</li><li>'2020-05-16T11:26:48Z'</li><li>'2020-05-16T11:27:03Z'</li><li>'2020-05-16T11:27:40Z'</li><li>'2020-05-16T11:27:49Z'</li><li>'2020-05-16T11:28:30Z'</li><li>'2020-05-16T11:28:52Z'</li><li>'2020-05-16T11:29:22Z'</li><li>'2020-05-16T11:29:34Z'</li><li>'2020-05-16T11:29:40Z'</li><li>'2020-05-16T11:29:48Z'</li><li>'2020-05-16T11:29:56Z'</li><li>'2020-05-16T11:30:00Z'</li><li>'2020-05-16T11:30:08Z'</li><li>'2020-05-16T11:30:21Z'</li><li>'2020-05-16T11:30:29Z'</li><li>'2020-05-16T11:30:36Z'</li><li>'2020-05-16T11:30:40Z'</li><li>'2020-05-16T11:30:41Z'</li><li>'2020-05-16T11:31:04Z'</li><li>'2020-05-16T11:31:14Z'</li><li>'2020-05-16T11:31:16Z'</li><li>'2020-05-16T11:31:41Z'</li><li>'2020-05-16T11:31:51Z'</li><li>'2020-05-16T11:31:59Z'</li><li>'2020-05-16T11:32:33Z'</li><li>'2020-05-16T11:32:41Z'</li><li>'2020-05-16T11:32:50Z'</li><li>'2020-05-16T11:33:20Z'</li><li>'2020-05-16T11:33:23Z'</li><li>'2020-05-16T11:33:47Z'</li><li>'2020-05-16T11:34:13Z'</li><li>'2020-05-16T11:35:03Z'</li><li>'2020-05-16T11:35:15Z'</li><li>'2020-05-16T11:35:38Z'</li><li>'2020-05-16T11:35:55Z'</li><li>'2020-05-16T11:36:04Z'</li><li>'2020-05-16T11:36:05Z'</li><li>'2020-05-16T11:36:10Z'</li><li>'2020-05-16T11:36:11Z'</li><li>'2020-05-16T11:36:47Z'</li><li>'2020-05-16T11:36:57Z'</li><li>'2020-05-16T11:37:09Z'</li><li>'2020-05-16T11:37:17Z'</li><li>'2020-05-16T11:37:18Z'</li><li>'2020-05-16T11:37:32Z'</li><li>'2020-05-16T11:38:00Z'</li><li>'2020-05-16T11:38:02Z'</li><li>'2020-05-16T11:38:07Z'</li><li>'2020-05-16T11:38:15Z'</li><li>'2020-05-16T11:38:20Z'</li><li>'2020-05-16T11:38:54Z'</li><li>'2020-05-16T11:39:02Z'</li><li>'2020-05-16T11:39:14Z'</li><li>'2020-05-16T11:39:37Z'</li><li>'2020-05-16T11:39:40Z'</li><li>'2020-05-16T11:40:01Z'</li><li>'2020-05-16T11:40:04Z'</li><li>'2020-05-16T11:40:27Z'</li><li>'2020-05-16T11:40:46Z'</li><li>'2020-05-16T11:41:03Z'</li><li>'2020-05-16T11:41:16Z'</li><li>'2020-05-16T11:41:28Z'</li><li>'2020-05-16T11:41:31Z'</li><li>'2020-05-16T11:41:34Z'</li><li>'2020-05-16T11:41:57Z'</li><li>'2020-05-16T11:42:05Z'</li><li>'2020-05-16T11:42:25Z'</li><li>'2020-05-16T11:43:18Z'</li><li>'2020-05-16T11:43:26Z'</li><li>'2020-05-16T11:43:34Z'</li><li>'2020-05-16T11:43:57Z'</li><li>'2020-05-16T11:44:00Z'</li><li>'2020-05-16T11:44:04Z'</li><li>'2020-05-16T11:44:14Z'</li><li>'2020-05-16T11:44:16Z'</li><li>'2020-05-16T11:44:19Z'</li><li>'2020-05-16T11:44:30Z'</li><li>'2020-05-16T11:44:43Z'</li><li>'2020-05-16T11:44:44Z'</li><li>'2020-05-16T11:44:53Z'</li><li>'2020-05-16T11:45:07Z'</li><li>'2020-05-16T11:45:12Z'</li><li>'2020-05-16T11:45:19Z'</li><li>'2020-05-16T11:45:46Z'</li><li>'2020-05-16T11:46:08Z'</li><li>'2020-05-16T11:46:18Z'</li><li>'2020-05-16T11:46:21Z'</li><li>'2020-05-16T11:46:46Z'</li><li>'2020-05-16T11:47:05Z'</li><li>'2020-05-16T11:47:09Z'</li><li>'2020-05-16T11:47:18Z'</li><li>'2020-05-16T11:47:28Z'</li><li>'2020-05-16T11:47:37Z'</li><li>'2020-05-16T11:47:47Z'</li><li>'2020-05-16T11:47:59Z'</li><li>'2020-05-16T11:48:04Z'</li><li>'2020-05-16T11:48:11Z'</li><li>'2020-05-16T11:48:30Z'</li><li>'2020-05-16T11:48:51Z'</li><li>'2020-05-16T11:48:59Z'</li><li>'2020-05-16T11:49:17Z'</li><li>'2020-05-16T11:49:25Z'</li><li>'2020-05-16T11:49:43Z'</li><li>'2020-05-16T11:50:17Z'</li><li>'2020-05-16T11:50:21Z'</li><li>'2020-05-16T11:50:28Z'</li><li>'2020-05-16T11:50:45Z'</li><li>'2020-05-16T11:50:51Z'</li><li>'2020-05-16T11:50:58Z'</li><li>'2020-05-16T11:51:11Z'</li><li>'2020-05-16T11:51:13Z'</li><li>'2020-05-16T11:51:21Z'</li><li>'2020-05-16T11:51:23Z'</li><li>⋯</li><li>'2020-05-18T04:06:06Z'</li><li>'2020-05-18T04:06:10Z'</li><li>'2020-05-18T04:06:11Z'</li><li>'2020-05-18T04:06:28Z'</li><li>'2020-05-18T04:06:40Z'</li><li>'2020-05-18T04:06:44Z'</li><li>'2020-05-18T04:06:50Z'</li><li>'2020-05-18T04:06:55Z'</li><li>'2020-05-18T04:07:07Z'</li><li>'2020-05-18T04:07:08Z'</li><li>'2020-05-18T04:07:12Z'</li><li>'2020-05-18T04:07:19Z'</li><li>'2020-05-18T04:07:38Z'</li><li>'2020-05-18T04:07:40Z'</li><li>'2020-05-18T04:08:03Z'</li><li>'2020-05-18T04:08:14Z'</li><li>'2020-05-18T04:08:18Z'</li><li>'2020-05-18T04:08:28Z'</li><li>'2020-05-18T04:08:34Z'</li><li>'2020-05-18T04:08:40Z'</li><li>'2020-05-18T04:09:05Z'</li><li>'2020-05-18T04:09:06Z'</li><li>'2020-05-18T04:09:13Z'</li><li>'2020-05-18T04:09:16Z'</li><li>'2020-05-18T04:09:19Z'</li><li>'2020-05-18T04:09:25Z'</li><li>'2020-05-18T04:09:26Z'</li><li>'2020-05-18T04:09:30Z'</li><li>'2020-05-18T04:09:36Z'</li><li>'2020-05-18T04:09:56Z'</li><li>'2020-05-18T04:10:01Z'</li><li>'2020-05-18T04:10:10Z'</li><li>'2020-05-18T04:10:22Z'</li><li>'2020-05-18T04:10:27Z'</li><li>'2020-05-18T04:10:32Z'</li><li>'2020-05-18T04:10:35Z'</li><li>'2020-05-18T04:10:49Z'</li><li>'2020-05-18T04:10:50Z'</li><li>'2020-05-18T04:11:01Z'</li><li>'2020-05-18T04:11:03Z'</li><li>'2020-05-18T04:11:06Z'</li><li>'2020-05-18T04:11:23Z'</li><li>'2020-05-18T04:11:49Z'</li><li>'2020-05-18T04:11:59Z'</li><li>'2020-05-18T04:12:16Z'</li><li>'2020-05-18T04:12:24Z'</li><li>'2020-05-18T04:12:53Z'</li><li>'2020-05-18T04:13:11Z'</li><li>'2020-05-18T04:13:22Z'</li><li>'2020-05-18T04:13:31Z'</li><li>'2020-05-18T04:13:34Z'</li><li>'2020-05-18T04:13:39Z'</li><li>'2020-05-18T04:13:57Z'</li><li>'2020-05-18T04:14:02Z'</li><li>'2020-05-18T04:14:15Z'</li><li>'2020-05-18T04:14:19Z'</li><li>'2020-05-18T04:14:30Z'</li><li>'2020-05-18T04:14:31Z'</li><li>'2020-05-18T04:14:33Z'</li><li>'2020-05-18T04:14:36Z'</li><li>'2020-05-18T04:14:43Z'</li><li>'2020-05-18T04:14:47Z'</li><li>'2020-05-18T04:15:00Z'</li><li>'2020-05-18T04:15:41Z'</li><li>'2020-05-18T04:15:57Z'</li><li>'2020-05-18T04:16:01Z'</li><li>'2020-05-18T04:16:06Z'</li><li>'2020-05-18T04:16:29Z'</li><li>'2020-05-18T04:16:32Z'</li><li>'2020-05-18T04:16:38Z'</li><li>'2020-05-18T04:16:41Z'</li><li>'2020-05-18T04:16:56Z'</li><li>'2020-05-18T04:17:19Z'</li><li>'2020-05-18T04:17:25Z'</li><li>'2020-05-18T04:17:27Z'</li><li>'2020-05-18T04:17:37Z'</li><li>'2020-05-18T04:17:40Z'</li><li>'2020-05-18T04:17:57Z'</li><li>'2020-05-18T04:18:01Z'</li><li>'2020-05-18T04:18:03Z'</li><li>'2020-05-18T04:18:10Z'</li><li>'2020-05-18T04:18:32Z'</li><li>'2020-05-18T04:18:33Z'</li><li>'2020-05-18T04:18:34Z'</li><li>'2020-05-18T04:18:37Z'</li><li>'2020-05-18T04:18:52Z'</li><li>'2020-05-18T04:18:58Z'</li><li>'2020-05-18T04:19:03Z'</li><li>'2020-05-18T04:19:07Z'</li><li>'2020-05-18T04:19:16Z'</li><li>'2020-05-18T04:19:19Z'</li><li>'2020-05-18T04:19:22Z'</li><li>'2020-05-18T04:19:27Z'</li><li>'2020-05-18T04:19:35Z'</li><li>'2020-05-18T04:19:39Z'</li><li>'2020-05-18T04:19:47Z'</li><li>'2020-05-18T04:19:48Z'</li><li>'2020-05-18T04:19:49Z'</li><li>'2020-05-18T04:20:00Z'</li><li>'2020-05-18T04:20:10Z'</li><li>'2020-05-18T04:20:17Z'</li><li>'2020-05-18T04:20:22Z'</li><li>'2020-05-18T04:20:40Z'</li><li>'2020-05-18T04:20:43Z'</li><li>'2020-05-18T04:21:07Z'</li><li>'2020-05-18T04:21:11Z'</li><li>'2020-05-18T04:21:16Z'</li><li>'2020-05-18T04:21:23Z'</li><li>'2020-05-18T04:21:28Z'</li><li>'2020-05-18T04:21:33Z'</li><li>'2020-05-18T04:21:40Z'</li><li>'2020-05-18T04:21:43Z'</li><li>'2020-05-18T04:22:05Z'</li><li>'2020-05-18T04:22:09Z'</li><li>'2020-05-18T04:22:19Z'</li><li>'2020-05-18T04:22:33Z'</li><li>'2020-05-18T04:22:40Z'</li><li>'2020-05-18T04:22:58Z'</li><li>'2020-05-18T04:23:00Z'</li><li>'2020-05-18T04:23:02Z'</li><li>'2020-05-18T04:23:27Z'</li><li>'2020-05-18T04:23:45Z'</li><li>'2020-05-18T04:23:47Z'</li><li>'2020-05-18T04:23:50Z'</li><li>'2020-05-18T04:24:00Z'</li><li>'2020-05-18T04:24:01Z'</li><li>'2020-05-18T04:24:06Z'</li><li>'2020-05-18T04:24:08Z'</li><li>'2020-05-18T04:24:12Z'</li><li>'2020-05-18T04:24:27Z'</li><li>'2020-05-18T04:24:35Z'</li><li>'2020-05-18T04:24:48Z'</li><li>'2020-05-18T04:25:31Z'</li><li>'2020-05-18T04:25:37Z'</li><li>'2020-05-18T04:25:40Z'</li><li>'2020-05-18T04:25:48Z'</li><li>'2020-05-18T04:25:56Z'</li><li>'2020-05-18T04:25:58Z'</li><li>'2020-05-18T04:25:59Z'</li><li>'2020-05-18T04:26:35Z'</li><li>'2020-05-18T04:26:50Z'</li><li>'2020-05-18T04:27:15Z'</li><li>'2020-05-18T04:27:18Z'</li><li>'2020-05-18T04:27:40Z'</li><li>'2020-05-18T04:28:09Z'</li><li>'2020-05-18T04:28:18Z'</li><li>'2020-05-18T04:28:43Z'</li><li>'2020-05-18T04:28:51Z'</li><li>'2020-05-18T04:29:11Z'</li><li>'2020-05-18T04:29:17Z'</li><li>'2020-05-18T04:29:24Z'</li><li>'2020-05-18T04:29:27Z'</li><li>'2020-05-18T04:29:32Z'</li><li>'2020-05-18T04:30:00Z'</li><li>'2020-05-18T04:30:02Z'</li><li>'2020-05-18T04:30:03Z'</li><li>'2020-05-18T04:30:14Z'</li><li>'2020-05-18T04:30:18Z'</li><li>'2020-05-18T04:30:25Z'</li><li>'2020-05-18T04:30:27Z'</li><li>'2020-05-18T04:30:28Z'</li><li>'2020-05-18T04:30:41Z'</li><li>'2020-05-18T04:30:46Z'</li><li>'2020-05-18T04:30:57Z'</li><li>'2020-05-18T04:31:05Z'</li><li>'2020-05-18T04:31:25Z'</li><li>'2020-05-18T04:31:34Z'</li><li>'2020-05-18T04:31:57Z'</li><li>'2020-05-18T04:32:06Z'</li><li>'2020-05-18T04:32:08Z'</li><li>'2020-05-18T04:32:16Z'</li><li>'2020-05-18T04:32:32Z'</li><li>'2020-05-18T04:32:35Z'</li><li>'2020-05-18T04:32:45Z'</li><li>'2020-05-18T04:33:05Z'</li><li>'2020-05-18T04:33:22Z'</li><li>'2020-05-18T04:33:37Z'</li><li>'2020-05-18T04:33:40Z'</li><li>'2020-05-18T04:33:50Z'</li><li>'2020-05-18T04:33:57Z'</li><li>'2020-05-18T04:34:14Z'</li><li>'2020-05-18T04:34:16Z'</li><li>'2020-05-18T04:34:17Z'</li><li>'2020-05-18T04:34:18Z'</li><li>'2020-05-18T04:34:48Z'</li><li>'2020-05-18T04:34:55Z'</li><li>'2020-05-18T04:34:58Z'</li><li>'2020-05-18T04:35:13Z'</li><li>'2020-05-18T04:35:20Z'</li><li>'2020-05-18T04:35:28Z'</li><li>'2020-05-18T04:35:41Z'</li><li>'2020-05-18T04:35:45Z'</li><li>'2020-05-18T04:35:49Z'</li><li>'2020-05-18T04:35:54Z'</li><li>'2020-05-18T04:36:00Z'</li><li>'2020-05-18T04:36:02Z'</li><li>'2020-05-18T04:36:10Z'</li><li>'2020-05-18T04:36:16Z'</li><li>'2020-05-18T04:36:17Z'</li><li>'2020-05-18T04:36:31Z'</li></ol>\n",
              "</details>"
            ]
          },
          "metadata": {
            "tags": []
          }
        }
      ]
    },
    {
      "cell_type": "markdown",
      "metadata": {
        "id": "6HiqBPtu0TBy",
        "colab_type": "text"
      },
      "source": [
        "We see that the `created_at` column has the timestamp of created time of tweets in the output.\n",
        "\n",
        "Change the date format so it will be suppored by R for time series analysis."
      ]
    },
    {
      "cell_type": "code",
      "metadata": {
        "id": "xW9v3X7eqtHp",
        "colab_type": "code",
        "colab": {
          "base_uri": "https://localhost:8080/",
          "height": 104
        },
        "outputId": "58979506-2cdd-43db-bb70-68e423096105"
      },
      "source": [
        "# Update dates in `created_at` column with the new date format\n",
        "tesladf$created_at <- as.POSIXct(tesladf$created_at, format = \"%Y-%m-%dT%H:%M:%SZ\", tz = \"GMT\")\n",
        "\n",
        "# View the `created_at` column again\n",
        "head(tesladf$created_at, 10)"
      ],
      "execution_count": null,
      "outputs": [
        {
          "output_type": "display_data",
          "data": {
            "text/plain": [
              " [1] \"2020-05-18 04:36:31 GMT\" \"2020-05-18 04:36:17 GMT\"\n",
              " [3] \"2020-05-18 04:32:08 GMT\" \"2020-05-18 03:04:49 GMT\"\n",
              " [5] \"2020-05-17 23:28:26 GMT\" \"2020-05-18 01:47:00 GMT\"\n",
              " [7] \"2020-05-18 03:14:57 GMT\" \"2020-05-17 21:34:09 GMT\"\n",
              " [9] \"2020-05-18 04:36:16 GMT\" \"2020-05-17 16:15:56 GMT\""
            ]
          },
          "metadata": {
            "tags": []
          }
        }
      ]
    },
    {
      "cell_type": "markdown",
      "metadata": {
        "id": "keHs7Yw81iEQ",
        "colab_type": "text"
      },
      "source": [
        "A time series plot is used to visualize the tweet frequencies over time. \n",
        "\n",
        "To create a time series plot, we use `ts_plot()` from the `rtweet` library which takes 3 arguments:\n",
        "the tweets data frame, the by argument to specify the time interval, and the color of the line plot."
      ]
    },
    {
      "cell_type": "code",
      "metadata": {
        "id": "pb4y2ADPYB6w",
        "colab_type": "code",
        "colab": {
          "base_uri": "https://localhost:8080/",
          "height": 437
        },
        "outputId": "c38c892e-c37f-40bb-cbf4-da0178e9ebaf"
      },
      "source": [
        "# Create a time series plot\n",
        "ts_plot(tesladf, by = \"hours\", color = \"blue\")"
      ],
      "execution_count": null,
      "outputs": [
        {
          "output_type": "display_data",
          "data": {
            "image/png": "[encoded data removed]",
            "text/plain": [
              "plot without title"
            ]
          },
          "metadata": {
            "tags": [],
            "image/png": {
              "width": 420,
              "height": 420
            },
            "text/plain": {
              "width": 420,
              "height": 420
            }
          }
        }
      ]
    },
    {
      "cell_type": "markdown",
      "metadata": {
        "id": "JXoX50e1rTVk",
        "colab_type": "text"
      },
      "source": [
        "We see tweets for Tesla fluctuating from high to low and then reaching a high again between 17 and 18 May after a big dip on 17 May. The high number of tweets could be related to an event or topic about Tesla's products."
      ]
    },
    {
      "cell_type": "markdown",
      "metadata": {
        "id": "jVMJ5SuVgGjT",
        "colab_type": "text"
      },
      "source": [
        "#### **3b) Compare brand salience for two brands using time series plots and tweet frequencies**\n",
        "\n",
        "The volume of tweets posted for a product is a strong indicator of its brand salience. \n",
        "\n",
        "Now, lets compare the brand salience of Tesla and Camry using time series objects and plots.\n",
        "\n",
        "##### # Extract tweets for Toyota using `search_tweets()`\n",
        "\n",
        "tweets_toyo = search_tweets(\"toyota\", n = 18000, lang = \"en\",  include_rts = FALSE)\n",
        "\n",
        "fwrite(tweets_toyo, file = \"toyotadf.csv\")\n"
      ]
    },
    {
      "cell_type": "markdown",
      "metadata": {
        "id": "3ODHac8N4v__",
        "colab_type": "text"
      },
      "source": [
        "Import the pre-saved CSV file with extracted tweets data on `toyota`"
      ]
    },
    {
      "cell_type": "code",
      "metadata": {
        "id": "OijgNh-ngcj-",
        "colab_type": "code",
        "colab": {}
      },
      "source": [
        "# Import extracted tweets in CSV format into a dataframe\n",
        "toyotadf = read.csv(\"https://github.com/datacamp/Brand-Analysis-using-Social-Media-Data-in-R-Live-Training/blob/master/data/toyotadf.csv?raw=true\")\n"
      ],
      "execution_count": null,
      "outputs": []
    },
    {
      "cell_type": "code",
      "metadata": {
        "id": "di5xnDnmnRfj",
        "colab_type": "code",
        "colab": {}
      },
      "source": [
        "# Explore the tweet dataframe for toyota\n",
        "dim(toyotadf)\n",
        "head(toyotadf)"
      ],
      "execution_count": null,
      "outputs": []
    },
    {
      "cell_type": "markdown",
      "metadata": {
        "id": "qlUB_wol44Nb",
        "colab_type": "text"
      },
      "source": [
        "We can see the extracted tweets on `toyota` and the `created_at` column has the timestamp.\n",
        "\n",
        "Change the date format for Toyota similar to what we did with Tesla's dataframe."
      ]
    },
    {
      "cell_type": "code",
      "metadata": {
        "id": "ENRXp4ATshHc",
        "colab_type": "code",
        "colab": {
          "base_uri": "https://localhost:8080/",
          "height": 104
        },
        "outputId": "0986f0d6-e255-4146-b428-8ceee9fa6709"
      },
      "source": [
        "# Update dates in `created_at` column with the new date format\n",
        "toyotadf$created_at <- as.POSIXct(toyotadf$created_at, format = \"%Y-%m-%dT%H:%M:%SZ\", tz = \"GMT\")\n",
        "\n",
        "# View the `created_at` column again\n",
        "head(toyotadf$created_at, 10)"
      ],
      "execution_count": null,
      "outputs": [
        {
          "output_type": "display_data",
          "data": {
            "text/plain": [
              " [1] \"2020-05-18 05:09:56 GMT\" \"2020-05-18 05:08:31 GMT\"\n",
              " [3] \"2020-05-13 09:53:36 GMT\" \"2020-05-18 05:08:04 GMT\"\n",
              " [5] \"2020-05-18 05:07:59 GMT\" \"2020-05-17 19:34:43 GMT\"\n",
              " [7] \"2020-05-18 05:07:49 GMT\" \"2020-05-13 09:02:07 GMT\"\n",
              " [9] \"2020-05-13 09:18:42 GMT\" \"2020-05-18 05:07:31 GMT\""
            ]
          },
          "metadata": {
            "tags": []
          }
        }
      ]
    },
    {
      "cell_type": "markdown",
      "metadata": {
        "id": "cPFGvKo1aY1s",
        "colab_type": "text"
      },
      "source": [
        "\n",
        "A time series object contains the aggregated frequency of tweets over a specified time interval. Creating time series objects is the first step before visualizing tweet frequencies for comparison. \n",
        "\n",
        "We create time series object for Tesla using the `ts_data()` function. The output from this function has two columns comprising time and tweet frequencies.\n"
      ]
    },
    {
      "cell_type": "code",
      "metadata": {
        "id": "bLl72Zdtp00q",
        "colab_type": "code",
        "colab": {
          "base_uri": "https://localhost:8080/",
          "height": 200
        },
        "outputId": "34a8b3f0-15ad-4e7c-f1b6-ebe30cf04275"
      },
      "source": [
        "# Create a time series object for Tesla at hourly intervals\n",
        "tesla_ts <- ts_data(tesladf, by ='hours')\n",
        "\n",
        "# View the time series object\n",
        "head(tesla_ts)"
      ],
      "execution_count": null,
      "outputs": [
        {
          "output_type": "display_data",
          "data": {
            "text/plain": [
              "  time                n  \n",
              "1 2020-05-16 11:00:00 243\n",
              "2 2020-05-16 12:00:00 331\n",
              "3 2020-05-16 13:00:00 442\n",
              "4 2020-05-16 14:00:00 499\n",
              "5 2020-05-16 15:00:00 544\n",
              "6 2020-05-16 16:00:00 570"
            ],
            "text/latex": "A tibble: 6 × 2\n\\begin{tabular}{ll}\n time & n\\\\\n <dttm> & <int>\\\\\n\\hline\n\t 2020-05-16 11:00:00 & 243\\\\\n\t 2020-05-16 12:00:00 & 331\\\\\n\t 2020-05-16 13:00:00 & 442\\\\\n\t 2020-05-16 14:00:00 & 499\\\\\n\t 2020-05-16 15:00:00 & 544\\\\\n\t 2020-05-16 16:00:00 & 570\\\\\n\\end{tabular}\n",
            "text/markdown": "\nA tibble: 6 × 2\n\n| time &lt;dttm&gt; | n &lt;int&gt; |\n|---|---|\n| 2020-05-16 11:00:00 | 243 |\n| 2020-05-16 12:00:00 | 331 |\n| 2020-05-16 13:00:00 | 442 |\n| 2020-05-16 14:00:00 | 499 |\n| 2020-05-16 15:00:00 | 544 |\n| 2020-05-16 16:00:00 | 570 |\n\n",
            "text/html": [
              "<table>\n",
              "<caption>A tibble: 6 × 2</caption>\n",
              "<thead>\n",
              "\t<tr><th scope=col>time</th><th scope=col>n</th></tr>\n",
              "\t<tr><th scope=col>&lt;dttm&gt;</th><th scope=col>&lt;int&gt;</th></tr>\n",
              "</thead>\n",
              "<tbody>\n",
              "\t<tr><td>2020-05-16 11:00:00</td><td>243</td></tr>\n",
              "\t<tr><td>2020-05-16 12:00:00</td><td>331</td></tr>\n",
              "\t<tr><td>2020-05-16 13:00:00</td><td>442</td></tr>\n",
              "\t<tr><td>2020-05-16 14:00:00</td><td>499</td></tr>\n",
              "\t<tr><td>2020-05-16 15:00:00</td><td>544</td></tr>\n",
              "\t<tr><td>2020-05-16 16:00:00</td><td>570</td></tr>\n",
              "</tbody>\n",
              "</table>\n"
            ]
          },
          "metadata": {
            "tags": []
          }
        }
      ]
    },
    {
      "cell_type": "code",
      "metadata": {
        "id": "95lZbmLHp7YR",
        "colab_type": "code",
        "colab": {
          "base_uri": "https://localhost:8080/",
          "height": 200
        },
        "outputId": "29e80ea6-0dbd-4a79-ac8f-5aae36e5b28e"
      },
      "source": [
        "# Rename the two columns in the time series object\n",
        "names(tesla_ts) <- c(\"time\", \"tesla_n\")\n",
        "\n",
        "# View the output\n",
        "head(tesla_ts)"
      ],
      "execution_count": null,
      "outputs": [
        {
          "output_type": "display_data",
          "data": {
            "text/plain": [
              "  time                tesla_n\n",
              "1 2020-05-16 11:00:00 243    \n",
              "2 2020-05-16 12:00:00 331    \n",
              "3 2020-05-16 13:00:00 442    \n",
              "4 2020-05-16 14:00:00 499    \n",
              "5 2020-05-16 15:00:00 544    \n",
              "6 2020-05-16 16:00:00 570    "
            ],
            "text/latex": "A tibble: 6 × 2\n\\begin{tabular}{ll}\n time & tesla\\_n\\\\\n <dttm> & <int>\\\\\n\\hline\n\t 2020-05-16 11:00:00 & 243\\\\\n\t 2020-05-16 12:00:00 & 331\\\\\n\t 2020-05-16 13:00:00 & 442\\\\\n\t 2020-05-16 14:00:00 & 499\\\\\n\t 2020-05-16 15:00:00 & 544\\\\\n\t 2020-05-16 16:00:00 & 570\\\\\n\\end{tabular}\n",
            "text/markdown": "\nA tibble: 6 × 2\n\n| time &lt;dttm&gt; | tesla_n &lt;int&gt; |\n|---|---|\n| 2020-05-16 11:00:00 | 243 |\n| 2020-05-16 12:00:00 | 331 |\n| 2020-05-16 13:00:00 | 442 |\n| 2020-05-16 14:00:00 | 499 |\n| 2020-05-16 15:00:00 | 544 |\n| 2020-05-16 16:00:00 | 570 |\n\n",
            "text/html": [
              "<table>\n",
              "<caption>A tibble: 6 × 2</caption>\n",
              "<thead>\n",
              "\t<tr><th scope=col>time</th><th scope=col>tesla_n</th></tr>\n",
              "\t<tr><th scope=col>&lt;dttm&gt;</th><th scope=col>&lt;int&gt;</th></tr>\n",
              "</thead>\n",
              "<tbody>\n",
              "\t<tr><td>2020-05-16 11:00:00</td><td>243</td></tr>\n",
              "\t<tr><td>2020-05-16 12:00:00</td><td>331</td></tr>\n",
              "\t<tr><td>2020-05-16 13:00:00</td><td>442</td></tr>\n",
              "\t<tr><td>2020-05-16 14:00:00</td><td>499</td></tr>\n",
              "\t<tr><td>2020-05-16 15:00:00</td><td>544</td></tr>\n",
              "\t<tr><td>2020-05-16 16:00:00</td><td>570</td></tr>\n",
              "</tbody>\n",
              "</table>\n"
            ]
          },
          "metadata": {
            "tags": []
          }
        }
      ]
    },
    {
      "cell_type": "markdown",
      "metadata": {
        "id": "XQEg4JyrbehN",
        "colab_type": "text"
      },
      "source": [
        "We can see the column with the hourly time intervals is now named as `time` and the corresponding aggregated tweet counts as `tesla_n`"
      ]
    },
    {
      "cell_type": "markdown",
      "metadata": {
        "id": "ANFS1L6LgLIe",
        "colab_type": "text"
      },
      "source": [
        "Create a similar time series object for Toyota and rename the two columns"
      ]
    },
    {
      "cell_type": "code",
      "metadata": {
        "id": "pCdnIPJdqBRh",
        "colab_type": "code",
        "colab": {
          "base_uri": "https://localhost:8080/",
          "height": 200
        },
        "outputId": "deae1b22-1d78-4a9f-de41-1fe36aa4c015"
      },
      "source": [
        "# Create a time series object for Toyota at hourly intervals\n",
        "toyo_ts <- ts_data(toyotadf, by ='hours')\n",
        "\n",
        "# Rename the two columns in the time series object\n",
        "names(toyo_ts) <- c(\"time\", \"toyo_n\")\n",
        "\n",
        "# View the output\n",
        "head(toyo_ts)"
      ],
      "execution_count": null,
      "outputs": [
        {
          "output_type": "display_data",
          "data": {
            "text/plain": [
              "  time                toyo_n\n",
              "1 2020-05-12 04:00:00  27   \n",
              "2 2020-05-12 05:00:00  87   \n",
              "3 2020-05-12 06:00:00  94   \n",
              "4 2020-05-12 07:00:00 162   \n",
              "5 2020-05-12 08:00:00 121   \n",
              "6 2020-05-12 09:00:00 116   "
            ],
            "text/latex": "A tibble: 6 × 2\n\\begin{tabular}{ll}\n time & toyo\\_n\\\\\n <dttm> & <int>\\\\\n\\hline\n\t 2020-05-12 04:00:00 &  27\\\\\n\t 2020-05-12 05:00:00 &  87\\\\\n\t 2020-05-12 06:00:00 &  94\\\\\n\t 2020-05-12 07:00:00 & 162\\\\\n\t 2020-05-12 08:00:00 & 121\\\\\n\t 2020-05-12 09:00:00 & 116\\\\\n\\end{tabular}\n",
            "text/markdown": "\nA tibble: 6 × 2\n\n| time &lt;dttm&gt; | toyo_n &lt;int&gt; |\n|---|---|\n| 2020-05-12 04:00:00 |  27 |\n| 2020-05-12 05:00:00 |  87 |\n| 2020-05-12 06:00:00 |  94 |\n| 2020-05-12 07:00:00 | 162 |\n| 2020-05-12 08:00:00 | 121 |\n| 2020-05-12 09:00:00 | 116 |\n\n",
            "text/html": [
              "<table>\n",
              "<caption>A tibble: 6 × 2</caption>\n",
              "<thead>\n",
              "\t<tr><th scope=col>time</th><th scope=col>toyo_n</th></tr>\n",
              "\t<tr><th scope=col>&lt;dttm&gt;</th><th scope=col>&lt;int&gt;</th></tr>\n",
              "</thead>\n",
              "<tbody>\n",
              "\t<tr><td>2020-05-12 04:00:00</td><td> 27</td></tr>\n",
              "\t<tr><td>2020-05-12 05:00:00</td><td> 87</td></tr>\n",
              "\t<tr><td>2020-05-12 06:00:00</td><td> 94</td></tr>\n",
              "\t<tr><td>2020-05-12 07:00:00</td><td>162</td></tr>\n",
              "\t<tr><td>2020-05-12 08:00:00</td><td>121</td></tr>\n",
              "\t<tr><td>2020-05-12 09:00:00</td><td>116</td></tr>\n",
              "</tbody>\n",
              "</table>\n"
            ]
          },
          "metadata": {
            "tags": []
          }
        }
      ]
    },
    {
      "cell_type": "markdown",
      "metadata": {
        "id": "SZJ25BcQg92C",
        "colab_type": "text"
      },
      "source": [
        "We now have two time series objects with columns for time and tweet frequencies."
      ]
    },
    {
      "cell_type": "markdown",
      "metadata": {
        "id": "esToBmx8gd5M",
        "colab_type": "text"
      },
      "source": [
        "Merge the objects into a single data frame using the `merge()` function which is from the `reshape` library."
      ]
    },
    {
      "cell_type": "code",
      "metadata": {
        "id": "_k1PAQknqIyW",
        "colab_type": "code",
        "colab": {
          "base_uri": "https://localhost:8080/",
          "height": 173
        },
        "outputId": "7f243236-2af3-4da5-8513-ec446ed63daf"
      },
      "source": [
        "# Load the required libraries\n",
        "library(reshape)\n",
        "library(ggplot2)"
      ],
      "execution_count": null,
      "outputs": [
        {
          "output_type": "stream",
          "text": [
            "\n",
            "Attaching package: ‘reshape’\n",
            "\n",
            "\n",
            "The following object is masked from ‘package:dplyr’:\n",
            "\n",
            "    rename\n",
            "\n",
            "\n"
          ],
          "name": "stderr"
        }
      ]
    },
    {
      "cell_type": "markdown",
      "metadata": {
        "id": "oTOQxrBLjiQj",
        "colab_type": "text"
      },
      "source": [
        "The `merge()` function takes 3 arguments:\n",
        "\n",
        "* the time series objects to be merged, \n",
        "\n",
        "* `by` argument which specifies the common column for merging,\n",
        "\n",
        "* `all` argument to instruct whether all the rows should be included."
      ]
    },
    {
      "cell_type": "code",
      "metadata": {
        "id": "sPLMxQZlqmES",
        "colab_type": "code",
        "colab": {
          "base_uri": "https://localhost:8080/",
          "height": 200
        },
        "outputId": "61a8bfcd-b5fd-4910-cc3b-b6ce46d1f7bf"
      },
      "source": [
        "# Merge the time series objects with \"time\" as the common column\n",
        "merged_df <- merge(tesla_ts, toyo_ts, by = \"time\", all = TRUE)\n",
        "\n",
        "# View few rows of the merged dataframe\n",
        "head(merged_df)"
      ],
      "execution_count": null,
      "outputs": [
        {
          "output_type": "display_data",
          "data": {
            "text/plain": [
              "  time                tesla_n toyo_n\n",
              "1 2020-05-12 04:00:00 NA       27   \n",
              "2 2020-05-12 05:00:00 NA       87   \n",
              "3 2020-05-12 06:00:00 NA       94   \n",
              "4 2020-05-12 07:00:00 NA      162   \n",
              "5 2020-05-12 08:00:00 NA      121   \n",
              "6 2020-05-12 09:00:00 NA      116   "
            ],
            "text/latex": "A data.frame: 6 × 3\n\\begin{tabular}{r|lll}\n  & time & tesla\\_n & toyo\\_n\\\\\n  & <dttm> & <int> & <int>\\\\\n\\hline\n\t1 & 2020-05-12 04:00:00 & NA &  27\\\\\n\t2 & 2020-05-12 05:00:00 & NA &  87\\\\\n\t3 & 2020-05-12 06:00:00 & NA &  94\\\\\n\t4 & 2020-05-12 07:00:00 & NA & 162\\\\\n\t5 & 2020-05-12 08:00:00 & NA & 121\\\\\n\t6 & 2020-05-12 09:00:00 & NA & 116\\\\\n\\end{tabular}\n",
            "text/markdown": "\nA data.frame: 6 × 3\n\n| <!--/--> | time &lt;dttm&gt; | tesla_n &lt;int&gt; | toyo_n &lt;int&gt; |\n|---|---|---|---|\n| 1 | 2020-05-12 04:00:00 | NA |  27 |\n| 2 | 2020-05-12 05:00:00 | NA |  87 |\n| 3 | 2020-05-12 06:00:00 | NA |  94 |\n| 4 | 2020-05-12 07:00:00 | NA | 162 |\n| 5 | 2020-05-12 08:00:00 | NA | 121 |\n| 6 | 2020-05-12 09:00:00 | NA | 116 |\n\n",
            "text/html": [
              "<table>\n",
              "<caption>A data.frame: 6 × 3</caption>\n",
              "<thead>\n",
              "\t<tr><th></th><th scope=col>time</th><th scope=col>tesla_n</th><th scope=col>toyo_n</th></tr>\n",
              "\t<tr><th></th><th scope=col>&lt;dttm&gt;</th><th scope=col>&lt;int&gt;</th><th scope=col>&lt;int&gt;</th></tr>\n",
              "</thead>\n",
              "<tbody>\n",
              "\t<tr><th scope=row>1</th><td>2020-05-12 04:00:00</td><td>NA</td><td> 27</td></tr>\n",
              "\t<tr><th scope=row>2</th><td>2020-05-12 05:00:00</td><td>NA</td><td> 87</td></tr>\n",
              "\t<tr><th scope=row>3</th><td>2020-05-12 06:00:00</td><td>NA</td><td> 94</td></tr>\n",
              "\t<tr><th scope=row>4</th><td>2020-05-12 07:00:00</td><td>NA</td><td>162</td></tr>\n",
              "\t<tr><th scope=row>5</th><td>2020-05-12 08:00:00</td><td>NA</td><td>121</td></tr>\n",
              "\t<tr><th scope=row>6</th><td>2020-05-12 09:00:00</td><td>NA</td><td>116</td></tr>\n",
              "</tbody>\n",
              "</table>\n"
            ]
          },
          "metadata": {
            "tags": []
          }
        }
      ]
    },
    {
      "cell_type": "markdown",
      "metadata": {
        "id": "pfduZFSHjz3b",
        "colab_type": "text"
      },
      "source": [
        "We can see the tweet frqeuencies for tesla and toyota in separate columns.\n",
        "\n",
        "Stack the tweet frequency counts into a single column and brands into another column using `melt()` from 'reshape` library.\n",
        "\n",
        "The melt() function takes 3 arguments:\n",
        "\n",
        "* the dataframe to melt, \n",
        "\n",
        "* `na.rm` to specify whether to include or exclude rows with missing values,\n",
        "* `id.vars` to specify the source columns to be retained (`time` in this case)."
      ]
    },
    {
      "cell_type": "code",
      "metadata": {
        "id": "zp66LpFjtVSu",
        "colab_type": "code",
        "colab": {
          "base_uri": "https://localhost:8080/",
          "height": 200
        },
        "outputId": "b40413d1-45aa-4645-e0c3-8aa01b682aa2"
      },
      "source": [
        "# Stack the tweet frequency columns\n",
        "melt_df <- melt(merged_df, na.rm = TRUE, id.vars = \"time\")\n",
        "\n",
        "# View the output\n",
        "head(melt_df)"
      ],
      "execution_count": null,
      "outputs": [
        {
          "output_type": "display_data",
          "data": {
            "text/plain": [
              "  time                variable value\n",
              "1 2020-05-16 11:00:00 tesla_n  243  \n",
              "2 2020-05-16 12:00:00 tesla_n  331  \n",
              "3 2020-05-16 13:00:00 tesla_n  442  \n",
              "4 2020-05-16 14:00:00 tesla_n  499  \n",
              "5 2020-05-16 15:00:00 tesla_n  544  \n",
              "6 2020-05-16 16:00:00 tesla_n  570  "
            ],
            "text/latex": "A data.frame: 6 × 3\n\\begin{tabular}{r|lll}\n  & time & variable & value\\\\\n  & <dttm> & <fct> & <int>\\\\\n\\hline\n\t1 & 2020-05-16 11:00:00 & tesla\\_n & 243\\\\\n\t2 & 2020-05-16 12:00:00 & tesla\\_n & 331\\\\\n\t3 & 2020-05-16 13:00:00 & tesla\\_n & 442\\\\\n\t4 & 2020-05-16 14:00:00 & tesla\\_n & 499\\\\\n\t5 & 2020-05-16 15:00:00 & tesla\\_n & 544\\\\\n\t6 & 2020-05-16 16:00:00 & tesla\\_n & 570\\\\\n\\end{tabular}\n",
            "text/markdown": "\nA data.frame: 6 × 3\n\n| <!--/--> | time &lt;dttm&gt; | variable &lt;fct&gt; | value &lt;int&gt; |\n|---|---|---|---|\n| 1 | 2020-05-16 11:00:00 | tesla_n | 243 |\n| 2 | 2020-05-16 12:00:00 | tesla_n | 331 |\n| 3 | 2020-05-16 13:00:00 | tesla_n | 442 |\n| 4 | 2020-05-16 14:00:00 | tesla_n | 499 |\n| 5 | 2020-05-16 15:00:00 | tesla_n | 544 |\n| 6 | 2020-05-16 16:00:00 | tesla_n | 570 |\n\n",
            "text/html": [
              "<table>\n",
              "<caption>A data.frame: 6 × 3</caption>\n",
              "<thead>\n",
              "\t<tr><th></th><th scope=col>time</th><th scope=col>variable</th><th scope=col>value</th></tr>\n",
              "\t<tr><th></th><th scope=col>&lt;dttm&gt;</th><th scope=col>&lt;fct&gt;</th><th scope=col>&lt;int&gt;</th></tr>\n",
              "</thead>\n",
              "<tbody>\n",
              "\t<tr><th scope=row>1</th><td>2020-05-16 11:00:00</td><td>tesla_n</td><td>243</td></tr>\n",
              "\t<tr><th scope=row>2</th><td>2020-05-16 12:00:00</td><td>tesla_n</td><td>331</td></tr>\n",
              "\t<tr><th scope=row>3</th><td>2020-05-16 13:00:00</td><td>tesla_n</td><td>442</td></tr>\n",
              "\t<tr><th scope=row>4</th><td>2020-05-16 14:00:00</td><td>tesla_n</td><td>499</td></tr>\n",
              "\t<tr><th scope=row>5</th><td>2020-05-16 15:00:00</td><td>tesla_n</td><td>544</td></tr>\n",
              "\t<tr><th scope=row>6</th><td>2020-05-16 16:00:00</td><td>tesla_n</td><td>570</td></tr>\n",
              "</tbody>\n",
              "</table>\n"
            ]
          },
          "metadata": {
            "tags": []
          }
        }
      ]
    },
    {
      "cell_type": "markdown",
      "metadata": {
        "id": "4RgSIL9K5ApG",
        "colab_type": "text"
      },
      "source": [
        "We can see that all columns other than `time` have been stacked and we have three columns now: `time`, `variable`, `value`. "
      ]
    },
    {
      "cell_type": "markdown",
      "metadata": {
        "id": "f9j7dYyb5ix7",
        "colab_type": "text"
      },
      "source": [
        "Plot the frequency of tweets on Tesla and Toyota using `ggplot()`.\n",
        "\n",
        "Set the relevant column names i.e.  as values for the x-axis, y-axis, and color of the plot.  "
      ]
    },
    {
      "cell_type": "code",
      "metadata": {
        "id": "HC36Xr82tbe6",
        "colab_type": "code",
        "colab": {
          "base_uri": "https://localhost:8080/",
          "height": 437
        },
        "outputId": "a3da183e-02c4-416e-8f66-e6bde290ea21"
      },
      "source": [
        "## Compare brand salience by plotting the frequency of tweets\n",
        "\n",
        "# Plot frequency of tweets on Tesla and Toyota\n",
        "ggplot(data = melt_df, aes(x = time, y = value, col = variable))+\n",
        "  geom_line(lwd = 0.8)"
      ],
      "execution_count": null,
      "outputs": [
        {
          "output_type": "display_data",
          "data": {
            "image/png": "[encoded data removed]",
            "text/plain": [
              "plot without title"
            ]
          },
          "metadata": {
            "tags": [],
            "image/png": {
              "width": 420,
              "height": 420
            },
            "text/plain": {
              "width": 420,
              "height": 420
            }
          }
        }
      ]
    },
    {
      "cell_type": "markdown",
      "metadata": {
        "id": "_asHxcge7dWa",
        "colab_type": "text"
      },
      "source": [
        "#### It's interesting to see that there are relatively more tweets on Tesla than on Toyota. \n",
        "\n",
        "#### The higher level of tweet activity for Tesla indicates a stronger brand salience for Tesla than Toyota. \n",
        "\n",
        "#### Visualizing tweets through time series analysis provides good insights on interest level on a product and can be used to compare brand salience."
      ]
    },
    {
      "cell_type": "markdown",
      "metadata": {
        "id": "LzLQ4_Ebth7g",
        "colab_type": "text"
      },
      "source": [
        "## **4. Understand brand perception through text mining and by visualizing key terms**\n",
        "\n"
      ]
    },
    {
      "cell_type": "markdown",
      "metadata": {
        "id": "QZ31KEKbot0d",
        "colab_type": "text"
      },
      "source": [
        "The exercises we have done so far are to do with analyzing the metadata around tweets. \n",
        "\n",
        "In this exercise, we will analyze the tweet text itself to derive direct insights on user opinions. The two broad steps are:\n",
        "\n",
        "1) Perform text mining by processing the twitter text using various steps.\n",
        "\n",
        "2) Visualize key terms in the processed text to understand brand perception.\n",
        "\n"
      ]
    },
    {
      "cell_type": "markdown",
      "metadata": {
        "id": "FLOBQx5jouCo",
        "colab_type": "text"
      },
      "source": [
        "### **4a) Text mining by processing twitter text**"
      ]
    },
    {
      "cell_type": "markdown",
      "metadata": {
        "id": "sukAzrslpo94",
        "colab_type": "text"
      },
      "source": [
        "Tweet text is unstructured, noisy, and raw. It contains emoticons, URLs, and numbers that have to be removed before it is analyzed for reliable results.\n",
        "\n",
        "Steps involved in processing tweet text:\n",
        "\n",
        "1) Remove redundant information which includes URLs, special characters, punctuation, and numbers.\n",
        "\n",
        "2) Convert the text to a Corpus.\n",
        "\n",
        "3) Convert all letters in the text to lower case.\n",
        "\n",
        "4) Remove common words, also called stop words, from the corpus.\n",
        "\n",
        "5) Remove custom stop words from the corpus."
      ]
    },
    {
      "cell_type": "markdown",
      "metadata": {
        "id": "Dk-qzoTsqpPu",
        "colab_type": "text"
      },
      "source": [
        "First, extract the tweets stored in the `text` column of the tweet dataframe for Tesla."
      ]
    },
    {
      "cell_type": "code",
      "metadata": {
        "id": "0YFeMo6AtsMr",
        "colab_type": "code",
        "colab": {}
      },
      "source": [
        "# Extract tweet text from the Tesla dataset\n",
        "twt_txt <- tesladf$text\n",
        "head(twt_txt, 15)"
      ],
      "execution_count": null,
      "outputs": []
    },
    {
      "cell_type": "markdown",
      "metadata": {
        "id": "HH149coSrA-Y",
        "colab_type": "text"
      },
      "source": [
        "We can see the first few rows of tweet text extracted from the main dataframe."
      ]
    },
    {
      "cell_type": "markdown",
      "metadata": {
        "id": "7K4JSaGMt1zc",
        "colab_type": "text"
      },
      "source": [
        "#### **i) Remove URLs and characters other than letters**\n",
        "\n",
        "Use the `rm_twitter_url()` function from the `qdapRegex` library to remove all URLs from the text.\n",
        "\n",
        "`rm_twitter_url()` takes the tweet text dataframe as input."
      ]
    },
    {
      "cell_type": "code",
      "metadata": {
        "id": "FAe49cQmtyAV",
        "colab_type": "code",
        "colab": {
          "base_uri": "https://localhost:8080/",
          "height": 259
        },
        "outputId": "9a7e589b-0bb9-4fe2-cb5f-7311ccd279e3"
      },
      "source": [
        "# Load the library\n",
        "library(qdapRegex)"
      ],
      "execution_count": null,
      "outputs": [
        {
          "output_type": "stream",
          "text": [
            "\n",
            "Attaching package: ‘qdapRegex’\n",
            "\n",
            "\n",
            "The following object is masked from ‘package:ggplot2’:\n",
            "\n",
            "    %+%\n",
            "\n",
            "\n",
            "The following object is masked from ‘package:dplyr’:\n",
            "\n",
            "    explain\n",
            "\n",
            "\n"
          ],
          "name": "stderr"
        }
      ]
    },
    {
      "cell_type": "code",
      "metadata": {
        "id": "hcD895lAt9w_",
        "colab_type": "code",
        "colab": {
          "base_uri": "https://localhost:8080/",
          "height": 449
        },
        "outputId": "79f6bcc4-85f6-4dce-91fc-3c8f1d9a46ab"
      },
      "source": [
        "# Remove URLs from the tweet text and view the output\n",
        "twt_txt_url <- rm_twitter_url(twt_txt)\n",
        "\n",
        "# View few rows of the dataframe\n",
        "head(twt_txt_url, 15)"
      ],
      "execution_count": null,
      "outputs": [
        {
          "output_type": "display_data",
          "data": {
            "text/plain": [
              " [1] \"@BLKMDL3 @elonmusk @Tesla Oh sure ya showoff. Had to get the brand name fancy stuff. Mine is $1.99.\"                                                                                                                                                                                                                \n",
              " [2] \"@TrevSully @ThomboyD @elonmusk BTW, Musk bought into Tesla when it was one-year old. He not only was an investor, he built the company. BTW, do you even know what “B shares” are?\"                                                                                                                                 \n",
              " [3] \"@TrevSully @ThomboyD @elonmusk He bought Tesla and built a handful of other companies. Musk is famously known to be an obsessed workaholic. *That* has more to do with his success than anything else. You sound petty, jealous and small. When you accomplish what he accomplished, then you can bitch an moan.\"   \n",
              " [4] \"@Miss_Violet2014 @jamison_casper @ThomboyD @elonmusk Tesla won’t move. But if they do it will be because Musk thought it would be a positive. Further, the new location will employ lots of new people. Alameda county isn’t the only place in the U.S. that needs jobs.\"                                           \n",
              " [5] \"@jamison_casper @Miss_Violet2014 @ThomboyD @elonmusk I believe the county approved Tesla’s COVID-19 Prevention plan (subject to some additional requirements) and will, with the police, enforce safe distancing. Doesn’t seem to be an issue.\"                                                                     \n",
              " [6] \"@jamison_casper @Miss_Violet2014 @ThomboyD @elonmusk What about other areas of the country where people are struggling and unemployment is going through the roof? Are Alameda people more important than people elsewhere? Tesla could help those people.\"                                                         \n",
              " [7] \"@Miss_Violet2014 @jamison_casper @ThomboyD @elonmusk Are people not mobile? Can they not move to a new Tesla location? Or does California prohibit people from leaving? I’ve lived all over the place and am richer for the experience. Really narrow comment you made there.\"                                      \n",
              " [8] \"@jamison_casper @Miss_Violet2014 @ThomboyD @elonmusk It’s a legal issue. Does Tesla have to obey an unelected county health official? I’m not a lawyer. The county (or Tesla) has a right to take this to court for clarification. In any event, the County cleared the way for Tesla to open.\"                     \n",
              " [9] \"@teslaP3D @elonmusk @Tesla 4 doors minimum. It’s nice, add 2 doors.\"                                                                                                                                                                                                                                                \n",
              "[10] \"@StevenZWang @vincent13031925 I hope so. But I am not sure it will happen right away. At least there are stores and service here in Texas. And a huge amount of Tesla’s in the state. OK does not allow stores or service centers. Texas is the 3rd largest auto sales state in the US. 18% of trucks are here!!🤠🤠🤠\"\n",
              "[11] \"This article says VW beat Tesla in Norway?? Not true??56% of Norway's new cars had a plug in 2019, Tesla Model 3 overall best-seller via @electrekco @tesla @elonmusk\"                                                                                                                                              \n",
              "[12] \"@JenniPlaster @vincent13031925 @Tesla @elonmusk Texas\"                                                                                                                                                                                                                                                              \n",
              "[13] \"@ElonMuskNewsOrg Oklahoma doesn’t allow Tesla stores, or service centers in the state. At least Texas allows stores and service centers. Texas has 18% of all trucks in the US. We sell 450,000 vehicles per year. No state taxes and lots of unemployed oil and gas people!! 🤠🤠🤠\"                                  \n",
              "[14] \"Anyone up for some bullshit from Investopedia? Lies, lies, lies!!!! @Elonmusk @Tesla 6 Big Risks of Investing in Tesla Stock via @investopedia\"                                                                                                                                                                     \n",
              "[15] \"@thirdrowtesla @teslaownersSV @EliBurton_ @tesla_truth @tesla_raj @Teslatunity Let’s move forward!! Actions speak louder then words!! We all need to take a deep breath and respond to things written and not react!! 🙏❤️🤠😎😘🌪\"                                                                                       "
            ],
            "text/latex": "\\begin{enumerate*}\n\\item '@BLKMDL3 @elonmusk @Tesla Oh sure ya showoff. Had to get the brand name fancy stuff. Mine is \\$1.99.'\n\\item '@TrevSully @ThomboyD @elonmusk BTW, Musk bought into Tesla when it was one-year old. He not only was an investor, he built the company. BTW, do you even know what “B shares” are?'\n\\item '@TrevSully @ThomboyD @elonmusk He bought Tesla and built a handful of other companies. Musk is famously known to be an obsessed workaholic. *That* has more to do with his success than anything else. You sound petty, jealous and small. When you accomplish what he accomplished, then you can bitch an moan.'\n\\item '@Miss\\_Violet2014 @jamison\\_casper @ThomboyD @elonmusk Tesla won’t move. But if they do it will be because Musk thought it would be a positive. Further, the new location will employ lots of new people. Alameda county isn’t the only place in the U.S. that needs jobs.'\n\\item '@jamison\\_casper @Miss\\_Violet2014 @ThomboyD @elonmusk I believe the county approved Tesla’s COVID-19 Prevention plan (subject to some additional requirements) and will, with the police, enforce safe distancing. Doesn’t seem to be an issue.'\n\\item '@jamison\\_casper @Miss\\_Violet2014 @ThomboyD @elonmusk What about other areas of the country where people are struggling and unemployment is going through the roof? Are Alameda people more important than people elsewhere? Tesla could help those people.'\n\\item '@Miss\\_Violet2014 @jamison\\_casper @ThomboyD @elonmusk Are people not mobile? Can they not move to a new Tesla location? Or does California prohibit people from leaving? I’ve lived all over the place and am richer for the experience. Really narrow comment you made there.'\n\\item '@jamison\\_casper @Miss\\_Violet2014 @ThomboyD @elonmusk It’s a legal issue. Does Tesla have to obey an unelected county health official? I’m not a lawyer. The county (or Tesla) has a right to take this to court for clarification. In any event, the County cleared the way for Tesla to open.'\n\\item '@teslaP3D @elonmusk @Tesla 4 doors minimum. It’s nice, add 2 doors.'\n\\item '@StevenZWang @vincent13031925 I hope so. But I am not sure it will happen right away. At least there are stores and service here in Texas. And a huge amount of Tesla’s in the state. OK does not allow stores or service centers. Texas is the 3rd largest auto sales state in the US. 18\\% of trucks are here!!🤠🤠🤠'\n\\item 'This article says VW beat Tesla in Norway?? Not true??56\\% of Norway\\textbackslash{}'s new cars had a plug in 2019, Tesla Model 3 overall best-seller via @electrekco @tesla @elonmusk'\n\\item '@JenniPlaster @vincent13031925 @Tesla @elonmusk Texas'\n\\item '@ElonMuskNewsOrg Oklahoma doesn’t allow Tesla stores, or service centers in the state. At least Texas allows stores and service centers. Texas has 18\\% of all trucks in the US. We sell 450,000 vehicles per year. No state taxes and lots of unemployed oil and gas people!! 🤠🤠🤠'\n\\item 'Anyone up for some bullshit from Investopedia? Lies, lies, lies!!!! @Elonmusk @Tesla 6 Big Risks of Investing in Tesla Stock via @investopedia'\n\\item '@thirdrowtesla @teslaownersSV @EliBurton\\_ @tesla\\_truth @tesla\\_raj @Teslatunity Let’s move forward!! Actions speak louder then words!! We all need to take a deep breath and respond to things written and not react!! 🙏❤️🤠😎😘🌪'\n\\end{enumerate*}\n",
            "text/markdown": "1. '@BLKMDL3 @elonmusk @Tesla Oh sure ya showoff. Had to get the brand name fancy stuff. Mine is $1.99.'\n2. '@TrevSully @ThomboyD @elonmusk BTW, Musk bought into Tesla when it was one-year old. He not only was an investor, he built the company. BTW, do you even know what “B shares” are?'\n3. '@TrevSully @ThomboyD @elonmusk He bought Tesla and built a handful of other companies. Musk is famously known to be an obsessed workaholic. *That* has more to do with his success than anything else. You sound petty, jealous and small. When you accomplish what he accomplished, then you can bitch an moan.'\n4. '@Miss_Violet2014 @jamison_casper @ThomboyD @elonmusk Tesla won’t move. But if they do it will be because Musk thought it would be a positive. Further, the new location will employ lots of new people. Alameda county isn’t the only place in the U.S. that needs jobs.'\n5. '@jamison_casper @Miss_Violet2014 @ThomboyD @elonmusk I believe the county approved Tesla’s COVID-19 Prevention plan (subject to some additional requirements) and will, with the police, enforce safe distancing. Doesn’t seem to be an issue.'\n6. '@jamison_casper @Miss_Violet2014 @ThomboyD @elonmusk What about other areas of the country where people are struggling and unemployment is going through the roof? Are Alameda people more important than people elsewhere? Tesla could help those people.'\n7. '@Miss_Violet2014 @jamison_casper @ThomboyD @elonmusk Are people not mobile? Can they not move to a new Tesla location? Or does California prohibit people from leaving? I’ve lived all over the place and am richer for the experience. Really narrow comment you made there.'\n8. '@jamison_casper @Miss_Violet2014 @ThomboyD @elonmusk It’s a legal issue. Does Tesla have to obey an unelected county health official? I’m not a lawyer. The county (or Tesla) has a right to take this to court for clarification. In any event, the County cleared the way for Tesla to open.'\n9. '@teslaP3D @elonmusk @Tesla 4 doors minimum. It’s nice, add 2 doors.'\n10. '@StevenZWang @vincent13031925 I hope so. But I am not sure it will happen right away. At least there are stores and service here in Texas. And a huge amount of Tesla’s in the state. OK does not allow stores or service centers. Texas is the 3rd largest auto sales state in the US. 18% of trucks are here!!🤠🤠🤠'\n11. 'This article says VW beat Tesla in Norway?? Not true??56% of Norway\\'s new cars had a plug in 2019, Tesla Model 3 overall best-seller via @electrekco @tesla @elonmusk'\n12. '@JenniPlaster @vincent13031925 @Tesla @elonmusk Texas'\n13. '@ElonMuskNewsOrg Oklahoma doesn’t allow Tesla stores, or service centers in the state. At least Texas allows stores and service centers. Texas has 18% of all trucks in the US. We sell 450,000 vehicles per year. No state taxes and lots of unemployed oil and gas people!! 🤠🤠🤠'\n14. 'Anyone up for some bullshit from Investopedia? Lies, lies, lies!!!! @Elonmusk @Tesla 6 Big Risks of Investing in Tesla Stock via @investopedia'\n15. '@thirdrowtesla @teslaownersSV @EliBurton_ @tesla_truth @tesla_raj @Teslatunity Let’s move forward!! Actions speak louder then words!! We all need to take a deep breath and respond to things written and not react!! 🙏❤️🤠😎😘🌪'\n\n\n",
            "text/html": [
              "<style>\n",
              ".list-inline {list-style: none; margin:0; padding: 0}\n",
              ".list-inline>li {display: inline-block}\n",
              ".list-inline>li:not(:last-child)::after {content: \"\\00b7\"; padding: 0 .5ex}\n",
              "</style>\n",
              "<ol class=list-inline><li>'@BLKMDL3 @elonmusk @Tesla Oh sure ya showoff. Had to get the brand name fancy stuff. Mine is $1.99.'</li><li>'@TrevSully @ThomboyD @elonmusk BTW, Musk bought into Tesla when it was one-year old. He not only was an investor, he built the company. BTW, do you even know what “B shares” are?'</li><li>'@TrevSully @ThomboyD @elonmusk He bought Tesla and built a handful of other companies. Musk is famously known to be an obsessed workaholic. *That* has more to do with his success than anything else. You sound petty, jealous and small. When you accomplish what he accomplished, then you can bitch an moan.'</li><li>'@Miss_Violet2014 @jamison_casper @ThomboyD @elonmusk Tesla won’t move. But if they do it will be because Musk thought it would be a positive. Further, the new location will employ lots of new people. Alameda county isn’t the only place in the U.S. that needs jobs.'</li><li>'@jamison_casper @Miss_Violet2014 @ThomboyD @elonmusk I believe the county approved Tesla’s COVID-19 Prevention plan (subject to some additional requirements) and will, with the police, enforce safe distancing. Doesn’t seem to be an issue.'</li><li>'@jamison_casper @Miss_Violet2014 @ThomboyD @elonmusk What about other areas of the country where people are struggling and unemployment is going through the roof? Are Alameda people more important than people elsewhere? Tesla could help those people.'</li><li>'@Miss_Violet2014 @jamison_casper @ThomboyD @elonmusk Are people not mobile? Can they not move to a new Tesla location? Or does California prohibit people from leaving? I’ve lived all over the place and am richer for the experience. Really narrow comment you made there.'</li><li>'@jamison_casper @Miss_Violet2014 @ThomboyD @elonmusk It’s a legal issue. Does Tesla have to obey an unelected county health official? I’m not a lawyer. The county (or Tesla) has a right to take this to court for clarification. In any event, the County cleared the way for Tesla to open.'</li><li>'@teslaP3D @elonmusk @Tesla 4 doors minimum. It’s nice, add 2 doors.'</li><li>'@StevenZWang @vincent13031925 I hope so. But I am not sure it will happen right away. At least there are stores and service here in Texas. And a huge amount of Tesla’s in the state. OK does not allow stores or service centers. Texas is the 3rd largest auto sales state in the US. 18% of trucks are here!!🤠🤠🤠'</li><li>'This article says VW beat Tesla in Norway?? Not true??56% of Norway\\'s new cars had a plug in 2019, Tesla Model 3 overall best-seller via @electrekco @tesla @elonmusk'</li><li>'@JenniPlaster @vincent13031925 @Tesla @elonmusk Texas'</li><li>'@ElonMuskNewsOrg Oklahoma doesn’t allow Tesla stores, or service centers in the state. At least Texas allows stores and service centers. Texas has 18% of all trucks in the US. We sell 450,000 vehicles per year. No state taxes and lots of unemployed oil and gas people!! 🤠🤠🤠'</li><li>'Anyone up for some bullshit from Investopedia? Lies, lies, lies!!!! @Elonmusk @Tesla 6 Big Risks of Investing in Tesla Stock via @investopedia'</li><li>'@thirdrowtesla @teslaownersSV @EliBurton_ @tesla_truth @tesla_raj @Teslatunity Let’s move forward!! Actions speak louder then words!! We all need to take a deep breath and respond to things written and not react!! 🙏❤️🤠😎😘🌪'</li></ol>\n"
            ]
          },
          "metadata": {
            "tags": []
          }
        }
      ]
    },
    {
      "cell_type": "markdown",
      "metadata": {
        "id": "SDSrL3q8sqEE",
        "colab_type": "text"
      },
      "source": [
        "The URLs are removed from tweets: check records starting with \"This article says VW beat Tesla...\" and \"Anyone up for some...\" for example."
      ]
    },
    {
      "cell_type": "markdown",
      "metadata": {
        "id": "XaB_qRNHubd6",
        "colab_type": "text"
      },
      "source": [
        "#### **ii) Replace special characters, punctuations and numbers**\n",
        "\n",
        "The next step is to remove special characters, punctuation, and numbers using the `gsub()` function.\n",
        "\n",
        "`gsub()` takes 3 arguments: \n",
        "\n",
        "the pattern to search, the character to replace with, and the text source. In this case, the instruction is to replace all characters except \"A to Z\" and \"a to z\" with a space.\n"
      ]
    },
    {
      "cell_type": "code",
      "metadata": {
        "id": "avMK4m8fuWEF",
        "colab_type": "code",
        "colab": {
          "base_uri": "https://localhost:8080/",
          "height": 449
        },
        "outputId": "e5a16654-9255-4b7b-9cb4-05ffe0efe56e"
      },
      "source": [
        "# Replace special characters, punctuation, & numbers with spaces\n",
        "twt_txt_chrs  <- gsub(\"[^A-Za-z]\",\" \" , twt_txt_url)\n",
        "\n",
        "# View text after replacing special characters, punctuation, & numbers\n",
        "head(twt_txt_chrs, 15)"
      ],
      "execution_count": null,
      "outputs": [
        {
          "output_type": "display_data",
          "data": {
            "text/plain": [
              " [1] \" BLKMDL   elonmusk  Tesla Oh sure ya showoff  Had to get the brand name fancy stuff  Mine is       \"                                                                                                                                                                                                                \n",
              " [2] \" TrevSully  ThomboyD  elonmusk BTW  Musk bought into Tesla when it was one year old  He not only was an investor  he built the company  BTW  do you even know what  B shares  are \"                                                                                                                                 \n",
              " [3] \" TrevSully  ThomboyD  elonmusk He bought Tesla and built a handful of other companies  Musk is famously known to be an obsessed workaholic   That  has more to do with his success than anything else  You sound petty  jealous and small  When you accomplish what he accomplished  then you can bitch an moan \"   \n",
              " [4] \" Miss Violet      jamison casper  ThomboyD  elonmusk Tesla won t move  But if they do it will be because Musk thought it would be a positive  Further  the new location will employ lots of new people  Alameda county isn t the only place in the U S  that needs jobs \"                                           \n",
              " [5] \" jamison casper  Miss Violet      ThomboyD  elonmusk I believe the county approved Tesla s COVID    Prevention plan  subject to some additional requirements  and will  with the police  enforce safe distancing  Doesn t seem to be an issue \"                                                                     \n",
              " [6] \" jamison casper  Miss Violet      ThomboyD  elonmusk What about other areas of the country where people are struggling and unemployment is going through the roof  Are Alameda people more important than people elsewhere  Tesla could help those people \"                                                         \n",
              " [7] \" Miss Violet      jamison casper  ThomboyD  elonmusk Are people not mobile  Can they not move to a new Tesla location  Or does California prohibit people from leaving  I ve lived all over the place and am richer for the experience  Really narrow comment you made there \"                                      \n",
              " [8] \" jamison casper  Miss Violet      ThomboyD  elonmusk It s a legal issue  Does Tesla have to obey an unelected county health official  I m not a lawyer  The county  or Tesla  has a right to take this to court for clarification  In any event  the County cleared the way for Tesla to open \"                     \n",
              " [9] \" teslaP D  elonmusk  Tesla   doors minimum  It s nice  add   doors \"                                                                                                                                                                                                                                                \n",
              "[10] \" StevenZWang  vincent         I hope so  But I am not sure it will happen right away  At least there are stores and service here in Texas  And a huge amount of Tesla s in the state  OK does not allow stores or service centers  Texas is the  rd largest auto sales state in the US      of trucks are here     \"\n",
              "[11] \"This article says VW beat Tesla in Norway   Not true      of Norway s new cars had a plug in       Tesla Model   overall best seller via  electrekco  tesla  elonmusk\"                                                                                                                                              \n",
              "[12] \" JenniPlaster  vincent          Tesla  elonmusk Texas\"                                                                                                                                                                                                                                                              \n",
              "[13] \" ElonMuskNewsOrg Oklahoma doesn t allow Tesla stores  or service centers in the state  At least Texas allows stores and service centers  Texas has     of all trucks in the US  We sell         vehicles per year  No state taxes and lots of unemployed oil and gas people      \"                                  \n",
              "[14] \"Anyone up for some bullshit from Investopedia  Lies  lies  lies      Elonmusk  Tesla   Big Risks of Investing in Tesla Stock via  investopedia\"                                                                                                                                                                     \n",
              "[15] \" thirdrowtesla  teslaownersSV  EliBurton   tesla truth  tesla raj  Teslatunity Let s move forward   Actions speak louder then words   We all need to take a deep breath and respond to things written and not react          \"                                                                                      "
            ],
            "text/latex": "\\begin{enumerate*}\n\\item ' BLKMDL   elonmusk  Tesla Oh sure ya showoff  Had to get the brand name fancy stuff  Mine is       '\n\\item ' TrevSully  ThomboyD  elonmusk BTW  Musk bought into Tesla when it was one year old  He not only was an investor  he built the company  BTW  do you even know what  B shares  are '\n\\item ' TrevSully  ThomboyD  elonmusk He bought Tesla and built a handful of other companies  Musk is famously known to be an obsessed workaholic   That  has more to do with his success than anything else  You sound petty  jealous and small  When you accomplish what he accomplished  then you can bitch an moan '\n\\item ' Miss Violet      jamison casper  ThomboyD  elonmusk Tesla won t move  But if they do it will be because Musk thought it would be a positive  Further  the new location will employ lots of new people  Alameda county isn t the only place in the U S  that needs jobs '\n\\item ' jamison casper  Miss Violet      ThomboyD  elonmusk I believe the county approved Tesla s COVID    Prevention plan  subject to some additional requirements  and will  with the police  enforce safe distancing  Doesn t seem to be an issue '\n\\item ' jamison casper  Miss Violet      ThomboyD  elonmusk What about other areas of the country where people are struggling and unemployment is going through the roof  Are Alameda people more important than people elsewhere  Tesla could help those people '\n\\item ' Miss Violet      jamison casper  ThomboyD  elonmusk Are people not mobile  Can they not move to a new Tesla location  Or does California prohibit people from leaving  I ve lived all over the place and am richer for the experience  Really narrow comment you made there '\n\\item ' jamison casper  Miss Violet      ThomboyD  elonmusk It s a legal issue  Does Tesla have to obey an unelected county health official  I m not a lawyer  The county  or Tesla  has a right to take this to court for clarification  In any event  the County cleared the way for Tesla to open '\n\\item ' teslaP D  elonmusk  Tesla   doors minimum  It s nice  add   doors '\n\\item ' StevenZWang  vincent         I hope so  But I am not sure it will happen right away  At least there are stores and service here in Texas  And a huge amount of Tesla s in the state  OK does not allow stores or service centers  Texas is the  rd largest auto sales state in the US      of trucks are here     '\n\\item 'This article says VW beat Tesla in Norway   Not true      of Norway s new cars had a plug in       Tesla Model   overall best seller via  electrekco  tesla  elonmusk'\n\\item ' JenniPlaster  vincent          Tesla  elonmusk Texas'\n\\item ' ElonMuskNewsOrg Oklahoma doesn t allow Tesla stores  or service centers in the state  At least Texas allows stores and service centers  Texas has     of all trucks in the US  We sell         vehicles per year  No state taxes and lots of unemployed oil and gas people      '\n\\item 'Anyone up for some bullshit from Investopedia  Lies  lies  lies      Elonmusk  Tesla   Big Risks of Investing in Tesla Stock via  investopedia'\n\\item ' thirdrowtesla  teslaownersSV  EliBurton   tesla truth  tesla raj  Teslatunity Let s move forward   Actions speak louder then words   We all need to take a deep breath and respond to things written and not react          '\n\\end{enumerate*}\n",
            "text/markdown": "1. <span style=white-space:pre-wrap>' BLKMDL   elonmusk  Tesla Oh sure ya showoff  Had to get the brand name fancy stuff  Mine is       '</span>\n2. <span style=white-space:pre-wrap>' TrevSully  ThomboyD  elonmusk BTW  Musk bought into Tesla when it was one year old  He not only was an investor  he built the company  BTW  do you even know what  B shares  are '</span>\n3. <span style=white-space:pre-wrap>' TrevSully  ThomboyD  elonmusk He bought Tesla and built a handful of other companies  Musk is famously known to be an obsessed workaholic   That  has more to do with his success than anything else  You sound petty  jealous and small  When you accomplish what he accomplished  then you can bitch an moan '</span>\n4. <span style=white-space:pre-wrap>' Miss Violet      jamison casper  ThomboyD  elonmusk Tesla won t move  But if they do it will be because Musk thought it would be a positive  Further  the new location will employ lots of new people  Alameda county isn t the only place in the U S  that needs jobs '</span>\n5. <span style=white-space:pre-wrap>' jamison casper  Miss Violet      ThomboyD  elonmusk I believe the county approved Tesla s COVID    Prevention plan  subject to some additional requirements  and will  with the police  enforce safe distancing  Doesn t seem to be an issue '</span>\n6. <span style=white-space:pre-wrap>' jamison casper  Miss Violet      ThomboyD  elonmusk What about other areas of the country where people are struggling and unemployment is going through the roof  Are Alameda people more important than people elsewhere  Tesla could help those people '</span>\n7. <span style=white-space:pre-wrap>' Miss Violet      jamison casper  ThomboyD  elonmusk Are people not mobile  Can they not move to a new Tesla location  Or does California prohibit people from leaving  I ve lived all over the place and am richer for the experience  Really narrow comment you made there '</span>\n8. <span style=white-space:pre-wrap>' jamison casper  Miss Violet      ThomboyD  elonmusk It s a legal issue  Does Tesla have to obey an unelected county health official  I m not a lawyer  The county  or Tesla  has a right to take this to court for clarification  In any event  the County cleared the way for Tesla to open '</span>\n9. <span style=white-space:pre-wrap>' teslaP D  elonmusk  Tesla   doors minimum  It s nice  add   doors '</span>\n10. <span style=white-space:pre-wrap>' StevenZWang  vincent         I hope so  But I am not sure it will happen right away  At least there are stores and service here in Texas  And a huge amount of Tesla s in the state  OK does not allow stores or service centers  Texas is the  rd largest auto sales state in the US      of trucks are here     '</span>\n11. <span style=white-space:pre-wrap>'This article says VW beat Tesla in Norway   Not true      of Norway s new cars had a plug in       Tesla Model   overall best seller via  electrekco  tesla  elonmusk'</span>\n12. <span style=white-space:pre-wrap>' JenniPlaster  vincent          Tesla  elonmusk Texas'</span>\n13. <span style=white-space:pre-wrap>' ElonMuskNewsOrg Oklahoma doesn t allow Tesla stores  or service centers in the state  At least Texas allows stores and service centers  Texas has     of all trucks in the US  We sell         vehicles per year  No state taxes and lots of unemployed oil and gas people      '</span>\n14. <span style=white-space:pre-wrap>'Anyone up for some bullshit from Investopedia  Lies  lies  lies      Elonmusk  Tesla   Big Risks of Investing in Tesla Stock via  investopedia'</span>\n15. <span style=white-space:pre-wrap>' thirdrowtesla  teslaownersSV  EliBurton   tesla truth  tesla raj  Teslatunity Let s move forward   Actions speak louder then words   We all need to take a deep breath and respond to things written and not react          '</span>\n\n\n",
            "text/html": [
              "<style>\n",
              ".list-inline {list-style: none; margin:0; padding: 0}\n",
              ".list-inline>li {display: inline-block}\n",
              ".list-inline>li:not(:last-child)::after {content: \"\\00b7\"; padding: 0 .5ex}\n",
              "</style>\n",
              "<ol class=list-inline><li><span style=white-space:pre-wrap>' BLKMDL   elonmusk  Tesla Oh sure ya showoff  Had to get the brand name fancy stuff  Mine is       '</span></li><li><span style=white-space:pre-wrap>' TrevSully  ThomboyD  elonmusk BTW  Musk bought into Tesla when it was one year old  He not only was an investor  he built the company  BTW  do you even know what  B shares  are '</span></li><li><span style=white-space:pre-wrap>' TrevSully  ThomboyD  elonmusk He bought Tesla and built a handful of other companies  Musk is famously known to be an obsessed workaholic   That  has more to do with his success than anything else  You sound petty  jealous and small  When you accomplish what he accomplished  then you can bitch an moan '</span></li><li><span style=white-space:pre-wrap>' Miss Violet      jamison casper  ThomboyD  elonmusk Tesla won t move  But if they do it will be because Musk thought it would be a positive  Further  the new location will employ lots of new people  Alameda county isn t the only place in the U S  that needs jobs '</span></li><li><span style=white-space:pre-wrap>' jamison casper  Miss Violet      ThomboyD  elonmusk I believe the county approved Tesla s COVID    Prevention plan  subject to some additional requirements  and will  with the police  enforce safe distancing  Doesn t seem to be an issue '</span></li><li><span style=white-space:pre-wrap>' jamison casper  Miss Violet      ThomboyD  elonmusk What about other areas of the country where people are struggling and unemployment is going through the roof  Are Alameda people more important than people elsewhere  Tesla could help those people '</span></li><li><span style=white-space:pre-wrap>' Miss Violet      jamison casper  ThomboyD  elonmusk Are people not mobile  Can they not move to a new Tesla location  Or does California prohibit people from leaving  I ve lived all over the place and am richer for the experience  Really narrow comment you made there '</span></li><li><span style=white-space:pre-wrap>' jamison casper  Miss Violet      ThomboyD  elonmusk It s a legal issue  Does Tesla have to obey an unelected county health official  I m not a lawyer  The county  or Tesla  has a right to take this to court for clarification  In any event  the County cleared the way for Tesla to open '</span></li><li><span style=white-space:pre-wrap>' teslaP D  elonmusk  Tesla   doors minimum  It s nice  add   doors '</span></li><li><span style=white-space:pre-wrap>' StevenZWang  vincent         I hope so  But I am not sure it will happen right away  At least there are stores and service here in Texas  And a huge amount of Tesla s in the state  OK does not allow stores or service centers  Texas is the  rd largest auto sales state in the US      of trucks are here     '</span></li><li><span style=white-space:pre-wrap>'This article says VW beat Tesla in Norway   Not true      of Norway s new cars had a plug in       Tesla Model   overall best seller via  electrekco  tesla  elonmusk'</span></li><li><span style=white-space:pre-wrap>' JenniPlaster  vincent          Tesla  elonmusk Texas'</span></li><li><span style=white-space:pre-wrap>' ElonMuskNewsOrg Oklahoma doesn t allow Tesla stores  or service centers in the state  At least Texas allows stores and service centers  Texas has     of all trucks in the US  We sell         vehicles per year  No state taxes and lots of unemployed oil and gas people      '</span></li><li><span style=white-space:pre-wrap>'Anyone up for some bullshit from Investopedia  Lies  lies  lies      Elonmusk  Tesla   Big Risks of Investing in Tesla Stock via  investopedia'</span></li><li><span style=white-space:pre-wrap>' thirdrowtesla  teslaownersSV  EliBurton   tesla truth  tesla raj  Teslatunity Let s move forward   Actions speak louder then words   We all need to take a deep breath and respond to things written and not react          '</span></li></ol>\n"
            ]
          },
          "metadata": {
            "tags": []
          }
        }
      ]
    },
    {
      "cell_type": "markdown",
      "metadata": {
        "id": "Q0WJvYlzt82w",
        "colab_type": "text"
      },
      "source": [
        "In the output, we can see that all content other than letters has been replaced with spaces."
      ]
    },
    {
      "cell_type": "markdown",
      "metadata": {
        "id": "SUSww_haulqW",
        "colab_type": "text"
      },
      "source": [
        "#### **iii)  Build a corpus**\n",
        "\n",
        "Convert the text to a corpus using the `tm` library.\n",
        "\n",
        "A corpus is a list of text documents and is the starting point for various text processing functions.\n"
      ]
    },
    {
      "cell_type": "code",
      "metadata": {
        "id": "NDq5Gcxnuhbj",
        "colab_type": "code",
        "colab": {
          "base_uri": "https://localhost:8080/",
          "height": 207
        },
        "outputId": "44221fc3-6f29-4239-91b0-65176145df49"
      },
      "source": [
        "# Load libraries\n",
        "library(tm)"
      ],
      "execution_count": null,
      "outputs": [
        {
          "output_type": "stream",
          "text": [
            "Loading required package: NLP\n",
            "\n",
            "\n",
            "Attaching package: ‘NLP’\n",
            "\n",
            "\n",
            "The following object is masked from ‘package:ggplot2’:\n",
            "\n",
            "    annotate\n",
            "\n",
            "\n"
          ],
          "name": "stderr"
        }
      ]
    },
    {
      "cell_type": "markdown",
      "metadata": {
        "id": "FxRjpQHHuv1t",
        "colab_type": "text"
      },
      "source": [
        "Two step process:\n",
        "\n",
        "1) Input the tweet_text as an argument to the VectorSource() function. \n",
        "This function converts the tweet text to a vector of texts. A vector is a sequence of elements of the same data type.\n",
        "\n",
        "2) This vector is next converted to a corpus using the Corpus() function. "
      ]
    },
    {
      "cell_type": "code",
      "metadata": {
        "id": "ksMRA_zYzirL",
        "colab_type": "code",
        "colab": {
          "base_uri": "https://localhost:8080/",
          "height": 449
        },
        "outputId": "1183768f-1028-478e-c463-a3f96858b2a6"
      },
      "source": [
        "# Convert processed text to a text corpus and view output\n",
        "twt_corpus <- twt_txt_chrs %>% \n",
        "                VectorSource() %>% \n",
        "                Corpus() \n",
        "\n",
        "# View the content column in the corpus\n",
        "head(twt_corpus$content, 15)"
      ],
      "execution_count": null,
      "outputs": [
        {
          "output_type": "display_data",
          "data": {
            "text/plain": [
              " [1] \" BLKMDL   elonmusk  Tesla Oh sure ya showoff  Had to get the brand name fancy stuff  Mine is       \"                                                                                                                                                                                                                \n",
              " [2] \" TrevSully  ThomboyD  elonmusk BTW  Musk bought into Tesla when it was one year old  He not only was an investor  he built the company  BTW  do you even know what  B shares  are \"                                                                                                                                 \n",
              " [3] \" TrevSully  ThomboyD  elonmusk He bought Tesla and built a handful of other companies  Musk is famously known to be an obsessed workaholic   That  has more to do with his success than anything else  You sound petty  jealous and small  When you accomplish what he accomplished  then you can bitch an moan \"   \n",
              " [4] \" Miss Violet      jamison casper  ThomboyD  elonmusk Tesla won t move  But if they do it will be because Musk thought it would be a positive  Further  the new location will employ lots of new people  Alameda county isn t the only place in the U S  that needs jobs \"                                           \n",
              " [5] \" jamison casper  Miss Violet      ThomboyD  elonmusk I believe the county approved Tesla s COVID    Prevention plan  subject to some additional requirements  and will  with the police  enforce safe distancing  Doesn t seem to be an issue \"                                                                     \n",
              " [6] \" jamison casper  Miss Violet      ThomboyD  elonmusk What about other areas of the country where people are struggling and unemployment is going through the roof  Are Alameda people more important than people elsewhere  Tesla could help those people \"                                                         \n",
              " [7] \" Miss Violet      jamison casper  ThomboyD  elonmusk Are people not mobile  Can they not move to a new Tesla location  Or does California prohibit people from leaving  I ve lived all over the place and am richer for the experience  Really narrow comment you made there \"                                      \n",
              " [8] \" jamison casper  Miss Violet      ThomboyD  elonmusk It s a legal issue  Does Tesla have to obey an unelected county health official  I m not a lawyer  The county  or Tesla  has a right to take this to court for clarification  In any event  the County cleared the way for Tesla to open \"                     \n",
              " [9] \" teslaP D  elonmusk  Tesla   doors minimum  It s nice  add   doors \"                                                                                                                                                                                                                                                \n",
              "[10] \" StevenZWang  vincent         I hope so  But I am not sure it will happen right away  At least there are stores and service here in Texas  And a huge amount of Tesla s in the state  OK does not allow stores or service centers  Texas is the  rd largest auto sales state in the US      of trucks are here     \"\n",
              "[11] \"This article says VW beat Tesla in Norway   Not true      of Norway s new cars had a plug in       Tesla Model   overall best seller via  electrekco  tesla  elonmusk\"                                                                                                                                              \n",
              "[12] \" JenniPlaster  vincent          Tesla  elonmusk Texas\"                                                                                                                                                                                                                                                              \n",
              "[13] \" ElonMuskNewsOrg Oklahoma doesn t allow Tesla stores  or service centers in the state  At least Texas allows stores and service centers  Texas has     of all trucks in the US  We sell         vehicles per year  No state taxes and lots of unemployed oil and gas people      \"                                  \n",
              "[14] \"Anyone up for some bullshit from Investopedia  Lies  lies  lies      Elonmusk  Tesla   Big Risks of Investing in Tesla Stock via  investopedia\"                                                                                                                                                                     \n",
              "[15] \" thirdrowtesla  teslaownersSV  EliBurton   tesla truth  tesla raj  Teslatunity Let s move forward   Actions speak louder then words   We all need to take a deep breath and respond to things written and not react          \"                                                                                      "
            ],
            "text/latex": "\\begin{enumerate*}\n\\item ' BLKMDL   elonmusk  Tesla Oh sure ya showoff  Had to get the brand name fancy stuff  Mine is       '\n\\item ' TrevSully  ThomboyD  elonmusk BTW  Musk bought into Tesla when it was one year old  He not only was an investor  he built the company  BTW  do you even know what  B shares  are '\n\\item ' TrevSully  ThomboyD  elonmusk He bought Tesla and built a handful of other companies  Musk is famously known to be an obsessed workaholic   That  has more to do with his success than anything else  You sound petty  jealous and small  When you accomplish what he accomplished  then you can bitch an moan '\n\\item ' Miss Violet      jamison casper  ThomboyD  elonmusk Tesla won t move  But if they do it will be because Musk thought it would be a positive  Further  the new location will employ lots of new people  Alameda county isn t the only place in the U S  that needs jobs '\n\\item ' jamison casper  Miss Violet      ThomboyD  elonmusk I believe the county approved Tesla s COVID    Prevention plan  subject to some additional requirements  and will  with the police  enforce safe distancing  Doesn t seem to be an issue '\n\\item ' jamison casper  Miss Violet      ThomboyD  elonmusk What about other areas of the country where people are struggling and unemployment is going through the roof  Are Alameda people more important than people elsewhere  Tesla could help those people '\n\\item ' Miss Violet      jamison casper  ThomboyD  elonmusk Are people not mobile  Can they not move to a new Tesla location  Or does California prohibit people from leaving  I ve lived all over the place and am richer for the experience  Really narrow comment you made there '\n\\item ' jamison casper  Miss Violet      ThomboyD  elonmusk It s a legal issue  Does Tesla have to obey an unelected county health official  I m not a lawyer  The county  or Tesla  has a right to take this to court for clarification  In any event  the County cleared the way for Tesla to open '\n\\item ' teslaP D  elonmusk  Tesla   doors minimum  It s nice  add   doors '\n\\item ' StevenZWang  vincent         I hope so  But I am not sure it will happen right away  At least there are stores and service here in Texas  And a huge amount of Tesla s in the state  OK does not allow stores or service centers  Texas is the  rd largest auto sales state in the US      of trucks are here     '\n\\item 'This article says VW beat Tesla in Norway   Not true      of Norway s new cars had a plug in       Tesla Model   overall best seller via  electrekco  tesla  elonmusk'\n\\item ' JenniPlaster  vincent          Tesla  elonmusk Texas'\n\\item ' ElonMuskNewsOrg Oklahoma doesn t allow Tesla stores  or service centers in the state  At least Texas allows stores and service centers  Texas has     of all trucks in the US  We sell         vehicles per year  No state taxes and lots of unemployed oil and gas people      '\n\\item 'Anyone up for some bullshit from Investopedia  Lies  lies  lies      Elonmusk  Tesla   Big Risks of Investing in Tesla Stock via  investopedia'\n\\item ' thirdrowtesla  teslaownersSV  EliBurton   tesla truth  tesla raj  Teslatunity Let s move forward   Actions speak louder then words   We all need to take a deep breath and respond to things written and not react          '\n\\end{enumerate*}\n",
            "text/markdown": "1. <span style=white-space:pre-wrap>' BLKMDL   elonmusk  Tesla Oh sure ya showoff  Had to get the brand name fancy stuff  Mine is       '</span>\n2. <span style=white-space:pre-wrap>' TrevSully  ThomboyD  elonmusk BTW  Musk bought into Tesla when it was one year old  He not only was an investor  he built the company  BTW  do you even know what  B shares  are '</span>\n3. <span style=white-space:pre-wrap>' TrevSully  ThomboyD  elonmusk He bought Tesla and built a handful of other companies  Musk is famously known to be an obsessed workaholic   That  has more to do with his success than anything else  You sound petty  jealous and small  When you accomplish what he accomplished  then you can bitch an moan '</span>\n4. <span style=white-space:pre-wrap>' Miss Violet      jamison casper  ThomboyD  elonmusk Tesla won t move  But if they do it will be because Musk thought it would be a positive  Further  the new location will employ lots of new people  Alameda county isn t the only place in the U S  that needs jobs '</span>\n5. <span style=white-space:pre-wrap>' jamison casper  Miss Violet      ThomboyD  elonmusk I believe the county approved Tesla s COVID    Prevention plan  subject to some additional requirements  and will  with the police  enforce safe distancing  Doesn t seem to be an issue '</span>\n6. <span style=white-space:pre-wrap>' jamison casper  Miss Violet      ThomboyD  elonmusk What about other areas of the country where people are struggling and unemployment is going through the roof  Are Alameda people more important than people elsewhere  Tesla could help those people '</span>\n7. <span style=white-space:pre-wrap>' Miss Violet      jamison casper  ThomboyD  elonmusk Are people not mobile  Can they not move to a new Tesla location  Or does California prohibit people from leaving  I ve lived all over the place and am richer for the experience  Really narrow comment you made there '</span>\n8. <span style=white-space:pre-wrap>' jamison casper  Miss Violet      ThomboyD  elonmusk It s a legal issue  Does Tesla have to obey an unelected county health official  I m not a lawyer  The county  or Tesla  has a right to take this to court for clarification  In any event  the County cleared the way for Tesla to open '</span>\n9. <span style=white-space:pre-wrap>' teslaP D  elonmusk  Tesla   doors minimum  It s nice  add   doors '</span>\n10. <span style=white-space:pre-wrap>' StevenZWang  vincent         I hope so  But I am not sure it will happen right away  At least there are stores and service here in Texas  And a huge amount of Tesla s in the state  OK does not allow stores or service centers  Texas is the  rd largest auto sales state in the US      of trucks are here     '</span>\n11. <span style=white-space:pre-wrap>'This article says VW beat Tesla in Norway   Not true      of Norway s new cars had a plug in       Tesla Model   overall best seller via  electrekco  tesla  elonmusk'</span>\n12. <span style=white-space:pre-wrap>' JenniPlaster  vincent          Tesla  elonmusk Texas'</span>\n13. <span style=white-space:pre-wrap>' ElonMuskNewsOrg Oklahoma doesn t allow Tesla stores  or service centers in the state  At least Texas allows stores and service centers  Texas has     of all trucks in the US  We sell         vehicles per year  No state taxes and lots of unemployed oil and gas people      '</span>\n14. <span style=white-space:pre-wrap>'Anyone up for some bullshit from Investopedia  Lies  lies  lies      Elonmusk  Tesla   Big Risks of Investing in Tesla Stock via  investopedia'</span>\n15. <span style=white-space:pre-wrap>' thirdrowtesla  teslaownersSV  EliBurton   tesla truth  tesla raj  Teslatunity Let s move forward   Actions speak louder then words   We all need to take a deep breath and respond to things written and not react          '</span>\n\n\n",
            "text/html": [
              "<style>\n",
              ".list-inline {list-style: none; margin:0; padding: 0}\n",
              ".list-inline>li {display: inline-block}\n",
              ".list-inline>li:not(:last-child)::after {content: \"\\00b7\"; padding: 0 .5ex}\n",
              "</style>\n",
              "<ol class=list-inline><li><span style=white-space:pre-wrap>' BLKMDL   elonmusk  Tesla Oh sure ya showoff  Had to get the brand name fancy stuff  Mine is       '</span></li><li><span style=white-space:pre-wrap>' TrevSully  ThomboyD  elonmusk BTW  Musk bought into Tesla when it was one year old  He not only was an investor  he built the company  BTW  do you even know what  B shares  are '</span></li><li><span style=white-space:pre-wrap>' TrevSully  ThomboyD  elonmusk He bought Tesla and built a handful of other companies  Musk is famously known to be an obsessed workaholic   That  has more to do with his success than anything else  You sound petty  jealous and small  When you accomplish what he accomplished  then you can bitch an moan '</span></li><li><span style=white-space:pre-wrap>' Miss Violet      jamison casper  ThomboyD  elonmusk Tesla won t move  But if they do it will be because Musk thought it would be a positive  Further  the new location will employ lots of new people  Alameda county isn t the only place in the U S  that needs jobs '</span></li><li><span style=white-space:pre-wrap>' jamison casper  Miss Violet      ThomboyD  elonmusk I believe the county approved Tesla s COVID    Prevention plan  subject to some additional requirements  and will  with the police  enforce safe distancing  Doesn t seem to be an issue '</span></li><li><span style=white-space:pre-wrap>' jamison casper  Miss Violet      ThomboyD  elonmusk What about other areas of the country where people are struggling and unemployment is going through the roof  Are Alameda people more important than people elsewhere  Tesla could help those people '</span></li><li><span style=white-space:pre-wrap>' Miss Violet      jamison casper  ThomboyD  elonmusk Are people not mobile  Can they not move to a new Tesla location  Or does California prohibit people from leaving  I ve lived all over the place and am richer for the experience  Really narrow comment you made there '</span></li><li><span style=white-space:pre-wrap>' jamison casper  Miss Violet      ThomboyD  elonmusk It s a legal issue  Does Tesla have to obey an unelected county health official  I m not a lawyer  The county  or Tesla  has a right to take this to court for clarification  In any event  the County cleared the way for Tesla to open '</span></li><li><span style=white-space:pre-wrap>' teslaP D  elonmusk  Tesla   doors minimum  It s nice  add   doors '</span></li><li><span style=white-space:pre-wrap>' StevenZWang  vincent         I hope so  But I am not sure it will happen right away  At least there are stores and service here in Texas  And a huge amount of Tesla s in the state  OK does not allow stores or service centers  Texas is the  rd largest auto sales state in the US      of trucks are here     '</span></li><li><span style=white-space:pre-wrap>'This article says VW beat Tesla in Norway   Not true      of Norway s new cars had a plug in       Tesla Model   overall best seller via  electrekco  tesla  elonmusk'</span></li><li><span style=white-space:pre-wrap>' JenniPlaster  vincent          Tesla  elonmusk Texas'</span></li><li><span style=white-space:pre-wrap>' ElonMuskNewsOrg Oklahoma doesn t allow Tesla stores  or service centers in the state  At least Texas allows stores and service centers  Texas has     of all trucks in the US  We sell         vehicles per year  No state taxes and lots of unemployed oil and gas people      '</span></li><li><span style=white-space:pre-wrap>'Anyone up for some bullshit from Investopedia  Lies  lies  lies      Elonmusk  Tesla   Big Risks of Investing in Tesla Stock via  investopedia'</span></li><li><span style=white-space:pre-wrap>' thirdrowtesla  teslaownersSV  EliBurton   tesla truth  tesla raj  Teslatunity Let s move forward   Actions speak louder then words   We all need to take a deep breath and respond to things written and not react          '</span></li></ol>\n"
            ]
          },
          "metadata": {
            "tags": []
          }
        }
      ]
    },
    {
      "cell_type": "markdown",
      "metadata": {
        "id": "czns93FYvHib",
        "colab_type": "text"
      },
      "source": [
        "The text is stored under `content` within the corpus just created."
      ]
    },
    {
      "cell_type": "markdown",
      "metadata": {
        "id": "loMsxz83zr0a",
        "colab_type": "text"
      },
      "source": [
        "#### **iv)  Convert corpus to lowercase**\n",
        "\n",
        "When we analyze text, we want to ensure that a word is not counted as two different words because the case is different in the two instances.\n",
        "\n",
        "Hence, we change all the words to lowercase using `tm_map()`. \n",
        "\n",
        "This function takes the tweet corpus and `tolower()` as arguments. `tolower()` converts upper-case characters in a character vector to lower-case."
      ]
    },
    {
      "cell_type": "code",
      "metadata": {
        "id": "DV0Nu883zoNL",
        "colab_type": "code",
        "colab": {
          "base_uri": "https://localhost:8080/",
          "height": 484
        },
        "outputId": "18c4f6d4-2655-4132-ad9d-4306f8ffbc68"
      },
      "source": [
        "# Convert the corpus to lowercase\n",
        "twt_corpus_lwr <- tm_map(twt_corpus, tolower) \n",
        "\n",
        "# View the corpus after converting to lowercase\n",
        "head(twt_corpus_lwr$content, 15)"
      ],
      "execution_count": null,
      "outputs": [
        {
          "output_type": "stream",
          "text": [
            "Warning message in tm_map.SimpleCorpus(twt_corpus, tolower):\n",
            "“transformation drops documents”\n"
          ],
          "name": "stderr"
        },
        {
          "output_type": "display_data",
          "data": {
            "text/plain": [
              " [1] \" blkmdl   elonmusk  tesla oh sure ya showoff  had to get the brand name fancy stuff  mine is       \"                                                                                                                                                                                                                \n",
              " [2] \" trevsully  thomboyd  elonmusk btw  musk bought into tesla when it was one year old  he not only was an investor  he built the company  btw  do you even know what  b shares  are \"                                                                                                                                 \n",
              " [3] \" trevsully  thomboyd  elonmusk he bought tesla and built a handful of other companies  musk is famously known to be an obsessed workaholic   that  has more to do with his success than anything else  you sound petty  jealous and small  when you accomplish what he accomplished  then you can bitch an moan \"   \n",
              " [4] \" miss violet      jamison casper  thomboyd  elonmusk tesla won t move  but if they do it will be because musk thought it would be a positive  further  the new location will employ lots of new people  alameda county isn t the only place in the u s  that needs jobs \"                                           \n",
              " [5] \" jamison casper  miss violet      thomboyd  elonmusk i believe the county approved tesla s covid    prevention plan  subject to some additional requirements  and will  with the police  enforce safe distancing  doesn t seem to be an issue \"                                                                     \n",
              " [6] \" jamison casper  miss violet      thomboyd  elonmusk what about other areas of the country where people are struggling and unemployment is going through the roof  are alameda people more important than people elsewhere  tesla could help those people \"                                                         \n",
              " [7] \" miss violet      jamison casper  thomboyd  elonmusk are people not mobile  can they not move to a new tesla location  or does california prohibit people from leaving  i ve lived all over the place and am richer for the experience  really narrow comment you made there \"                                      \n",
              " [8] \" jamison casper  miss violet      thomboyd  elonmusk it s a legal issue  does tesla have to obey an unelected county health official  i m not a lawyer  the county  or tesla  has a right to take this to court for clarification  in any event  the county cleared the way for tesla to open \"                     \n",
              " [9] \" teslap d  elonmusk  tesla   doors minimum  it s nice  add   doors \"                                                                                                                                                                                                                                                \n",
              "[10] \" stevenzwang  vincent         i hope so  but i am not sure it will happen right away  at least there are stores and service here in texas  and a huge amount of tesla s in the state  ok does not allow stores or service centers  texas is the  rd largest auto sales state in the us      of trucks are here     \"\n",
              "[11] \"this article says vw beat tesla in norway   not true      of norway s new cars had a plug in       tesla model   overall best seller via  electrekco  tesla  elonmusk\"                                                                                                                                              \n",
              "[12] \" jenniplaster  vincent          tesla  elonmusk texas\"                                                                                                                                                                                                                                                              \n",
              "[13] \" elonmusknewsorg oklahoma doesn t allow tesla stores  or service centers in the state  at least texas allows stores and service centers  texas has     of all trucks in the us  we sell         vehicles per year  no state taxes and lots of unemployed oil and gas people      \"                                  \n",
              "[14] \"anyone up for some bullshit from investopedia  lies  lies  lies      elonmusk  tesla   big risks of investing in tesla stock via  investopedia\"                                                                                                                                                                     \n",
              "[15] \" thirdrowtesla  teslaownerssv  eliburton   tesla truth  tesla raj  teslatunity let s move forward   actions speak louder then words   we all need to take a deep breath and respond to things written and not react          \"                                                                                      "
            ],
            "text/latex": "\\begin{enumerate*}\n\\item ' blkmdl   elonmusk  tesla oh sure ya showoff  had to get the brand name fancy stuff  mine is       '\n\\item ' trevsully  thomboyd  elonmusk btw  musk bought into tesla when it was one year old  he not only was an investor  he built the company  btw  do you even know what  b shares  are '\n\\item ' trevsully  thomboyd  elonmusk he bought tesla and built a handful of other companies  musk is famously known to be an obsessed workaholic   that  has more to do with his success than anything else  you sound petty  jealous and small  when you accomplish what he accomplished  then you can bitch an moan '\n\\item ' miss violet      jamison casper  thomboyd  elonmusk tesla won t move  but if they do it will be because musk thought it would be a positive  further  the new location will employ lots of new people  alameda county isn t the only place in the u s  that needs jobs '\n\\item ' jamison casper  miss violet      thomboyd  elonmusk i believe the county approved tesla s covid    prevention plan  subject to some additional requirements  and will  with the police  enforce safe distancing  doesn t seem to be an issue '\n\\item ' jamison casper  miss violet      thomboyd  elonmusk what about other areas of the country where people are struggling and unemployment is going through the roof  are alameda people more important than people elsewhere  tesla could help those people '\n\\item ' miss violet      jamison casper  thomboyd  elonmusk are people not mobile  can they not move to a new tesla location  or does california prohibit people from leaving  i ve lived all over the place and am richer for the experience  really narrow comment you made there '\n\\item ' jamison casper  miss violet      thomboyd  elonmusk it s a legal issue  does tesla have to obey an unelected county health official  i m not a lawyer  the county  or tesla  has a right to take this to court for clarification  in any event  the county cleared the way for tesla to open '\n\\item ' teslap d  elonmusk  tesla   doors minimum  it s nice  add   doors '\n\\item ' stevenzwang  vincent         i hope so  but i am not sure it will happen right away  at least there are stores and service here in texas  and a huge amount of tesla s in the state  ok does not allow stores or service centers  texas is the  rd largest auto sales state in the us      of trucks are here     '\n\\item 'this article says vw beat tesla in norway   not true      of norway s new cars had a plug in       tesla model   overall best seller via  electrekco  tesla  elonmusk'\n\\item ' jenniplaster  vincent          tesla  elonmusk texas'\n\\item ' elonmusknewsorg oklahoma doesn t allow tesla stores  or service centers in the state  at least texas allows stores and service centers  texas has     of all trucks in the us  we sell         vehicles per year  no state taxes and lots of unemployed oil and gas people      '\n\\item 'anyone up for some bullshit from investopedia  lies  lies  lies      elonmusk  tesla   big risks of investing in tesla stock via  investopedia'\n\\item ' thirdrowtesla  teslaownerssv  eliburton   tesla truth  tesla raj  teslatunity let s move forward   actions speak louder then words   we all need to take a deep breath and respond to things written and not react          '\n\\end{enumerate*}\n",
            "text/markdown": "1. <span style=white-space:pre-wrap>' blkmdl   elonmusk  tesla oh sure ya showoff  had to get the brand name fancy stuff  mine is       '</span>\n2. <span style=white-space:pre-wrap>' trevsully  thomboyd  elonmusk btw  musk bought into tesla when it was one year old  he not only was an investor  he built the company  btw  do you even know what  b shares  are '</span>\n3. <span style=white-space:pre-wrap>' trevsully  thomboyd  elonmusk he bought tesla and built a handful of other companies  musk is famously known to be an obsessed workaholic   that  has more to do with his success than anything else  you sound petty  jealous and small  when you accomplish what he accomplished  then you can bitch an moan '</span>\n4. <span style=white-space:pre-wrap>' miss violet      jamison casper  thomboyd  elonmusk tesla won t move  but if they do it will be because musk thought it would be a positive  further  the new location will employ lots of new people  alameda county isn t the only place in the u s  that needs jobs '</span>\n5. <span style=white-space:pre-wrap>' jamison casper  miss violet      thomboyd  elonmusk i believe the county approved tesla s covid    prevention plan  subject to some additional requirements  and will  with the police  enforce safe distancing  doesn t seem to be an issue '</span>\n6. <span style=white-space:pre-wrap>' jamison casper  miss violet      thomboyd  elonmusk what about other areas of the country where people are struggling and unemployment is going through the roof  are alameda people more important than people elsewhere  tesla could help those people '</span>\n7. <span style=white-space:pre-wrap>' miss violet      jamison casper  thomboyd  elonmusk are people not mobile  can they not move to a new tesla location  or does california prohibit people from leaving  i ve lived all over the place and am richer for the experience  really narrow comment you made there '</span>\n8. <span style=white-space:pre-wrap>' jamison casper  miss violet      thomboyd  elonmusk it s a legal issue  does tesla have to obey an unelected county health official  i m not a lawyer  the county  or tesla  has a right to take this to court for clarification  in any event  the county cleared the way for tesla to open '</span>\n9. <span style=white-space:pre-wrap>' teslap d  elonmusk  tesla   doors minimum  it s nice  add   doors '</span>\n10. <span style=white-space:pre-wrap>' stevenzwang  vincent         i hope so  but i am not sure it will happen right away  at least there are stores and service here in texas  and a huge amount of tesla s in the state  ok does not allow stores or service centers  texas is the  rd largest auto sales state in the us      of trucks are here     '</span>\n11. <span style=white-space:pre-wrap>'this article says vw beat tesla in norway   not true      of norway s new cars had a plug in       tesla model   overall best seller via  electrekco  tesla  elonmusk'</span>\n12. <span style=white-space:pre-wrap>' jenniplaster  vincent          tesla  elonmusk texas'</span>\n13. <span style=white-space:pre-wrap>' elonmusknewsorg oklahoma doesn t allow tesla stores  or service centers in the state  at least texas allows stores and service centers  texas has     of all trucks in the us  we sell         vehicles per year  no state taxes and lots of unemployed oil and gas people      '</span>\n14. <span style=white-space:pre-wrap>'anyone up for some bullshit from investopedia  lies  lies  lies      elonmusk  tesla   big risks of investing in tesla stock via  investopedia'</span>\n15. <span style=white-space:pre-wrap>' thirdrowtesla  teslaownerssv  eliburton   tesla truth  tesla raj  teslatunity let s move forward   actions speak louder then words   we all need to take a deep breath and respond to things written and not react          '</span>\n\n\n",
            "text/html": [
              "<style>\n",
              ".list-inline {list-style: none; margin:0; padding: 0}\n",
              ".list-inline>li {display: inline-block}\n",
              ".list-inline>li:not(:last-child)::after {content: \"\\00b7\"; padding: 0 .5ex}\n",
              "</style>\n",
              "<ol class=list-inline><li><span style=white-space:pre-wrap>' blkmdl   elonmusk  tesla oh sure ya showoff  had to get the brand name fancy stuff  mine is       '</span></li><li><span style=white-space:pre-wrap>' trevsully  thomboyd  elonmusk btw  musk bought into tesla when it was one year old  he not only was an investor  he built the company  btw  do you even know what  b shares  are '</span></li><li><span style=white-space:pre-wrap>' trevsully  thomboyd  elonmusk he bought tesla and built a handful of other companies  musk is famously known to be an obsessed workaholic   that  has more to do with his success than anything else  you sound petty  jealous and small  when you accomplish what he accomplished  then you can bitch an moan '</span></li><li><span style=white-space:pre-wrap>' miss violet      jamison casper  thomboyd  elonmusk tesla won t move  but if they do it will be because musk thought it would be a positive  further  the new location will employ lots of new people  alameda county isn t the only place in the u s  that needs jobs '</span></li><li><span style=white-space:pre-wrap>' jamison casper  miss violet      thomboyd  elonmusk i believe the county approved tesla s covid    prevention plan  subject to some additional requirements  and will  with the police  enforce safe distancing  doesn t seem to be an issue '</span></li><li><span style=white-space:pre-wrap>' jamison casper  miss violet      thomboyd  elonmusk what about other areas of the country where people are struggling and unemployment is going through the roof  are alameda people more important than people elsewhere  tesla could help those people '</span></li><li><span style=white-space:pre-wrap>' miss violet      jamison casper  thomboyd  elonmusk are people not mobile  can they not move to a new tesla location  or does california prohibit people from leaving  i ve lived all over the place and am richer for the experience  really narrow comment you made there '</span></li><li><span style=white-space:pre-wrap>' jamison casper  miss violet      thomboyd  elonmusk it s a legal issue  does tesla have to obey an unelected county health official  i m not a lawyer  the county  or tesla  has a right to take this to court for clarification  in any event  the county cleared the way for tesla to open '</span></li><li><span style=white-space:pre-wrap>' teslap d  elonmusk  tesla   doors minimum  it s nice  add   doors '</span></li><li><span style=white-space:pre-wrap>' stevenzwang  vincent         i hope so  but i am not sure it will happen right away  at least there are stores and service here in texas  and a huge amount of tesla s in the state  ok does not allow stores or service centers  texas is the  rd largest auto sales state in the us      of trucks are here     '</span></li><li><span style=white-space:pre-wrap>'this article says vw beat tesla in norway   not true      of norway s new cars had a plug in       tesla model   overall best seller via  electrekco  tesla  elonmusk'</span></li><li><span style=white-space:pre-wrap>' jenniplaster  vincent          tesla  elonmusk texas'</span></li><li><span style=white-space:pre-wrap>' elonmusknewsorg oklahoma doesn t allow tesla stores  or service centers in the state  at least texas allows stores and service centers  texas has     of all trucks in the us  we sell         vehicles per year  no state taxes and lots of unemployed oil and gas people      '</span></li><li><span style=white-space:pre-wrap>'anyone up for some bullshit from investopedia  lies  lies  lies      elonmusk  tesla   big risks of investing in tesla stock via  investopedia'</span></li><li><span style=white-space:pre-wrap>' thirdrowtesla  teslaownerssv  eliburton   tesla truth  tesla raj  teslatunity let s move forward   actions speak louder then words   we all need to take a deep breath and respond to things written and not react          '</span></li></ol>\n"
            ]
          },
          "metadata": {
            "tags": []
          }
        }
      ]
    },
    {
      "cell_type": "markdown",
      "metadata": {
        "id": "MhNejd1WwVE2",
        "colab_type": "text"
      },
      "source": [
        "All characters in the corpus are now converted to lowercase."
      ]
    },
    {
      "cell_type": "markdown",
      "metadata": {
        "id": "L83UJ1vi0Rk9",
        "colab_type": "text"
      },
      "source": [
        "#### **v) Remove stop words from the Corpus**\n",
        "\n",
        "Stop words are commonly used words like a, an, and but. Such words need to be removed to focus on the important words in the corpus.\n",
        "\n",
        "`stopwords()` from the `tm` library has a list of default English stop words.\n",
        "\n",
        "Remove the default English stop words from our corpus using the `removeWords()` function available in `tm_map()`. \n",
        "\n",
        "`tm_map()` takes 3 arguments:\n",
        "the corpus, `removeWords()`, and `stopwords()` with \"english\" as its value.\n"
      ]
    },
    {
      "cell_type": "code",
      "metadata": {
        "id": "lc4UA7OD0UvV",
        "colab_type": "code",
        "colab": {
          "base_uri": "https://localhost:8080/",
          "height": 466
        },
        "outputId": "c278750a-7878-4593-add7-d9b69eff61d6"
      },
      "source": [
        "# Remove English stop words from the corpus and view the corpus\n",
        "twt_corpus_stpwd <- tm_map(twt_corpus_lwr, removeWords, stopwords(\"english\"))\n",
        "\n",
        "# View the content column\n",
        "head(twt_corpus_stpwd$content, 15)"
      ],
      "execution_count": null,
      "outputs": [
        {
          "output_type": "stream",
          "text": [
            "Warning message in tm_map.SimpleCorpus(twt_corpus_lwr, removeWords, stopwords(\"english\")):\n",
            "“transformation drops documents”\n"
          ],
          "name": "stderr"
        },
        {
          "output_type": "display_data",
          "data": {
            "text/plain": [
              " [1] \" blkmdl   elonmusk  tesla oh sure ya showoff    get  brand name fancy stuff  mine        \"                                                                                                                                                   \n",
              " [2] \" trevsully  thomboyd  elonmusk btw  musk bought  tesla    one year old       investor   built  company  btw    even know   b shares   \"                                                                                                      \n",
              " [3] \" trevsully  thomboyd  elonmusk  bought tesla  built  handful   companies  musk  famously known    obsessed workaholic           success  anything else   sound petty  jealous  small    accomplish   accomplished    can bitch  moan \"       \n",
              " [4] \" miss violet      jamison casper  thomboyd  elonmusk tesla won t move       will   musk thought     positive     new location will employ lots  new people  alameda county isn t   place   u s   needs jobs \"                                \n",
              " [5] \" jamison casper  miss violet      thomboyd  elonmusk  believe  county approved tesla s covid    prevention plan  subject   additional requirements   will    police  enforce safe distancing  doesn t seem    issue \"                        \n",
              " [6] \" jamison casper  miss violet      thomboyd  elonmusk    areas   country  people  struggling  unemployment  going   roof   alameda people  important  people elsewhere  tesla  help  people \"                                                 \n",
              " [7] \" miss violet      jamison casper  thomboyd  elonmusk  people  mobile  can   move   new tesla location    california prohibit people  leaving   ve lived    place   richer   experience  really narrow comment  made  \"                       \n",
              " [8] \" jamison casper  miss violet      thomboyd  elonmusk  s  legal issue   tesla   obey  unelected county health official   m   lawyer   county   tesla    right  take   court  clarification    event   county cleared  way  tesla  open \"      \n",
              " [9] \" teslap d  elonmusk  tesla   doors minimum   s nice  add   doors \"                                                                                                                                                                           \n",
              "[10] \" stevenzwang  vincent          hope       sure  will happen right away   least   stores  service   texas    huge amount  tesla s   state  ok   allow stores  service centers  texas    rd largest auto sales state   us       trucks       \" \n",
              "[11] \" article says vw beat tesla  norway    true       norway s new cars   plug        tesla model   overall best seller via  electrekco  tesla  elonmusk\"                                                                                        \n",
              "[12] \" jenniplaster  vincent          tesla  elonmusk texas\"                                                                                                                                                                                       \n",
              "[13] \" elonmusknewsorg oklahoma doesn t allow tesla stores   service centers   state   least texas allows stores  service centers  texas        trucks   us   sell         vehicles per year   state taxes  lots  unemployed oil  gas people      \"\n",
              "[14] \"anyone    bullshit  investopedia  lies  lies  lies      elonmusk  tesla   big risks  investing  tesla stock via  investopedia\"                                                                                                               \n",
              "[15] \" thirdrowtesla  teslaownerssv  eliburton   tesla truth  tesla raj  teslatunity let s move forward   actions speak louder  words     need  take  deep breath  respond  things written   react          \"                                      "
            ],
            "text/latex": "\\begin{enumerate*}\n\\item ' blkmdl   elonmusk  tesla oh sure ya showoff    get  brand name fancy stuff  mine        '\n\\item ' trevsully  thomboyd  elonmusk btw  musk bought  tesla    one year old       investor   built  company  btw    even know   b shares   '\n\\item ' trevsully  thomboyd  elonmusk  bought tesla  built  handful   companies  musk  famously known    obsessed workaholic           success  anything else   sound petty  jealous  small    accomplish   accomplished    can bitch  moan '\n\\item ' miss violet      jamison casper  thomboyd  elonmusk tesla won t move       will   musk thought     positive     new location will employ lots  new people  alameda county isn t   place   u s   needs jobs '\n\\item ' jamison casper  miss violet      thomboyd  elonmusk  believe  county approved tesla s covid    prevention plan  subject   additional requirements   will    police  enforce safe distancing  doesn t seem    issue '\n\\item ' jamison casper  miss violet      thomboyd  elonmusk    areas   country  people  struggling  unemployment  going   roof   alameda people  important  people elsewhere  tesla  help  people '\n\\item ' miss violet      jamison casper  thomboyd  elonmusk  people  mobile  can   move   new tesla location    california prohibit people  leaving   ve lived    place   richer   experience  really narrow comment  made  '\n\\item ' jamison casper  miss violet      thomboyd  elonmusk  s  legal issue   tesla   obey  unelected county health official   m   lawyer   county   tesla    right  take   court  clarification    event   county cleared  way  tesla  open '\n\\item ' teslap d  elonmusk  tesla   doors minimum   s nice  add   doors '\n\\item ' stevenzwang  vincent          hope       sure  will happen right away   least   stores  service   texas    huge amount  tesla s   state  ok   allow stores  service centers  texas    rd largest auto sales state   us       trucks       '\n\\item ' article says vw beat tesla  norway    true       norway s new cars   plug        tesla model   overall best seller via  electrekco  tesla  elonmusk'\n\\item ' jenniplaster  vincent          tesla  elonmusk texas'\n\\item ' elonmusknewsorg oklahoma doesn t allow tesla stores   service centers   state   least texas allows stores  service centers  texas        trucks   us   sell         vehicles per year   state taxes  lots  unemployed oil  gas people      '\n\\item 'anyone    bullshit  investopedia  lies  lies  lies      elonmusk  tesla   big risks  investing  tesla stock via  investopedia'\n\\item ' thirdrowtesla  teslaownerssv  eliburton   tesla truth  tesla raj  teslatunity let s move forward   actions speak louder  words     need  take  deep breath  respond  things written   react          '\n\\end{enumerate*}\n",
            "text/markdown": "1. <span style=white-space:pre-wrap>' blkmdl   elonmusk  tesla oh sure ya showoff    get  brand name fancy stuff  mine        '</span>\n2. <span style=white-space:pre-wrap>' trevsully  thomboyd  elonmusk btw  musk bought  tesla    one year old       investor   built  company  btw    even know   b shares   '</span>\n3. <span style=white-space:pre-wrap>' trevsully  thomboyd  elonmusk  bought tesla  built  handful   companies  musk  famously known    obsessed workaholic           success  anything else   sound petty  jealous  small    accomplish   accomplished    can bitch  moan '</span>\n4. <span style=white-space:pre-wrap>' miss violet      jamison casper  thomboyd  elonmusk tesla won t move       will   musk thought     positive     new location will employ lots  new people  alameda county isn t   place   u s   needs jobs '</span>\n5. <span style=white-space:pre-wrap>' jamison casper  miss violet      thomboyd  elonmusk  believe  county approved tesla s covid    prevention plan  subject   additional requirements   will    police  enforce safe distancing  doesn t seem    issue '</span>\n6. <span style=white-space:pre-wrap>' jamison casper  miss violet      thomboyd  elonmusk    areas   country  people  struggling  unemployment  going   roof   alameda people  important  people elsewhere  tesla  help  people '</span>\n7. <span style=white-space:pre-wrap>' miss violet      jamison casper  thomboyd  elonmusk  people  mobile  can   move   new tesla location    california prohibit people  leaving   ve lived    place   richer   experience  really narrow comment  made  '</span>\n8. <span style=white-space:pre-wrap>' jamison casper  miss violet      thomboyd  elonmusk  s  legal issue   tesla   obey  unelected county health official   m   lawyer   county   tesla    right  take   court  clarification    event   county cleared  way  tesla  open '</span>\n9. <span style=white-space:pre-wrap>' teslap d  elonmusk  tesla   doors minimum   s nice  add   doors '</span>\n10. <span style=white-space:pre-wrap>' stevenzwang  vincent          hope       sure  will happen right away   least   stores  service   texas    huge amount  tesla s   state  ok   allow stores  service centers  texas    rd largest auto sales state   us       trucks       '</span>\n11. <span style=white-space:pre-wrap>' article says vw beat tesla  norway    true       norway s new cars   plug        tesla model   overall best seller via  electrekco  tesla  elonmusk'</span>\n12. <span style=white-space:pre-wrap>' jenniplaster  vincent          tesla  elonmusk texas'</span>\n13. <span style=white-space:pre-wrap>' elonmusknewsorg oklahoma doesn t allow tesla stores   service centers   state   least texas allows stores  service centers  texas        trucks   us   sell         vehicles per year   state taxes  lots  unemployed oil  gas people      '</span>\n14. <span style=white-space:pre-wrap>'anyone    bullshit  investopedia  lies  lies  lies      elonmusk  tesla   big risks  investing  tesla stock via  investopedia'</span>\n15. <span style=white-space:pre-wrap>' thirdrowtesla  teslaownerssv  eliburton   tesla truth  tesla raj  teslatunity let s move forward   actions speak louder  words     need  take  deep breath  respond  things written   react          '</span>\n\n\n",
            "text/html": [
              "<style>\n",
              ".list-inline {list-style: none; margin:0; padding: 0}\n",
              ".list-inline>li {display: inline-block}\n",
              ".list-inline>li:not(:last-child)::after {content: \"\\00b7\"; padding: 0 .5ex}\n",
              "</style>\n",
              "<ol class=list-inline><li><span style=white-space:pre-wrap>' blkmdl   elonmusk  tesla oh sure ya showoff    get  brand name fancy stuff  mine        '</span></li><li><span style=white-space:pre-wrap>' trevsully  thomboyd  elonmusk btw  musk bought  tesla    one year old       investor   built  company  btw    even know   b shares   '</span></li><li><span style=white-space:pre-wrap>' trevsully  thomboyd  elonmusk  bought tesla  built  handful   companies  musk  famously known    obsessed workaholic           success  anything else   sound petty  jealous  small    accomplish   accomplished    can bitch  moan '</span></li><li><span style=white-space:pre-wrap>' miss violet      jamison casper  thomboyd  elonmusk tesla won t move       will   musk thought     positive     new location will employ lots  new people  alameda county isn t   place   u s   needs jobs '</span></li><li><span style=white-space:pre-wrap>' jamison casper  miss violet      thomboyd  elonmusk  believe  county approved tesla s covid    prevention plan  subject   additional requirements   will    police  enforce safe distancing  doesn t seem    issue '</span></li><li><span style=white-space:pre-wrap>' jamison casper  miss violet      thomboyd  elonmusk    areas   country  people  struggling  unemployment  going   roof   alameda people  important  people elsewhere  tesla  help  people '</span></li><li><span style=white-space:pre-wrap>' miss violet      jamison casper  thomboyd  elonmusk  people  mobile  can   move   new tesla location    california prohibit people  leaving   ve lived    place   richer   experience  really narrow comment  made  '</span></li><li><span style=white-space:pre-wrap>' jamison casper  miss violet      thomboyd  elonmusk  s  legal issue   tesla   obey  unelected county health official   m   lawyer   county   tesla    right  take   court  clarification    event   county cleared  way  tesla  open '</span></li><li><span style=white-space:pre-wrap>' teslap d  elonmusk  tesla   doors minimum   s nice  add   doors '</span></li><li><span style=white-space:pre-wrap>' stevenzwang  vincent          hope       sure  will happen right away   least   stores  service   texas    huge amount  tesla s   state  ok   allow stores  service centers  texas    rd largest auto sales state   us       trucks       '</span></li><li><span style=white-space:pre-wrap>' article says vw beat tesla  norway    true       norway s new cars   plug        tesla model   overall best seller via  electrekco  tesla  elonmusk'</span></li><li><span style=white-space:pre-wrap>' jenniplaster  vincent          tesla  elonmusk texas'</span></li><li><span style=white-space:pre-wrap>' elonmusknewsorg oklahoma doesn t allow tesla stores   service centers   state   least texas allows stores  service centers  texas        trucks   us   sell         vehicles per year   state taxes  lots  unemployed oil  gas people      '</span></li><li><span style=white-space:pre-wrap>'anyone    bullshit  investopedia  lies  lies  lies      elonmusk  tesla   big risks  investing  tesla stock via  investopedia'</span></li><li><span style=white-space:pre-wrap>' thirdrowtesla  teslaownerssv  eliburton   tesla truth  tesla raj  teslatunity let s move forward   actions speak louder  words     need  take  deep breath  respond  things written   react          '</span></li></ol>\n"
            ]
          },
          "metadata": {
            "tags": []
          }
        }
      ]
    },
    {
      "cell_type": "markdown",
      "metadata": {
        "id": "ToY0IzUwxguw",
        "colab_type": "text"
      },
      "source": [
        "The common stop words are now removed from the corpus."
      ]
    },
    {
      "cell_type": "markdown",
      "metadata": {
        "id": "v1g0sYLw0di2",
        "colab_type": "text"
      },
      "source": [
        "#### **vi) Remove additional spaces from the Corpus**\n",
        "\n",
        "The additional spaces created in the previous processing steps need to be removed to create a clean corpus.\n",
        "\n",
        "The additional spaces are removed using `tm_map()` which takes two arguments: \n",
        "\n",
        "the corpus and the function `stripWhitespace()` which collapses multiple spaces to a single space."
      ]
    },
    {
      "cell_type": "code",
      "metadata": {
        "id": "9_Ifqier0fJ6",
        "colab_type": "code",
        "colab": {
          "base_uri": "https://localhost:8080/",
          "height": 415
        },
        "outputId": "f64673e7-c5bc-4e08-9298-0545ff56f7ac"
      },
      "source": [
        "# Remove additional spaces from the corpus\n",
        "twt_corpus_stpwd2 <- tm_map(twt_corpus_stpwd, stripWhitespace)\n",
        "\n",
        "# View the text corpus after removing spaces\n",
        "head(twt_corpus_stpwd2$content, 15)"
      ],
      "execution_count": null,
      "outputs": [
        {
          "output_type": "stream",
          "text": [
            "Warning message in tm_map.SimpleCorpus(twt_corpus_stpwd, stripWhitespace):\n",
            "“transformation drops documents”\n"
          ],
          "name": "stderr"
        },
        {
          "output_type": "display_data",
          "data": {
            "text/plain": [
              " [1] \" blkmdl elonmusk tesla oh sure ya showoff get brand name fancy stuff mine \"                                                                                                                             \n",
              " [2] \" trevsully thomboyd elonmusk btw musk bought tesla one year old investor built company btw even know b shares \"                                                                                         \n",
              " [3] \" trevsully thomboyd elonmusk bought tesla built handful companies musk famously known obsessed workaholic success anything else sound petty jealous small accomplish accomplished can bitch moan \"      \n",
              " [4] \" miss violet jamison casper thomboyd elonmusk tesla won t move will musk thought positive new location will employ lots new people alameda county isn t place u s needs jobs \"                          \n",
              " [5] \" jamison casper miss violet thomboyd elonmusk believe county approved tesla s covid prevention plan subject additional requirements will police enforce safe distancing doesn t seem issue \"            \n",
              " [6] \" jamison casper miss violet thomboyd elonmusk areas country people struggling unemployment going roof alameda people important people elsewhere tesla help people \"                                     \n",
              " [7] \" miss violet jamison casper thomboyd elonmusk people mobile can move new tesla location california prohibit people leaving ve lived place richer experience really narrow comment made \"                \n",
              " [8] \" jamison casper miss violet thomboyd elonmusk s legal issue tesla obey unelected county health official m lawyer county tesla right take court clarification event county cleared way tesla open \"      \n",
              " [9] \" teslap d elonmusk tesla doors minimum s nice add doors \"                                                                                                                                               \n",
              "[10] \" stevenzwang vincent hope sure will happen right away least stores service texas huge amount tesla s state ok allow stores service centers texas rd largest auto sales state us trucks \"                \n",
              "[11] \" article says vw beat tesla norway true norway s new cars plug tesla model overall best seller via electrekco tesla elonmusk\"                                                                           \n",
              "[12] \" jenniplaster vincent tesla elonmusk texas\"                                                                                                                                                             \n",
              "[13] \" elonmusknewsorg oklahoma doesn t allow tesla stores service centers state least texas allows stores service centers texas trucks us sell vehicles per year state taxes lots unemployed oil gas people \"\n",
              "[14] \"anyone bullshit investopedia lies lies lies elonmusk tesla big risks investing tesla stock via investopedia\"                                                                                            \n",
              "[15] \" thirdrowtesla teslaownerssv eliburton tesla truth tesla raj teslatunity let s move forward actions speak louder words need take deep breath respond things written react \"                             "
            ],
            "text/latex": "\\begin{enumerate*}\n\\item ' blkmdl elonmusk tesla oh sure ya showoff get brand name fancy stuff mine '\n\\item ' trevsully thomboyd elonmusk btw musk bought tesla one year old investor built company btw even know b shares '\n\\item ' trevsully thomboyd elonmusk bought tesla built handful companies musk famously known obsessed workaholic success anything else sound petty jealous small accomplish accomplished can bitch moan '\n\\item ' miss violet jamison casper thomboyd elonmusk tesla won t move will musk thought positive new location will employ lots new people alameda county isn t place u s needs jobs '\n\\item ' jamison casper miss violet thomboyd elonmusk believe county approved tesla s covid prevention plan subject additional requirements will police enforce safe distancing doesn t seem issue '\n\\item ' jamison casper miss violet thomboyd elonmusk areas country people struggling unemployment going roof alameda people important people elsewhere tesla help people '\n\\item ' miss violet jamison casper thomboyd elonmusk people mobile can move new tesla location california prohibit people leaving ve lived place richer experience really narrow comment made '\n\\item ' jamison casper miss violet thomboyd elonmusk s legal issue tesla obey unelected county health official m lawyer county tesla right take court clarification event county cleared way tesla open '\n\\item ' teslap d elonmusk tesla doors minimum s nice add doors '\n\\item ' stevenzwang vincent hope sure will happen right away least stores service texas huge amount tesla s state ok allow stores service centers texas rd largest auto sales state us trucks '\n\\item ' article says vw beat tesla norway true norway s new cars plug tesla model overall best seller via electrekco tesla elonmusk'\n\\item ' jenniplaster vincent tesla elonmusk texas'\n\\item ' elonmusknewsorg oklahoma doesn t allow tesla stores service centers state least texas allows stores service centers texas trucks us sell vehicles per year state taxes lots unemployed oil gas people '\n\\item 'anyone bullshit investopedia lies lies lies elonmusk tesla big risks investing tesla stock via investopedia'\n\\item ' thirdrowtesla teslaownerssv eliburton tesla truth tesla raj teslatunity let s move forward actions speak louder words need take deep breath respond things written react '\n\\end{enumerate*}\n",
            "text/markdown": "1. ' blkmdl elonmusk tesla oh sure ya showoff get brand name fancy stuff mine '\n2. ' trevsully thomboyd elonmusk btw musk bought tesla one year old investor built company btw even know b shares '\n3. ' trevsully thomboyd elonmusk bought tesla built handful companies musk famously known obsessed workaholic success anything else sound petty jealous small accomplish accomplished can bitch moan '\n4. ' miss violet jamison casper thomboyd elonmusk tesla won t move will musk thought positive new location will employ lots new people alameda county isn t place u s needs jobs '\n5. ' jamison casper miss violet thomboyd elonmusk believe county approved tesla s covid prevention plan subject additional requirements will police enforce safe distancing doesn t seem issue '\n6. ' jamison casper miss violet thomboyd elonmusk areas country people struggling unemployment going roof alameda people important people elsewhere tesla help people '\n7. ' miss violet jamison casper thomboyd elonmusk people mobile can move new tesla location california prohibit people leaving ve lived place richer experience really narrow comment made '\n8. ' jamison casper miss violet thomboyd elonmusk s legal issue tesla obey unelected county health official m lawyer county tesla right take court clarification event county cleared way tesla open '\n9. ' teslap d elonmusk tesla doors minimum s nice add doors '\n10. ' stevenzwang vincent hope sure will happen right away least stores service texas huge amount tesla s state ok allow stores service centers texas rd largest auto sales state us trucks '\n11. ' article says vw beat tesla norway true norway s new cars plug tesla model overall best seller via electrekco tesla elonmusk'\n12. ' jenniplaster vincent tesla elonmusk texas'\n13. ' elonmusknewsorg oklahoma doesn t allow tesla stores service centers state least texas allows stores service centers texas trucks us sell vehicles per year state taxes lots unemployed oil gas people '\n14. 'anyone bullshit investopedia lies lies lies elonmusk tesla big risks investing tesla stock via investopedia'\n15. ' thirdrowtesla teslaownerssv eliburton tesla truth tesla raj teslatunity let s move forward actions speak louder words need take deep breath respond things written react '\n\n\n",
            "text/html": [
              "<style>\n",
              ".list-inline {list-style: none; margin:0; padding: 0}\n",
              ".list-inline>li {display: inline-block}\n",
              ".list-inline>li:not(:last-child)::after {content: \"\\00b7\"; padding: 0 .5ex}\n",
              "</style>\n",
              "<ol class=list-inline><li>' blkmdl elonmusk tesla oh sure ya showoff get brand name fancy stuff mine '</li><li>' trevsully thomboyd elonmusk btw musk bought tesla one year old investor built company btw even know b shares '</li><li>' trevsully thomboyd elonmusk bought tesla built handful companies musk famously known obsessed workaholic success anything else sound petty jealous small accomplish accomplished can bitch moan '</li><li>' miss violet jamison casper thomboyd elonmusk tesla won t move will musk thought positive new location will employ lots new people alameda county isn t place u s needs jobs '</li><li>' jamison casper miss violet thomboyd elonmusk believe county approved tesla s covid prevention plan subject additional requirements will police enforce safe distancing doesn t seem issue '</li><li>' jamison casper miss violet thomboyd elonmusk areas country people struggling unemployment going roof alameda people important people elsewhere tesla help people '</li><li>' miss violet jamison casper thomboyd elonmusk people mobile can move new tesla location california prohibit people leaving ve lived place richer experience really narrow comment made '</li><li>' jamison casper miss violet thomboyd elonmusk s legal issue tesla obey unelected county health official m lawyer county tesla right take court clarification event county cleared way tesla open '</li><li>' teslap d elonmusk tesla doors minimum s nice add doors '</li><li>' stevenzwang vincent hope sure will happen right away least stores service texas huge amount tesla s state ok allow stores service centers texas rd largest auto sales state us trucks '</li><li>' article says vw beat tesla norway true norway s new cars plug tesla model overall best seller via electrekco tesla elonmusk'</li><li>' jenniplaster vincent tesla elonmusk texas'</li><li>' elonmusknewsorg oklahoma doesn t allow tesla stores service centers state least texas allows stores service centers texas trucks us sell vehicles per year state taxes lots unemployed oil gas people '</li><li>'anyone bullshit investopedia lies lies lies elonmusk tesla big risks investing tesla stock via investopedia'</li><li>' thirdrowtesla teslaownerssv eliburton tesla truth tesla raj teslatunity let s move forward actions speak louder words need take deep breath respond things written react '</li></ol>\n"
            ]
          },
          "metadata": {
            "tags": []
          }
        }
      ]
    },
    {
      "cell_type": "markdown",
      "metadata": {
        "id": "tN5z5gMhyLA9",
        "colab_type": "text"
      },
      "source": [
        "The additional spaces are now removed from the corpus."
      ]
    },
    {
      "cell_type": "markdown",
      "metadata": {
        "id": "D6K-eTmZ00hJ",
        "colab_type": "text"
      },
      "source": [
        "#### **vii) Remove custom stop words from the Corpus**\n",
        "\n",
        "In the corpus, frequently appearing terms like `tesla`, `sure`, `can`, `will`  etc do not add any value to the corpus. Such terms need to be removed to create a meaningul, refined corpus that can be used for anlaysis.\n",
        "\n",
        "To do this, first extract a list of most frequent terms in the Corpus and use this list to remove the frequently occuring custom stop words.\n"
      ]
    },
    {
      "cell_type": "markdown",
      "metadata": {
        "id": "HtSmwBIlyPmz",
        "colab_type": "text"
      },
      "source": [
        "The first step is to extract the number of occurrences of each word, called term frequency, using the `freq_terms()` function from the `qdap` library."
      ]
    },
    {
      "cell_type": "code",
      "metadata": {
        "id": "jxVXn0tl014E",
        "colab_type": "code",
        "colab": {}
      },
      "source": [
        "# Load the library qdap\n",
        "library(qdap)"
      ],
      "execution_count": null,
      "outputs": []
    },
    {
      "cell_type": "markdown",
      "metadata": {
        "id": "ZGnlA8bI0FfG",
        "colab_type": "text"
      },
      "source": [
        "The `freq_terms()` function takes two arguments: the corpus and the top \"n\" terms to be extracted based on the number of occurrences.\n",
        "\n",
        "Let's extract term frequencies for top 60 words in the Corpus."
      ]
    },
    {
      "cell_type": "code",
      "metadata": {
        "id": "tUgeRQ3U3FzU",
        "colab_type": "code",
        "colab": {
          "base_uri": "https://localhost:8080/",
          "height": 1000
        },
        "outputId": "243c70d2-3985-4220-ff3c-b9df3c494315"
      },
      "source": [
        "# Extract term frequencies for top 60 words in the Corpus\n",
        "termfreq  <-  freq_terms(twt_corpus_stpwd2, 60)\n",
        "\n",
        "# View the output\n",
        "termfreq"
      ],
      "execution_count": null,
      "outputs": [
        {
          "output_type": "display_data",
          "data": {
            "text/plain": [
              "      WORD       FREQ \n",
              "24925 tesla      19035\n",
              "21723 s           5543\n",
              "7873  elonmusk    4791\n",
              "24513 t           2851\n",
              "27825 will        1709\n",
              "7863  elon        1583\n",
              "3587  can         1569\n",
              "14493 like        1538\n",
              "13362 just        1389\n",
              "16684 musk        1345\n",
              "3671  car         1256\n",
              "16263 model       1082\n",
              "17808 one         1069\n",
              "15039 m           1020\n",
              "10100 get          977\n",
              "17094 new          961\n",
              "17450 now          934\n",
              "3749  cars         909\n",
              "7079  don          902\n",
              "23393 spacex       894\n",
              "18632 people       882\n",
              "860   amp          841\n",
              "3418  buy          766\n",
              "25407 think        751\n",
              "13789 know         683\n",
              "2084  battery      682\n",
              "8721  factory      667\n",
              "27435 want         652\n",
              "10323 going        651\n",
              "3530  california   643\n",
              "25122 texas        643\n",
              "7770  electric     606\n",
              "25574 time         606\n",
              "15171 make         571\n",
              "4848  company      564\n",
              "20387 re           557\n",
              "10352 good         552\n",
              "22251 see          551\n",
              "1632  austin       545\n",
              "10285 go           529\n",
              "26811 us           520\n",
              "8390  even         516\n",
              "27531 way          513\n",
              "16961 need         506\n",
              "747   also         503\n",
              "17140 next         500\n",
              "16347 money        499\n",
              "27105 via          487\n",
              "16619 much         485\n",
              "28000 work         485\n",
              "20456 really       480\n",
              "17085 never        467\n",
              "21272 right        457\n",
              "26188 tsla         452\n",
              "14869 love         448\n",
              "15292 many         442\n",
              "23867 still        442\n",
              "5876  d            426\n",
              "26224 tulsa        414\n",
              "24560 take         411"
            ],
            "text/latex": "A freq\\_terms: 60 × 2\n\\begin{tabular}{r|ll}\n  & WORD & FREQ\\\\\n  & <chr> & <dbl>\\\\\n\\hline\n\t24925 & tesla      & 19035\\\\\n\t21723 & s          &  5543\\\\\n\t7873 & elonmusk   &  4791\\\\\n\t24513 & t          &  2851\\\\\n\t27825 & will       &  1709\\\\\n\t7863 & elon       &  1583\\\\\n\t3587 & can        &  1569\\\\\n\t14493 & like       &  1538\\\\\n\t13362 & just       &  1389\\\\\n\t16684 & musk       &  1345\\\\\n\t3671 & car        &  1256\\\\\n\t16263 & model      &  1082\\\\\n\t17808 & one        &  1069\\\\\n\t15039 & m          &  1020\\\\\n\t10100 & get        &   977\\\\\n\t17094 & new        &   961\\\\\n\t17450 & now        &   934\\\\\n\t3749 & cars       &   909\\\\\n\t7079 & don        &   902\\\\\n\t23393 & spacex     &   894\\\\\n\t18632 & people     &   882\\\\\n\t860 & amp        &   841\\\\\n\t3418 & buy        &   766\\\\\n\t25407 & think      &   751\\\\\n\t13789 & know       &   683\\\\\n\t2084 & battery    &   682\\\\\n\t8721 & factory    &   667\\\\\n\t27435 & want       &   652\\\\\n\t10323 & going      &   651\\\\\n\t3530 & california &   643\\\\\n\t25122 & texas      &   643\\\\\n\t7770 & electric   &   606\\\\\n\t25574 & time       &   606\\\\\n\t15171 & make       &   571\\\\\n\t4848 & company    &   564\\\\\n\t20387 & re         &   557\\\\\n\t10352 & good       &   552\\\\\n\t22251 & see        &   551\\\\\n\t1632 & austin     &   545\\\\\n\t10285 & go         &   529\\\\\n\t26811 & us         &   520\\\\\n\t8390 & even       &   516\\\\\n\t27531 & way        &   513\\\\\n\t16961 & need       &   506\\\\\n\t747 & also       &   503\\\\\n\t17140 & next       &   500\\\\\n\t16347 & money      &   499\\\\\n\t27105 & via        &   487\\\\\n\t16619 & much       &   485\\\\\n\t28000 & work       &   485\\\\\n\t20456 & really     &   480\\\\\n\t17085 & never      &   467\\\\\n\t21272 & right      &   457\\\\\n\t26188 & tsla       &   452\\\\\n\t14869 & love       &   448\\\\\n\t15292 & many       &   442\\\\\n\t23867 & still      &   442\\\\\n\t5876 & d          &   426\\\\\n\t26224 & tulsa      &   414\\\\\n\t24560 & take       &   411\\\\\n\\end{tabular}\n",
            "text/markdown": "\nA freq_terms: 60 × 2\n\n| <!--/--> | WORD &lt;chr&gt; | FREQ &lt;dbl&gt; |\n|---|---|---|\n| 24925 | tesla      | 19035 |\n| 21723 | s          |  5543 |\n| 7873 | elonmusk   |  4791 |\n| 24513 | t          |  2851 |\n| 27825 | will       |  1709 |\n| 7863 | elon       |  1583 |\n| 3587 | can        |  1569 |\n| 14493 | like       |  1538 |\n| 13362 | just       |  1389 |\n| 16684 | musk       |  1345 |\n| 3671 | car        |  1256 |\n| 16263 | model      |  1082 |\n| 17808 | one        |  1069 |\n| 15039 | m          |  1020 |\n| 10100 | get        |   977 |\n| 17094 | new        |   961 |\n| 17450 | now        |   934 |\n| 3749 | cars       |   909 |\n| 7079 | don        |   902 |\n| 23393 | spacex     |   894 |\n| 18632 | people     |   882 |\n| 860 | amp        |   841 |\n| 3418 | buy        |   766 |\n| 25407 | think      |   751 |\n| 13789 | know       |   683 |\n| 2084 | battery    |   682 |\n| 8721 | factory    |   667 |\n| 27435 | want       |   652 |\n| 10323 | going      |   651 |\n| 3530 | california |   643 |\n| 25122 | texas      |   643 |\n| 7770 | electric   |   606 |\n| 25574 | time       |   606 |\n| 15171 | make       |   571 |\n| 4848 | company    |   564 |\n| 20387 | re         |   557 |\n| 10352 | good       |   552 |\n| 22251 | see        |   551 |\n| 1632 | austin     |   545 |\n| 10285 | go         |   529 |\n| 26811 | us         |   520 |\n| 8390 | even       |   516 |\n| 27531 | way        |   513 |\n| 16961 | need       |   506 |\n| 747 | also       |   503 |\n| 17140 | next       |   500 |\n| 16347 | money      |   499 |\n| 27105 | via        |   487 |\n| 16619 | much       |   485 |\n| 28000 | work       |   485 |\n| 20456 | really     |   480 |\n| 17085 | never      |   467 |\n| 21272 | right      |   457 |\n| 26188 | tsla       |   452 |\n| 14869 | love       |   448 |\n| 15292 | many       |   442 |\n| 23867 | still      |   442 |\n| 5876 | d          |   426 |\n| 26224 | tulsa      |   414 |\n| 24560 | take       |   411 |\n\n",
            "text/html": [
              "<table>\n",
              "<caption>A freq_terms: 60 × 2</caption>\n",
              "<thead>\n",
              "\t<tr><th></th><th scope=col>WORD</th><th scope=col>FREQ</th></tr>\n",
              "\t<tr><th></th><th scope=col>&lt;chr&gt;</th><th scope=col>&lt;dbl&gt;</th></tr>\n",
              "</thead>\n",
              "<tbody>\n",
              "\t<tr><th scope=row>24925</th><td>tesla     </td><td>19035</td></tr>\n",
              "\t<tr><th scope=row>21723</th><td>s         </td><td> 5543</td></tr>\n",
              "\t<tr><th scope=row>7873</th><td>elonmusk  </td><td> 4791</td></tr>\n",
              "\t<tr><th scope=row>24513</th><td>t         </td><td> 2851</td></tr>\n",
              "\t<tr><th scope=row>27825</th><td>will      </td><td> 1709</td></tr>\n",
              "\t<tr><th scope=row>7863</th><td>elon      </td><td> 1583</td></tr>\n",
              "\t<tr><th scope=row>3587</th><td>can       </td><td> 1569</td></tr>\n",
              "\t<tr><th scope=row>14493</th><td>like      </td><td> 1538</td></tr>\n",
              "\t<tr><th scope=row>13362</th><td>just      </td><td> 1389</td></tr>\n",
              "\t<tr><th scope=row>16684</th><td>musk      </td><td> 1345</td></tr>\n",
              "\t<tr><th scope=row>3671</th><td>car       </td><td> 1256</td></tr>\n",
              "\t<tr><th scope=row>16263</th><td>model     </td><td> 1082</td></tr>\n",
              "\t<tr><th scope=row>17808</th><td>one       </td><td> 1069</td></tr>\n",
              "\t<tr><th scope=row>15039</th><td>m         </td><td> 1020</td></tr>\n",
              "\t<tr><th scope=row>10100</th><td>get       </td><td>  977</td></tr>\n",
              "\t<tr><th scope=row>17094</th><td>new       </td><td>  961</td></tr>\n",
              "\t<tr><th scope=row>17450</th><td>now       </td><td>  934</td></tr>\n",
              "\t<tr><th scope=row>3749</th><td>cars      </td><td>  909</td></tr>\n",
              "\t<tr><th scope=row>7079</th><td>don       </td><td>  902</td></tr>\n",
              "\t<tr><th scope=row>23393</th><td>spacex    </td><td>  894</td></tr>\n",
              "\t<tr><th scope=row>18632</th><td>people    </td><td>  882</td></tr>\n",
              "\t<tr><th scope=row>860</th><td>amp       </td><td>  841</td></tr>\n",
              "\t<tr><th scope=row>3418</th><td>buy       </td><td>  766</td></tr>\n",
              "\t<tr><th scope=row>25407</th><td>think     </td><td>  751</td></tr>\n",
              "\t<tr><th scope=row>13789</th><td>know      </td><td>  683</td></tr>\n",
              "\t<tr><th scope=row>2084</th><td>battery   </td><td>  682</td></tr>\n",
              "\t<tr><th scope=row>8721</th><td>factory   </td><td>  667</td></tr>\n",
              "\t<tr><th scope=row>27435</th><td>want      </td><td>  652</td></tr>\n",
              "\t<tr><th scope=row>10323</th><td>going     </td><td>  651</td></tr>\n",
              "\t<tr><th scope=row>3530</th><td>california</td><td>  643</td></tr>\n",
              "\t<tr><th scope=row>25122</th><td>texas     </td><td>  643</td></tr>\n",
              "\t<tr><th scope=row>7770</th><td>electric  </td><td>  606</td></tr>\n",
              "\t<tr><th scope=row>25574</th><td>time      </td><td>  606</td></tr>\n",
              "\t<tr><th scope=row>15171</th><td>make      </td><td>  571</td></tr>\n",
              "\t<tr><th scope=row>4848</th><td>company   </td><td>  564</td></tr>\n",
              "\t<tr><th scope=row>20387</th><td>re        </td><td>  557</td></tr>\n",
              "\t<tr><th scope=row>10352</th><td>good      </td><td>  552</td></tr>\n",
              "\t<tr><th scope=row>22251</th><td>see       </td><td>  551</td></tr>\n",
              "\t<tr><th scope=row>1632</th><td>austin    </td><td>  545</td></tr>\n",
              "\t<tr><th scope=row>10285</th><td>go        </td><td>  529</td></tr>\n",
              "\t<tr><th scope=row>26811</th><td>us        </td><td>  520</td></tr>\n",
              "\t<tr><th scope=row>8390</th><td>even      </td><td>  516</td></tr>\n",
              "\t<tr><th scope=row>27531</th><td>way       </td><td>  513</td></tr>\n",
              "\t<tr><th scope=row>16961</th><td>need      </td><td>  506</td></tr>\n",
              "\t<tr><th scope=row>747</th><td>also      </td><td>  503</td></tr>\n",
              "\t<tr><th scope=row>17140</th><td>next      </td><td>  500</td></tr>\n",
              "\t<tr><th scope=row>16347</th><td>money     </td><td>  499</td></tr>\n",
              "\t<tr><th scope=row>27105</th><td>via       </td><td>  487</td></tr>\n",
              "\t<tr><th scope=row>16619</th><td>much      </td><td>  485</td></tr>\n",
              "\t<tr><th scope=row>28000</th><td>work      </td><td>  485</td></tr>\n",
              "\t<tr><th scope=row>20456</th><td>really    </td><td>  480</td></tr>\n",
              "\t<tr><th scope=row>17085</th><td>never     </td><td>  467</td></tr>\n",
              "\t<tr><th scope=row>21272</th><td>right     </td><td>  457</td></tr>\n",
              "\t<tr><th scope=row>26188</th><td>tsla      </td><td>  452</td></tr>\n",
              "\t<tr><th scope=row>14869</th><td>love      </td><td>  448</td></tr>\n",
              "\t<tr><th scope=row>15292</th><td>many      </td><td>  442</td></tr>\n",
              "\t<tr><th scope=row>23867</th><td>still     </td><td>  442</td></tr>\n",
              "\t<tr><th scope=row>5876</th><td>d         </td><td>  426</td></tr>\n",
              "\t<tr><th scope=row>26224</th><td>tulsa     </td><td>  414</td></tr>\n",
              "\t<tr><th scope=row>24560</th><td>take      </td><td>  411</td></tr>\n",
              "</tbody>\n",
              "</table>\n"
            ]
          },
          "metadata": {
            "tags": []
          }
        }
      ]
    },
    {
      "cell_type": "markdown",
      "metadata": {
        "id": "m1kPpvTa0aBT",
        "colab_type": "text"
      },
      "source": [
        "We can see high frequencies for custom stop words like `tesla`, `s`, `t`, `elon` (`elon musk` is retained).\n",
        "\n",
        "Create of vector of such high frequency custom stop words."
      ]
    },
    {
      "cell_type": "code",
      "metadata": {
        "id": "ibgIvnMJ1KHJ",
        "colab_type": "code",
        "colab": {}
      },
      "source": [
        "# Create a vector of custom stop words\n",
        "custom_stopwds <- c(\"tesla\", \"s\", \"t\", \"will\", \"elon\", \"can\", \"like\", \n",
        "\t\t\t\t\"just\", \"musk\", \"one\", \"m\",  \"get\", \"now\", \"cars\", \"amp\", \n",
        "                \"re\", \"go\", \"even\", \"via\")"
      ],
      "execution_count": null,
      "outputs": []
    },
    {
      "cell_type": "markdown",
      "metadata": {
        "id": "eL4gbqEb093X",
        "colab_type": "text"
      },
      "source": [
        "Apply `tm_map()` and `removeWords()` functions on the corpus to remove the custom stop words.\n",
        "\n",
        "`tm_map()` takes 3 arguments: the corpus, removeWords(), and the vector of custom stop words."
      ]
    },
    {
      "cell_type": "code",
      "metadata": {
        "id": "Dfol4E6r1LGR",
        "colab_type": "code",
        "colab": {
          "base_uri": "https://localhost:8080/",
          "height": 345
        },
        "outputId": "2b81662f-61e4-4805-a85f-3af947d4d2aa"
      },
      "source": [
        "# Remove custom stop words and create a refined corpus\n",
        "corp_refined <- tm_map(twt_corpus_stpwd2, removeWords, custom_stopwds)\n",
        "\n",
        "# View the text corpus after removing custom stop words\n",
        "head(corp_refined$content, 15)"
      ],
      "execution_count": null,
      "outputs": [
        {
          "output_type": "stream",
          "text": [
            "Warning message in tm_map.SimpleCorpus(twt_corpus_stpwd2, removeWords, custom_stopwds):\n",
            "“transformation drops documents”\n"
          ],
          "name": "stderr"
        },
        {
          "output_type": "display_data",
          "data": {
            "text/plain": [
              " [1] \" blkmdl elonmusk  oh sure ya showoff  brand name fancy stuff mine \"                                                                                                                               \n",
              " [2] \" trevsully thomboyd elonmusk btw  bought   year old investor built company btw  know b shares \"                                                                                                   \n",
              " [3] \" trevsully thomboyd elonmusk bought  built handful companies  famously known obsessed workaholic success anything else sound petty jealous small accomplish accomplished  bitch moan \"            \n",
              " [4] \" miss violet jamison casper thomboyd elonmusk  won  move   thought positive new location  employ lots new people alameda county isn  place u  needs jobs \"                                        \n",
              " [5] \" jamison casper miss violet thomboyd elonmusk believe county approved   covid prevention plan subject additional requirements  police enforce safe distancing doesn  seem issue \"                 \n",
              " [6] \" jamison casper miss violet thomboyd elonmusk areas country people struggling unemployment going roof alameda people important people elsewhere  help people \"                                    \n",
              " [7] \" miss violet jamison casper thomboyd elonmusk people mobile  move new  location california prohibit people leaving ve lived place richer experience really narrow comment made \"                  \n",
              " [8] \" jamison casper miss violet thomboyd elonmusk  legal issue  obey unelected county health official  lawyer county  right take court clarification event county cleared way  open \"                 \n",
              " [9] \" teslap d elonmusk  doors minimum  nice add doors \"                                                                                                                                               \n",
              "[10] \" stevenzwang vincent hope sure  happen right away least stores service texas huge amount   state ok allow stores service centers texas rd largest auto sales state us trucks \"                    \n",
              "[11] \" article says vw beat  norway true norway  new  plug  model overall best seller  electrekco  elonmusk\"                                                                                            \n",
              "[12] \" jenniplaster vincent  elonmusk texas\"                                                                                                                                                            \n",
              "[13] \" elonmusknewsorg oklahoma doesn  allow  stores service centers state least texas allows stores service centers texas trucks us sell vehicles per year state taxes lots unemployed oil gas people \"\n",
              "[14] \"anyone bullshit investopedia lies lies lies elonmusk  big risks investing  stock  investopedia\"                                                                                                   \n",
              "[15] \" thirdrowtesla teslaownerssv eliburton  truth  raj teslatunity let  move forward actions speak louder words need take deep breath respond things written react \"                                  "
            ],
            "text/latex": "\\begin{enumerate*}\n\\item ' blkmdl elonmusk  oh sure ya showoff  brand name fancy stuff mine '\n\\item ' trevsully thomboyd elonmusk btw  bought   year old investor built company btw  know b shares '\n\\item ' trevsully thomboyd elonmusk bought  built handful companies  famously known obsessed workaholic success anything else sound petty jealous small accomplish accomplished  bitch moan '\n\\item ' miss violet jamison casper thomboyd elonmusk  won  move   thought positive new location  employ lots new people alameda county isn  place u  needs jobs '\n\\item ' jamison casper miss violet thomboyd elonmusk believe county approved   covid prevention plan subject additional requirements  police enforce safe distancing doesn  seem issue '\n\\item ' jamison casper miss violet thomboyd elonmusk areas country people struggling unemployment going roof alameda people important people elsewhere  help people '\n\\item ' miss violet jamison casper thomboyd elonmusk people mobile  move new  location california prohibit people leaving ve lived place richer experience really narrow comment made '\n\\item ' jamison casper miss violet thomboyd elonmusk  legal issue  obey unelected county health official  lawyer county  right take court clarification event county cleared way  open '\n\\item ' teslap d elonmusk  doors minimum  nice add doors '\n\\item ' stevenzwang vincent hope sure  happen right away least stores service texas huge amount   state ok allow stores service centers texas rd largest auto sales state us trucks '\n\\item ' article says vw beat  norway true norway  new  plug  model overall best seller  electrekco  elonmusk'\n\\item ' jenniplaster vincent  elonmusk texas'\n\\item ' elonmusknewsorg oklahoma doesn  allow  stores service centers state least texas allows stores service centers texas trucks us sell vehicles per year state taxes lots unemployed oil gas people '\n\\item 'anyone bullshit investopedia lies lies lies elonmusk  big risks investing  stock  investopedia'\n\\item ' thirdrowtesla teslaownerssv eliburton  truth  raj teslatunity let  move forward actions speak louder words need take deep breath respond things written react '\n\\end{enumerate*}\n",
            "text/markdown": "1. <span style=white-space:pre-wrap>' blkmdl elonmusk  oh sure ya showoff  brand name fancy stuff mine '</span>\n2. <span style=white-space:pre-wrap>' trevsully thomboyd elonmusk btw  bought   year old investor built company btw  know b shares '</span>\n3. <span style=white-space:pre-wrap>' trevsully thomboyd elonmusk bought  built handful companies  famously known obsessed workaholic success anything else sound petty jealous small accomplish accomplished  bitch moan '</span>\n4. <span style=white-space:pre-wrap>' miss violet jamison casper thomboyd elonmusk  won  move   thought positive new location  employ lots new people alameda county isn  place u  needs jobs '</span>\n5. <span style=white-space:pre-wrap>' jamison casper miss violet thomboyd elonmusk believe county approved   covid prevention plan subject additional requirements  police enforce safe distancing doesn  seem issue '</span>\n6. <span style=white-space:pre-wrap>' jamison casper miss violet thomboyd elonmusk areas country people struggling unemployment going roof alameda people important people elsewhere  help people '</span>\n7. <span style=white-space:pre-wrap>' miss violet jamison casper thomboyd elonmusk people mobile  move new  location california prohibit people leaving ve lived place richer experience really narrow comment made '</span>\n8. <span style=white-space:pre-wrap>' jamison casper miss violet thomboyd elonmusk  legal issue  obey unelected county health official  lawyer county  right take court clarification event county cleared way  open '</span>\n9. <span style=white-space:pre-wrap>' teslap d elonmusk  doors minimum  nice add doors '</span>\n10. <span style=white-space:pre-wrap>' stevenzwang vincent hope sure  happen right away least stores service texas huge amount   state ok allow stores service centers texas rd largest auto sales state us trucks '</span>\n11. <span style=white-space:pre-wrap>' article says vw beat  norway true norway  new  plug  model overall best seller  electrekco  elonmusk'</span>\n12. <span style=white-space:pre-wrap>' jenniplaster vincent  elonmusk texas'</span>\n13. <span style=white-space:pre-wrap>' elonmusknewsorg oklahoma doesn  allow  stores service centers state least texas allows stores service centers texas trucks us sell vehicles per year state taxes lots unemployed oil gas people '</span>\n14. <span style=white-space:pre-wrap>'anyone bullshit investopedia lies lies lies elonmusk  big risks investing  stock  investopedia'</span>\n15. <span style=white-space:pre-wrap>' thirdrowtesla teslaownerssv eliburton  truth  raj teslatunity let  move forward actions speak louder words need take deep breath respond things written react '</span>\n\n\n",
            "text/html": [
              "<style>\n",
              ".list-inline {list-style: none; margin:0; padding: 0}\n",
              ".list-inline>li {display: inline-block}\n",
              ".list-inline>li:not(:last-child)::after {content: \"\\00b7\"; padding: 0 .5ex}\n",
              "</style>\n",
              "<ol class=list-inline><li><span style=white-space:pre-wrap>' blkmdl elonmusk  oh sure ya showoff  brand name fancy stuff mine '</span></li><li><span style=white-space:pre-wrap>' trevsully thomboyd elonmusk btw  bought   year old investor built company btw  know b shares '</span></li><li><span style=white-space:pre-wrap>' trevsully thomboyd elonmusk bought  built handful companies  famously known obsessed workaholic success anything else sound petty jealous small accomplish accomplished  bitch moan '</span></li><li><span style=white-space:pre-wrap>' miss violet jamison casper thomboyd elonmusk  won  move   thought positive new location  employ lots new people alameda county isn  place u  needs jobs '</span></li><li><span style=white-space:pre-wrap>' jamison casper miss violet thomboyd elonmusk believe county approved   covid prevention plan subject additional requirements  police enforce safe distancing doesn  seem issue '</span></li><li><span style=white-space:pre-wrap>' jamison casper miss violet thomboyd elonmusk areas country people struggling unemployment going roof alameda people important people elsewhere  help people '</span></li><li><span style=white-space:pre-wrap>' miss violet jamison casper thomboyd elonmusk people mobile  move new  location california prohibit people leaving ve lived place richer experience really narrow comment made '</span></li><li><span style=white-space:pre-wrap>' jamison casper miss violet thomboyd elonmusk  legal issue  obey unelected county health official  lawyer county  right take court clarification event county cleared way  open '</span></li><li><span style=white-space:pre-wrap>' teslap d elonmusk  doors minimum  nice add doors '</span></li><li><span style=white-space:pre-wrap>' stevenzwang vincent hope sure  happen right away least stores service texas huge amount   state ok allow stores service centers texas rd largest auto sales state us trucks '</span></li><li><span style=white-space:pre-wrap>' article says vw beat  norway true norway  new  plug  model overall best seller  electrekco  elonmusk'</span></li><li><span style=white-space:pre-wrap>' jenniplaster vincent  elonmusk texas'</span></li><li><span style=white-space:pre-wrap>' elonmusknewsorg oklahoma doesn  allow  stores service centers state least texas allows stores service centers texas trucks us sell vehicles per year state taxes lots unemployed oil gas people '</span></li><li><span style=white-space:pre-wrap>'anyone bullshit investopedia lies lies lies elonmusk  big risks investing  stock  investopedia'</span></li><li><span style=white-space:pre-wrap>' thirdrowtesla teslaownerssv eliburton  truth  raj teslatunity let  move forward actions speak louder words need take deep breath respond things written react '</span></li></ol>\n"
            ]
          },
          "metadata": {
            "tags": []
          }
        }
      ]
    },
    {
      "cell_type": "markdown",
      "metadata": {
        "id": "aYHjRRuB1TUl",
        "colab_type": "text"
      },
      "source": [
        "You can see that the corpus now has only important terms as the common and user-defined custom stop words have been removed."
      ]
    },
    {
      "cell_type": "markdown",
      "metadata": {
        "id": "ehppmu9d1cMq",
        "colab_type": "text"
      },
      "source": [
        "Check the frequently occuring top 60 words again to see if we get a different list."
      ]
    },
    {
      "cell_type": "code",
      "metadata": {
        "id": "25HVNdKi1Plw",
        "colab_type": "code",
        "colab": {
          "base_uri": "https://localhost:8080/",
          "height": 1000
        },
        "outputId": "fab199ae-18ac-4167-e2b4-a9cfeab1e2d1"
      },
      "source": [
        "# Extract term frequencies for the top 60 words\n",
        "termfreq_clean <- freq_terms(corp_refined, 60)\n",
        "\n",
        "# View the output\n",
        "termfreq_clean"
      ],
      "execution_count": null,
      "outputs": [
        {
          "output_type": "display_data",
          "data": {
            "text/plain": [
              "      WORD          FREQ\n",
              "7869  elonmusk      4791\n",
              "3669  car           1256\n",
              "16253 model         1082\n",
              "17083 new            961\n",
              "7076  don            902\n",
              "23378 spacex         894\n",
              "18619 people         882\n",
              "3417  buy            766\n",
              "25390 think          751\n",
              "13781 know           683\n",
              "2083  battery        682\n",
              "8716  factory        667\n",
              "27417 want           652\n",
              "10316 going          651\n",
              "3529  california     643\n",
              "25105 texas          643\n",
              "7767  electric       606\n",
              "25557 time           606\n",
              "15161 make           571\n",
              "4845  company        564\n",
              "10345 good           552\n",
              "22236 see            551\n",
              "1631  austin         545\n",
              "26794 us             520\n",
              "27513 way            513\n",
              "16950 need           506\n",
              "747   also           503\n",
              "17129 next           500\n",
              "16337 money          499\n",
              "16609 much           485\n",
              "27981 work           485\n",
              "20442 really         480\n",
              "17074 never          467\n",
              "21258 right          457\n",
              "26171 tsla           452\n",
              "14860 love           448\n",
              "15282 many           442\n",
              "23852 still          442\n",
              "5873  d              426\n",
              "26207 tulsa          414\n",
              "24544 take           411\n",
              "10537 great          408\n",
              "25400 thirdrowtesla  398\n",
              "28124 x              396\n",
              "28237 years          392\n",
              "14637 ll             387\n",
              "27625 well           387\n",
              "8358  ev             386\n",
              "6075  day            378\n",
              "8044  energy         378\n",
              "1823  back           376\n",
              "2372  better         374\n",
              "15075 made           355\n",
              "26980 ve             354\n",
              "7023  doesn          353\n",
              "23875 stock          353\n",
              "9144  first          348\n",
              "14345 let            347\n",
              "23717 state          336\n",
              "18990 plant          335"
            ],
            "text/latex": "A freq\\_terms: 60 × 2\n\\begin{tabular}{r|ll}\n  & WORD & FREQ\\\\\n  & <chr> & <dbl>\\\\\n\\hline\n\t7869 & elonmusk      & 4791\\\\\n\t3669 & car           & 1256\\\\\n\t16253 & model         & 1082\\\\\n\t17083 & new           &  961\\\\\n\t7076 & don           &  902\\\\\n\t23378 & spacex        &  894\\\\\n\t18619 & people        &  882\\\\\n\t3417 & buy           &  766\\\\\n\t25390 & think         &  751\\\\\n\t13781 & know          &  683\\\\\n\t2083 & battery       &  682\\\\\n\t8716 & factory       &  667\\\\\n\t27417 & want          &  652\\\\\n\t10316 & going         &  651\\\\\n\t3529 & california    &  643\\\\\n\t25105 & texas         &  643\\\\\n\t7767 & electric      &  606\\\\\n\t25557 & time          &  606\\\\\n\t15161 & make          &  571\\\\\n\t4845 & company       &  564\\\\\n\t10345 & good          &  552\\\\\n\t22236 & see           &  551\\\\\n\t1631 & austin        &  545\\\\\n\t26794 & us            &  520\\\\\n\t27513 & way           &  513\\\\\n\t16950 & need          &  506\\\\\n\t747 & also          &  503\\\\\n\t17129 & next          &  500\\\\\n\t16337 & money         &  499\\\\\n\t16609 & much          &  485\\\\\n\t27981 & work          &  485\\\\\n\t20442 & really        &  480\\\\\n\t17074 & never         &  467\\\\\n\t21258 & right         &  457\\\\\n\t26171 & tsla          &  452\\\\\n\t14860 & love          &  448\\\\\n\t15282 & many          &  442\\\\\n\t23852 & still         &  442\\\\\n\t5873 & d             &  426\\\\\n\t26207 & tulsa         &  414\\\\\n\t24544 & take          &  411\\\\\n\t10537 & great         &  408\\\\\n\t25400 & thirdrowtesla &  398\\\\\n\t28124 & x             &  396\\\\\n\t28237 & years         &  392\\\\\n\t14637 & ll            &  387\\\\\n\t27625 & well          &  387\\\\\n\t8358 & ev            &  386\\\\\n\t6075 & day           &  378\\\\\n\t8044 & energy        &  378\\\\\n\t1823 & back          &  376\\\\\n\t2372 & better        &  374\\\\\n\t15075 & made          &  355\\\\\n\t26980 & ve            &  354\\\\\n\t7023 & doesn         &  353\\\\\n\t23875 & stock         &  353\\\\\n\t9144 & first         &  348\\\\\n\t14345 & let           &  347\\\\\n\t23717 & state         &  336\\\\\n\t18990 & plant         &  335\\\\\n\\end{tabular}\n",
            "text/markdown": "\nA freq_terms: 60 × 2\n\n| <!--/--> | WORD &lt;chr&gt; | FREQ &lt;dbl&gt; |\n|---|---|---|\n| 7869 | elonmusk      | 4791 |\n| 3669 | car           | 1256 |\n| 16253 | model         | 1082 |\n| 17083 | new           |  961 |\n| 7076 | don           |  902 |\n| 23378 | spacex        |  894 |\n| 18619 | people        |  882 |\n| 3417 | buy           |  766 |\n| 25390 | think         |  751 |\n| 13781 | know          |  683 |\n| 2083 | battery       |  682 |\n| 8716 | factory       |  667 |\n| 27417 | want          |  652 |\n| 10316 | going         |  651 |\n| 3529 | california    |  643 |\n| 25105 | texas         |  643 |\n| 7767 | electric      |  606 |\n| 25557 | time          |  606 |\n| 15161 | make          |  571 |\n| 4845 | company       |  564 |\n| 10345 | good          |  552 |\n| 22236 | see           |  551 |\n| 1631 | austin        |  545 |\n| 26794 | us            |  520 |\n| 27513 | way           |  513 |\n| 16950 | need          |  506 |\n| 747 | also          |  503 |\n| 17129 | next          |  500 |\n| 16337 | money         |  499 |\n| 16609 | much          |  485 |\n| 27981 | work          |  485 |\n| 20442 | really        |  480 |\n| 17074 | never         |  467 |\n| 21258 | right         |  457 |\n| 26171 | tsla          |  452 |\n| 14860 | love          |  448 |\n| 15282 | many          |  442 |\n| 23852 | still         |  442 |\n| 5873 | d             |  426 |\n| 26207 | tulsa         |  414 |\n| 24544 | take          |  411 |\n| 10537 | great         |  408 |\n| 25400 | thirdrowtesla |  398 |\n| 28124 | x             |  396 |\n| 28237 | years         |  392 |\n| 14637 | ll            |  387 |\n| 27625 | well          |  387 |\n| 8358 | ev            |  386 |\n| 6075 | day           |  378 |\n| 8044 | energy        |  378 |\n| 1823 | back          |  376 |\n| 2372 | better        |  374 |\n| 15075 | made          |  355 |\n| 26980 | ve            |  354 |\n| 7023 | doesn         |  353 |\n| 23875 | stock         |  353 |\n| 9144 | first         |  348 |\n| 14345 | let           |  347 |\n| 23717 | state         |  336 |\n| 18990 | plant         |  335 |\n\n",
            "text/html": [
              "<table>\n",
              "<caption>A freq_terms: 60 × 2</caption>\n",
              "<thead>\n",
              "\t<tr><th></th><th scope=col>WORD</th><th scope=col>FREQ</th></tr>\n",
              "\t<tr><th></th><th scope=col>&lt;chr&gt;</th><th scope=col>&lt;dbl&gt;</th></tr>\n",
              "</thead>\n",
              "<tbody>\n",
              "\t<tr><th scope=row>7869</th><td>elonmusk     </td><td>4791</td></tr>\n",
              "\t<tr><th scope=row>3669</th><td>car          </td><td>1256</td></tr>\n",
              "\t<tr><th scope=row>16253</th><td>model        </td><td>1082</td></tr>\n",
              "\t<tr><th scope=row>17083</th><td>new          </td><td> 961</td></tr>\n",
              "\t<tr><th scope=row>7076</th><td>don          </td><td> 902</td></tr>\n",
              "\t<tr><th scope=row>23378</th><td>spacex       </td><td> 894</td></tr>\n",
              "\t<tr><th scope=row>18619</th><td>people       </td><td> 882</td></tr>\n",
              "\t<tr><th scope=row>3417</th><td>buy          </td><td> 766</td></tr>\n",
              "\t<tr><th scope=row>25390</th><td>think        </td><td> 751</td></tr>\n",
              "\t<tr><th scope=row>13781</th><td>know         </td><td> 683</td></tr>\n",
              "\t<tr><th scope=row>2083</th><td>battery      </td><td> 682</td></tr>\n",
              "\t<tr><th scope=row>8716</th><td>factory      </td><td> 667</td></tr>\n",
              "\t<tr><th scope=row>27417</th><td>want         </td><td> 652</td></tr>\n",
              "\t<tr><th scope=row>10316</th><td>going        </td><td> 651</td></tr>\n",
              "\t<tr><th scope=row>3529</th><td>california   </td><td> 643</td></tr>\n",
              "\t<tr><th scope=row>25105</th><td>texas        </td><td> 643</td></tr>\n",
              "\t<tr><th scope=row>7767</th><td>electric     </td><td> 606</td></tr>\n",
              "\t<tr><th scope=row>25557</th><td>time         </td><td> 606</td></tr>\n",
              "\t<tr><th scope=row>15161</th><td>make         </td><td> 571</td></tr>\n",
              "\t<tr><th scope=row>4845</th><td>company      </td><td> 564</td></tr>\n",
              "\t<tr><th scope=row>10345</th><td>good         </td><td> 552</td></tr>\n",
              "\t<tr><th scope=row>22236</th><td>see          </td><td> 551</td></tr>\n",
              "\t<tr><th scope=row>1631</th><td>austin       </td><td> 545</td></tr>\n",
              "\t<tr><th scope=row>26794</th><td>us           </td><td> 520</td></tr>\n",
              "\t<tr><th scope=row>27513</th><td>way          </td><td> 513</td></tr>\n",
              "\t<tr><th scope=row>16950</th><td>need         </td><td> 506</td></tr>\n",
              "\t<tr><th scope=row>747</th><td>also         </td><td> 503</td></tr>\n",
              "\t<tr><th scope=row>17129</th><td>next         </td><td> 500</td></tr>\n",
              "\t<tr><th scope=row>16337</th><td>money        </td><td> 499</td></tr>\n",
              "\t<tr><th scope=row>16609</th><td>much         </td><td> 485</td></tr>\n",
              "\t<tr><th scope=row>27981</th><td>work         </td><td> 485</td></tr>\n",
              "\t<tr><th scope=row>20442</th><td>really       </td><td> 480</td></tr>\n",
              "\t<tr><th scope=row>17074</th><td>never        </td><td> 467</td></tr>\n",
              "\t<tr><th scope=row>21258</th><td>right        </td><td> 457</td></tr>\n",
              "\t<tr><th scope=row>26171</th><td>tsla         </td><td> 452</td></tr>\n",
              "\t<tr><th scope=row>14860</th><td>love         </td><td> 448</td></tr>\n",
              "\t<tr><th scope=row>15282</th><td>many         </td><td> 442</td></tr>\n",
              "\t<tr><th scope=row>23852</th><td>still        </td><td> 442</td></tr>\n",
              "\t<tr><th scope=row>5873</th><td>d            </td><td> 426</td></tr>\n",
              "\t<tr><th scope=row>26207</th><td>tulsa        </td><td> 414</td></tr>\n",
              "\t<tr><th scope=row>24544</th><td>take         </td><td> 411</td></tr>\n",
              "\t<tr><th scope=row>10537</th><td>great        </td><td> 408</td></tr>\n",
              "\t<tr><th scope=row>25400</th><td>thirdrowtesla</td><td> 398</td></tr>\n",
              "\t<tr><th scope=row>28124</th><td>x            </td><td> 396</td></tr>\n",
              "\t<tr><th scope=row>28237</th><td>years        </td><td> 392</td></tr>\n",
              "\t<tr><th scope=row>14637</th><td>ll           </td><td> 387</td></tr>\n",
              "\t<tr><th scope=row>27625</th><td>well         </td><td> 387</td></tr>\n",
              "\t<tr><th scope=row>8358</th><td>ev           </td><td> 386</td></tr>\n",
              "\t<tr><th scope=row>6075</th><td>day          </td><td> 378</td></tr>\n",
              "\t<tr><th scope=row>8044</th><td>energy       </td><td> 378</td></tr>\n",
              "\t<tr><th scope=row>1823</th><td>back         </td><td> 376</td></tr>\n",
              "\t<tr><th scope=row>2372</th><td>better       </td><td> 374</td></tr>\n",
              "\t<tr><th scope=row>15075</th><td>made         </td><td> 355</td></tr>\n",
              "\t<tr><th scope=row>26980</th><td>ve           </td><td> 354</td></tr>\n",
              "\t<tr><th scope=row>7023</th><td>doesn        </td><td> 353</td></tr>\n",
              "\t<tr><th scope=row>23875</th><td>stock        </td><td> 353</td></tr>\n",
              "\t<tr><th scope=row>9144</th><td>first        </td><td> 348</td></tr>\n",
              "\t<tr><th scope=row>14345</th><td>let          </td><td> 347</td></tr>\n",
              "\t<tr><th scope=row>23717</th><td>state        </td><td> 336</td></tr>\n",
              "\t<tr><th scope=row>18990</th><td>plant        </td><td> 335</td></tr>\n",
              "</tbody>\n",
              "</table>\n"
            ]
          },
          "metadata": {
            "tags": []
          }
        }
      ]
    },
    {
      "cell_type": "markdown",
      "metadata": {
        "id": "bHe4l8-J5OPu",
        "colab_type": "text"
      },
      "source": [
        "### **4b) Understand brand perception by visualizing key terms in the corpus**"
      ]
    },
    {
      "cell_type": "markdown",
      "metadata": {
        "id": "IiVjZDde25cQ",
        "colab_type": "text"
      },
      "source": [
        "The most frequently used words in tweets are typically popular terms relevant to the topic tweeted.\n",
        "\n",
        "In this exercise, we will extract and visualize popular terms in our refined corpus using the bar plot and word cloud.\n"
      ]
    },
    {
      "cell_type": "markdown",
      "metadata": {
        "id": "FObNGVEB5syd",
        "colab_type": "text"
      },
      "source": [
        "#### **i) Identify top 15 words spoken about the brand**\n",
        "\n",
        "Let's extract and view the term frequency for the top 15 words from this refined corpus."
      ]
    },
    {
      "cell_type": "code",
      "metadata": {
        "id": "hmXUdVx_1Trk",
        "colab_type": "code",
        "colab": {
          "base_uri": "https://localhost:8080/",
          "height": 405
        },
        "outputId": "405b20e2-5feb-431f-eafa-6593c9accb10"
      },
      "source": [
        "# Extract term frequencies for the top 15 words\n",
        "termfreq_15w <- freq_terms(corp_refined, 15)\n",
        "termfreq_15w"
      ],
      "execution_count": null,
      "outputs": [
        {
          "output_type": "display_data",
          "data": {
            "text/plain": [
              "      WORD       FREQ\n",
              "7869  elonmusk   4791\n",
              "3669  car        1256\n",
              "16253 model      1082\n",
              "17083 new         961\n",
              "7076  don         902\n",
              "23378 spacex      894\n",
              "18619 people      882\n",
              "3417  buy         766\n",
              "25390 think       751\n",
              "13781 know        683\n",
              "2083  battery     682\n",
              "8716  factory     667\n",
              "27417 want        652\n",
              "10316 going       651\n",
              "3529  california  643\n",
              "25105 texas       643"
            ],
            "text/latex": "A freq\\_terms: 16 × 2\n\\begin{tabular}{r|ll}\n  & WORD & FREQ\\\\\n  & <chr> & <dbl>\\\\\n\\hline\n\t7869 & elonmusk   & 4791\\\\\n\t3669 & car        & 1256\\\\\n\t16253 & model      & 1082\\\\\n\t17083 & new        &  961\\\\\n\t7076 & don        &  902\\\\\n\t23378 & spacex     &  894\\\\\n\t18619 & people     &  882\\\\\n\t3417 & buy        &  766\\\\\n\t25390 & think      &  751\\\\\n\t13781 & know       &  683\\\\\n\t2083 & battery    &  682\\\\\n\t8716 & factory    &  667\\\\\n\t27417 & want       &  652\\\\\n\t10316 & going      &  651\\\\\n\t3529 & california &  643\\\\\n\t25105 & texas      &  643\\\\\n\\end{tabular}\n",
            "text/markdown": "\nA freq_terms: 16 × 2\n\n| <!--/--> | WORD &lt;chr&gt; | FREQ &lt;dbl&gt; |\n|---|---|---|\n| 7869 | elonmusk   | 4791 |\n| 3669 | car        | 1256 |\n| 16253 | model      | 1082 |\n| 17083 | new        |  961 |\n| 7076 | don        |  902 |\n| 23378 | spacex     |  894 |\n| 18619 | people     |  882 |\n| 3417 | buy        |  766 |\n| 25390 | think      |  751 |\n| 13781 | know       |  683 |\n| 2083 | battery    |  682 |\n| 8716 | factory    |  667 |\n| 27417 | want       |  652 |\n| 10316 | going      |  651 |\n| 3529 | california |  643 |\n| 25105 | texas      |  643 |\n\n",
            "text/html": [
              "<table>\n",
              "<caption>A freq_terms: 16 × 2</caption>\n",
              "<thead>\n",
              "\t<tr><th></th><th scope=col>WORD</th><th scope=col>FREQ</th></tr>\n",
              "\t<tr><th></th><th scope=col>&lt;chr&gt;</th><th scope=col>&lt;dbl&gt;</th></tr>\n",
              "</thead>\n",
              "<tbody>\n",
              "\t<tr><th scope=row>7869</th><td>elonmusk  </td><td>4791</td></tr>\n",
              "\t<tr><th scope=row>3669</th><td>car       </td><td>1256</td></tr>\n",
              "\t<tr><th scope=row>16253</th><td>model     </td><td>1082</td></tr>\n",
              "\t<tr><th scope=row>17083</th><td>new       </td><td> 961</td></tr>\n",
              "\t<tr><th scope=row>7076</th><td>don       </td><td> 902</td></tr>\n",
              "\t<tr><th scope=row>23378</th><td>spacex    </td><td> 894</td></tr>\n",
              "\t<tr><th scope=row>18619</th><td>people    </td><td> 882</td></tr>\n",
              "\t<tr><th scope=row>3417</th><td>buy       </td><td> 766</td></tr>\n",
              "\t<tr><th scope=row>25390</th><td>think     </td><td> 751</td></tr>\n",
              "\t<tr><th scope=row>13781</th><td>know      </td><td> 683</td></tr>\n",
              "\t<tr><th scope=row>2083</th><td>battery   </td><td> 682</td></tr>\n",
              "\t<tr><th scope=row>8716</th><td>factory   </td><td> 667</td></tr>\n",
              "\t<tr><th scope=row>27417</th><td>want      </td><td> 652</td></tr>\n",
              "\t<tr><th scope=row>10316</th><td>going     </td><td> 651</td></tr>\n",
              "\t<tr><th scope=row>3529</th><td>california</td><td> 643</td></tr>\n",
              "\t<tr><th scope=row>25105</th><td>texas     </td><td> 643</td></tr>\n",
              "</tbody>\n",
              "</table>\n"
            ]
          },
          "metadata": {
            "tags": []
          }
        }
      ]
    },
    {
      "cell_type": "markdown",
      "metadata": {
        "id": "J-b_QRkK4RLK",
        "colab_type": "text"
      },
      "source": [
        "The popular terms related to tweets on Tesla can be seen here.\n",
        "\n",
        "The brand promotion team can analyze these terms to understand the pulse of the audience.\n",
        "\n"
      ]
    },
    {
      "cell_type": "markdown",
      "metadata": {
        "id": "4uypR7Ox4zR4",
        "colab_type": "text"
      },
      "source": [
        "#### **ii) Visualize popular terms with bar plots**\n",
        "\n",
        "Bar plots help summarize popular terms in an easily interpretable visual form.\n",
        "\n",
        "Create a bar plot of terms that occur more than 60 times using `ggplot()`\n",
        "\n",
        "The first step is to create a subset dataframe of the terms that occur more than 60 times using the `subset()` function which takes two arguments:\n",
        "\n",
        "the frequent terms list and the condition `FREQ` column greater than `60`.\n"
      ]
    },
    {
      "cell_type": "code",
      "metadata": {
        "id": "3ocZDk8i5yEh",
        "colab_type": "code",
        "colab": {
          "base_uri": "https://localhost:8080/",
          "height": 405
        },
        "outputId": "910222fd-a82a-44a6-d6b4-b8f85ac881f6"
      },
      "source": [
        "# Identify terms with more than 60 counts from the top 15 list\n",
        "term60 <- subset(termfreq_15w, FREQ > 60)\n",
        "term60"
      ],
      "execution_count": null,
      "outputs": [
        {
          "output_type": "display_data",
          "data": {
            "text/plain": [
              "      WORD       FREQ\n",
              "7869  elonmusk   4791\n",
              "3669  car        1256\n",
              "16253 model      1082\n",
              "17083 new         961\n",
              "7076  don         902\n",
              "23378 spacex      894\n",
              "18619 people      882\n",
              "3417  buy         766\n",
              "25390 think       751\n",
              "13781 know        683\n",
              "2083  battery     682\n",
              "8716  factory     667\n",
              "27417 want        652\n",
              "10316 going       651\n",
              "3529  california  643\n",
              "25105 texas       643"
            ],
            "text/latex": "A freq\\_terms: 16 × 2\n\\begin{tabular}{r|ll}\n  & WORD & FREQ\\\\\n  & <chr> & <dbl>\\\\\n\\hline\n\t7869 & elonmusk   & 4791\\\\\n\t3669 & car        & 1256\\\\\n\t16253 & model      & 1082\\\\\n\t17083 & new        &  961\\\\\n\t7076 & don        &  902\\\\\n\t23378 & spacex     &  894\\\\\n\t18619 & people     &  882\\\\\n\t3417 & buy        &  766\\\\\n\t25390 & think      &  751\\\\\n\t13781 & know       &  683\\\\\n\t2083 & battery    &  682\\\\\n\t8716 & factory    &  667\\\\\n\t27417 & want       &  652\\\\\n\t10316 & going      &  651\\\\\n\t3529 & california &  643\\\\\n\t25105 & texas      &  643\\\\\n\\end{tabular}\n",
            "text/markdown": "\nA freq_terms: 16 × 2\n\n| <!--/--> | WORD &lt;chr&gt; | FREQ &lt;dbl&gt; |\n|---|---|---|\n| 7869 | elonmusk   | 4791 |\n| 3669 | car        | 1256 |\n| 16253 | model      | 1082 |\n| 17083 | new        |  961 |\n| 7076 | don        |  902 |\n| 23378 | spacex     |  894 |\n| 18619 | people     |  882 |\n| 3417 | buy        |  766 |\n| 25390 | think      |  751 |\n| 13781 | know       |  683 |\n| 2083 | battery    |  682 |\n| 8716 | factory    |  667 |\n| 27417 | want       |  652 |\n| 10316 | going      |  651 |\n| 3529 | california |  643 |\n| 25105 | texas      |  643 |\n\n",
            "text/html": [
              "<table>\n",
              "<caption>A freq_terms: 16 × 2</caption>\n",
              "<thead>\n",
              "\t<tr><th></th><th scope=col>WORD</th><th scope=col>FREQ</th></tr>\n",
              "\t<tr><th></th><th scope=col>&lt;chr&gt;</th><th scope=col>&lt;dbl&gt;</th></tr>\n",
              "</thead>\n",
              "<tbody>\n",
              "\t<tr><th scope=row>7869</th><td>elonmusk  </td><td>4791</td></tr>\n",
              "\t<tr><th scope=row>3669</th><td>car       </td><td>1256</td></tr>\n",
              "\t<tr><th scope=row>16253</th><td>model     </td><td>1082</td></tr>\n",
              "\t<tr><th scope=row>17083</th><td>new       </td><td> 961</td></tr>\n",
              "\t<tr><th scope=row>7076</th><td>don       </td><td> 902</td></tr>\n",
              "\t<tr><th scope=row>23378</th><td>spacex    </td><td> 894</td></tr>\n",
              "\t<tr><th scope=row>18619</th><td>people    </td><td> 882</td></tr>\n",
              "\t<tr><th scope=row>3417</th><td>buy       </td><td> 766</td></tr>\n",
              "\t<tr><th scope=row>25390</th><td>think     </td><td> 751</td></tr>\n",
              "\t<tr><th scope=row>13781</th><td>know      </td><td> 683</td></tr>\n",
              "\t<tr><th scope=row>2083</th><td>battery   </td><td> 682</td></tr>\n",
              "\t<tr><th scope=row>8716</th><td>factory   </td><td> 667</td></tr>\n",
              "\t<tr><th scope=row>27417</th><td>want      </td><td> 652</td></tr>\n",
              "\t<tr><th scope=row>10316</th><td>going     </td><td> 651</td></tr>\n",
              "\t<tr><th scope=row>3529</th><td>california</td><td> 643</td></tr>\n",
              "\t<tr><th scope=row>25105</th><td>texas     </td><td> 643</td></tr>\n",
              "</tbody>\n",
              "</table>\n"
            ]
          },
          "metadata": {
            "tags": []
          }
        }
      ]
    },
    {
      "cell_type": "markdown",
      "metadata": {
        "id": "U1Dvt4nA6E4p",
        "colab_type": "text"
      },
      "source": [
        "Create a bar plot with words sorted in descending order of FREQ column for the x-axis and their frequency counts for the y-axis"
      ]
    },
    {
      "cell_type": "code",
      "metadata": {
        "id": "y6t6wWw950Tq",
        "colab_type": "code",
        "colab": {
          "base_uri": "https://localhost:8080/",
          "height": 437
        },
        "outputId": "66eb248d-4597-4afa-ace4-87fa6f1531ef"
      },
      "source": [
        "# Create a bar plot using terms with more than 60 counts\n",
        "ggplot(term60, aes(x = reorder(WORD, -FREQ), y = FREQ)) + \n",
        "\t\tgeom_bar(stat = \"identity\", fill = \"red\") + \n",
        "\t\ttheme(axis.text.x = element_text(angle = 15, hjust = 1))"
      ],
      "execution_count": null,
      "outputs": [
        {
          "output_type": "display_data",
          "data": {
            "image/png": "[encoded data removed]",
            "text/plain": [
              "plot without title"
            ]
          },
          "metadata": {
            "tags": [],
            "image/png": {
              "width": 420,
              "height": 420
            },
            "text/plain": {
              "width": 420,
              "height": 420
            }
          }
        }
      ]
    },
    {
      "cell_type": "markdown",
      "metadata": {
        "id": "0VnNbvyc6qTA",
        "colab_type": "text"
      },
      "source": [
        "We can 'elonmusk' as the most popular word followed by related words like car, model, new, don and spacex. \n",
        "\n",
        "There is some discussion about battery of their electric car as well and also their location cities California and Texas.\n",
        "\n",
        "Bar plots quickly help summarize these popular terms in an easily interpretable form."
      ]
    },
    {
      "cell_type": "markdown",
      "metadata": {
        "id": "oy44nFe958Xy",
        "colab_type": "text"
      },
      "source": [
        "#### **iii) Visualize popular terms with word clouds**\n",
        "\n",
        "A word cloud is an image made up of words in which the size of each word indicates its frequency.\n"
      ]
    },
    {
      "cell_type": "markdown",
      "metadata": {
        "id": "fI2gj5Fn7sHf",
        "colab_type": "text"
      },
      "source": [
        "To create word clouds, we use the `wordcloud()` function from the `wordcloud` library. \n",
        "\n",
        "The `RColorBrewer` library provides some interesting color palettes to work with."
      ]
    },
    {
      "cell_type": "code",
      "metadata": {
        "id": "UaBT1xql5-TQ",
        "colab_type": "code",
        "colab": {}
      },
      "source": [
        "# Load libraries\n",
        "library(wordcloud)\n",
        "library(RColorBrewer)"
      ],
      "execution_count": null,
      "outputs": []
    },
    {
      "cell_type": "markdown",
      "metadata": {
        "id": "IcO4CmXp758D",
        "colab_type": "text"
      },
      "source": [
        "The `wordcloud()` function takes the following arguments:\n",
        "\n",
        "* the corpus, \n",
        "* `min.freq` set to include only terms with a minimum frequency, \n",
        "* `color` set to \"red\", \n",
        "* `scale` set to the range of font sizes, \n",
        "* `random.order` set to FALSE to fix the word pattern in the word cloud."
      ]
    },
    {
      "cell_type": "code",
      "metadata": {
        "id": "prwk0KDF6MqW",
        "colab_type": "code",
        "colab": {
          "base_uri": "https://localhost:8080/",
          "height": 437
        },
        "outputId": "b78fc554-9342-479d-c45d-efa08816fe5b"
      },
      "source": [
        "# Create a word cloud in red with min frequency of 100\n",
        "wordcloud(corp_refined, min.freq = 100, colors = \"red\", \n",
        "          scale = c(3,0.5),random.order = FALSE)"
      ],
      "execution_count": null,
      "outputs": [
        {
          "output_type": "display_data",
          "data": {
            "image/png": "[encoded data removed]",
            "text/plain": [
              "plot without title"
            ]
          },
          "metadata": {
            "tags": [],
            "image/png": {
              "width": 420,
              "height": 420
            },
            "text/plain": {
              "width": 420,
              "height": 420
            }
          }
        }
      ]
    },
    {
      "cell_type": "markdown",
      "metadata": {
        "id": "JXHTimC48QV3",
        "colab_type": "text"
      },
      "source": [
        "A word cloud highlighting high-frequency words in large font sizes is displayed as output.\n",
        "\n",
        "We can see that 'elonmusk' stands out as the most popular term. Also, similar to what we saw with the bar plot, terms like 'car', 'buy', 'spacex' are the other popular ones."
      ]
    },
    {
      "cell_type": "markdown",
      "metadata": {
        "id": "Ukix8aOX8xZk",
        "colab_type": "text"
      },
      "source": [
        "We can choose a color palette from the `RColorBrewer` library to make the word cloud colorful.\n",
        "\n",
        "Assign \"6\" colors from the “Dark2” palette of `brewer.pal()` and set the `max.words` argument to \"50\" to plot a word cloud of the top 50 words."
      ]
    },
    {
      "cell_type": "code",
      "metadata": {
        "id": "JCYc22cc6O5x",
        "colab_type": "code",
        "colab": {
          "base_uri": "https://localhost:8080/",
          "height": 437
        },
        "outputId": "aed49499-ff23-42a1-8aab-4e2b8a42f700"
      },
      "source": [
        "# Create word cloud with 6 colors and max 50 words\n",
        "wordcloud(corp_refined, max.words = 50, \n",
        "          colors = brewer.pal(6, \"Dark2\"), \n",
        "          scale=c(4,1), random.order = FALSE)"
      ],
      "execution_count": null,
      "outputs": [
        {
          "output_type": "display_data",
          "data": {
            "image/png": "[encoded data removed]",
            "text/plain": [
              "plot without title"
            ]
          },
          "metadata": {
            "tags": [],
            "image/png": {
              "width": 420,
              "height": 420
            },
            "text/plain": {
              "width": 420,
              "height": 420
            }
          }
        }
      ]
    },
    {
      "cell_type": "markdown",
      "metadata": {
        "id": "xJQlTlIX9Jsn",
        "colab_type": "text"
      },
      "source": [
        "We now have an interesting word cloud depicting popular terms from tweets on Tesla positioned at the centre of the word cloud to highlight their relevance and importance.\n",
        "\n",
        "One cn use word cloud as an effective promotional image for marketing campaigns as it communicates the brand messaging and highlights popular terms to convey the value of the content being shared.\n"
      ]
    },
    {
      "cell_type": "markdown",
      "metadata": {
        "id": "Ha4xxLNZ6T1a",
        "colab_type": "text"
      },
      "source": [
        "## 5.\t**Sentiment analysis of tweets to understand customer's feelings and sentiments about a brand**"
      ]
    },
    {
      "cell_type": "markdown",
      "metadata": {
        "id": "mBr-5dd88Wqt",
        "colab_type": "text"
      },
      "source": [
        "Sentiment analysis is the process of retrieving information about a consumer's perception of a product or brand.\n",
        "\n",
        "It is used to extract and quantify positive, negative, and neutral opinions as well as emotions like trust, joy, and anger from the text.\n",
        "\n",
        "Customer perception of a brand is an important factor that influences purchasing decisions and sentiment analysis is useful to understand the pulse of what customers feel about a brand."
      ]
    },
    {
      "cell_type": "markdown",
      "metadata": {
        "id": "zVEdG59bGVZf",
        "colab_type": "text"
      },
      "source": [
        "Steps involved in performing sentiment analysis:\n",
        "\n",
        "i) Extract tweets on topic of interest\n",
        "\n",
        "ii) Extract sentiment scores for the text using the `syuzhet()` package\n",
        "\n",
        "iii) Plot the sentiment scores\n",
        "\n",
        "iv) Visualize and interpret customer perception and emotions"
      ]
    },
    {
      "cell_type": "markdown",
      "metadata": {
        "id": "gUghWKl-F76p",
        "colab_type": "text"
      },
      "source": [
        "In this exercise, we will explore customer's sentiments on Tesla through sentiment analysis. \n",
        "\n",
        "\n",
        "#### **i) Extract tweets on topic of interest**\n",
        "\n",
        "We will use a smaller tweet dataset extracted from Twitter for this purpose."
      ]
    },
    {
      "cell_type": "code",
      "metadata": {
        "id": "2lS-t8Yg6RlD",
        "colab_type": "code",
        "colab": {}
      },
      "source": [
        "# Load a smaller dataset for tesla\n",
        "tesladf_small <- read.csv(\"https://github.com/datacamp/Brand-Analysis-using-Social-Media-Data-in-R-Live-Training/blob/master/data/tesla_small.csv?raw=true\", stringsAsFactors=FALSE)"
      ],
      "execution_count": null,
      "outputs": []
    },
    {
      "cell_type": "code",
      "metadata": {
        "id": "01ezoubc7zA9",
        "colab_type": "code",
        "colab": {}
      },
      "source": [
        "# Explore the tweet dataframe\n",
        "dim(tesladf_small)\n",
        "head(tesladf_small)"
      ],
      "execution_count": null,
      "outputs": []
    },
    {
      "cell_type": "markdown",
      "metadata": {
        "id": "1quPVNeUGOm4",
        "colab_type": "text"
      },
      "source": [
        "We can see that this dataset has 500 tweets on Tesla."
      ]
    },
    {
      "cell_type": "markdown",
      "metadata": {
        "id": "q6WVNUjUGwnW",
        "colab_type": "text"
      },
      "source": [
        "The `syuzhet()` package uses pre-defined sentiment libraries to calculate scores for various sentiments.\n",
        "\n",
        "These libraries have been trained on several documents and scored based on the meaning or intent of words. For example, horrible has a negative meaning and awesome has a positive meaning.\n",
        "\n",
        "When sentiment analysis is performed on a corpus, each relevant word is scored based on its nearness to a positive or negative word from the sentiment library."
      ]
    },
    {
      "cell_type": "code",
      "metadata": {
        "id": "CRPI5MDc734O",
        "colab_type": "code",
        "colab": {
          "base_uri": "https://localhost:8080/",
          "height": 173
        },
        "outputId": "0c1af220-8b2b-43d8-a3f1-bb4aca84259a"
      },
      "source": [
        "# Load the library syuzhet\n",
        "library(syuzhet)"
      ],
      "execution_count": null,
      "outputs": [
        {
          "output_type": "stream",
          "text": [
            "\n",
            "Attaching package: ‘syuzhet’\n",
            "\n",
            "\n",
            "The following object is masked from ‘package:rtweet’:\n",
            "\n",
            "    get_tokens\n",
            "\n",
            "\n"
          ],
          "name": "stderr"
        }
      ]
    },
    {
      "cell_type": "markdown",
      "metadata": {
        "id": "cpIv3VrZ8Aqc",
        "colab_type": "text"
      },
      "source": [
        "#### **ii) Extract sentiment scores from tweet text**\n",
        "\n",
        "The `get_nrc_sentiment()` function from the `syuzhet` package is used to extract sentiment scores for the text.\n",
        "\n",
        "`get_nrc_sentiment(`) takes the column storing the tweet text as the argument."
      ]
    },
    {
      "cell_type": "code",
      "metadata": {
        "id": "8sQkpPOW79V3",
        "colab_type": "code",
        "colab": {
          "base_uri": "https://localhost:8080/",
          "height": 311
        },
        "outputId": "b0a43308-6553-4099-8323-b99f4929dffb"
      },
      "source": [
        "# Perform sentiment analysis for tweets on `Climate change` \n",
        "sa.value <- get_nrc_sentiment(tesladf_small$text)"
      ],
      "execution_count": null,
      "outputs": [
        {
          "output_type": "stream",
          "text": [
            "Warning message:\n",
            "“`filter_()` is deprecated as of dplyr 0.7.0.\n",
            "Please use `filter()` instead.\n",
            "See vignette('programming') for more help\n",
            "\u001b[90mThis warning is displayed once every 8 hours.\u001b[39m\n",
            "\u001b[90mCall `lifecycle::last_warnings()` to see where this warning was generated.\u001b[39m”\n",
            "Warning message:\n",
            "“`group_by_()` is deprecated as of dplyr 0.7.0.\n",
            "Please use `group_by()` instead.\n",
            "See vignette('programming') for more help\n",
            "\u001b[90mThis warning is displayed once every 8 hours.\u001b[39m\n",
            "\u001b[90mCall `lifecycle::last_warnings()` to see where this warning was generated.\u001b[39m”\n",
            "Warning message:\n",
            "“`data_frame()` is deprecated as of tibble 1.1.0.\n",
            "Please use `tibble()` instead.\n",
            "\u001b[90mThis warning is displayed once every 8 hours.\u001b[39m\n",
            "\u001b[90mCall `lifecycle::last_warnings()` to see where this warning was generated.\u001b[39m”\n"
          ],
          "name": "stderr"
        }
      ]
    },
    {
      "cell_type": "code",
      "metadata": {
        "id": "AdY8V0fpKyl8",
        "colab_type": "code",
        "colab": {
          "base_uri": "https://localhost:8080/",
          "height": 282
        },
        "outputId": "1c4750b5-8ab2-4773-c730-ab9fa9187f4a"
      },
      "source": [
        "# View the sentiment scores for first 10 tweets\n",
        "head(sa.value, 10)"
      ],
      "execution_count": null,
      "outputs": [
        {
          "output_type": "display_data",
          "data": {
            "text/plain": [
              "   anger anticipation disgust fear joy sadness surprise trust negative positive\n",
              "1  0     1            0       0    0   0       1        1     0        2       \n",
              "2  1     1            0       1    1   0       0        1     0        1       \n",
              "3  0     1            0       1    0   0       0        0     1        0       \n",
              "4  1     0            0       1    0   0       0        0     1        0       \n",
              "5  0     0            0       0    0   0       0        0     0        2       \n",
              "6  0     0            0       1    2   1       0        3     1        3       \n",
              "7  0     1            0       0    0   0       1        1     0        2       \n",
              "8  1     1            0       1    1   0       0        1     1        1       \n",
              "9  0     1            0       0    0   0       1        1     0        2       \n",
              "10 0     1            0       0    0   0       0        0     0        3       "
            ],
            "text/latex": "A data.frame: 10 × 10\n\\begin{tabular}{r|llllllllll}\n  & anger & anticipation & disgust & fear & joy & sadness & surprise & trust & negative & positive\\\\\n  & <dbl> & <dbl> & <dbl> & <dbl> & <dbl> & <dbl> & <dbl> & <dbl> & <dbl> & <dbl>\\\\\n\\hline\n\t1 & 0 & 1 & 0 & 0 & 0 & 0 & 1 & 1 & 0 & 2\\\\\n\t2 & 1 & 1 & 0 & 1 & 1 & 0 & 0 & 1 & 0 & 1\\\\\n\t3 & 0 & 1 & 0 & 1 & 0 & 0 & 0 & 0 & 1 & 0\\\\\n\t4 & 1 & 0 & 0 & 1 & 0 & 0 & 0 & 0 & 1 & 0\\\\\n\t5 & 0 & 0 & 0 & 0 & 0 & 0 & 0 & 0 & 0 & 2\\\\\n\t6 & 0 & 0 & 0 & 1 & 2 & 1 & 0 & 3 & 1 & 3\\\\\n\t7 & 0 & 1 & 0 & 0 & 0 & 0 & 1 & 1 & 0 & 2\\\\\n\t8 & 1 & 1 & 0 & 1 & 1 & 0 & 0 & 1 & 1 & 1\\\\\n\t9 & 0 & 1 & 0 & 0 & 0 & 0 & 1 & 1 & 0 & 2\\\\\n\t10 & 0 & 1 & 0 & 0 & 0 & 0 & 0 & 0 & 0 & 3\\\\\n\\end{tabular}\n",
            "text/markdown": "\nA data.frame: 10 × 10\n\n| <!--/--> | anger &lt;dbl&gt; | anticipation &lt;dbl&gt; | disgust &lt;dbl&gt; | fear &lt;dbl&gt; | joy &lt;dbl&gt; | sadness &lt;dbl&gt; | surprise &lt;dbl&gt; | trust &lt;dbl&gt; | negative &lt;dbl&gt; | positive &lt;dbl&gt; |\n|---|---|---|---|---|---|---|---|---|---|---|\n| 1 | 0 | 1 | 0 | 0 | 0 | 0 | 1 | 1 | 0 | 2 |\n| 2 | 1 | 1 | 0 | 1 | 1 | 0 | 0 | 1 | 0 | 1 |\n| 3 | 0 | 1 | 0 | 1 | 0 | 0 | 0 | 0 | 1 | 0 |\n| 4 | 1 | 0 | 0 | 1 | 0 | 0 | 0 | 0 | 1 | 0 |\n| 5 | 0 | 0 | 0 | 0 | 0 | 0 | 0 | 0 | 0 | 2 |\n| 6 | 0 | 0 | 0 | 1 | 2 | 1 | 0 | 3 | 1 | 3 |\n| 7 | 0 | 1 | 0 | 0 | 0 | 0 | 1 | 1 | 0 | 2 |\n| 8 | 1 | 1 | 0 | 1 | 1 | 0 | 0 | 1 | 1 | 1 |\n| 9 | 0 | 1 | 0 | 0 | 0 | 0 | 1 | 1 | 0 | 2 |\n| 10 | 0 | 1 | 0 | 0 | 0 | 0 | 0 | 0 | 0 | 3 |\n\n",
            "text/html": [
              "<table>\n",
              "<caption>A data.frame: 10 × 10</caption>\n",
              "<thead>\n",
              "\t<tr><th></th><th scope=col>anger</th><th scope=col>anticipation</th><th scope=col>disgust</th><th scope=col>fear</th><th scope=col>joy</th><th scope=col>sadness</th><th scope=col>surprise</th><th scope=col>trust</th><th scope=col>negative</th><th scope=col>positive</th></tr>\n",
              "\t<tr><th></th><th scope=col>&lt;dbl&gt;</th><th scope=col>&lt;dbl&gt;</th><th scope=col>&lt;dbl&gt;</th><th scope=col>&lt;dbl&gt;</th><th scope=col>&lt;dbl&gt;</th><th scope=col>&lt;dbl&gt;</th><th scope=col>&lt;dbl&gt;</th><th scope=col>&lt;dbl&gt;</th><th scope=col>&lt;dbl&gt;</th><th scope=col>&lt;dbl&gt;</th></tr>\n",
              "</thead>\n",
              "<tbody>\n",
              "\t<tr><th scope=row>1</th><td>0</td><td>1</td><td>0</td><td>0</td><td>0</td><td>0</td><td>1</td><td>1</td><td>0</td><td>2</td></tr>\n",
              "\t<tr><th scope=row>2</th><td>1</td><td>1</td><td>0</td><td>1</td><td>1</td><td>0</td><td>0</td><td>1</td><td>0</td><td>1</td></tr>\n",
              "\t<tr><th scope=row>3</th><td>0</td><td>1</td><td>0</td><td>1</td><td>0</td><td>0</td><td>0</td><td>0</td><td>1</td><td>0</td></tr>\n",
              "\t<tr><th scope=row>4</th><td>1</td><td>0</td><td>0</td><td>1</td><td>0</td><td>0</td><td>0</td><td>0</td><td>1</td><td>0</td></tr>\n",
              "\t<tr><th scope=row>5</th><td>0</td><td>0</td><td>0</td><td>0</td><td>0</td><td>0</td><td>0</td><td>0</td><td>0</td><td>2</td></tr>\n",
              "\t<tr><th scope=row>6</th><td>0</td><td>0</td><td>0</td><td>1</td><td>2</td><td>1</td><td>0</td><td>3</td><td>1</td><td>3</td></tr>\n",
              "\t<tr><th scope=row>7</th><td>0</td><td>1</td><td>0</td><td>0</td><td>0</td><td>0</td><td>1</td><td>1</td><td>0</td><td>2</td></tr>\n",
              "\t<tr><th scope=row>8</th><td>1</td><td>1</td><td>0</td><td>1</td><td>1</td><td>0</td><td>0</td><td>1</td><td>1</td><td>1</td></tr>\n",
              "\t<tr><th scope=row>9</th><td>0</td><td>1</td><td>0</td><td>0</td><td>0</td><td>0</td><td>1</td><td>1</td><td>0</td><td>2</td></tr>\n",
              "\t<tr><th scope=row>10</th><td>0</td><td>1</td><td>0</td><td>0</td><td>0</td><td>0</td><td>0</td><td>0</td><td>0</td><td>3</td></tr>\n",
              "</tbody>\n",
              "</table>\n"
            ]
          },
          "metadata": {
            "tags": []
          }
        }
      ]
    },
    {
      "cell_type": "markdown",
      "metadata": {
        "id": "S8KFscr4KcY4",
        "colab_type": "text"
      },
      "source": [
        "The sentiment scores for the first 10 records are displayed here with the rows and columns representing the tweets and the emotions respectively. \n",
        "\n",
        "The column values are the sentiment scores for the tweets against each emotion."
      ]
    },
    {
      "cell_type": "markdown",
      "metadata": {
        "id": "I1w7TmBW8OSw",
        "colab_type": "text"
      },
      "source": [
        "Get the sum of the sentiment scores for each emotion using `colSums()`. This function takes the extracted sentiment scores as input.\n",
        "\n",
        "Convert the output to a dataframe."
      ]
    },
    {
      "cell_type": "code",
      "metadata": {
        "id": "UCaKJShr8KfO",
        "colab_type": "code",
        "colab": {
          "base_uri": "https://localhost:8080/",
          "height": 299
        },
        "outputId": "3e0dfb80-887f-4640-c5ab-ea0090aece81"
      },
      "source": [
        "# Calculate sum of sentiment scores\n",
        "score <- colSums(sa.value[,])\n",
        "\n",
        "# Convert the sum of scores to a dataframe\n",
        "score_df <- data.frame(score)\n",
        "\n",
        "# View the dataframe\n",
        "score_df"
      ],
      "execution_count": null,
      "outputs": [
        {
          "output_type": "display_data",
          "data": {
            "text/plain": [
              "             score\n",
              "anger        146  \n",
              "anticipation 270  \n",
              "disgust       67  \n",
              "fear         149  \n",
              "joy          154  \n",
              "sadness      106  \n",
              "surprise     160  \n",
              "trust        330  \n",
              "negative     272  \n",
              "positive     727  "
            ],
            "text/latex": "A data.frame: 10 × 1\n\\begin{tabular}{r|l}\n  & score\\\\\n  & <dbl>\\\\\n\\hline\n\tanger & 146\\\\\n\tanticipation & 270\\\\\n\tdisgust &  67\\\\\n\tfear & 149\\\\\n\tjoy & 154\\\\\n\tsadness & 106\\\\\n\tsurprise & 160\\\\\n\ttrust & 330\\\\\n\tnegative & 272\\\\\n\tpositive & 727\\\\\n\\end{tabular}\n",
            "text/markdown": "\nA data.frame: 10 × 1\n\n| <!--/--> | score &lt;dbl&gt; |\n|---|---|\n| anger | 146 |\n| anticipation | 270 |\n| disgust |  67 |\n| fear | 149 |\n| joy | 154 |\n| sadness | 106 |\n| surprise | 160 |\n| trust | 330 |\n| negative | 272 |\n| positive | 727 |\n\n",
            "text/html": [
              "<table>\n",
              "<caption>A data.frame: 10 × 1</caption>\n",
              "<thead>\n",
              "\t<tr><th></th><th scope=col>score</th></tr>\n",
              "\t<tr><th></th><th scope=col>&lt;dbl&gt;</th></tr>\n",
              "</thead>\n",
              "<tbody>\n",
              "\t<tr><th scope=row>anger</th><td>146</td></tr>\n",
              "\t<tr><th scope=row>anticipation</th><td>270</td></tr>\n",
              "\t<tr><th scope=row>disgust</th><td> 67</td></tr>\n",
              "\t<tr><th scope=row>fear</th><td>149</td></tr>\n",
              "\t<tr><th scope=row>joy</th><td>154</td></tr>\n",
              "\t<tr><th scope=row>sadness</th><td>106</td></tr>\n",
              "\t<tr><th scope=row>surprise</th><td>160</td></tr>\n",
              "\t<tr><th scope=row>trust</th><td>330</td></tr>\n",
              "\t<tr><th scope=row>negative</th><td>272</td></tr>\n",
              "\t<tr><th scope=row>positive</th><td>727</td></tr>\n",
              "</tbody>\n",
              "</table>\n"
            ]
          },
          "metadata": {
            "tags": []
          }
        }
      ]
    },
    {
      "cell_type": "markdown",
      "metadata": {
        "id": "NS2kupxJbNxb",
        "colab_type": "text"
      },
      "source": [
        "The aggregated scores for each sentiment is displayed here.\n",
        "\n",
        "The score of 146 for anger indicates that 146 words in the corpus were classified under the emotion anger by the sentiment libraries."
      ]
    },
    {
      "cell_type": "markdown",
      "metadata": {
        "id": "FQqlSnM0UieD",
        "colab_type": "text"
      },
      "source": [
        "Convert the rownames containing the sentiment heads into a column and use `cbind()` to combine this column with the sentiment scores.\n",
        "\n",
        "Also, set the row names for this new dataframe to null."
      ]
    },
    {
      "cell_type": "code",
      "metadata": {
        "id": "toHbumd98sUZ",
        "colab_type": "code",
        "colab": {
          "base_uri": "https://localhost:8080/",
          "height": 207
        },
        "outputId": "b3278eeb-6acd-4320-f8a5-6edad3f67bd1"
      },
      "source": [
        "# Convert row names into 'sentiment' column and combine with sentiment scores\n",
        "score_df2 <- cbind(sentiment = row.names(score_df),  \n",
        "\t\t\t\t  score_df, row.names = NULL)\n",
        "\n",
        "# View the dataframe\n",
        "print(score_df2)"
      ],
      "execution_count": null,
      "outputs": [
        {
          "output_type": "stream",
          "text": [
            "      sentiment score\n",
            "1         anger   146\n",
            "2  anticipation   270\n",
            "3       disgust    67\n",
            "4          fear   149\n",
            "5           joy   154\n",
            "6       sadness   106\n",
            "7      surprise   160\n",
            "8         trust   330\n",
            "9      negative   272\n",
            "10     positive   727\n"
          ],
          "name": "stdout"
        }
      ]
    },
    {
      "cell_type": "markdown",
      "metadata": {
        "id": "rLTX0FgNdBKu",
        "colab_type": "text"
      },
      "source": [
        "We can now see a data frame with sentiments in one column and their respective scores in the second column."
      ]
    },
    {
      "cell_type": "markdown",
      "metadata": {
        "id": "3vPxAGGjbWDi",
        "colab_type": "text"
      },
      "source": [
        "#### **iii) Plot the sentiment scores using `ggplot()`**\n",
        "\n",
        "X-axis and Y-axis take the values sentiment and score respectively and fill is set to sentiment."
      ]
    },
    {
      "cell_type": "code",
      "metadata": {
        "id": "301nt5mj86nc",
        "colab_type": "code",
        "colab": {
          "base_uri": "https://localhost:8080/",
          "height": 437
        },
        "outputId": "137ac041-01ee-44b7-89e0-450af2285d9b"
      },
      "source": [
        "# Plot the sentiment scores\n",
        "ggplot(data = score_df2, aes(x = sentiment, y = score, fill = sentiment)) +\n",
        "  \t   geom_bar(stat = \"identity\") +\n",
        "       theme(axis.text.x = element_text(angle = 45, hjust = 1))"
      ],
      "execution_count": null,
      "outputs": [
        {
          "output_type": "display_data",
          "data": {
            "image/png": "[encoded data removed]",
            "text/plain": [
              "plot without title"
            ]
          },
          "metadata": {
            "tags": [],
            "image/png": {
              "width": 420,
              "height": 420
            },
            "text/plain": {
              "width": 420,
              "height": 420
            }
          }
        }
      ]
    },
    {
      "cell_type": "markdown",
      "metadata": {
        "id": "UD8MdA-Pcqgh",
        "colab_type": "text"
      },
      "source": [
        "#### **iv) Visualize and interpret customer perception and emotions**\n",
        "\n",
        "It is interesting to see that the positive sentiments collectively outnumber the negative ones. The high score on positive emotions, trust, and anticipation augurs well for the brand.\n",
        "\n",
        "Sentiment analysis is useful in social media monitoring since it gives an overview of people's sentiments.\n"
      ]
    }
  ]
}