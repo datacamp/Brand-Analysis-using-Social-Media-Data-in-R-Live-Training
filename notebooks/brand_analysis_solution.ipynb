{
  "nbformat": 4,
  "nbformat_minor": 0,
  "metadata": {
    "colab": {
      "name": "student_notebook.ipynb",
      "provenance": [],
      "include_colab_link": true
    },
    "kernelspec": {
      "name": "ir",
      "display_name": "R"
    }
  },
  "cells": [
    {
      "cell_type": "markdown",
      "metadata": {
        "id": "view-in-github",
        "colab_type": "text"
      },
      "source": [
        "<a href=\"https://colab.research.google.com/github/datacamp/Brand-Analysis-using-Social-Media-Data-in-R-Live-Training/blob/master/notebooks/brand_analysis_solution.ipynb\" target=\"_parent\"><img src=\"https://colab.research.google.com/assets/colab-badge.svg\" alt=\"Open In Colab\"/></a>"
      ]
    },
    {
      "cell_type": "markdown",
      "metadata": {
        "id": "OJYbvo8eV-Rd",
        "colab_type": "text"
      },
      "source": [
        "<p align=\"center\">\n",
        "<img src=\"https://github.com/datacamp/r-live-training-template/blob/master/assets/datacamp.svg?raw=True\" alt = \"DataCamp icon\" width=\"50%\">\n",
        "</p>\n",
        "<br><br>\n",
        "\n",
        "## **Brand Analysis Using Social Media Data in R**\n",
        "\n",
        "Welcome to this hands-on training where you will learn how to perform brand analysis from social media data using R. We will be using different R libraries to analyze twitter data and derive insights.\n",
        "\n",
        "In this session, you will learn\n",
        "\n",
        "* How to compare brand popularity by extracting and comparing follower counts\n",
        "* How to promote a brand by identifying popular tweets\n",
        "* How to evaluate brand salience and compare the same for two brands using tweet frequencies\n",
        "* Understand brand perception through text mining and by visualizing key terms\n",
        "* Perform sentiment analysis to understand customer's feelings and sentiments about a brand\n",
        "* Visualize brand presence by plotting tweets on the map\n",
        "\n",
        "## **The Dataset**\n",
        "\n",
        "The datasets to be used in this training session are in RDS format which is a handy format to save and later import single R objects. These datasets comprise extracted live tweets using `rtweet` library. The datasets are:\n",
        "* **tesla.rds**: Tweets searched on keyword 'tesla' pre-extracted from Twitter\n",
        "* **toyota.rds**: Tweets searched on keyword 'toyota' pre-extracted from Twitter\n",
        "* **tesla_small.rds**: Tweets searched on keyword 'tesla' pre-extracted from Twitter. This is a smaller dataset with fewer tweets.\n",
        "\n",
        "* **car.rds**: Tweets searched on keyword 'electric car' pre-extracted from Twitter\n",
        "\n",
        "Note that we will not be extracting live tweets from Twitter during this session as it invovles a setup process. We will be using pre-extracted tweets saved in RDS format.\n",
        "\n",
        "**tesla.rds**: has 17979 records (tweets) and 90 columns of tweet text and associated metadata\n",
        "**toyoto.rds**: has 17798 records (tweets) and 90 columns of tweet text and associated metadata\n",
        "**tesla_small.rds**: has 500 records (tweets) and 90 columns of tweet text and associated metadata\n",
        "**car.rds**: has 12925 records (tweets) and 90 columns of tweet text and associated metadata\n",
        "\n",
        "All the datasets have the same set of columns and some of the important columns that we will work with are listed below:\n",
        "\n",
        "- `user_id`: Twitter allocated unique ID for each twitter user.\n",
        "- `created_at`: UTC time when this Tweet was created\n",
        "- `screen_name`: The screen name or twitter handle that an user identifies themselves with\n",
        "`text`: The actual tweet text posted by an user\n",
        "- `retweet_count`: Number of times a given tweet has been retweeted.\n",
        "- `followers_count`: The number of followers a twitter account currently has.\n",
        "- `geo_coords`, `coords_coords`, `bbox_coords`: Represents geographic location of a tweet as reported by the user or client application\n"
      ]
    },
    {
      "cell_type": "markdown",
      "metadata": {
        "id": "M-GBcitS6sbD",
        "colab_type": "text"
      },
      "source": [
        "## **Getting started and exploring the dataset**"
      ]
    },
    {
      "cell_type": "code",
      "metadata": {
        "id": "KUKG6fNMV_zf",
        "colab_type": "code",
        "cellView": "both",
        "outputId": "0c2336ce-5299-409e-f830-b68e83e00cfb",
        "colab": {
          "base_uri": "https://localhost:8080/",
          "height": 119
        }
      },
      "source": [
        "# Install R Packages\n",
        "install.packages('rtweet')\n",
        "install.packages('dplyr')\n",
        "install.packages('reshape')\n",
        "install.packages('ggplot2')\n",
        "install.packages('qdapRegex')\n",
        "install.packages('ggplot2')\n",
        "install.packages('tm')\n",
        "install.packages('freq_terms')\n",
        "install.packages('wordcloud')\n",
        "install.packages('RColorBrewer')\n",
        "install.packages('syuzhet')\n",
        "install.packages('maps')"
      ],
      "execution_count": 0,
      "outputs": [
        {
          "output_type": "stream",
          "text": [
            "Installing package into ‘/usr/local/lib/R/site-library’\n",
            "(as ‘lib’ is unspecified)\n",
            "\n",
            "Installing package into ‘/usr/local/lib/R/site-library’\n",
            "(as ‘lib’ is unspecified)\n",
            "\n"
          ],
          "name": "stderr"
        }
      ]
    },
    {
      "cell_type": "code",
      "metadata": {
        "id": "brr08aZX9Wss",
        "colab_type": "code",
        "outputId": "c1f8159d-e3a8-470b-e1b4-117be46a499f",
        "colab": {
          "base_uri": "https://localhost:8080/",
          "height": 255
        }
      },
      "source": [
        "# Load packages\n",
        "library(ggplot2)\n",
        "library(dplyr)"
      ],
      "execution_count": 0,
      "outputs": [
        {
          "output_type": "stream",
          "text": [
            "\n",
            "Attaching package: ‘dplyr’\n",
            "\n",
            "\n",
            "The following objects are masked from ‘package:stats’:\n",
            "\n",
            "    filter, lag\n",
            "\n",
            "\n",
            "The following objects are masked from ‘package:base’:\n",
            "\n",
            "    intersect, setdiff, setequal, union\n",
            "\n",
            "\n"
          ],
          "name": "stderr"
        }
      ]
    },
    {
      "cell_type": "code",
      "metadata": {
        "id": "9VJyZeEo9M4O",
        "colab_type": "code",
        "colab": {}
      },
      "source": [
        "# Get dataset\n",
        "airbnb = read.csv(\"https://github.com/datacamp/r-live-training-template/blob/master/data/airbnb.csv?raw=true\")"
      ],
      "execution_count": 0,
      "outputs": []
    }
  ]
}