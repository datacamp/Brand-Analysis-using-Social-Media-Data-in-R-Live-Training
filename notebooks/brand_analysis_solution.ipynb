{
  "nbformat": 4,
  "nbformat_minor": 0,
  "metadata": {
    "colab": {
      "name": "student_notebook.ipynb",
      "provenance": [],
      "include_colab_link": true
    },
    "kernelspec": {
      "name": "ir",
      "display_name": "R"
    }
  },
  "cells": [
    {
      "cell_type": "markdown",
      "metadata": {
        "id": "view-in-github",
        "colab_type": "text"
      },
      "source": [
        "<a href=\"https://colab.research.google.com/github/datacamp/Brand-Analysis-using-Social-Media-Data-in-R-Live-Training/blob/master/notebooks/brand_analysis_solution.ipynb\" target=\"_parent\"><img src=\"https://colab.research.google.com/assets/colab-badge.svg\" alt=\"Open In Colab\"/></a>"
      ]
    },
    {
      "cell_type": "markdown",
      "metadata": {
        "id": "OJYbvo8eV-Rd",
        "colab_type": "text"
      },
      "source": [
        "<p align=\"center\">\n",
        "<img src=\"https://github.com/datacamp/r-live-training-template/blob/master/assets/datacamp.svg?raw=True\" alt = \"DataCamp icon\" width=\"50%\">\n",
        "</p>\n",
        "<br><br>\n",
        "\n",
        "## **Brand Analysis Using Social Media Data in R**\n",
        "\n",
        "Welcome to this hands-on training where you will learn how to perform brand analysis from social media data using R. We will be using different R libraries to analyze twitter data and derive insights.\n",
        "\n",
        "In this session, you will learn\n",
        "\n",
        "* How to compare brand popularity by extracting and comparing follower counts\n",
        "* How to promote a brand by identifying popular tweets\n",
        "* How to evaluate brand salience and compare the same for two brands using tweet frequencies\n",
        "* Understand brand perception through text mining and by visualizing key terms\n",
        "* Perform sentiment analysis to understand customer's feelings and sentiments about a brand\n",
        "* Visualize brand presence by plotting tweets on the map\n",
        "\n",
        "## **The Dataset**\n",
        "\n",
        "The datasets to be used in this training session are in RDS format which is a handy format to save and later import single R objects. These datasets comprise extracted live tweets using `rtweet` library. The datasets are:\n",
        "* **tesla.rds**: Tweets searched on keyword 'tesla' pre-extracted from Twitter\n",
        "* **toyota.rds**: Tweets searched on keyword 'toyota' pre-extracted from Twitter\n",
        "* **tesla_small.rds**: Tweets searched on keyword 'tesla' pre-extracted from Twitter. This is a smaller dataset with fewer tweets.\n",
        "\n",
        "* **car.rds**: Tweets searched on keyword 'electric car' pre-extracted from Twitter\n",
        "\n",
        "Note that we will not be extracting live tweets from Twitter during this session as it invovles a setup process. We will be using pre-extracted tweets saved in RDS format.\n",
        "\n",
        "**tesla.rds**: has 17979 records (tweets) and 90 columns of tweet text and associated metadata\n",
        "**toyoto.rds**: has 17798 records (tweets) and 90 columns of tweet text and associated metadata\n",
        "**tesla_small.rds**: has 500 records (tweets) and 90 columns of tweet text and associated metadata\n",
        "**car.rds**: has 12925 records (tweets) and 90 columns of tweet text and associated metadata\n",
        "\n",
        "All the datasets have the same set of columns and some of the important columns that we will work with are listed below:\n",
        "\n",
        "- `user_id`: Twitter allocated unique ID for each twitter user.\n",
        "- `created_at`: UTC time when this Tweet was created\n",
        "- `screen_name`: The screen name or twitter handle that an user identifies themselves with\n",
        "`text`: The actual tweet text posted by an user\n",
        "- `retweet_count`: Number of times a given tweet has been retweeted.\n",
        "- `followers_count`: The number of followers a twitter account currently has.\n",
        "- `geo_coords`, `coords_coords`, `bbox_coords`: Represents geographic location of a tweet as reported by the user or client application\n"
      ]
    },
    {
      "cell_type": "markdown",
      "metadata": {
        "id": "M-GBcitS6sbD",
        "colab_type": "text"
      },
      "source": [
        "## **Getting started and exploring the dataset**"
      ]
    },
    {
      "cell_type": "code",
      "metadata": {
        "id": "KUKG6fNMV_zf",
        "colab_type": "code",
        "cellView": "both",
        "outputId": "cf70fe84-64dc-404d-f2ae-6cbec80f8a9b",
        "colab": {
          "base_uri": "https://localhost:8080/",
          "height": 121
        }
      },
      "source": [
        "# Install R Packages\n",
        "install.packages('rtweet')\n",
        "#install.packages('dplyr')\n",
        "#install.packages('reshape')\n",
        "#install.packages('ggplot2')\n",
        "#install.packages('qdapRegex')\n",
        "#install.packages('ggplot2')\n",
        "#install.packages('tm')\n",
        "#install.packages('qdap')\n",
        "#install.packages('wordcloud')\n",
        "#install.packages('RColorBrewer')\n",
        "#install.packages('syuzhet')\n",
        "#install.packages('maps')"
      ],
      "execution_count": 1,
      "outputs": [
        {
          "output_type": "stream",
          "text": [
            "Installing package into ‘/usr/local/lib/R/site-library’\n",
            "(as ‘lib’ is unspecified)\n",
            "\n",
            "also installing the dependency ‘httpuv’\n",
            "\n",
            "\n"
          ],
          "name": "stderr"
        }
      ]
    },
    {
      "cell_type": "code",
      "metadata": {
        "id": "brr08aZX9Wss",
        "colab_type": "code",
        "colab": {}
      },
      "source": [
        "# Load main rtweet library\n",
        "library(rtweet)"
      ],
      "execution_count": 0,
      "outputs": []
    },
    {
      "cell_type": "markdown",
      "metadata": {
        "id": "DkyT5rzKDaXn",
        "colab_type": "text"
      },
      "source": [
        "### 1. Compare brand popularity by extracting and comparing follower counts"
      ]
    },
    {
      "cell_type": "code",
      "metadata": {
        "id": "9VJyZeEo9M4O",
        "colab_type": "code",
        "colab": {}
      },
      "source": [
        "# Create a variable to store twitter account names of 4 auto magazines\n",
        "users <- c(\"BreakingAuto\", \"Motorpic\", \"Mpgomatic\", \"Cjponyparts\")\n",
        "\n",
        "# Extract user data for the twitter accounts stored in users\n",
        "# users_twt <- lookup_users(users)\n",
        "\n",
        "# Save extracted data a CSV file using fwrite from data.table library\n",
        "#fwrite(users_twt, file = \"users_twt.csv\")\n",
        "\n"
      ],
      "execution_count": 0,
      "outputs": []
    },
    {
      "cell_type": "code",
      "metadata": {
        "id": "BEznwPZ1BInH",
        "colab_type": "code",
        "colab": {}
      },
      "source": [
        "# Import extracted user data from the csv file into a dataframe\n",
        "users_twt = read.csv(\"https://github.com/datacamp/Brand-Analysis-using-Social-Media-Data-in-R-Live-Training/blob/master/data/users_twt.csv?raw=true\")"
      ],
      "execution_count": 0,
      "outputs": []
    },
    {
      "cell_type": "code",
      "metadata": {
        "id": "GFUqLkeCFlbo",
        "colab_type": "code",
        "outputId": "d4acdc3d-2193-4112-baef-c930795672d1",
        "colab": {
          "base_uri": "https://localhost:8080/",
          "height": 473
        }
      },
      "source": [
        "# View dimensions of the dataframe\n",
        "dim(users_twt)\n",
        "\n",
        "# View few rows of the dataframe\n",
        "head(users_twt)"
      ],
      "execution_count": 6,
      "outputs": [
        {
          "output_type": "display_data",
          "data": {
            "text/plain": [
              "[1]  4 90"
            ],
            "text/latex": "\\begin{enumerate*}\n\\item 4\n\\item 90\n\\end{enumerate*}\n",
            "text/markdown": "1. 4\n2. 90\n\n\n",
            "text/html": [
              "<style>\n",
              ".list-inline {list-style: none; margin:0; padding: 0}\n",
              ".list-inline>li {display: inline-block}\n",
              ".list-inline>li:not(:last-child)::after {content: \"\\00b7\"; padding: 0 .5ex}\n",
              "</style>\n",
              "<ol class=list-inline><li>4</li><li>90</li></ol>\n"
            ]
          },
          "metadata": {
            "tags": []
          }
        },
        {
          "output_type": "display_data",
          "data": {
            "text/plain": [
              "  user_id    status_id   created_at           screen_name \n",
              "1   64842021 6.46428e+17 2015-09-22T20:56:07Z breakingauto\n",
              "2 2224287823 1.00793e+18 2018-06-16T10:36:41Z MotorPic    \n",
              "3   14408713 1.27124e+18 2020-06-12T00:34:54Z MPGomatic   \n",
              "4   89528523 1.27119e+18 2020-06-11T21:00:37Z cjponyparts \n",
              "  text                                                                                                                                       \n",
              "1 BREAKING: Diesel @VW scandal gives many auto writers their first-ever chance to write something negative about a car company. #dieselgate  \n",
              "2 Mike, is that you? https://t.co/wPtS3O2WTX                                                                                                 \n",
              "3 Don’t be a Knucklehead. Mask Up. https://t.co/NvZZsXw5WI                                                                                   \n",
              "4 Pops doesn't want another set of wrenches this time around! Give the gift of pure parts happiness with a CJ's gift… https://t.co/zlQJ1FJFyM\n",
              "  source             display_text_width reply_to_status_id reply_to_user_id\n",
              "1 Twitter for iPhone NA                 NA                 NA              \n",
              "2 Twitter Web Client NA                 NA                 NA              \n",
              "3 Twitter for iPhone NA                 NA                 NA              \n",
              "4 Buffer             NA                 NA                 NA              \n",
              "  reply_to_screen_name ⋯ statuses_count favourites_count account_created_at  \n",
              "1 NA                   ⋯  2588              53           2009-08-11T22:17:02Z\n",
              "2 NA                   ⋯   778             415           2013-12-01T05:27:45Z\n",
              "3 NA                   ⋯ 49243          116217           2008-04-16T14:51:28Z\n",
              "4 NA                   ⋯  7198            1518           2009-11-12T20:10:03Z\n",
              "  verified profile_url             profile_expanded_url          account_lang\n",
              "1 FALSE                                                          NA          \n",
              "2 FALSE    http://t.co/mHV8KvKFKs  http://motorpic.tumblr.com/   NA          \n",
              "3 FALSE    https://t.co/bhSRyW8nva http://mpgomatic.com          NA          \n",
              "4  TRUE    https://t.co/0CH2t8FvzQ https://shopgr.id/cjponyparts NA          \n",
              "  profile_banner_url                                         \n",
              "1 https://pbs.twimg.com/profile_banners/64842021/1360630042  \n",
              "2 https://pbs.twimg.com/profile_banners/2224287823/1398760164\n",
              "3 https://pbs.twimg.com/profile_banners/14408713/1463748746  \n",
              "4 https://pbs.twimg.com/profile_banners/89528523/1548186092  \n",
              "  profile_background_url                           \n",
              "1 http://abs.twimg.com/images/themes/theme14/bg.gif\n",
              "2 http://abs.twimg.com/images/themes/theme1/bg.png \n",
              "3 http://abs.twimg.com/images/themes/theme9/bg.gif \n",
              "4 http://abs.twimg.com/images/themes/theme14/bg.gif\n",
              "  profile_image_url                                                                         \n",
              "1 http://pbs.twimg.com/profile_images/767205280/ba4_normal.jpg                              \n",
              "2 http://pbs.twimg.com/profile_images/540578665151488000/N8BTGt44_normal.jpeg               \n",
              "3 http://pbs.twimg.com/profile_images/733642299092000768/5VTU_005_normal.jpg                \n",
              "4 http://pbs.twimg.com/profile_images/3366855626/359799c70e188b7ead0fc0558980a09f_normal.png"
            ],
            "text/latex": "A data.frame: 4 × 90\n\\begin{tabular}{r|lllllllllllllllllllll}\n  & user\\_id & status\\_id & created\\_at & screen\\_name & text & source & display\\_text\\_width & reply\\_to\\_status\\_id & reply\\_to\\_user\\_id & reply\\_to\\_screen\\_name & ⋯ & statuses\\_count & favourites\\_count & account\\_created\\_at & verified & profile\\_url & profile\\_expanded\\_url & account\\_lang & profile\\_banner\\_url & profile\\_background\\_url & profile\\_image\\_url\\\\\n  & <dbl> & <dbl> & <fct> & <fct> & <fct> & <fct> & <lgl> & <lgl> & <lgl> & <lgl> & ⋯ & <int> & <int> & <fct> & <lgl> & <fct> & <fct> & <lgl> & <fct> & <fct> & <fct>\\\\\n\\hline\n\t1 &   64842021 & 6.46428e+17 & 2015-09-22T20:56:07Z & breakingauto & BREAKING: Diesel @VW scandal gives many auto writers their first-ever chance to write something negative about a car company. \\#dieselgate   & Twitter for iPhone & NA & NA & NA & NA & ⋯ &  2588 &     53 & 2009-08-11T22:17:02Z & FALSE &                         &                               & NA & https://pbs.twimg.com/profile\\_banners/64842021/1360630042   & http://abs.twimg.com/images/themes/theme14/bg.gif & http://pbs.twimg.com/profile\\_images/767205280/ba4\\_normal.jpg                              \\\\\n\t2 & 2224287823 & 1.00793e+18 & 2018-06-16T10:36:41Z & MotorPic     & Mike, is that you? https://t.co/wPtS3O2WTX                                                                                                  & Twitter Web Client & NA & NA & NA & NA & ⋯ &   778 &    415 & 2013-12-01T05:27:45Z & FALSE & http://t.co/mHV8KvKFKs  & http://motorpic.tumblr.com/   & NA & https://pbs.twimg.com/profile\\_banners/2224287823/1398760164 & http://abs.twimg.com/images/themes/theme1/bg.png  & http://pbs.twimg.com/profile\\_images/540578665151488000/N8BTGt44\\_normal.jpeg               \\\\\n\t3 &   14408713 & 1.27124e+18 & 2020-06-12T00:34:54Z & MPGomatic    & Don’t be a Knucklehead. Mask Up. https://t.co/NvZZsXw5WI                                                                                    & Twitter for iPhone & NA & NA & NA & NA & ⋯ & 49243 & 116217 & 2008-04-16T14:51:28Z & FALSE & https://t.co/bhSRyW8nva & http://mpgomatic.com          & NA & https://pbs.twimg.com/profile\\_banners/14408713/1463748746   & http://abs.twimg.com/images/themes/theme9/bg.gif  & http://pbs.twimg.com/profile\\_images/733642299092000768/5VTU\\_005\\_normal.jpg                \\\\\n\t4 &   89528523 & 1.27119e+18 & 2020-06-11T21:00:37Z & cjponyparts  & Pops doesn't want another set of wrenches this time around! Give the gift of pure parts happiness with a CJ's gift… https://t.co/zlQJ1FJFyM & Buffer             & NA & NA & NA & NA & ⋯ &  7198 &   1518 & 2009-11-12T20:10:03Z &  TRUE & https://t.co/0CH2t8FvzQ & https://shopgr.id/cjponyparts & NA & https://pbs.twimg.com/profile\\_banners/89528523/1548186092   & http://abs.twimg.com/images/themes/theme14/bg.gif & http://pbs.twimg.com/profile\\_images/3366855626/359799c70e188b7ead0fc0558980a09f\\_normal.png\\\\\n\\end{tabular}\n",
            "text/markdown": "\nA data.frame: 4 × 90\n\n| <!--/--> | user_id &lt;dbl&gt; | status_id &lt;dbl&gt; | created_at &lt;fct&gt; | screen_name &lt;fct&gt; | text &lt;fct&gt; | source &lt;fct&gt; | display_text_width &lt;lgl&gt; | reply_to_status_id &lt;lgl&gt; | reply_to_user_id &lt;lgl&gt; | reply_to_screen_name &lt;lgl&gt; | ⋯ ⋯ | statuses_count &lt;int&gt; | favourites_count &lt;int&gt; | account_created_at &lt;fct&gt; | verified &lt;lgl&gt; | profile_url &lt;fct&gt; | profile_expanded_url &lt;fct&gt; | account_lang &lt;lgl&gt; | profile_banner_url &lt;fct&gt; | profile_background_url &lt;fct&gt; | profile_image_url &lt;fct&gt; |\n|---|---|---|---|---|---|---|---|---|---|---|---|---|---|---|---|---|---|---|---|---|---|\n| 1 |   64842021 | 6.46428e+17 | 2015-09-22T20:56:07Z | breakingauto | BREAKING: Diesel @VW scandal gives many auto writers their first-ever chance to write something negative about a car company. #dieselgate   | Twitter for iPhone | NA | NA | NA | NA | ⋯ |  2588 |     53 | 2009-08-11T22:17:02Z | FALSE | <!----> | <!----> | NA | https://pbs.twimg.com/profile_banners/64842021/1360630042   | http://abs.twimg.com/images/themes/theme14/bg.gif | http://pbs.twimg.com/profile_images/767205280/ba4_normal.jpg                               |\n| 2 | 2224287823 | 1.00793e+18 | 2018-06-16T10:36:41Z | MotorPic     | Mike, is that you? https://t.co/wPtS3O2WTX                                                                                                  | Twitter Web Client | NA | NA | NA | NA | ⋯ |   778 |    415 | 2013-12-01T05:27:45Z | FALSE | http://t.co/mHV8KvKFKs  | http://motorpic.tumblr.com/   | NA | https://pbs.twimg.com/profile_banners/2224287823/1398760164 | http://abs.twimg.com/images/themes/theme1/bg.png  | http://pbs.twimg.com/profile_images/540578665151488000/N8BTGt44_normal.jpeg                |\n| 3 |   14408713 | 1.27124e+18 | 2020-06-12T00:34:54Z | MPGomatic    | Don’t be a Knucklehead. Mask Up. https://t.co/NvZZsXw5WI                                                                                    | Twitter for iPhone | NA | NA | NA | NA | ⋯ | 49243 | 116217 | 2008-04-16T14:51:28Z | FALSE | https://t.co/bhSRyW8nva | http://mpgomatic.com          | NA | https://pbs.twimg.com/profile_banners/14408713/1463748746   | http://abs.twimg.com/images/themes/theme9/bg.gif  | http://pbs.twimg.com/profile_images/733642299092000768/5VTU_005_normal.jpg                 |\n| 4 |   89528523 | 1.27119e+18 | 2020-06-11T21:00:37Z | cjponyparts  | Pops doesn't want another set of wrenches this time around! Give the gift of pure parts happiness with a CJ's gift… https://t.co/zlQJ1FJFyM | Buffer             | NA | NA | NA | NA | ⋯ |  7198 |   1518 | 2009-11-12T20:10:03Z |  TRUE | https://t.co/0CH2t8FvzQ | https://shopgr.id/cjponyparts | NA | https://pbs.twimg.com/profile_banners/89528523/1548186092   | http://abs.twimg.com/images/themes/theme14/bg.gif | http://pbs.twimg.com/profile_images/3366855626/359799c70e188b7ead0fc0558980a09f_normal.png |\n\n",
            "text/html": [
              "<table>\n",
              "<caption>A data.frame: 4 × 90</caption>\n",
              "<thead>\n",
              "\t<tr><th></th><th scope=col>user_id</th><th scope=col>status_id</th><th scope=col>created_at</th><th scope=col>screen_name</th><th scope=col>text</th><th scope=col>source</th><th scope=col>display_text_width</th><th scope=col>reply_to_status_id</th><th scope=col>reply_to_user_id</th><th scope=col>reply_to_screen_name</th><th scope=col>⋯</th><th scope=col>statuses_count</th><th scope=col>favourites_count</th><th scope=col>account_created_at</th><th scope=col>verified</th><th scope=col>profile_url</th><th scope=col>profile_expanded_url</th><th scope=col>account_lang</th><th scope=col>profile_banner_url</th><th scope=col>profile_background_url</th><th scope=col>profile_image_url</th></tr>\n",
              "\t<tr><th></th><th scope=col>&lt;dbl&gt;</th><th scope=col>&lt;dbl&gt;</th><th scope=col>&lt;fct&gt;</th><th scope=col>&lt;fct&gt;</th><th scope=col>&lt;fct&gt;</th><th scope=col>&lt;fct&gt;</th><th scope=col>&lt;lgl&gt;</th><th scope=col>&lt;lgl&gt;</th><th scope=col>&lt;lgl&gt;</th><th scope=col>&lt;lgl&gt;</th><th scope=col>⋯</th><th scope=col>&lt;int&gt;</th><th scope=col>&lt;int&gt;</th><th scope=col>&lt;fct&gt;</th><th scope=col>&lt;lgl&gt;</th><th scope=col>&lt;fct&gt;</th><th scope=col>&lt;fct&gt;</th><th scope=col>&lt;lgl&gt;</th><th scope=col>&lt;fct&gt;</th><th scope=col>&lt;fct&gt;</th><th scope=col>&lt;fct&gt;</th></tr>\n",
              "</thead>\n",
              "<tbody>\n",
              "\t<tr><th scope=row>1</th><td>  64842021</td><td>6.46428e+17</td><td>2015-09-22T20:56:07Z</td><td>breakingauto</td><td>BREAKING: Diesel @VW scandal gives many auto writers their first-ever chance to write something negative about a car company. #dieselgate  </td><td>Twitter for iPhone</td><td>NA</td><td>NA</td><td>NA</td><td>NA</td><td>⋯</td><td> 2588</td><td>    53</td><td>2009-08-11T22:17:02Z</td><td>FALSE</td><td>                       </td><td>                             </td><td>NA</td><td>https://pbs.twimg.com/profile_banners/64842021/1360630042  </td><td>http://abs.twimg.com/images/themes/theme14/bg.gif</td><td>http://pbs.twimg.com/profile_images/767205280/ba4_normal.jpg                              </td></tr>\n",
              "\t<tr><th scope=row>2</th><td>2224287823</td><td>1.00793e+18</td><td>2018-06-16T10:36:41Z</td><td>MotorPic    </td><td>Mike, is that you? https://t.co/wPtS3O2WTX                                                                                                 </td><td>Twitter Web Client</td><td>NA</td><td>NA</td><td>NA</td><td>NA</td><td>⋯</td><td>  778</td><td>   415</td><td>2013-12-01T05:27:45Z</td><td>FALSE</td><td>http://t.co/mHV8KvKFKs </td><td>http://motorpic.tumblr.com/  </td><td>NA</td><td>https://pbs.twimg.com/profile_banners/2224287823/1398760164</td><td>http://abs.twimg.com/images/themes/theme1/bg.png </td><td>http://pbs.twimg.com/profile_images/540578665151488000/N8BTGt44_normal.jpeg               </td></tr>\n",
              "\t<tr><th scope=row>3</th><td>  14408713</td><td>1.27124e+18</td><td>2020-06-12T00:34:54Z</td><td>MPGomatic   </td><td>Don’t be a Knucklehead. Mask Up. https://t.co/NvZZsXw5WI                                                                                   </td><td>Twitter for iPhone</td><td>NA</td><td>NA</td><td>NA</td><td>NA</td><td>⋯</td><td>49243</td><td>116217</td><td>2008-04-16T14:51:28Z</td><td>FALSE</td><td>https://t.co/bhSRyW8nva</td><td>http://mpgomatic.com         </td><td>NA</td><td>https://pbs.twimg.com/profile_banners/14408713/1463748746  </td><td>http://abs.twimg.com/images/themes/theme9/bg.gif </td><td>http://pbs.twimg.com/profile_images/733642299092000768/5VTU_005_normal.jpg                </td></tr>\n",
              "\t<tr><th scope=row>4</th><td>  89528523</td><td>1.27119e+18</td><td>2020-06-11T21:00:37Z</td><td>cjponyparts </td><td>Pops doesn't want another set of wrenches this time around! Give the gift of pure parts happiness with a CJ's gift… https://t.co/zlQJ1FJFyM</td><td>Buffer            </td><td>NA</td><td>NA</td><td>NA</td><td>NA</td><td>⋯</td><td> 7198</td><td>  1518</td><td>2009-11-12T20:10:03Z</td><td> TRUE</td><td>https://t.co/0CH2t8FvzQ</td><td>https://shopgr.id/cjponyparts</td><td>NA</td><td>https://pbs.twimg.com/profile_banners/89528523/1548186092  </td><td>http://abs.twimg.com/images/themes/theme14/bg.gif</td><td>http://pbs.twimg.com/profile_images/3366855626/359799c70e188b7ead0fc0558980a09f_normal.png</td></tr>\n",
              "</tbody>\n",
              "</table>\n"
            ]
          },
          "metadata": {
            "tags": []
          }
        }
      ]
    },
    {
      "cell_type": "code",
      "metadata": {
        "id": "e4F8sho_TvSe",
        "colab_type": "code",
        "colab": {}
      },
      "source": [
        "# Create a data frame of screen names and follower counts\n",
        "user_df <- users_twt[,c(\"screen_name\",\"followers_count\")]"
      ],
      "execution_count": 0,
      "outputs": []
    },
    {
      "cell_type": "code",
      "metadata": {
        "id": "xJ2RRpRMT1Av",
        "colab_type": "code",
        "colab": {
          "base_uri": "https://localhost:8080/",
          "height": 159
        },
        "outputId": "13e5e94b-d3df-42d1-a994-cb68966135b1"
      },
      "source": [
        "# Display and compare the follower counts for the 4 news sites\n",
        "user_df"
      ],
      "execution_count": 8,
      "outputs": [
        {
          "output_type": "display_data",
          "data": {
            "text/plain": [
              "  screen_name  followers_count\n",
              "1 breakingauto  7303          \n",
              "2 MotorPic      3261          \n",
              "3 MPGomatic     3267          \n",
              "4 cjponyparts  53275          "
            ],
            "text/latex": "A data.frame: 4 × 2\n\\begin{tabular}{ll}\n screen\\_name & followers\\_count\\\\\n <fct> & <int>\\\\\n\\hline\n\t breakingauto &  7303\\\\\n\t MotorPic     &  3261\\\\\n\t MPGomatic    &  3267\\\\\n\t cjponyparts  & 53275\\\\\n\\end{tabular}\n",
            "text/markdown": "\nA data.frame: 4 × 2\n\n| screen_name &lt;fct&gt; | followers_count &lt;int&gt; |\n|---|---|\n| breakingauto |  7303 |\n| MotorPic     |  3261 |\n| MPGomatic    |  3267 |\n| cjponyparts  | 53275 |\n\n",
            "text/html": [
              "<table>\n",
              "<caption>A data.frame: 4 × 2</caption>\n",
              "<thead>\n",
              "\t<tr><th scope=col>screen_name</th><th scope=col>followers_count</th></tr>\n",
              "\t<tr><th scope=col>&lt;fct&gt;</th><th scope=col>&lt;int&gt;</th></tr>\n",
              "</thead>\n",
              "<tbody>\n",
              "\t<tr><td>breakingauto</td><td> 7303</td></tr>\n",
              "\t<tr><td>MotorPic    </td><td> 3261</td></tr>\n",
              "\t<tr><td>MPGomatic   </td><td> 3267</td></tr>\n",
              "\t<tr><td>cjponyparts </td><td>53275</td></tr>\n",
              "</tbody>\n",
              "</table>\n"
            ]
          },
          "metadata": {
            "tags": []
          }
        }
      ]
    },
    {
      "cell_type": "markdown",
      "metadata": {
        "id": "_CGJYoNDT7NR",
        "colab_type": "text"
      },
      "source": [
        "Inference"
      ]
    },
    {
      "cell_type": "markdown",
      "metadata": {
        "id": "G55f-24dT-a3",
        "colab_type": "text"
      },
      "source": [
        "### 2. Promote a brand by identifying popular tweets using retweet counts"
      ]
    },
    {
      "cell_type": "code",
      "metadata": {
        "id": "qmDti-5KUi0-",
        "colab_type": "code",
        "colab": {}
      },
      "source": [
        "# Extract 18000 tweets on Tesla\n",
        "#tweets = search_tweets(\"tesla\", n = 18000, lang = \"en\", include_rts = FALSE)\n",
        "#saveRDS(tweets, \"tesla.rds\")"
      ],
      "execution_count": 0,
      "outputs": []
    },
    {
      "cell_type": "code",
      "metadata": {
        "id": "9oP813w3UpF6",
        "colab_type": "code",
        "colab": {}
      },
      "source": [
        "# Import extracted tweets in RDS format into a dataframe\n",
        "tesladf = read.csv(\"https://github.com/datacamp/Brand-Analysis-using-Social-Media-Data-in-R-Live-Training/blob/master/data/tesladf.csv?raw=true\")"
      ],
      "execution_count": 0,
      "outputs": []
    },
    {
      "cell_type": "code",
      "metadata": {
        "id": "Wuj2pHU1UyWY",
        "colab_type": "code",
        "outputId": "9ad4bda1-ea7a-49cc-b88d-763be479adb1",
        "colab": {
          "base_uri": "https://localhost:8080/",
          "height": 1000
        }
      },
      "source": [
        "# Explore the tweet dataframe\n",
        "dim(tesladf)\n",
        "head(tesladf)"
      ],
      "execution_count": 11,
      "outputs": [
        {
          "output_type": "display_data",
          "data": {
            "text/plain": [
              "[1] 17979    90"
            ],
            "text/latex": "\\begin{enumerate*}\n\\item 17979\n\\item 90\n\\end{enumerate*}\n",
            "text/markdown": "1. 17979\n2. 90\n\n\n",
            "text/html": [
              "<style>\n",
              ".list-inline {list-style: none; margin:0; padding: 0}\n",
              ".list-inline>li {display: inline-block}\n",
              ".list-inline>li:not(:last-child)::after {content: \"\\00b7\"; padding: 0 .5ex}\n",
              "</style>\n",
              "<ol class=list-inline><li>17979</li><li>90</li></ol>\n"
            ]
          },
          "metadata": {
            "tags": []
          }
        },
        {
          "output_type": "display_data",
          "data": {
            "text/plain": [
              "  user_id      status_id    created_at           screen_name\n",
              "1 1.016807e+18 1.262241e+18 2020-05-18T04:36:31Z 1LoafOfMeat\n",
              "2 1.198000e+18 1.262241e+18 2020-05-18T04:36:17Z 2beaux     \n",
              "3 1.198000e+18 1.262240e+18 2020-05-18T04:32:08Z 2beaux     \n",
              "4 1.198000e+18 1.262218e+18 2020-05-18T03:04:49Z 2beaux     \n",
              "5 1.198000e+18 1.262163e+18 2020-05-17T23:28:26Z 2beaux     \n",
              "6 1.198000e+18 1.262198e+18 2020-05-18T01:47:00Z 2beaux     \n",
              "  text                                                                                                                                                                                                                                                                                                                    \n",
              "1 @BLKMDL3 @elonmusk @Tesla Oh sure ya showoff. Had to get the brand name fancy stuff. Mine is $1.99.                                                                                                                                                                                                                     \n",
              "2 @TrevSully @ThomboyD @elonmusk BTW, Musk bought into Tesla when it was one-year old.  He not only was an investor, he built the company.\\n\\nBTW, do you even know what “B shares” are?                                                                                                                                  \n",
              "3 @TrevSully @ThomboyD @elonmusk He bought Tesla and built a handful of other companies.\\n\\nMusk is famously known to be an obsessed workaholic.  *That* has more to do with his success than anything else.\\n\\nYou sound petty, jealous and small.  When you accomplish what he accomplished, then you can bitch an moan.\n",
              "4 @Miss_Violet2014 @jamison_casper @ThomboyD @elonmusk Tesla won’t move.\\n\\nBut if they do it will be because Musk thought it would be a positive.  Further, the new location will employ lots of new people.\\n\\nAlameda county isn’t the only place in the U.S. that needs jobs.                                         \n",
              "5 @jamison_casper @Miss_Violet2014 @ThomboyD @elonmusk I believe the county approved Tesla’s COVID-19 Prevention plan (subject to some additional requirements) and will, with the police, enforce safe distancing.\\n\\nDoesn’t seem to be an issue.                                                                       \n",
              "6 @jamison_casper @Miss_Violet2014 @ThomboyD @elonmusk What about other areas of the country where people are struggling and unemployment is going through the roof?  Are Alameda people more important than people elsewhere?\\n\\nTesla could help those people.                                                          \n",
              "  source              display_text_width reply_to_status_id reply_to_user_id\n",
              "1 Twitter for Android  73                1.262107e+18       9.889751e+17    \n",
              "2 Twitter for iPad    149                1.262232e+18       7.153370e+17    \n",
              "3 Twitter for iPad    277                1.262232e+18       7.153370e+17    \n",
              "4 Twitter for iPad    214                1.262217e+18       2.323148e+09    \n",
              "5 Twitter for iPad    186                1.262131e+18       1.169874e+18    \n",
              "6 Twitter for iPad    199                1.262198e+18       1.169874e+18    \n",
              "  reply_to_screen_name ⋯ statuses_count favourites_count account_created_at  \n",
              "1 BLKMDL3              ⋯ 433            8164             2018-07-10T22:10:02Z\n",
              "2 TrevSully            ⋯ 583             362             2019-11-22T22:08:28Z\n",
              "3 TrevSully            ⋯ 583             362             2019-11-22T22:08:28Z\n",
              "4 Miss_Violet2014      ⋯ 583             362             2019-11-22T22:08:28Z\n",
              "5 jamison_casper       ⋯ 583             362             2019-11-22T22:08:28Z\n",
              "6 jamison_casper       ⋯ 583             362             2019-11-22T22:08:28Z\n",
              "  verified profile_url profile_expanded_url account_lang\n",
              "1 FALSE                                     NA          \n",
              "2 FALSE                                     NA          \n",
              "3 FALSE                                     NA          \n",
              "4 FALSE                                     NA          \n",
              "5 FALSE                                     NA          \n",
              "6 FALSE                                     NA          \n",
              "  profile_banner_url                                                  \n",
              "1                                                                     \n",
              "2 https://pbs.twimg.com/profile_banners/1198000188125827072/1580443845\n",
              "3 https://pbs.twimg.com/profile_banners/1198000188125827072/1580443845\n",
              "4 https://pbs.twimg.com/profile_banners/1198000188125827072/1580443845\n",
              "5 https://pbs.twimg.com/profile_banners/1198000188125827072/1580443845\n",
              "6 https://pbs.twimg.com/profile_banners/1198000188125827072/1580443845\n",
              "  profile_background_url\n",
              "1                       \n",
              "2                       \n",
              "3                       \n",
              "4                       \n",
              "5                       \n",
              "6                       \n",
              "  profile_image_url                                                          \n",
              "1 http://pbs.twimg.com/profile_images/1104867316322521091/2n_rsTF1_normal.jpg\n",
              "2 http://pbs.twimg.com/profile_images/1211049247426134018/ID1dUN5X_normal.jpg\n",
              "3 http://pbs.twimg.com/profile_images/1211049247426134018/ID1dUN5X_normal.jpg\n",
              "4 http://pbs.twimg.com/profile_images/1211049247426134018/ID1dUN5X_normal.jpg\n",
              "5 http://pbs.twimg.com/profile_images/1211049247426134018/ID1dUN5X_normal.jpg\n",
              "6 http://pbs.twimg.com/profile_images/1211049247426134018/ID1dUN5X_normal.jpg"
            ],
            "text/latex": "A data.frame: 6 × 90\n\\begin{tabular}{r|lllllllllllllllllllll}\n  & user\\_id & status\\_id & created\\_at & screen\\_name & text & source & display\\_text\\_width & reply\\_to\\_status\\_id & reply\\_to\\_user\\_id & reply\\_to\\_screen\\_name & ⋯ & statuses\\_count & favourites\\_count & account\\_created\\_at & verified & profile\\_url & profile\\_expanded\\_url & account\\_lang & profile\\_banner\\_url & profile\\_background\\_url & profile\\_image\\_url\\\\\n  & <dbl> & <dbl> & <fct> & <fct> & <fct> & <fct> & <int> & <dbl> & <dbl> & <fct> & ⋯ & <int> & <int> & <fct> & <lgl> & <fct> & <fct> & <lgl> & <fct> & <fct> & <fct>\\\\\n\\hline\n\t1 & 1.016807e+18 & 1.262241e+18 & 2020-05-18T04:36:31Z & 1LoafOfMeat & @BLKMDL3 @elonmusk @Tesla Oh sure ya showoff. Had to get the brand name fancy stuff. Mine is \\$1.99.                                                                                                                                                                                                                      & Twitter for Android &  73 & 1.262107e+18 & 9.889751e+17 & BLKMDL3         & ⋯ & 433 & 8164 & 2018-07-10T22:10:02Z & FALSE &  &  & NA &                                                                      &  & http://pbs.twimg.com/profile\\_images/1104867316322521091/2n\\_rsTF1\\_normal.jpg\\\\\n\t2 & 1.198000e+18 & 1.262241e+18 & 2020-05-18T04:36:17Z & 2beaux      & @TrevSully @ThomboyD @elonmusk BTW, Musk bought into Tesla when it was one-year old.  He not only was an investor, he built the company.\n\nBTW, do you even know what “B shares” are?                                                                                                                                   & Twitter for iPad    & 149 & 1.262232e+18 & 7.153370e+17 & TrevSully       & ⋯ & 583 &  362 & 2019-11-22T22:08:28Z & FALSE &  &  & NA & https://pbs.twimg.com/profile\\_banners/1198000188125827072/1580443845 &  & http://pbs.twimg.com/profile\\_images/1211049247426134018/ID1dUN5X\\_normal.jpg\\\\\n\t3 & 1.198000e+18 & 1.262240e+18 & 2020-05-18T04:32:08Z & 2beaux      & @TrevSully @ThomboyD @elonmusk He bought Tesla and built a handful of other companies.\n\nMusk is famously known to be an obsessed workaholic.  *That* has more to do with his success than anything else.\n\nYou sound petty, jealous and small.  When you accomplish what he accomplished, then you can bitch an moan. & Twitter for iPad    & 277 & 1.262232e+18 & 7.153370e+17 & TrevSully       & ⋯ & 583 &  362 & 2019-11-22T22:08:28Z & FALSE &  &  & NA & https://pbs.twimg.com/profile\\_banners/1198000188125827072/1580443845 &  & http://pbs.twimg.com/profile\\_images/1211049247426134018/ID1dUN5X\\_normal.jpg\\\\\n\t4 & 1.198000e+18 & 1.262218e+18 & 2020-05-18T03:04:49Z & 2beaux      & @Miss\\_Violet2014 @jamison\\_casper @ThomboyD @elonmusk Tesla won’t move.\n\nBut if they do it will be because Musk thought it would be a positive.  Further, the new location will employ lots of new people.\n\nAlameda county isn’t the only place in the U.S. that needs jobs.                                          & Twitter for iPad    & 214 & 1.262217e+18 & 2.323148e+09 & Miss\\_Violet2014 & ⋯ & 583 &  362 & 2019-11-22T22:08:28Z & FALSE &  &  & NA & https://pbs.twimg.com/profile\\_banners/1198000188125827072/1580443845 &  & http://pbs.twimg.com/profile\\_images/1211049247426134018/ID1dUN5X\\_normal.jpg\\\\\n\t5 & 1.198000e+18 & 1.262163e+18 & 2020-05-17T23:28:26Z & 2beaux      & @jamison\\_casper @Miss\\_Violet2014 @ThomboyD @elonmusk I believe the county approved Tesla’s COVID-19 Prevention plan (subject to some additional requirements) and will, with the police, enforce safe distancing.\n\nDoesn’t seem to be an issue.                                                                        & Twitter for iPad    & 186 & 1.262131e+18 & 1.169874e+18 & jamison\\_casper  & ⋯ & 583 &  362 & 2019-11-22T22:08:28Z & FALSE &  &  & NA & https://pbs.twimg.com/profile\\_banners/1198000188125827072/1580443845 &  & http://pbs.twimg.com/profile\\_images/1211049247426134018/ID1dUN5X\\_normal.jpg\\\\\n\t6 & 1.198000e+18 & 1.262198e+18 & 2020-05-18T01:47:00Z & 2beaux      & @jamison\\_casper @Miss\\_Violet2014 @ThomboyD @elonmusk What about other areas of the country where people are struggling and unemployment is going through the roof?  Are Alameda people more important than people elsewhere?\n\nTesla could help those people.                                                           & Twitter for iPad    & 199 & 1.262198e+18 & 1.169874e+18 & jamison\\_casper  & ⋯ & 583 &  362 & 2019-11-22T22:08:28Z & FALSE &  &  & NA & https://pbs.twimg.com/profile\\_banners/1198000188125827072/1580443845 &  & http://pbs.twimg.com/profile\\_images/1211049247426134018/ID1dUN5X\\_normal.jpg\\\\\n\\end{tabular}\n",
            "text/markdown": "\nA data.frame: 6 × 90\n\n| <!--/--> | user_id &lt;dbl&gt; | status_id &lt;dbl&gt; | created_at &lt;fct&gt; | screen_name &lt;fct&gt; | text &lt;fct&gt; | source &lt;fct&gt; | display_text_width &lt;int&gt; | reply_to_status_id &lt;dbl&gt; | reply_to_user_id &lt;dbl&gt; | reply_to_screen_name &lt;fct&gt; | ⋯ ⋯ | statuses_count &lt;int&gt; | favourites_count &lt;int&gt; | account_created_at &lt;fct&gt; | verified &lt;lgl&gt; | profile_url &lt;fct&gt; | profile_expanded_url &lt;fct&gt; | account_lang &lt;lgl&gt; | profile_banner_url &lt;fct&gt; | profile_background_url &lt;fct&gt; | profile_image_url &lt;fct&gt; |\n|---|---|---|---|---|---|---|---|---|---|---|---|---|---|---|---|---|---|---|---|---|---|\n| 1 | 1.016807e+18 | 1.262241e+18 | 2020-05-18T04:36:31Z | 1LoafOfMeat | @BLKMDL3 @elonmusk @Tesla Oh sure ya showoff. Had to get the brand name fancy stuff. Mine is $1.99.                                                                                                                                                                                                                      | Twitter for Android |  73 | 1.262107e+18 | 9.889751e+17 | BLKMDL3         | ⋯ | 433 | 8164 | 2018-07-10T22:10:02Z | FALSE | <!----> | <!----> | NA | <!----> | <!----> | http://pbs.twimg.com/profile_images/1104867316322521091/2n_rsTF1_normal.jpg |\n| 2 | 1.198000e+18 | 1.262241e+18 | 2020-05-18T04:36:17Z | 2beaux      | @TrevSully @ThomboyD @elonmusk BTW, Musk bought into Tesla when it was one-year old.  He not only was an investor, he built the company.\n\nBTW, do you even know what “B shares” are?                                                                                                                                   | Twitter for iPad    | 149 | 1.262232e+18 | 7.153370e+17 | TrevSully       | ⋯ | 583 |  362 | 2019-11-22T22:08:28Z | FALSE | <!----> | <!----> | NA | https://pbs.twimg.com/profile_banners/1198000188125827072/1580443845 | <!----> | http://pbs.twimg.com/profile_images/1211049247426134018/ID1dUN5X_normal.jpg |\n| 3 | 1.198000e+18 | 1.262240e+18 | 2020-05-18T04:32:08Z | 2beaux      | @TrevSully @ThomboyD @elonmusk He bought Tesla and built a handful of other companies.\n\nMusk is famously known to be an obsessed workaholic.  *That* has more to do with his success than anything else.\n\nYou sound petty, jealous and small.  When you accomplish what he accomplished, then you can bitch an moan. | Twitter for iPad    | 277 | 1.262232e+18 | 7.153370e+17 | TrevSully       | ⋯ | 583 |  362 | 2019-11-22T22:08:28Z | FALSE | <!----> | <!----> | NA | https://pbs.twimg.com/profile_banners/1198000188125827072/1580443845 | <!----> | http://pbs.twimg.com/profile_images/1211049247426134018/ID1dUN5X_normal.jpg |\n| 4 | 1.198000e+18 | 1.262218e+18 | 2020-05-18T03:04:49Z | 2beaux      | @Miss_Violet2014 @jamison_casper @ThomboyD @elonmusk Tesla won’t move.\n\nBut if they do it will be because Musk thought it would be a positive.  Further, the new location will employ lots of new people.\n\nAlameda county isn’t the only place in the U.S. that needs jobs.                                          | Twitter for iPad    | 214 | 1.262217e+18 | 2.323148e+09 | Miss_Violet2014 | ⋯ | 583 |  362 | 2019-11-22T22:08:28Z | FALSE | <!----> | <!----> | NA | https://pbs.twimg.com/profile_banners/1198000188125827072/1580443845 | <!----> | http://pbs.twimg.com/profile_images/1211049247426134018/ID1dUN5X_normal.jpg |\n| 5 | 1.198000e+18 | 1.262163e+18 | 2020-05-17T23:28:26Z | 2beaux      | @jamison_casper @Miss_Violet2014 @ThomboyD @elonmusk I believe the county approved Tesla’s COVID-19 Prevention plan (subject to some additional requirements) and will, with the police, enforce safe distancing.\n\nDoesn’t seem to be an issue.                                                                        | Twitter for iPad    | 186 | 1.262131e+18 | 1.169874e+18 | jamison_casper  | ⋯ | 583 |  362 | 2019-11-22T22:08:28Z | FALSE | <!----> | <!----> | NA | https://pbs.twimg.com/profile_banners/1198000188125827072/1580443845 | <!----> | http://pbs.twimg.com/profile_images/1211049247426134018/ID1dUN5X_normal.jpg |\n| 6 | 1.198000e+18 | 1.262198e+18 | 2020-05-18T01:47:00Z | 2beaux      | @jamison_casper @Miss_Violet2014 @ThomboyD @elonmusk What about other areas of the country where people are struggling and unemployment is going through the roof?  Are Alameda people more important than people elsewhere?\n\nTesla could help those people.                                                           | Twitter for iPad    | 199 | 1.262198e+18 | 1.169874e+18 | jamison_casper  | ⋯ | 583 |  362 | 2019-11-22T22:08:28Z | FALSE | <!----> | <!----> | NA | https://pbs.twimg.com/profile_banners/1198000188125827072/1580443845 | <!----> | http://pbs.twimg.com/profile_images/1211049247426134018/ID1dUN5X_normal.jpg |\n\n",
            "text/html": [
              "<table>\n",
              "<caption>A data.frame: 6 × 90</caption>\n",
              "<thead>\n",
              "\t<tr><th></th><th scope=col>user_id</th><th scope=col>status_id</th><th scope=col>created_at</th><th scope=col>screen_name</th><th scope=col>text</th><th scope=col>source</th><th scope=col>display_text_width</th><th scope=col>reply_to_status_id</th><th scope=col>reply_to_user_id</th><th scope=col>reply_to_screen_name</th><th scope=col>⋯</th><th scope=col>statuses_count</th><th scope=col>favourites_count</th><th scope=col>account_created_at</th><th scope=col>verified</th><th scope=col>profile_url</th><th scope=col>profile_expanded_url</th><th scope=col>account_lang</th><th scope=col>profile_banner_url</th><th scope=col>profile_background_url</th><th scope=col>profile_image_url</th></tr>\n",
              "\t<tr><th></th><th scope=col>&lt;dbl&gt;</th><th scope=col>&lt;dbl&gt;</th><th scope=col>&lt;fct&gt;</th><th scope=col>&lt;fct&gt;</th><th scope=col>&lt;fct&gt;</th><th scope=col>&lt;fct&gt;</th><th scope=col>&lt;int&gt;</th><th scope=col>&lt;dbl&gt;</th><th scope=col>&lt;dbl&gt;</th><th scope=col>&lt;fct&gt;</th><th scope=col>⋯</th><th scope=col>&lt;int&gt;</th><th scope=col>&lt;int&gt;</th><th scope=col>&lt;fct&gt;</th><th scope=col>&lt;lgl&gt;</th><th scope=col>&lt;fct&gt;</th><th scope=col>&lt;fct&gt;</th><th scope=col>&lt;lgl&gt;</th><th scope=col>&lt;fct&gt;</th><th scope=col>&lt;fct&gt;</th><th scope=col>&lt;fct&gt;</th></tr>\n",
              "</thead>\n",
              "<tbody>\n",
              "\t<tr><th scope=row>1</th><td>1.016807e+18</td><td>1.262241e+18</td><td>2020-05-18T04:36:31Z</td><td>1LoafOfMeat</td><td>@BLKMDL3 @elonmusk @Tesla Oh sure ya showoff. Had to get the brand name fancy stuff. Mine is $1.99.                                                                                                                                                                                                                     </td><td>Twitter for Android</td><td> 73</td><td>1.262107e+18</td><td>9.889751e+17</td><td>BLKMDL3        </td><td>⋯</td><td>433</td><td>8164</td><td>2018-07-10T22:10:02Z</td><td>FALSE</td><td></td><td></td><td>NA</td><td>                                                                    </td><td></td><td>http://pbs.twimg.com/profile_images/1104867316322521091/2n_rsTF1_normal.jpg</td></tr>\n",
              "\t<tr><th scope=row>2</th><td>1.198000e+18</td><td>1.262241e+18</td><td>2020-05-18T04:36:17Z</td><td>2beaux     </td><td>@TrevSully @ThomboyD @elonmusk BTW, Musk bought into Tesla when it was one-year old.  He not only was an investor, he built the company.\n",
              "\n",
              "BTW, do you even know what “B shares” are?                                                                                                                                  </td><td>Twitter for iPad   </td><td>149</td><td>1.262232e+18</td><td>7.153370e+17</td><td>TrevSully      </td><td>⋯</td><td>583</td><td> 362</td><td>2019-11-22T22:08:28Z</td><td>FALSE</td><td></td><td></td><td>NA</td><td>https://pbs.twimg.com/profile_banners/1198000188125827072/1580443845</td><td></td><td>http://pbs.twimg.com/profile_images/1211049247426134018/ID1dUN5X_normal.jpg</td></tr>\n",
              "\t<tr><th scope=row>3</th><td>1.198000e+18</td><td>1.262240e+18</td><td>2020-05-18T04:32:08Z</td><td>2beaux     </td><td>@TrevSully @ThomboyD @elonmusk He bought Tesla and built a handful of other companies.\n",
              "\n",
              "Musk is famously known to be an obsessed workaholic.  *That* has more to do with his success than anything else.\n",
              "\n",
              "You sound petty, jealous and small.  When you accomplish what he accomplished, then you can bitch an moan.</td><td>Twitter for iPad   </td><td>277</td><td>1.262232e+18</td><td>7.153370e+17</td><td>TrevSully      </td><td>⋯</td><td>583</td><td> 362</td><td>2019-11-22T22:08:28Z</td><td>FALSE</td><td></td><td></td><td>NA</td><td>https://pbs.twimg.com/profile_banners/1198000188125827072/1580443845</td><td></td><td>http://pbs.twimg.com/profile_images/1211049247426134018/ID1dUN5X_normal.jpg</td></tr>\n",
              "\t<tr><th scope=row>4</th><td>1.198000e+18</td><td>1.262218e+18</td><td>2020-05-18T03:04:49Z</td><td>2beaux     </td><td>@Miss_Violet2014 @jamison_casper @ThomboyD @elonmusk Tesla won’t move.\n",
              "\n",
              "But if they do it will be because Musk thought it would be a positive.  Further, the new location will employ lots of new people.\n",
              "\n",
              "Alameda county isn’t the only place in the U.S. that needs jobs.                                         </td><td>Twitter for iPad   </td><td>214</td><td>1.262217e+18</td><td>2.323148e+09</td><td>Miss_Violet2014</td><td>⋯</td><td>583</td><td> 362</td><td>2019-11-22T22:08:28Z</td><td>FALSE</td><td></td><td></td><td>NA</td><td>https://pbs.twimg.com/profile_banners/1198000188125827072/1580443845</td><td></td><td>http://pbs.twimg.com/profile_images/1211049247426134018/ID1dUN5X_normal.jpg</td></tr>\n",
              "\t<tr><th scope=row>5</th><td>1.198000e+18</td><td>1.262163e+18</td><td>2020-05-17T23:28:26Z</td><td>2beaux     </td><td>@jamison_casper @Miss_Violet2014 @ThomboyD @elonmusk I believe the county approved Tesla’s COVID-19 Prevention plan (subject to some additional requirements) and will, with the police, enforce safe distancing.\n",
              "\n",
              "Doesn’t seem to be an issue.                                                                       </td><td>Twitter for iPad   </td><td>186</td><td>1.262131e+18</td><td>1.169874e+18</td><td>jamison_casper </td><td>⋯</td><td>583</td><td> 362</td><td>2019-11-22T22:08:28Z</td><td>FALSE</td><td></td><td></td><td>NA</td><td>https://pbs.twimg.com/profile_banners/1198000188125827072/1580443845</td><td></td><td>http://pbs.twimg.com/profile_images/1211049247426134018/ID1dUN5X_normal.jpg</td></tr>\n",
              "\t<tr><th scope=row>6</th><td>1.198000e+18</td><td>1.262198e+18</td><td>2020-05-18T01:47:00Z</td><td>2beaux     </td><td>@jamison_casper @Miss_Violet2014 @ThomboyD @elonmusk What about other areas of the country where people are struggling and unemployment is going through the roof?  Are Alameda people more important than people elsewhere?\n",
              "\n",
              "Tesla could help those people.                                                          </td><td>Twitter for iPad   </td><td>199</td><td>1.262198e+18</td><td>1.169874e+18</td><td>jamison_casper </td><td>⋯</td><td>583</td><td> 362</td><td>2019-11-22T22:08:28Z</td><td>FALSE</td><td></td><td></td><td>NA</td><td>https://pbs.twimg.com/profile_banners/1198000188125827072/1580443845</td><td></td><td>http://pbs.twimg.com/profile_images/1211049247426134018/ID1dUN5X_normal.jpg</td></tr>\n",
              "</tbody>\n",
              "</table>\n"
            ]
          },
          "metadata": {
            "tags": []
          }
        }
      ]
    },
    {
      "cell_type": "code",
      "metadata": {
        "id": "kk0dLhe2WKS8",
        "colab_type": "code",
        "outputId": "f8c468cd-18bf-4f06-d3ec-485208d1f462",
        "colab": {
          "base_uri": "https://localhost:8080/",
          "height": 304
        }
      },
      "source": [
        "# Create a data frame of tweet text and retweet count\n",
        "rtwt <- tesladf[,c(\"text\", \"retweet_count\")]\n",
        "\n",
        "# View few rows of the rtwt dataframe\n",
        "head(rtwt)"
      ],
      "execution_count": 13,
      "outputs": [
        {
          "output_type": "display_data",
          "data": {
            "text/plain": [
              "  text                                                                                                                                                                                                                                                                                                                    \n",
              "1 @BLKMDL3 @elonmusk @Tesla Oh sure ya showoff. Had to get the brand name fancy stuff. Mine is $1.99.                                                                                                                                                                                                                     \n",
              "2 @TrevSully @ThomboyD @elonmusk BTW, Musk bought into Tesla when it was one-year old.  He not only was an investor, he built the company.\\n\\nBTW, do you even know what “B shares” are?                                                                                                                                  \n",
              "3 @TrevSully @ThomboyD @elonmusk He bought Tesla and built a handful of other companies.\\n\\nMusk is famously known to be an obsessed workaholic.  *That* has more to do with his success than anything else.\\n\\nYou sound petty, jealous and small.  When you accomplish what he accomplished, then you can bitch an moan.\n",
              "4 @Miss_Violet2014 @jamison_casper @ThomboyD @elonmusk Tesla won’t move.\\n\\nBut if they do it will be because Musk thought it would be a positive.  Further, the new location will employ lots of new people.\\n\\nAlameda county isn’t the only place in the U.S. that needs jobs.                                         \n",
              "5 @jamison_casper @Miss_Violet2014 @ThomboyD @elonmusk I believe the county approved Tesla’s COVID-19 Prevention plan (subject to some additional requirements) and will, with the police, enforce safe distancing.\\n\\nDoesn’t seem to be an issue.                                                                       \n",
              "6 @jamison_casper @Miss_Violet2014 @ThomboyD @elonmusk What about other areas of the country where people are struggling and unemployment is going through the roof?  Are Alameda people more important than people elsewhere?\\n\\nTesla could help those people.                                                          \n",
              "  retweet_count\n",
              "1 0            \n",
              "2 0            \n",
              "3 0            \n",
              "4 0            \n",
              "5 0            \n",
              "6 0            "
            ],
            "text/latex": "A data.frame: 6 × 2\n\\begin{tabular}{r|ll}\n  & text & retweet\\_count\\\\\n  & <fct> & <int>\\\\\n\\hline\n\t1 & @BLKMDL3 @elonmusk @Tesla Oh sure ya showoff. Had to get the brand name fancy stuff. Mine is \\$1.99.                                                                                                                                                                                                                      & 0\\\\\n\t2 & @TrevSully @ThomboyD @elonmusk BTW, Musk bought into Tesla when it was one-year old.  He not only was an investor, he built the company.\n\nBTW, do you even know what “B shares” are?                                                                                                                                   & 0\\\\\n\t3 & @TrevSully @ThomboyD @elonmusk He bought Tesla and built a handful of other companies.\n\nMusk is famously known to be an obsessed workaholic.  *That* has more to do with his success than anything else.\n\nYou sound petty, jealous and small.  When you accomplish what he accomplished, then you can bitch an moan. & 0\\\\\n\t4 & @Miss\\_Violet2014 @jamison\\_casper @ThomboyD @elonmusk Tesla won’t move.\n\nBut if they do it will be because Musk thought it would be a positive.  Further, the new location will employ lots of new people.\n\nAlameda county isn’t the only place in the U.S. that needs jobs.                                          & 0\\\\\n\t5 & @jamison\\_casper @Miss\\_Violet2014 @ThomboyD @elonmusk I believe the county approved Tesla’s COVID-19 Prevention plan (subject to some additional requirements) and will, with the police, enforce safe distancing.\n\nDoesn’t seem to be an issue.                                                                        & 0\\\\\n\t6 & @jamison\\_casper @Miss\\_Violet2014 @ThomboyD @elonmusk What about other areas of the country where people are struggling and unemployment is going through the roof?  Are Alameda people more important than people elsewhere?\n\nTesla could help those people.                                                           & 0\\\\\n\\end{tabular}\n",
            "text/markdown": "\nA data.frame: 6 × 2\n\n| <!--/--> | text &lt;fct&gt; | retweet_count &lt;int&gt; |\n|---|---|---|\n| 1 | @BLKMDL3 @elonmusk @Tesla Oh sure ya showoff. Had to get the brand name fancy stuff. Mine is $1.99.                                                                                                                                                                                                                      | 0 |\n| 2 | @TrevSully @ThomboyD @elonmusk BTW, Musk bought into Tesla when it was one-year old.  He not only was an investor, he built the company.\n\nBTW, do you even know what “B shares” are?                                                                                                                                   | 0 |\n| 3 | @TrevSully @ThomboyD @elonmusk He bought Tesla and built a handful of other companies.\n\nMusk is famously known to be an obsessed workaholic.  *That* has more to do with his success than anything else.\n\nYou sound petty, jealous and small.  When you accomplish what he accomplished, then you can bitch an moan. | 0 |\n| 4 | @Miss_Violet2014 @jamison_casper @ThomboyD @elonmusk Tesla won’t move.\n\nBut if they do it will be because Musk thought it would be a positive.  Further, the new location will employ lots of new people.\n\nAlameda county isn’t the only place in the U.S. that needs jobs.                                          | 0 |\n| 5 | @jamison_casper @Miss_Violet2014 @ThomboyD @elonmusk I believe the county approved Tesla’s COVID-19 Prevention plan (subject to some additional requirements) and will, with the police, enforce safe distancing.\n\nDoesn’t seem to be an issue.                                                                        | 0 |\n| 6 | @jamison_casper @Miss_Violet2014 @ThomboyD @elonmusk What about other areas of the country where people are struggling and unemployment is going through the roof?  Are Alameda people more important than people elsewhere?\n\nTesla could help those people.                                                           | 0 |\n\n",
            "text/html": [
              "<table>\n",
              "<caption>A data.frame: 6 × 2</caption>\n",
              "<thead>\n",
              "\t<tr><th></th><th scope=col>text</th><th scope=col>retweet_count</th></tr>\n",
              "\t<tr><th></th><th scope=col>&lt;fct&gt;</th><th scope=col>&lt;int&gt;</th></tr>\n",
              "</thead>\n",
              "<tbody>\n",
              "\t<tr><th scope=row>1</th><td>@BLKMDL3 @elonmusk @Tesla Oh sure ya showoff. Had to get the brand name fancy stuff. Mine is $1.99.                                                                                                                                                                                                                     </td><td>0</td></tr>\n",
              "\t<tr><th scope=row>2</th><td>@TrevSully @ThomboyD @elonmusk BTW, Musk bought into Tesla when it was one-year old.  He not only was an investor, he built the company.\n",
              "\n",
              "BTW, do you even know what “B shares” are?                                                                                                                                  </td><td>0</td></tr>\n",
              "\t<tr><th scope=row>3</th><td>@TrevSully @ThomboyD @elonmusk He bought Tesla and built a handful of other companies.\n",
              "\n",
              "Musk is famously known to be an obsessed workaholic.  *That* has more to do with his success than anything else.\n",
              "\n",
              "You sound petty, jealous and small.  When you accomplish what he accomplished, then you can bitch an moan.</td><td>0</td></tr>\n",
              "\t<tr><th scope=row>4</th><td>@Miss_Violet2014 @jamison_casper @ThomboyD @elonmusk Tesla won’t move.\n",
              "\n",
              "But if they do it will be because Musk thought it would be a positive.  Further, the new location will employ lots of new people.\n",
              "\n",
              "Alameda county isn’t the only place in the U.S. that needs jobs.                                         </td><td>0</td></tr>\n",
              "\t<tr><th scope=row>5</th><td>@jamison_casper @Miss_Violet2014 @ThomboyD @elonmusk I believe the county approved Tesla’s COVID-19 Prevention plan (subject to some additional requirements) and will, with the police, enforce safe distancing.\n",
              "\n",
              "Doesn’t seem to be an issue.                                                                       </td><td>0</td></tr>\n",
              "\t<tr><th scope=row>6</th><td>@jamison_casper @Miss_Violet2014 @ThomboyD @elonmusk What about other areas of the country where people are struggling and unemployment is going through the roof?  Are Alameda people more important than people elsewhere?\n",
              "\n",
              "Tesla could help those people.                                                          </td><td>0</td></tr>\n",
              "</tbody>\n",
              "</table>\n"
            ]
          },
          "metadata": {
            "tags": []
          }
        }
      ]
    },
    {
      "cell_type": "code",
      "metadata": {
        "id": "Brg7djU2W1Os",
        "colab_type": "code",
        "colab": {
          "base_uri": "https://localhost:8080/",
          "height": 252
        },
        "outputId": "e3c7791d-dc61-4402-ff89-fd3c46e1c99b"
      },
      "source": [
        "# Import library\n",
        "library(dplyr)\n",
        "\n",
        "# Sort data frame based on descending order of retweet counts\n",
        "rtwt_sort <- arrange(rtwt, desc(retweet_count))\n",
        "\n",
        "head(rtwt_sort)"
      ],
      "execution_count": 15,
      "outputs": [
        {
          "output_type": "display_data",
          "data": {
            "text/plain": [
              "  text                                                                                                                                                                                                                                                                                                       \n",
              "1 Year these companies were founded:\\n2021: Hope your company \\n\\n2011: Zoom\\n2009: Uber\\n2008: Airbnb\\n2006: Spotify\\n2006: Twitter\\n2004: Facebook\\n2003: Tesla\\n2002: SpaceX\\n1999: Alibaba\\n1998: Google\\n1997: Netflix\\n1994: Amazon\\n1976: Apple\\n1975: Microsoft\\n1946: Sony\\n1938: Samsung\\n\\n@ Jon E\n",
              "2 All of a sudden, I think I want a Tesla. https://t.co/UFxfyQOJ8s                                                                                                                                                                                                                                           \n",
              "3 Elon Wins: California Will Allow Tesla Plant To Reopen With ‘Safety Precautions’ https://t.co/7XHKXKgBXM                                                                                                                                                                                                   \n",
              "4 If you're a @Tesla worker, we'd love to chat. https://t.co/Lf27lBIHxw https://t.co/zEKICOaNaN                                                                                                                                                                                                              \n",
              "5 Tesla's Next Factory Is Going To Be In Austin Texas And It's Going To Happen Quickly \\n👏👏👏👏👏\\nTo Much Trouble With Local California Government \\n🔥🔥🔥🔥🔥\\nhttps://t.co/qGTRo7l7ID                                                                                                                            \n",
              "6 This is the protest today at the Tesla plant in Fremont,  Ca. These leftists want Elon Musk put behind bars for reopening.  \\n\\nMy God look at this massive crowd! 😂😭😭😭😭😭😭😭😭😭😭😭😭 https://t.co/DhKJZbBehB                                                                                                   \n",
              "  retweet_count\n",
              "1 1165         \n",
              "2  495         \n",
              "3  480         \n",
              "4  456         \n",
              "5  420         \n",
              "6  361         "
            ],
            "text/latex": "A data.frame: 6 × 2\n\\begin{tabular}{r|ll}\n  & text & retweet\\_count\\\\\n  & <fct> & <int>\\\\\n\\hline\n\t1 & Year these companies were founded:\n2021: Hope your company \n\n2011: Zoom\n2009: Uber\n2008: Airbnb\n2006: Spotify\n2006: Twitter\n2004: Facebook\n2003: Tesla\n2002: SpaceX\n1999: Alibaba\n1998: Google\n1997: Netflix\n1994: Amazon\n1976: Apple\n1975: Microsoft\n1946: Sony\n1938: Samsung\n\n@ Jon E & 1165\\\\\n\t2 & All of a sudden, I think I want a Tesla. https://t.co/UFxfyQOJ8s                                                                                                                                                                                                                                            &  495\\\\\n\t3 & Elon Wins: California Will Allow Tesla Plant To Reopen With ‘Safety Precautions’ https://t.co/7XHKXKgBXM                                                                                                                                                                                                    &  480\\\\\n\t4 & If you're a @Tesla worker, we'd love to chat. https://t.co/Lf27lBIHxw https://t.co/zEKICOaNaN                                                                                                                                                                                                               &  456\\\\\n\t5 & Tesla's Next Factory Is Going To Be In Austin Texas And It's Going To Happen Quickly \n👏👏👏👏👏\nTo Much Trouble With Local California Government \n🔥🔥🔥🔥🔥\nhttps://t.co/qGTRo7l7ID                                                                                                                             &  420\\\\\n\t6 & This is the protest today at the Tesla plant in Fremont,  Ca. These leftists want Elon Musk put behind bars for reopening.  \n\nMy God look at this massive crowd! 😂😭😭😭😭😭😭😭😭😭😭😭😭 https://t.co/DhKJZbBehB                                                                                                    &  361\\\\\n\\end{tabular}\n",
            "text/markdown": "\nA data.frame: 6 × 2\n\n| <!--/--> | text &lt;fct&gt; | retweet_count &lt;int&gt; |\n|---|---|---|\n| 1 | Year these companies were founded:\n2021: Hope your company \n\n2011: Zoom\n2009: Uber\n2008: Airbnb\n2006: Spotify\n2006: Twitter\n2004: Facebook\n2003: Tesla\n2002: SpaceX\n1999: Alibaba\n1998: Google\n1997: Netflix\n1994: Amazon\n1976: Apple\n1975: Microsoft\n1946: Sony\n1938: Samsung\n\n@ Jon E | 1165 |\n| 2 | All of a sudden, I think I want a Tesla. https://t.co/UFxfyQOJ8s                                                                                                                                                                                                                                            |  495 |\n| 3 | Elon Wins: California Will Allow Tesla Plant To Reopen With ‘Safety Precautions’ https://t.co/7XHKXKgBXM                                                                                                                                                                                                    |  480 |\n| 4 | If you're a @Tesla worker, we'd love to chat. https://t.co/Lf27lBIHxw https://t.co/zEKICOaNaN                                                                                                                                                                                                               |  456 |\n| 5 | Tesla's Next Factory Is Going To Be In Austin Texas And It's Going To Happen Quickly \n👏👏👏👏👏\nTo Much Trouble With Local California Government \n🔥🔥🔥🔥🔥\nhttps://t.co/qGTRo7l7ID                                                                                                                             |  420 |\n| 6 | This is the protest today at the Tesla plant in Fremont,  Ca. These leftists want Elon Musk put behind bars for reopening.  \n\nMy God look at this massive crowd! 😂😭😭😭😭😭😭😭😭😭😭😭😭 https://t.co/DhKJZbBehB                                                                                                    |  361 |\n\n",
            "text/html": [
              "<table>\n",
              "<caption>A data.frame: 6 × 2</caption>\n",
              "<thead>\n",
              "\t<tr><th></th><th scope=col>text</th><th scope=col>retweet_count</th></tr>\n",
              "\t<tr><th></th><th scope=col>&lt;fct&gt;</th><th scope=col>&lt;int&gt;</th></tr>\n",
              "</thead>\n",
              "<tbody>\n",
              "\t<tr><th scope=row>1</th><td>Year these companies were founded:\n",
              "2021: Hope your company \n",
              "\n",
              "2011: Zoom\n",
              "2009: Uber\n",
              "2008: Airbnb\n",
              "2006: Spotify\n",
              "2006: Twitter\n",
              "2004: Facebook\n",
              "2003: Tesla\n",
              "2002: SpaceX\n",
              "1999: Alibaba\n",
              "1998: Google\n",
              "1997: Netflix\n",
              "1994: Amazon\n",
              "1976: Apple\n",
              "1975: Microsoft\n",
              "1946: Sony\n",
              "1938: Samsung\n",
              "\n",
              "@ Jon E</td><td>1165</td></tr>\n",
              "\t<tr><th scope=row>2</th><td>All of a sudden, I think I want a Tesla. https://t.co/UFxfyQOJ8s                                                                                                                                                                                                                                           </td><td> 495</td></tr>\n",
              "\t<tr><th scope=row>3</th><td>Elon Wins: California Will Allow Tesla Plant To Reopen With ‘Safety Precautions’ https://t.co/7XHKXKgBXM                                                                                                                                                                                                   </td><td> 480</td></tr>\n",
              "\t<tr><th scope=row>4</th><td>If you're a @Tesla worker, we'd love to chat. https://t.co/Lf27lBIHxw https://t.co/zEKICOaNaN                                                                                                                                                                                                              </td><td> 456</td></tr>\n",
              "\t<tr><th scope=row>5</th><td>Tesla's Next Factory Is Going To Be In Austin Texas And It's Going To Happen Quickly \n",
              "👏👏👏👏👏\n",
              "To Much Trouble With Local California Government \n",
              "🔥🔥🔥🔥🔥\n",
              "https://t.co/qGTRo7l7ID                                                                                                                            </td><td> 420</td></tr>\n",
              "\t<tr><th scope=row>6</th><td>This is the protest today at the Tesla plant in Fremont,  Ca. These leftists want Elon Musk put behind bars for reopening.  \n",
              "\n",
              "My God look at this massive crowd! 😂😭😭😭😭😭😭😭😭😭😭😭😭 https://t.co/DhKJZbBehB                                                                                                   </td><td> 361</td></tr>\n",
              "</tbody>\n",
              "</table>\n"
            ]
          },
          "metadata": {
            "tags": []
          }
        }
      ]
    },
    {
      "cell_type": "code",
      "metadata": {
        "id": "Y8dxm-uDXBjF",
        "colab_type": "code",
        "colab": {}
      },
      "source": [
        "# Exclude rows with duplicate text from sorted data frame\n",
        "rtwt_unique <- unique(rtwt_sort, by = \"text\")"
      ],
      "execution_count": 0,
      "outputs": []
    },
    {
      "cell_type": "code",
      "metadata": {
        "id": "p7KgvhR6XS_V",
        "colab_type": "code",
        "colab": {
          "base_uri": "https://localhost:8080/",
          "height": 252
        },
        "outputId": "c8f291c0-acf6-48da-fbe4-c8f87863dfb5"
      },
      "source": [
        "# Print top 6 unique posts retweeted most number of times\n",
        "rownames(rtwt_unique) <- NULL\n",
        "head(rtwt_unique)"
      ],
      "execution_count": 17,
      "outputs": [
        {
          "output_type": "display_data",
          "data": {
            "text/plain": [
              "  text                                                                                                                                                                                                                                                                                                       \n",
              "1 Year these companies were founded:\\n2021: Hope your company \\n\\n2011: Zoom\\n2009: Uber\\n2008: Airbnb\\n2006: Spotify\\n2006: Twitter\\n2004: Facebook\\n2003: Tesla\\n2002: SpaceX\\n1999: Alibaba\\n1998: Google\\n1997: Netflix\\n1994: Amazon\\n1976: Apple\\n1975: Microsoft\\n1946: Sony\\n1938: Samsung\\n\\n@ Jon E\n",
              "2 All of a sudden, I think I want a Tesla. https://t.co/UFxfyQOJ8s                                                                                                                                                                                                                                           \n",
              "3 Elon Wins: California Will Allow Tesla Plant To Reopen With ‘Safety Precautions’ https://t.co/7XHKXKgBXM                                                                                                                                                                                                   \n",
              "4 If you're a @Tesla worker, we'd love to chat. https://t.co/Lf27lBIHxw https://t.co/zEKICOaNaN                                                                                                                                                                                                              \n",
              "5 Tesla's Next Factory Is Going To Be In Austin Texas And It's Going To Happen Quickly \\n👏👏👏👏👏\\nTo Much Trouble With Local California Government \\n🔥🔥🔥🔥🔥\\nhttps://t.co/qGTRo7l7ID                                                                                                                            \n",
              "6 This is the protest today at the Tesla plant in Fremont,  Ca. These leftists want Elon Musk put behind bars for reopening.  \\n\\nMy God look at this massive crowd! 😂😭😭😭😭😭😭😭😭😭😭😭😭 https://t.co/DhKJZbBehB                                                                                                   \n",
              "  retweet_count\n",
              "1 1165         \n",
              "2  495         \n",
              "3  480         \n",
              "4  456         \n",
              "5  420         \n",
              "6  361         "
            ],
            "text/latex": "A data.frame: 6 × 2\n\\begin{tabular}{r|ll}\n  & text & retweet\\_count\\\\\n  & <fct> & <int>\\\\\n\\hline\n\t1 & Year these companies were founded:\n2021: Hope your company \n\n2011: Zoom\n2009: Uber\n2008: Airbnb\n2006: Spotify\n2006: Twitter\n2004: Facebook\n2003: Tesla\n2002: SpaceX\n1999: Alibaba\n1998: Google\n1997: Netflix\n1994: Amazon\n1976: Apple\n1975: Microsoft\n1946: Sony\n1938: Samsung\n\n@ Jon E & 1165\\\\\n\t2 & All of a sudden, I think I want a Tesla. https://t.co/UFxfyQOJ8s                                                                                                                                                                                                                                            &  495\\\\\n\t3 & Elon Wins: California Will Allow Tesla Plant To Reopen With ‘Safety Precautions’ https://t.co/7XHKXKgBXM                                                                                                                                                                                                    &  480\\\\\n\t4 & If you're a @Tesla worker, we'd love to chat. https://t.co/Lf27lBIHxw https://t.co/zEKICOaNaN                                                                                                                                                                                                               &  456\\\\\n\t5 & Tesla's Next Factory Is Going To Be In Austin Texas And It's Going To Happen Quickly \n👏👏👏👏👏\nTo Much Trouble With Local California Government \n🔥🔥🔥🔥🔥\nhttps://t.co/qGTRo7l7ID                                                                                                                             &  420\\\\\n\t6 & This is the protest today at the Tesla plant in Fremont,  Ca. These leftists want Elon Musk put behind bars for reopening.  \n\nMy God look at this massive crowd! 😂😭😭😭😭😭😭😭😭😭😭😭😭 https://t.co/DhKJZbBehB                                                                                                    &  361\\\\\n\\end{tabular}\n",
            "text/markdown": "\nA data.frame: 6 × 2\n\n| <!--/--> | text &lt;fct&gt; | retweet_count &lt;int&gt; |\n|---|---|---|\n| 1 | Year these companies were founded:\n2021: Hope your company \n\n2011: Zoom\n2009: Uber\n2008: Airbnb\n2006: Spotify\n2006: Twitter\n2004: Facebook\n2003: Tesla\n2002: SpaceX\n1999: Alibaba\n1998: Google\n1997: Netflix\n1994: Amazon\n1976: Apple\n1975: Microsoft\n1946: Sony\n1938: Samsung\n\n@ Jon E | 1165 |\n| 2 | All of a sudden, I think I want a Tesla. https://t.co/UFxfyQOJ8s                                                                                                                                                                                                                                            |  495 |\n| 3 | Elon Wins: California Will Allow Tesla Plant To Reopen With ‘Safety Precautions’ https://t.co/7XHKXKgBXM                                                                                                                                                                                                    |  480 |\n| 4 | If you're a @Tesla worker, we'd love to chat. https://t.co/Lf27lBIHxw https://t.co/zEKICOaNaN                                                                                                                                                                                                               |  456 |\n| 5 | Tesla's Next Factory Is Going To Be In Austin Texas And It's Going To Happen Quickly \n👏👏👏👏👏\nTo Much Trouble With Local California Government \n🔥🔥🔥🔥🔥\nhttps://t.co/qGTRo7l7ID                                                                                                                             |  420 |\n| 6 | This is the protest today at the Tesla plant in Fremont,  Ca. These leftists want Elon Musk put behind bars for reopening.  \n\nMy God look at this massive crowd! 😂😭😭😭😭😭😭😭😭😭😭😭😭 https://t.co/DhKJZbBehB                                                                                                    |  361 |\n\n",
            "text/html": [
              "<table>\n",
              "<caption>A data.frame: 6 × 2</caption>\n",
              "<thead>\n",
              "\t<tr><th></th><th scope=col>text</th><th scope=col>retweet_count</th></tr>\n",
              "\t<tr><th></th><th scope=col>&lt;fct&gt;</th><th scope=col>&lt;int&gt;</th></tr>\n",
              "</thead>\n",
              "<tbody>\n",
              "\t<tr><th scope=row>1</th><td>Year these companies were founded:\n",
              "2021: Hope your company \n",
              "\n",
              "2011: Zoom\n",
              "2009: Uber\n",
              "2008: Airbnb\n",
              "2006: Spotify\n",
              "2006: Twitter\n",
              "2004: Facebook\n",
              "2003: Tesla\n",
              "2002: SpaceX\n",
              "1999: Alibaba\n",
              "1998: Google\n",
              "1997: Netflix\n",
              "1994: Amazon\n",
              "1976: Apple\n",
              "1975: Microsoft\n",
              "1946: Sony\n",
              "1938: Samsung\n",
              "\n",
              "@ Jon E</td><td>1165</td></tr>\n",
              "\t<tr><th scope=row>2</th><td>All of a sudden, I think I want a Tesla. https://t.co/UFxfyQOJ8s                                                                                                                                                                                                                                           </td><td> 495</td></tr>\n",
              "\t<tr><th scope=row>3</th><td>Elon Wins: California Will Allow Tesla Plant To Reopen With ‘Safety Precautions’ https://t.co/7XHKXKgBXM                                                                                                                                                                                                   </td><td> 480</td></tr>\n",
              "\t<tr><th scope=row>4</th><td>If you're a @Tesla worker, we'd love to chat. https://t.co/Lf27lBIHxw https://t.co/zEKICOaNaN                                                                                                                                                                                                              </td><td> 456</td></tr>\n",
              "\t<tr><th scope=row>5</th><td>Tesla's Next Factory Is Going To Be In Austin Texas And It's Going To Happen Quickly \n",
              "👏👏👏👏👏\n",
              "To Much Trouble With Local California Government \n",
              "🔥🔥🔥🔥🔥\n",
              "https://t.co/qGTRo7l7ID                                                                                                                            </td><td> 420</td></tr>\n",
              "\t<tr><th scope=row>6</th><td>This is the protest today at the Tesla plant in Fremont,  Ca. These leftists want Elon Musk put behind bars for reopening.  \n",
              "\n",
              "My God look at this massive crowd! 😂😭😭😭😭😭😭😭😭😭😭😭😭 https://t.co/DhKJZbBehB                                                                                                   </td><td> 361</td></tr>\n",
              "</tbody>\n",
              "</table>\n"
            ]
          },
          "metadata": {
            "tags": []
          }
        }
      ]
    },
    {
      "cell_type": "markdown",
      "metadata": {
        "id": "fHr6jHghXVAv",
        "colab_type": "text"
      },
      "source": [
        "Inference"
      ]
    },
    {
      "cell_type": "markdown",
      "metadata": {
        "id": "VEXDVRWrXZFP",
        "colab_type": "text"
      },
      "source": [
        "### 3.\tEvaluate brand salience\n",
        "\n",
        "#### a) Visualizing frequency of tweets using time series plots"
      ]
    },
    {
      "cell_type": "code",
      "metadata": {
        "id": "o5mhQQefXYYt",
        "colab_type": "code",
        "colab": {}
      },
      "source": [
        "# View the tweet dataframe\n",
        "head(tesladf)"
      ],
      "execution_count": 0,
      "outputs": []
    },
    {
      "cell_type": "code",
      "metadata": {
        "id": "pb4y2ADPYB6w",
        "colab_type": "code",
        "colab": {}
      },
      "source": [
        ""
      ],
      "execution_count": 0,
      "outputs": []
    }
  ]
}